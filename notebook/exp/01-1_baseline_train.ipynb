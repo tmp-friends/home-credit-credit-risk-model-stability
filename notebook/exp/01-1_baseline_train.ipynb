{
 "cells": [
  {
   "cell_type": "markdown",
   "metadata": {},
   "source": [
    "## Baseline - Train\n",
    "\n",
    "https://www.kaggle.com/code/pxcai666/catboost-lightgbm-ensemble/notebook"
   ]
  },
  {
   "cell_type": "markdown",
   "metadata": {},
   "source": [
    "### Configuration"
   ]
  },
  {
   "cell_type": "code",
   "execution_count": 1,
   "metadata": {},
   "outputs": [],
   "source": [
    "# モジュールの動的import(import先のファイルが更新されたときに追従する)\n",
    "%load_ext autoreload\n",
    "%autoreload 2"
   ]
  },
  {
   "cell_type": "code",
   "execution_count": 2,
   "metadata": {},
   "outputs": [
    {
     "name": "stderr",
     "output_type": "stream",
     "text": [
      "/opt/conda/lib/python3.10/site-packages/scipy/__init__.py:146: UserWarning: A NumPy version >=1.16.5 and <1.23.0 is required for this version of SciPy (detected version 1.23.5\n",
      "  warnings.warn(f\"A NumPy version >={np_minversion} and <{np_maxversion}\"\n"
     ]
    }
   ],
   "source": [
    "import sys\n",
    "from pathlib import Path\n",
    "import subprocess\n",
    "import os\n",
    "import gc\n",
    "from glob import glob\n",
    "import pickle\n",
    "\n",
    "import numpy as np\n",
    "import pandas as pd\n",
    "import polars as pl\n",
    "from datetime import datetime\n",
    "import seaborn as sns\n",
    "import matplotlib.pyplot as plt\n",
    "\n",
    "from sklearn.model_selection import TimeSeriesSplit, GroupKFold, StratifiedGroupKFold\n",
    "from sklearn.metrics import roc_auc_score\n",
    "from catboost import CatBoostClassifier, Pool\n",
    "import lightgbm as lgb\n",
    "import xgboost as xgb\n",
    "\n",
    "from imblearn.over_sampling import SMOTE\n",
    "from sklearn.preprocessing import OrdinalEncoder\n",
    "from sklearn.impute import KNNImputer"
   ]
  },
  {
   "cell_type": "code",
   "execution_count": 3,
   "metadata": {},
   "outputs": [],
   "source": [
    "ROOT = \"/kaggle/input/home-credit-credit-risk-model-stability\"\n",
    "\n",
    "TRAIN_DIR = os.path.join(ROOT, \"parquet_files\", \"train\")"
   ]
  },
  {
   "cell_type": "code",
   "execution_count": 4,
   "metadata": {},
   "outputs": [],
   "source": [
    "DRY_RUN = True"
   ]
  },
  {
   "cell_type": "markdown",
   "metadata": {},
   "source": [
    "### Def utility classes"
   ]
  },
  {
   "cell_type": "code",
   "execution_count": 5,
   "metadata": {},
   "outputs": [],
   "source": [
    "from src.utils.utility import Utility\n",
    "from src.utils.schema_gen import SchemaGen\n",
    "from src.utils.pipeline import Pipeline\n",
    "from src.utils.aggregator import Aggregator"
   ]
  },
  {
   "cell_type": "markdown",
   "metadata": {},
   "source": [
    "### Read train data"
   ]
  },
  {
   "cell_type": "code",
   "execution_count": 6,
   "metadata": {},
   "outputs": [
    {
     "name": "stdout",
     "output_type": "stream",
     "text": [
      "File train_base loaded into memory.\n",
      "File train_static_cb_0 loaded into memory.\n",
      "File train_static_0_1 loaded into memory.\n",
      "File train_static_0_0 loaded into memory.\n",
      "File train_applprev_1_0 loaded into memory.\n",
      "File train_applprev_1_1 loaded into memory.\n",
      "File train_tax_registry_a_1 loaded into memory.\n",
      "File train_tax_registry_b_1 loaded into memory.\n",
      "File train_tax_registry_c_1 loaded into memory.\n",
      "File train_credit_bureau_a_1_3 loaded into memory.\n",
      "File train_credit_bureau_a_1_1 loaded into memory.\n",
      "File train_credit_bureau_a_1_0 loaded into memory.\n",
      "File train_credit_bureau_a_1_2 loaded into memory.\n",
      "File train_credit_bureau_b_1 loaded into memory.\n",
      "File train_other_1 loaded into memory.\n",
      "File train_person_1 loaded into memory.\n",
      "File train_deposit_1 loaded into memory.\n",
      "File train_debitcard_1 loaded into memory.\n",
      "File train_credit_bureau_a_2_8 loaded into memory.\n",
      "File train_credit_bureau_a_2_7 loaded into memory.\n",
      "File train_credit_bureau_a_2_5 loaded into memory.\n",
      "File train_credit_bureau_a_2_0 loaded into memory.\n",
      "File train_credit_bureau_a_2_10 loaded into memory.\n",
      "File train_credit_bureau_a_2_9 loaded into memory.\n",
      "File train_credit_bureau_a_2_2 loaded into memory.\n",
      "File train_credit_bureau_a_2_1 loaded into memory.\n",
      "File train_credit_bureau_a_2_3 loaded into memory.\n",
      "File train_credit_bureau_a_2_6 loaded into memory.\n",
      "File train_credit_bureau_a_2_4 loaded into memory.\n",
      "File train_credit_bureau_b_2 loaded into memory.\n",
      "Memory usage of dataframe \"train_df\" is 8989.1683 MB.\n",
      "Memory usage of dataframe \"train_df\" became 5657.988 MB.\n",
      "Memory usage of dataframe \"train_df\" is 3481.5808 MB.\n",
      "Memory usage of dataframe \"train_df\" became 3234.0717 MB.\n",
      "Train data shape: (1526659, 567)\n"
     ]
    },
    {
     "data": {
      "text/html": [
       "<div><style>\n",
       ".dataframe > thead > tr,\n",
       ".dataframe > tbody > tr {\n",
       "  text-align: right;\n",
       "  white-space: pre-wrap;\n",
       "}\n",
       "</style>\n",
       "<small>shape: (10, 567)</small><table border=\"1\" class=\"dataframe\"><thead><tr><th>case_id</th><th>month</th><th>week_num</th><th>target</th><th>assignmentdate_238D</th><th>assignmentdate_4527235D</th><th>birthdate_574D</th><th>contractssum_5085716L</th><th>dateofbirth_337D</th><th>days120_123L</th><th>days180_256L</th><th>days30_165L</th><th>days360_512L</th><th>days90_310L</th><th>description_5085714M</th><th>education_1103M</th><th>education_88M</th><th>firstquarter_103L</th><th>fourthquarter_440L</th><th>maritalst_385M</th><th>maritalst_893M</th><th>numberofqueries_373L</th><th>pmtaverage_3A</th><th>pmtaverage_4527227A</th><th>pmtcount_4527229L</th><th>pmtcount_693L</th><th>pmtscount_423L</th><th>pmtssum_45A</th><th>requesttype_4525192L</th><th>responsedate_1012D</th><th>responsedate_4527233D</th><th>responsedate_4917613D</th><th>secondquarter_766L</th><th>thirdquarter_1082L</th><th>actualdpdtolerance_344P</th><th>amtinstpaidbefduel24m_4187115A</th><th>annuity_780A</th><th>&hellip;</th><th>max_collater_valueofguarantee_876L</th><th>max_collaterals_typeofguarante_359M</th><th>max_collaterals_typeofguarante_669M</th><th>max_num_group1_12</th><th>max_num_group2</th><th>max_pmts_dpd_1073P</th><th>max_pmts_dpd_303P</th><th>max_pmts_month_158T</th><th>max_pmts_month_706T</th><th>max_pmts_overdue_1140A</th><th>max_pmts_overdue_1152A</th><th>max_pmts_year_1139T</th><th>max_pmts_year_507T</th><th>max_subjectroles_name_541M</th><th>max_subjectroles_name_838M</th><th>last_collater_typofvalofguarant_298M</th><th>last_collater_typofvalofguarant_407M</th><th>last_collaterals_typeofguarante_359M</th><th>last_collaterals_typeofguarante_669M</th><th>last_num_group1_12</th><th>last_num_group2</th><th>last_pmts_month_158T</th><th>last_pmts_month_706T</th><th>last_pmts_year_1139T</th><th>last_pmts_year_507T</th><th>last_subjectroles_name_541M</th><th>last_subjectroles_name_838M</th><th>mean_pmts_dpd_1073P</th><th>mean_pmts_dpd_303P</th><th>mean_pmts_overdue_1140A</th><th>mean_pmts_overdue_1152A</th><th>var_pmts_dpd_1073P</th><th>var_pmts_dpd_303P</th><th>var_pmts_overdue_1140A</th><th>var_pmts_overdue_1152A</th><th>year</th><th>day</th></tr><tr><td>u32</td><td>u32</td><td>u8</td><td>u8</td><td>i16</td><td>u8</td><td>i16</td><td>f32</td><td>i32</td><td>f32</td><td>f32</td><td>f32</td><td>f32</td><td>f32</td><td>str</td><td>str</td><td>str</td><td>f32</td><td>f32</td><td>str</td><td>str</td><td>f32</td><td>f32</td><td>f32</td><td>f32</td><td>f32</td><td>f32</td><td>f32</td><td>str</td><td>i8</td><td>u8</td><td>i8</td><td>f32</td><td>f32</td><td>f32</td><td>f32</td><td>f32</td><td>&hellip;</td><td>f32</td><td>str</td><td>str</td><td>u16</td><td>u8</td><td>f32</td><td>f32</td><td>f32</td><td>f32</td><td>f32</td><td>f32</td><td>f32</td><td>f32</td><td>str</td><td>str</td><td>str</td><td>str</td><td>str</td><td>str</td><td>u16</td><td>u8</td><td>f32</td><td>f32</td><td>f32</td><td>f32</td><td>str</td><td>str</td><td>f32</td><td>f32</td><td>f32</td><td>f32</td><td>f32</td><td>f32</td><td>f32</td><td>f32</td><td>u16</td><td>u8</td></tr></thead><tbody><tr><td>125713</td><td>201904</td><td>16</td><td>0</td><td>-4651</td><td>null</td><td>-24104</td><td>null</td><td>-24104</td><td>0.0</td><td>1.0</td><td>0.0</td><td>1.0</td><td>0.0</td><td>&quot;a55475b1&quot;</td><td>&quot;717ddd49&quot;</td><td>&quot;a55475b1&quot;</td><td>0.0</td><td>1.0</td><td>&quot;3439d993&quot;</td><td>&quot;a55475b1&quot;</td><td>1.0</td><td>7348.133789</td><td>null</td><td>null</td><td>6.0</td><td>null</td><td>null</td><td>null</td><td>14</td><td>null</td><td>null</td><td>0.0</td><td>2.0</td><td>0.0</td><td>151786.734375</td><td>2663.800049</td><td>&hellip;</td><td>null</td><td>&quot;a55475b1&quot;</td><td>&quot;c7a5ad39&quot;</td><td>0</td><td>23</td><td>0.0</td><td>null</td><td>12.0</td><td>null</td><td>0.0</td><td>null</td><td>2020.0</td><td>null</td><td>&quot;a55475b1&quot;</td><td>&quot;ab3c25cf&quot;</td><td>&quot;a55475b1&quot;</td><td>&quot;a55475b1&quot;</td><td>&quot;a55475b1&quot;</td><td>&quot;a55475b1&quot;</td><td>0</td><td>23</td><td>1.0</td><td>null</td><td>2020.0</td><td>null</td><td>&quot;a55475b1&quot;</td><td>&quot;a55475b1&quot;</td><td>0.0</td><td>null</td><td>0.0</td><td>null</td><td>0.0</td><td>null</td><td>0.0</td><td>null</td><td>2019</td><td>29</td></tr><tr><td>1632875</td><td>201911</td><td>45</td><td>0</td><td>null</td><td>null</td><td>null</td><td>null</td><td>-17608</td><td>1.0</td><td>1.0</td><td>0.0</td><td>3.0</td><td>1.0</td><td>&quot;a55475b1&quot;</td><td>&quot;a55475b1&quot;</td><td>&quot;a55475b1&quot;</td><td>2.0</td><td>1.0</td><td>&quot;3439d993&quot;</td><td>&quot;a55475b1&quot;</td><td>3.0</td><td>null</td><td>null</td><td>null</td><td>null</td><td>null</td><td>null</td><td>&quot;DEDUCTION_6&quot;</td><td>null</td><td>14</td><td>null</td><td>1.0</td><td>3.0</td><td>0.0</td><td>81513.265625</td><td>3952.800049</td><td>&hellip;</td><td>80249.0</td><td>&quot;c7a5ad39&quot;</td><td>&quot;c7a5ad39&quot;</td><td>10</td><td>35</td><td>0.0</td><td>791.0</td><td>12.0</td><td>12.0</td><td>0.0</td><td>10240.400391</td><td>2020.0</td><td>2020.0</td><td>&quot;ab3c25cf&quot;</td><td>&quot;ab3c25cf&quot;</td><td>&quot;a55475b1&quot;</td><td>&quot;a55475b1&quot;</td><td>&quot;a55475b1&quot;</td><td>&quot;a55475b1&quot;</td><td>10</td><td>11</td><td>null</td><td>1.0</td><td>null</td><td>2020.0</td><td>&quot;a55475b1&quot;</td><td>&quot;a55475b1&quot;</td><td>0.0</td><td>86.554619</td><td>0.0</td><td>1955.092773</td><td>0.0</td><td>38832.707031</td><td>0.0</td><td>1.5152669e7</td><td>2019</td><td>16</td></tr><tr><td>750568</td><td>201907</td><td>29</td><td>0</td><td>null</td><td>null</td><td>-12502</td><td>null</td><td>-12502</td><td>0.0</td><td>1.0</td><td>0.0</td><td>3.0</td><td>0.0</td><td>&quot;a55475b1&quot;</td><td>&quot;a55475b1&quot;</td><td>&quot;a55475b1&quot;</td><td>3.0</td><td>2.0</td><td>&quot;3439d993&quot;</td><td>&quot;a55475b1&quot;</td><td>3.0</td><td>null</td><td>null</td><td>null</td><td>null</td><td>0.0</td><td>0.0</td><td>null</td><td>14</td><td>null</td><td>null</td><td>1.0</td><td>0.0</td><td>0.0</td><td>5538.399902</td><td>1697.0</td><td>&hellip;</td><td>0.0</td><td>&quot;c7a5ad39&quot;</td><td>&quot;c7a5ad39&quot;</td><td>3</td><td>35</td><td>0.0</td><td>0.0</td><td>12.0</td><td>12.0</td><td>0.0</td><td>0.0</td><td>2020.0</td><td>2019.0</td><td>&quot;ab3c25cf&quot;</td><td>&quot;ab3c25cf&quot;</td><td>&quot;a55475b1&quot;</td><td>&quot;a55475b1&quot;</td><td>&quot;a55475b1&quot;</td><td>&quot;a55475b1&quot;</td><td>3</td><td>11</td><td>null</td><td>1.0</td><td>null</td><td>2019.0</td><td>&quot;a55475b1&quot;</td><td>&quot;a55475b1&quot;</td><td>0.0</td><td>0.0</td><td>0.0</td><td>0.0</td><td>0.0</td><td>0.0</td><td>0.0</td><td>0.0</td><td>2019</td><td>24</td></tr><tr><td>599828</td><td>201901</td><td>0</td><td>0</td><td>null</td><td>null</td><td>null</td><td>null</td><td>null</td><td>null</td><td>null</td><td>null</td><td>null</td><td>null</td><td>null</td><td>null</td><td>null</td><td>null</td><td>null</td><td>null</td><td>null</td><td>null</td><td>null</td><td>null</td><td>null</td><td>null</td><td>null</td><td>null</td><td>null</td><td>null</td><td>null</td><td>null</td><td>null</td><td>null</td><td>null</td><td>null</td><td>1497.599976</td><td>&hellip;</td><td>null</td><td>null</td><td>null</td><td>null</td><td>null</td><td>null</td><td>null</td><td>null</td><td>null</td><td>null</td><td>null</td><td>null</td><td>null</td><td>null</td><td>null</td><td>null</td><td>null</td><td>null</td><td>null</td><td>null</td><td>null</td><td>null</td><td>null</td><td>null</td><td>null</td><td>null</td><td>null</td><td>null</td><td>null</td><td>null</td><td>null</td><td>null</td><td>null</td><td>null</td><td>null</td><td>2019</td><td>2</td></tr><tr><td>615694</td><td>201901</td><td>2</td><td>0</td><td>null</td><td>null</td><td>-11648</td><td>null</td><td>-11648</td><td>3.0</td><td>3.0</td><td>2.0</td><td>3.0</td><td>2.0</td><td>&quot;a55475b1&quot;</td><td>&quot;a55475b1&quot;</td><td>&quot;a55475b1&quot;</td><td>3.0</td><td>4.0</td><td>&quot;a55475b1&quot;</td><td>&quot;a55475b1&quot;</td><td>3.0</td><td>null</td><td>null</td><td>null</td><td>null</td><td>6.0</td><td>13539.637695</td><td>null</td><td>14</td><td>null</td><td>null</td><td>1.0</td><td>2.0</td><td>null</td><td>null</td><td>1258.599976</td><td>&hellip;</td><td>null</td><td>&quot;a55475b1&quot;</td><td>&quot;c7a5ad39&quot;</td><td>1</td><td>35</td><td>0.0</td><td>null</td><td>12.0</td><td>null</td><td>0.0</td><td>null</td><td>2020.0</td><td>null</td><td>&quot;a55475b1&quot;</td><td>&quot;ab3c25cf&quot;</td><td>&quot;a55475b1&quot;</td><td>&quot;a55475b1&quot;</td><td>&quot;a55475b1&quot;</td><td>&quot;a55475b1&quot;</td><td>1</td><td>23</td><td>1.0</td><td>null</td><td>2020.0</td><td>null</td><td>&quot;a55475b1&quot;</td><td>&quot;a55475b1&quot;</td><td>0.0</td><td>null</td><td>0.0</td><td>null</td><td>0.0</td><td>null</td><td>0.0</td><td>null</td><td>2019</td><td>20</td></tr><tr><td>1374777</td><td>201905</td><td>20</td><td>0</td><td>null</td><td>null</td><td>-12287</td><td>null</td><td>null</td><td>null</td><td>null</td><td>null</td><td>null</td><td>null</td><td>&quot;a55475b1&quot;</td><td>&quot;a55475b1&quot;</td><td>&quot;a55475b1&quot;</td><td>null</td><td>null</td><td>&quot;a55475b1&quot;</td><td>&quot;a55475b1&quot;</td><td>null</td><td>null</td><td>null</td><td>null</td><td>null</td><td>3.0</td><td>9078.286133</td><td>null</td><td>14</td><td>null</td><td>null</td><td>null</td><td>null</td><td>0.0</td><td>0.0</td><td>1136.200073</td><td>&hellip;</td><td>null</td><td>null</td><td>null</td><td>null</td><td>null</td><td>null</td><td>null</td><td>null</td><td>null</td><td>null</td><td>null</td><td>null</td><td>null</td><td>null</td><td>null</td><td>null</td><td>null</td><td>null</td><td>null</td><td>null</td><td>null</td><td>null</td><td>null</td><td>null</td><td>null</td><td>null</td><td>null</td><td>null</td><td>null</td><td>null</td><td>null</td><td>null</td><td>null</td><td>null</td><td>null</td><td>2019</td><td>23</td></tr><tr><td>1707450</td><td>201912</td><td>51</td><td>0</td><td>null</td><td>null</td><td>null</td><td>null</td><td>-17343</td><td>0.0</td><td>0.0</td><td>0.0</td><td>0.0</td><td>0.0</td><td>&quot;a55475b1&quot;</td><td>&quot;a55475b1&quot;</td><td>&quot;a55475b1&quot;</td><td>0.0</td><td>0.0</td><td>&quot;a55475b1&quot;</td><td>&quot;a55475b1&quot;</td><td>0.0</td><td>null</td><td>null</td><td>null</td><td>null</td><td>null</td><td>null</td><td>&quot;DEDUCTION_6&quot;</td><td>null</td><td>14</td><td>null</td><td>0.0</td><td>0.0</td><td>0.0</td><td>45359.800781</td><td>6385.0</td><td>&hellip;</td><td>0.0</td><td>&quot;c7a5ad39&quot;</td><td>&quot;a55475b1&quot;</td><td>2</td><td>35</td><td>null</td><td>23.0</td><td>null</td><td>12.0</td><td>null</td><td>10621.799805</td><td>null</td><td>2020.0</td><td>&quot;ab3c25cf&quot;</td><td>&quot;a55475b1&quot;</td><td>&quot;a55475b1&quot;</td><td>&quot;a55475b1&quot;</td><td>&quot;a55475b1&quot;</td><td>&quot;a55475b1&quot;</td><td>2</td><td>23</td><td>null</td><td>1.0</td><td>null</td><td>2020.0</td><td>&quot;a55475b1&quot;</td><td>&quot;a55475b1&quot;</td><td>null</td><td>1.02</td><td>null</td><td>916.372375</td><td>null</td><td>16.060816</td><td>null</td><td>6.032121e6</td><td>2019</td><td>25</td></tr><tr><td>784384</td><td>201908</td><td>34</td><td>0</td><td>-4516</td><td>null</td><td>-25717</td><td>null</td><td>-25717</td><td>0.0</td><td>0.0</td><td>0.0</td><td>0.0</td><td>0.0</td><td>&quot;a55475b1&quot;</td><td>&quot;6b2ae0fa&quot;</td><td>&quot;a55475b1&quot;</td><td>0.0</td><td>0.0</td><td>&quot;3439d993&quot;</td><td>&quot;a55475b1&quot;</td><td>0.0</td><td>22808.800781</td><td>null</td><td>null</td><td>7.0</td><td>null</td><td>null</td><td>null</td><td>14</td><td>null</td><td>null</td><td>0.0</td><td>0.0</td><td>null</td><td>null</td><td>2199.800049</td><td>&hellip;</td><td>50920.0</td><td>&quot;a55475b1&quot;</td><td>&quot;a55475b1&quot;</td><td>1</td><td>23</td><td>null</td><td>0.0</td><td>null</td><td>12.0</td><td>null</td><td>0.0</td><td>null</td><td>2015.0</td><td>&quot;ab3c25cf&quot;</td><td>&quot;a55475b1&quot;</td><td>&quot;a55475b1&quot;</td><td>&quot;a55475b1&quot;</td><td>&quot;a55475b1&quot;</td><td>&quot;a55475b1&quot;</td><td>1</td><td>11</td><td>null</td><td>1.0</td><td>null</td><td>2015.0</td><td>&quot;a55475b1&quot;</td><td>&quot;a55475b1&quot;</td><td>null</td><td>0.0</td><td>null</td><td>0.0</td><td>null</td><td>0.0</td><td>null</td><td>0.0</td><td>2019</td><td>29</td></tr><tr><td>1472822</td><td>201908</td><td>30</td><td>0</td><td>-2488</td><td>null</td><td>-23681</td><td>null</td><td>-23681</td><td>0.0</td><td>0.0</td><td>0.0</td><td>0.0</td><td>0.0</td><td>&quot;a55475b1&quot;</td><td>&quot;a55475b1&quot;</td><td>&quot;a55475b1&quot;</td><td>0.0</td><td>1.0</td><td>&quot;ecd83604&quot;</td><td>&quot;a55475b1&quot;</td><td>0.0</td><td>16153.400391</td><td>null</td><td>null</td><td>6.0</td><td>null</td><td>null</td><td>null</td><td>14</td><td>null</td><td>null</td><td>0.0</td><td>0.0</td><td>0.0</td><td>0.0</td><td>3474.400146</td><td>&hellip;</td><td>0.0</td><td>&quot;c7a5ad39&quot;</td><td>&quot;c7a5ad39&quot;</td><td>1</td><td>35</td><td>0.0</td><td>0.0</td><td>12.0</td><td>12.0</td><td>0.0</td><td>0.0</td><td>2020.0</td><td>2015.0</td><td>&quot;ab3c25cf&quot;</td><td>&quot;ab3c25cf&quot;</td><td>&quot;a55475b1&quot;</td><td>&quot;a55475b1&quot;</td><td>&quot;a55475b1&quot;</td><td>&quot;a55475b1&quot;</td><td>1</td><td>23</td><td>null</td><td>1.0</td><td>null</td><td>2015.0</td><td>&quot;a55475b1&quot;</td><td>&quot;a55475b1&quot;</td><td>0.0</td><td>0.0</td><td>0.0</td><td>0.0</td><td>0.0</td><td>0.0</td><td>0.0</td><td>0.0</td><td>2019</td><td>2</td></tr><tr><td>1787673</td><td>202002</td><td>58</td><td>0</td><td>null</td><td>null</td><td>null</td><td>null</td><td>-18127</td><td>8.0</td><td>8.0</td><td>4.0</td><td>10.0</td><td>5.0</td><td>&quot;a55475b1&quot;</td><td>&quot;39a0853f&quot;</td><td>&quot;a55475b1&quot;</td><td>4.0</td><td>6.0</td><td>&quot;3439d993&quot;</td><td>&quot;a55475b1&quot;</td><td>10.0</td><td>null</td><td>null</td><td>null</td><td>null</td><td>null</td><td>null</td><td>&quot;DEDUCTION_6&quot;</td><td>null</td><td>14</td><td>null</td><td>1.0</td><td>1.0</td><td>0.0</td><td>1648.0</td><td>3059.800049</td><td>&hellip;</td><td>0.0</td><td>&quot;c7a5ad39&quot;</td><td>&quot;c7a5ad39&quot;</td><td>2</td><td>35</td><td>3.0</td><td>647.0</td><td>12.0</td><td>12.0</td><td>9084.064453</td><td>48301.238281</td><td>2021.0</td><td>2018.0</td><td>&quot;ab3c25cf&quot;</td><td>&quot;ab3c25cf&quot;</td><td>&quot;a55475b1&quot;</td><td>&quot;a55475b1&quot;</td><td>&quot;a55475b1&quot;</td><td>&quot;a55475b1&quot;</td><td>2</td><td>35</td><td>null</td><td>1.0</td><td>null</td><td>2018.0</td><td>&quot;a55475b1&quot;</td><td>&quot;a55475b1&quot;</td><td>0.454545</td><td>151.419357</td><td>1645.241943</td><td>15742.929688</td><td>1.072727</td><td>41083.917969</td><td>1.3399012e7</td><td>3.72559232e8</td><td>2020</td><td>16</td></tr></tbody></table></div>"
      ],
      "text/plain": [
       "shape: (10, 567)\n",
       "┌─────────┬────────┬──────────┬────────┬───┬─────────────────────┬────────────────────┬──────┬─────┐\n",
       "│ case_id ┆ month  ┆ week_num ┆ target ┆ … ┆ var_pmts_overdue_11 ┆ var_pmts_overdue_1 ┆ year ┆ day │\n",
       "│ ---     ┆ ---    ┆ ---      ┆ ---    ┆   ┆ 40A                 ┆ 152A               ┆ ---  ┆ --- │\n",
       "│ u32     ┆ u32    ┆ u8       ┆ u8     ┆   ┆ ---                 ┆ ---                ┆ u16  ┆ u8  │\n",
       "│         ┆        ┆          ┆        ┆   ┆ f32                 ┆ f32                ┆      ┆     │\n",
       "╞═════════╪════════╪══════════╪════════╪═══╪═════════════════════╪════════════════════╪══════╪═════╡\n",
       "│ 125713  ┆ 201904 ┆ 16       ┆ 0      ┆ … ┆ 0.0                 ┆ null               ┆ 2019 ┆ 29  │\n",
       "│ 1632875 ┆ 201911 ┆ 45       ┆ 0      ┆ … ┆ 0.0                 ┆ 1.5152669e7        ┆ 2019 ┆ 16  │\n",
       "│ 750568  ┆ 201907 ┆ 29       ┆ 0      ┆ … ┆ 0.0                 ┆ 0.0                ┆ 2019 ┆ 24  │\n",
       "│ 599828  ┆ 201901 ┆ 0        ┆ 0      ┆ … ┆ null                ┆ null               ┆ 2019 ┆ 2   │\n",
       "│ 615694  ┆ 201901 ┆ 2        ┆ 0      ┆ … ┆ 0.0                 ┆ null               ┆ 2019 ┆ 20  │\n",
       "│ 1374777 ┆ 201905 ┆ 20       ┆ 0      ┆ … ┆ null                ┆ null               ┆ 2019 ┆ 23  │\n",
       "│ 1707450 ┆ 201912 ┆ 51       ┆ 0      ┆ … ┆ null                ┆ 6.032121e6         ┆ 2019 ┆ 25  │\n",
       "│ 784384  ┆ 201908 ┆ 34       ┆ 0      ┆ … ┆ null                ┆ 0.0                ┆ 2019 ┆ 29  │\n",
       "│ 1472822 ┆ 201908 ┆ 30       ┆ 0      ┆ … ┆ 0.0                 ┆ 0.0                ┆ 2019 ┆ 2   │\n",
       "│ 1787673 ┆ 202002 ┆ 58       ┆ 0      ┆ … ┆ 1.3399012e7         ┆ 3.72559232e8       ┆ 2020 ┆ 16  │\n",
       "└─────────┴────────┴──────────┴────────┴───┴─────────────────────┴────────────────────┴──────┴─────┘"
      ]
     },
     "metadata": {},
     "output_type": "display_data"
    },
    {
     "name": "stdout",
     "output_type": "stream",
     "text": [
      "CPU times: user 3min 10s, sys: 37.9 s, total: 3min 48s\n",
      "Wall time: 22.8 s\n"
     ]
    }
   ],
   "source": [
    "%%time\n",
    "\n",
    "data_store: dict = {\n",
    "    \"df_base\": SchemaGen.scan_files(os.path.join(TRAIN_DIR, \"train_base.parquet\")),\n",
    "    \"depth_0\": [\n",
    "        SchemaGen.scan_files(os.path.join(TRAIN_DIR, \"train_static_cb_0.parquet\")),\n",
    "        SchemaGen.scan_files(os.path.join(TRAIN_DIR, \"train_static_0_*.parquet\")),\n",
    "    ],\n",
    "    \"depth_1\": [\n",
    "        SchemaGen.scan_files(os.path.join(TRAIN_DIR, \"train_applprev_1_*.parquet\"), 1),\n",
    "        SchemaGen.scan_files(os.path.join(TRAIN_DIR, \"train_tax_registry_a_1.parquet\"), 1),\n",
    "        SchemaGen.scan_files(os.path.join(TRAIN_DIR, \"train_tax_registry_b_1.parquet\"), 1),\n",
    "        SchemaGen.scan_files(os.path.join(TRAIN_DIR, \"train_tax_registry_c_1.parquet\"), 1),\n",
    "        SchemaGen.scan_files(os.path.join(TRAIN_DIR, \"train_credit_bureau_a_1_*.parquet\"), 1),\n",
    "        SchemaGen.scan_files(os.path.join(TRAIN_DIR, \"train_credit_bureau_b_1.parquet\"), 1),\n",
    "        SchemaGen.scan_files(os.path.join(TRAIN_DIR, \"train_other_1.parquet\"), 1),\n",
    "        SchemaGen.scan_files(os.path.join(TRAIN_DIR, \"train_person_1.parquet\"), 1),\n",
    "        SchemaGen.scan_files(os.path.join(TRAIN_DIR, \"train_deposit_1.parquet\"), 1),\n",
    "        SchemaGen.scan_files(os.path.join(TRAIN_DIR, \"train_debitcard_1.parquet\"), 1),\n",
    "    ],\n",
    "    \"depth_2\": [\n",
    "        SchemaGen.scan_files(os.path.join(TRAIN_DIR, \"train_credit_bureau_a_2_*.parquet\"), 2),\n",
    "        SchemaGen.scan_files(os.path.join(TRAIN_DIR, \"train_credit_bureau_b_2.parquet\"), 2),\n",
    "    ],\n",
    "}\n",
    "\n",
    "train_df: pl.LazyFrame = (\n",
    "    SchemaGen.join_dataframes(**data_store)\n",
    "    .pipe(Pipeline.filter_cols)\n",
    "    .pipe(Pipeline.transform_cols)\n",
    "    .pipe(Pipeline.handle_dates)\n",
    "    .pipe(Utility.reduce_memory_usage, \"train_df\")\n",
    ")\n",
    "\n",
    "del data_store\n",
    "gc.collect()\n",
    "\n",
    "print(f\"Train data shape: {train_df.shape}\")\n",
    "display(train_df.head(10))"
   ]
  },
  {
   "cell_type": "code",
   "execution_count": 7,
   "metadata": {},
   "outputs": [],
   "source": [
    "train_df, cat_cols = Utility.to_pandas(train_df)"
   ]
  },
  {
   "cell_type": "markdown",
   "metadata": {},
   "source": [
    "### Train"
   ]
  },
  {
   "cell_type": "code",
   "execution_count": 8,
   "metadata": {},
   "outputs": [],
   "source": [
    "device: str = \"gpu\"\n",
    "iterations: int = 6000\n",
    "\n",
    "if DRY_RUN:\n",
    "    device = \"cpu\"\n",
    "    train_df = train_df.iloc[:50000]\n",
    "    iterations: int = 600"
   ]
  },
  {
   "cell_type": "code",
   "execution_count": 9,
   "metadata": {},
   "outputs": [],
   "source": [
    "X = train_df.drop(columns=[\"target\", \"case_id\", \"week_num\"])\n",
    "y = train_df[\"target\"]\n",
    "weeks = train_df[\"week_num\"]\n",
    "\n",
    "del train_df\n",
    "gc.collect()\n",
    "\n",
    "cv = StratifiedGroupKFold(n_splits=5, shuffle=True, random_state=42)"
   ]
  },
  {
   "cell_type": "code",
   "execution_count": 10,
   "metadata": {},
   "outputs": [],
   "source": [
    "catboost_params = {\n",
    "    \"best_model_min_trees\": 1200,\n",
    "    \"boosting_type\": \"Plain\",\n",
    "    \"eval_metric\": \"AUC\",\n",
    "    \"iterations\": iterations,\n",
    "    \"learning_rate\": 0.05,\n",
    "    \"l2_leaf_reg\": 10,\n",
    "    \"max_leaves\": 64,\n",
    "    \"random_seed\": 42,\n",
    "    \"task_type\": \"GPU\",\n",
    "    \"use_best_model\": True,\n",
    "}\n",
    "\n",
    "lgb_params = {\n",
    "    \"boosting_type\": \"gbdt\",\n",
    "    \"colsample_bytree\": 0.8,\n",
    "    \"colsample_bynode\": 0.8,\n",
    "    \"device\": device,\n",
    "    \"extra_trees\":True,\n",
    "    \"learning_rate\": 0.05,\n",
    "    \"reg_alpha\": 0.1,\n",
    "    \"reg_lambda\": 10,\n",
    "    \"max_depth\": 20,\n",
    "    \"metric\": \"auc\",\n",
    "    \"n_estimators\": 2000,\n",
    "    \"num_leaves\": 64,\n",
    "    \"objective\": \"binary\",\n",
    "    \"random_state\": 42,\n",
    "    \"verbose\": -1,\n",
    "}\n",
    "\n",
    "lgb_params_2 = {\n",
    "    \"boosting_type\": \"gbdt\",\n",
    "    \"colsample_bytree\": 0.8,\n",
    "    \"colsample_bynode\": 0.8,\n",
    "    \"device\": device,\n",
    "    \"extra_trees\":True,\n",
    "    \"learning_rate\": 0.03,\n",
    "    \"reg_alpha\": 0.1,\n",
    "    \"reg_lambda\": 10,\n",
    "    \"max_depth\": 16,\n",
    "    \"metric\": \"auc\",\n",
    "    \"n_estimators\": 2000,\n",
    "    \"num_leaves\": 72,\n",
    "    \"objective\": \"binary\",\n",
    "    \"random_state\": 42,\n",
    "    \"verbose\": -1,\n",
    "}\n",
    "\n",
    "xgb_params = {\n",
    "    \"objective\": \"binary:logistic\",\n",
    "    \"eval_metric\": \"auc\",\n",
    "    \"learning_rate\": 0.05,\n",
    "    \"max_depth\": 6,\n",
    "    \"n_estimators\": iterations,\n",
    "    \"enable_categorical\": True,\n",
    "    \"tree_method\": 'hist',\n",
    "    \"early_stopping_rounds\": 100,\n",
    "}"
   ]
  },
  {
   "cell_type": "code",
   "execution_count": 11,
   "metadata": {},
   "outputs": [
    {
     "name": "stderr",
     "output_type": "stream",
     "text": [
      "Default metric period is 5 because AUC is/are not implemented for GPU\n"
     ]
    },
    {
     "name": "stdout",
     "output_type": "stream",
     "text": [
      "0:\ttest: 0.5792489\tbest: 0.5792489 (0)\ttotal: 28.9ms\tremaining: 17.3s\n",
      "300:\ttest: 0.7982118\tbest: 0.7982118 (300)\ttotal: 7.4s\tremaining: 7.35s\n",
      "599:\ttest: 0.8002114\tbest: 0.8002114 (599)\ttotal: 14.8s\tremaining: 0us\n",
      "bestTest = 0.80021137\n",
      "bestIteration = 599\n"
     ]
    },
    {
     "name": "stderr",
     "output_type": "stream",
     "text": [
      "<timed exec>:32: SettingWithCopyWarning: \n",
      "A value is trying to be set on a copy of a slice from a DataFrame.\n",
      "Try using .loc[row_indexer,col_indexer] = value instead\n",
      "\n",
      "See the caveats in the documentation: https://pandas.pydata.org/pandas-docs/stable/user_guide/indexing.html#returning-a-view-versus-a-copy\n",
      "<timed exec>:33: SettingWithCopyWarning: \n",
      "A value is trying to be set on a copy of a slice from a DataFrame.\n",
      "Try using .loc[row_indexer,col_indexer] = value instead\n",
      "\n",
      "See the caveats in the documentation: https://pandas.pydata.org/pandas-docs/stable/user_guide/indexing.html#returning-a-view-versus-a-copy\n",
      "/opt/conda/lib/python3.10/site-packages/lightgbm/basic.py:1780: UserWarning: Overriding the parameters from Reference Dataset.\n",
      "  _log_warning('Overriding the parameters from Reference Dataset.')\n",
      "/opt/conda/lib/python3.10/site-packages/lightgbm/basic.py:1513: UserWarning: categorical_column in param dict is overridden.\n",
      "  _log_warning(f'{cat_alias} in param dict is overridden.')\n"
     ]
    },
    {
     "name": "stdout",
     "output_type": "stream",
     "text": [
      "Training until validation scores don't improve for 100 rounds\n",
      "[200]\tvalid_0's auc: 0.821393\n",
      "Early stopping, best iteration is:\n",
      "[174]\tvalid_0's auc: 0.821741\n",
      "[0]\tvalidation_0-auc:0.69459\n",
      "[200]\tvalidation_0-auc:0.80346\n",
      "[275]\tvalidation_0-auc:0.79606\n"
     ]
    },
    {
     "name": "stderr",
     "output_type": "stream",
     "text": [
      "Default metric period is 5 because AUC is/are not implemented for GPU\n"
     ]
    },
    {
     "name": "stdout",
     "output_type": "stream",
     "text": [
      "0:\ttest: 0.6592906\tbest: 0.6592906 (0)\ttotal: 25.6ms\tremaining: 15.3s\n",
      "300:\ttest: 0.8254297\tbest: 0.8254297 (300)\ttotal: 7.38s\tremaining: 7.33s\n",
      "599:\ttest: 0.8306101\tbest: 0.8306613 (595)\ttotal: 14.9s\tremaining: 0us\n",
      "bestTest = 0.8306613266\n",
      "bestIteration = 595\n"
     ]
    },
    {
     "name": "stderr",
     "output_type": "stream",
     "text": [
      "<timed exec>:32: SettingWithCopyWarning: \n",
      "A value is trying to be set on a copy of a slice from a DataFrame.\n",
      "Try using .loc[row_indexer,col_indexer] = value instead\n",
      "\n",
      "See the caveats in the documentation: https://pandas.pydata.org/pandas-docs/stable/user_guide/indexing.html#returning-a-view-versus-a-copy\n",
      "<timed exec>:33: SettingWithCopyWarning: \n",
      "A value is trying to be set on a copy of a slice from a DataFrame.\n",
      "Try using .loc[row_indexer,col_indexer] = value instead\n",
      "\n",
      "See the caveats in the documentation: https://pandas.pydata.org/pandas-docs/stable/user_guide/indexing.html#returning-a-view-versus-a-copy\n",
      "/opt/conda/lib/python3.10/site-packages/lightgbm/basic.py:1780: UserWarning: Overriding the parameters from Reference Dataset.\n",
      "  _log_warning('Overriding the parameters from Reference Dataset.')\n",
      "/opt/conda/lib/python3.10/site-packages/lightgbm/basic.py:1513: UserWarning: categorical_column in param dict is overridden.\n",
      "  _log_warning(f'{cat_alias} in param dict is overridden.')\n"
     ]
    },
    {
     "name": "stdout",
     "output_type": "stream",
     "text": [
      "Training until validation scores don't improve for 100 rounds\n",
      "[200]\tvalid_0's auc: 0.828704\n",
      "Early stopping, best iteration is:\n",
      "[230]\tvalid_0's auc: 0.829777\n",
      "[0]\tvalidation_0-auc:0.72885\n",
      "[200]\tvalidation_0-auc:0.81393\n",
      "[239]\tvalidation_0-auc:0.81122\n"
     ]
    },
    {
     "name": "stderr",
     "output_type": "stream",
     "text": [
      "Default metric period is 5 because AUC is/are not implemented for GPU\n"
     ]
    },
    {
     "name": "stdout",
     "output_type": "stream",
     "text": [
      "0:\ttest: 0.5970322\tbest: 0.5970322 (0)\ttotal: 25.5ms\tremaining: 15.3s\n",
      "300:\ttest: 0.7833580\tbest: 0.7834563 (295)\ttotal: 7.44s\tremaining: 7.39s\n",
      "599:\ttest: 0.7970613\tbest: 0.7970613 (599)\ttotal: 14.9s\tremaining: 0us\n",
      "bestTest = 0.7970613241\n",
      "bestIteration = 599\n"
     ]
    },
    {
     "name": "stderr",
     "output_type": "stream",
     "text": [
      "<timed exec>:32: SettingWithCopyWarning: \n",
      "A value is trying to be set on a copy of a slice from a DataFrame.\n",
      "Try using .loc[row_indexer,col_indexer] = value instead\n",
      "\n",
      "See the caveats in the documentation: https://pandas.pydata.org/pandas-docs/stable/user_guide/indexing.html#returning-a-view-versus-a-copy\n",
      "<timed exec>:33: SettingWithCopyWarning: \n",
      "A value is trying to be set on a copy of a slice from a DataFrame.\n",
      "Try using .loc[row_indexer,col_indexer] = value instead\n",
      "\n",
      "See the caveats in the documentation: https://pandas.pydata.org/pandas-docs/stable/user_guide/indexing.html#returning-a-view-versus-a-copy\n",
      "/opt/conda/lib/python3.10/site-packages/lightgbm/basic.py:1780: UserWarning: Overriding the parameters from Reference Dataset.\n",
      "  _log_warning('Overriding the parameters from Reference Dataset.')\n",
      "/opt/conda/lib/python3.10/site-packages/lightgbm/basic.py:1513: UserWarning: categorical_column in param dict is overridden.\n",
      "  _log_warning(f'{cat_alias} in param dict is overridden.')\n"
     ]
    },
    {
     "name": "stdout",
     "output_type": "stream",
     "text": [
      "Training until validation scores don't improve for 100 rounds\n",
      "[200]\tvalid_0's auc: 0.810414\n",
      "Early stopping, best iteration is:\n",
      "[146]\tvalid_0's auc: 0.811443\n",
      "[0]\tvalidation_0-auc:0.68811\n",
      "[200]\tvalidation_0-auc:0.79126\n",
      "[268]\tvalidation_0-auc:0.78853\n"
     ]
    },
    {
     "name": "stderr",
     "output_type": "stream",
     "text": [
      "Default metric period is 5 because AUC is/are not implemented for GPU\n"
     ]
    },
    {
     "name": "stdout",
     "output_type": "stream",
     "text": [
      "0:\ttest: 0.5963892\tbest: 0.5963892 (0)\ttotal: 25.3ms\tremaining: 15.2s\n",
      "300:\ttest: 0.8061437\tbest: 0.8061437 (300)\ttotal: 7.46s\tremaining: 7.41s\n",
      "599:\ttest: 0.8157944\tbest: 0.8157944 (599)\ttotal: 14.9s\tremaining: 0us\n",
      "bestTest = 0.8157944083\n",
      "bestIteration = 599\n"
     ]
    },
    {
     "name": "stderr",
     "output_type": "stream",
     "text": [
      "<timed exec>:32: SettingWithCopyWarning: \n",
      "A value is trying to be set on a copy of a slice from a DataFrame.\n",
      "Try using .loc[row_indexer,col_indexer] = value instead\n",
      "\n",
      "See the caveats in the documentation: https://pandas.pydata.org/pandas-docs/stable/user_guide/indexing.html#returning-a-view-versus-a-copy\n",
      "<timed exec>:33: SettingWithCopyWarning: \n",
      "A value is trying to be set on a copy of a slice from a DataFrame.\n",
      "Try using .loc[row_indexer,col_indexer] = value instead\n",
      "\n",
      "See the caveats in the documentation: https://pandas.pydata.org/pandas-docs/stable/user_guide/indexing.html#returning-a-view-versus-a-copy\n",
      "/opt/conda/lib/python3.10/site-packages/lightgbm/basic.py:1780: UserWarning: Overriding the parameters from Reference Dataset.\n",
      "  _log_warning('Overriding the parameters from Reference Dataset.')\n",
      "/opt/conda/lib/python3.10/site-packages/lightgbm/basic.py:1513: UserWarning: categorical_column in param dict is overridden.\n",
      "  _log_warning(f'{cat_alias} in param dict is overridden.')\n"
     ]
    },
    {
     "name": "stdout",
     "output_type": "stream",
     "text": [
      "Training until validation scores don't improve for 100 rounds\n",
      "[200]\tvalid_0's auc: 0.828813\n",
      "[400]\tvalid_0's auc: 0.831974\n",
      "Early stopping, best iteration is:\n",
      "[367]\tvalid_0's auc: 0.832375\n",
      "[0]\tvalidation_0-auc:0.71373\n",
      "[200]\tvalidation_0-auc:0.80395\n",
      "[341]\tvalidation_0-auc:0.80490\n"
     ]
    },
    {
     "name": "stderr",
     "output_type": "stream",
     "text": [
      "Default metric period is 5 because AUC is/are not implemented for GPU\n"
     ]
    },
    {
     "name": "stdout",
     "output_type": "stream",
     "text": [
      "0:\ttest: 0.6246235\tbest: 0.6246235 (0)\ttotal: 25.2ms\tremaining: 15.1s\n",
      "300:\ttest: 0.8183791\tbest: 0.8183791 (300)\ttotal: 7.37s\tremaining: 7.32s\n",
      "599:\ttest: 0.8281862\tbest: 0.8281862 (599)\ttotal: 14.8s\tremaining: 0us\n",
      "bestTest = 0.8281861544\n",
      "bestIteration = 599\n"
     ]
    },
    {
     "name": "stderr",
     "output_type": "stream",
     "text": [
      "<timed exec>:32: SettingWithCopyWarning: \n",
      "A value is trying to be set on a copy of a slice from a DataFrame.\n",
      "Try using .loc[row_indexer,col_indexer] = value instead\n",
      "\n",
      "See the caveats in the documentation: https://pandas.pydata.org/pandas-docs/stable/user_guide/indexing.html#returning-a-view-versus-a-copy\n",
      "<timed exec>:33: SettingWithCopyWarning: \n",
      "A value is trying to be set on a copy of a slice from a DataFrame.\n",
      "Try using .loc[row_indexer,col_indexer] = value instead\n",
      "\n",
      "See the caveats in the documentation: https://pandas.pydata.org/pandas-docs/stable/user_guide/indexing.html#returning-a-view-versus-a-copy\n",
      "/opt/conda/lib/python3.10/site-packages/lightgbm/basic.py:1780: UserWarning: Overriding the parameters from Reference Dataset.\n",
      "  _log_warning('Overriding the parameters from Reference Dataset.')\n",
      "/opt/conda/lib/python3.10/site-packages/lightgbm/basic.py:1513: UserWarning: categorical_column in param dict is overridden.\n",
      "  _log_warning(f'{cat_alias} in param dict is overridden.')\n"
     ]
    },
    {
     "name": "stdout",
     "output_type": "stream",
     "text": [
      "Training until validation scores don't improve for 100 rounds\n",
      "[200]\tvalid_0's auc: 0.841322\n",
      "Early stopping, best iteration is:\n",
      "[170]\tvalid_0's auc: 0.843204\n",
      "[0]\tvalidation_0-auc:0.45030\n",
      "[200]\tvalidation_0-auc:0.80350\n",
      "[231]\tvalidation_0-auc:0.80234\n",
      "CV AUC scores for CatBoost:  [0.8002113708912086, 0.8306101058094949, 0.797061204798253, 0.8157947883590198, 0.8281865431103949]\n",
      "Maximum CV AUC score for CatBoost:  0.8306101058094949\n",
      "CV AUC scores for LGBM:  [0.8217412935323383, 0.8297770681531076, 0.8114433893146618, 0.8323751565171731, 0.8432042707493956]\n",
      "Maximum CV AUC score for LGBM:  0.8432042707493956\n",
      "CV AUC scores for XGB:  [0.8059505938515515, 0.8157876919543303, 0.7942771505593643, 0.8069164469343894, 0.8116128122481869]\n",
      "Maximum CV AUC score for XGB:  0.8157876919543303\n",
      "CPU times: user 20h 15min 5s, sys: 20.2 s, total: 20h 15min 25s\n",
      "Wall time: 48min 51s\n"
     ]
    }
   ],
   "source": [
    "%%time\n",
    "\n",
    "fitted_models_cat = []\n",
    "fitted_models_lgb = []\n",
    "fitted_models_xgb = []\n",
    "\n",
    "cv_scores_cat = []\n",
    "cv_scores_lgb = []\n",
    "cv_scores_xgb = []\n",
    "\n",
    "iterator = 0\n",
    "for idx_train, idx_valid in cv.split(X, y, groups=weeks):\n",
    "    X_train, y_train = X.iloc[idx_train], y.iloc[idx_train]\n",
    "    X_valid, y_valid = X.iloc[idx_valid], y.iloc[idx_valid]\n",
    "\n",
    "    #######\n",
    "    # cat #\n",
    "    #######\n",
    "    train_pool = Pool(X_train, y_train, cat_features=cat_cols)\n",
    "    val_pool = Pool(X_valid, y_valid, cat_features=cat_cols)\n",
    "\n",
    "    clf = CatBoostClassifier(**catboost_params)\n",
    "\n",
    "    clf.fit(train_pool, eval_set=val_pool, verbose=300)\n",
    "    y_pred_valid = clf.predict_proba(X_valid)[:,1]\n",
    "    auc_score = roc_auc_score(y_valid, y_pred_valid)\n",
    "\n",
    "    fitted_models_cat.append(clf)\n",
    "    cv_scores_cat.append(auc_score)\n",
    "\n",
    "    #######\n",
    "    # lgb #\n",
    "    #######\n",
    "    X_train[cat_cols] = X_train[cat_cols].astype(\"category\")\n",
    "    X_valid[cat_cols] = X_valid[cat_cols].astype(\"category\")\n",
    "\n",
    "    if iterator % 2 == 0:\n",
    "        model = lgb.LGBMClassifier(**lgb_params)\n",
    "    else:\n",
    "        model = lgb.LGBMClassifier(**lgb_params_2)\n",
    "\n",
    "    model.fit(\n",
    "        X_train,\n",
    "        y_train,\n",
    "        eval_set = [(X_valid, y_valid)],\n",
    "        callbacks = [lgb.log_evaluation(200), lgb.early_stopping(100)],\n",
    "    )\n",
    "\n",
    "    y_pred_valid = model.predict_proba(X_valid)[:,1]\n",
    "    auc_score = roc_auc_score(y_valid, y_pred_valid)\n",
    "\n",
    "    fitted_models_lgb.append(model)\n",
    "    cv_scores_lgb.append(auc_score)\n",
    "\n",
    "    #######\n",
    "    # xgb #\n",
    "    #######\n",
    "    model = xgb.XGBClassifier(**xgb_params)\n",
    "\n",
    "    model.fit(\n",
    "        X_train,\n",
    "        y_train,\n",
    "        eval_set=[(X_valid, y_valid)],\n",
    "        verbose=200,\n",
    "    )\n",
    "\n",
    "    y_pred_valid = model.predict_proba(X_valid)[:, 1]\n",
    "    auc_score = roc_auc_score(y_valid, y_pred_valid)\n",
    "\n",
    "    fitted_models_xgb.append(model)\n",
    "    cv_scores_xgb.append(auc_score)\n",
    "\n",
    "    iterator += 1\n",
    "\n",
    "print(\"CV AUC scores for CatBoost: \", cv_scores_cat)\n",
    "print(\"Maximum CV AUC score for CatBoost: \", max(cv_scores_cat))\n",
    "\n",
    "print(\"CV AUC scores for LGBM: \", cv_scores_lgb)\n",
    "print(\"Maximum CV AUC score for LGBM: \", max(cv_scores_lgb))\n",
    "\n",
    "print(\"CV AUC scores for XGB: \", cv_scores_xgb)\n",
    "print(\"Maximum CV AUC score for XGB: \", max(cv_scores_xgb))"
   ]
  },
  {
   "cell_type": "markdown",
   "metadata": {},
   "source": [
    "### Ensemble"
   ]
  },
  {
   "cell_type": "code",
   "execution_count": 12,
   "metadata": {},
   "outputs": [],
   "source": [
    "from src.models.voting_model import VotingModel\n",
    "\n",
    "model = VotingModel(fitted_models_cat+fitted_models_lgb+fitted_models_xgb)"
   ]
  },
  {
   "cell_type": "code",
   "execution_count": 13,
   "metadata": {},
   "outputs": [],
   "source": [
    "with open('voting_model.pkl', 'wb') as f:\n",
    "    pickle.dump(model, f)"
   ]
  },
  {
   "cell_type": "code",
   "execution_count": null,
   "metadata": {},
   "outputs": [],
   "source": []
  }
 ],
 "metadata": {
  "kernelspec": {
   "display_name": "Python 3 (ipykernel)",
   "language": "python",
   "name": "python3"
  },
  "language_info": {
   "codemirror_mode": {
    "name": "ipython",
    "version": 3
   },
   "file_extension": ".py",
   "mimetype": "text/x-python",
   "name": "python",
   "nbconvert_exporter": "python",
   "pygments_lexer": "ipython3",
   "version": "3.10.12"
  }
 },
 "nbformat": 4,
 "nbformat_minor": 2
}
