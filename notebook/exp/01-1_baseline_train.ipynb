{
 "cells": [
  {
   "cell_type": "markdown",
   "metadata": {},
   "source": [
    "## Baseline - Train\n",
    "\n",
    "https://www.kaggle.com/code/pxcai666/catboost-lightgbm-ensemble/notebook"
   ]
  },
  {
   "cell_type": "markdown",
   "metadata": {},
   "source": [
    "### Configuration"
   ]
  },
  {
   "cell_type": "code",
   "execution_count": 1,
   "metadata": {},
   "outputs": [],
   "source": [
    "# モジュールの動的import(import先のファイルが更新されたときに追従する)\n",
    "%load_ext autoreload\n",
    "%autoreload 2"
   ]
  },
  {
   "cell_type": "code",
   "execution_count": 2,
   "metadata": {},
   "outputs": [
    {
     "name": "stderr",
     "output_type": "stream",
     "text": [
      "/opt/conda/lib/python3.10/site-packages/scipy/__init__.py:146: UserWarning: A NumPy version >=1.16.5 and <1.23.0 is required for this version of SciPy (detected version 1.23.5\n",
      "  warnings.warn(f\"A NumPy version >={np_minversion} and <{np_maxversion}\"\n"
     ]
    }
   ],
   "source": [
    "import sys\n",
    "from pathlib import Path\n",
    "import subprocess\n",
    "import os\n",
    "import gc\n",
    "from glob import glob\n",
    "import pickle\n",
    "\n",
    "import numpy as np\n",
    "import pandas as pd\n",
    "import polars as pl\n",
    "from datetime import datetime\n",
    "import seaborn as sns\n",
    "import matplotlib.pyplot as plt\n",
    "\n",
    "from sklearn.model_selection import TimeSeriesSplit, GroupKFold, StratifiedGroupKFold\n",
    "from sklearn.metrics import roc_auc_score\n",
    "from catboost import CatBoostClassifier, Pool\n",
    "import lightgbm as lgb\n",
    "\n",
    "from imblearn.over_sampling import SMOTE\n",
    "from sklearn.preprocessing import OrdinalEncoder\n",
    "from sklearn.impute import KNNImputer"
   ]
  },
  {
   "cell_type": "code",
   "execution_count": 3,
   "metadata": {},
   "outputs": [],
   "source": [
    "ROOT = \"/kaggle/input/home-credit-credit-risk-model-stability\"\n",
    "\n",
    "TRAIN_DIR = os.path.join(ROOT, \"parquet_files\", \"train\")"
   ]
  },
  {
   "cell_type": "code",
   "execution_count": 4,
   "metadata": {},
   "outputs": [],
   "source": [
    "DRY_RUN = False"
   ]
  },
  {
   "cell_type": "markdown",
   "metadata": {},
   "source": [
    "### Def utility classes"
   ]
  },
  {
   "cell_type": "code",
   "execution_count": 5,
   "metadata": {},
   "outputs": [],
   "source": [
    "from src.utils.utility import Utility\n",
    "from src.utils.schema_gen import SchemaGen\n",
    "from src.utils.pipeline import Pipeline\n",
    "from src.utils.aggregator import Aggregator"
   ]
  },
  {
   "cell_type": "markdown",
   "metadata": {},
   "source": [
    "### Read train data"
   ]
  },
  {
   "cell_type": "code",
   "execution_count": 6,
   "metadata": {},
   "outputs": [
    {
     "name": "stdout",
     "output_type": "stream",
     "text": [
      "File train_base loaded into memory.\n",
      "File train_static_cb_0 loaded into memory.\n",
      "File train_static_0_1 loaded into memory.\n",
      "File train_static_0_0 loaded into memory.\n",
      "File train_applprev_1_0 loaded into memory.\n",
      "File train_applprev_1_1 loaded into memory.\n",
      "File train_tax_registry_a_1 loaded into memory.\n",
      "File train_tax_registry_b_1 loaded into memory.\n",
      "File train_tax_registry_c_1 loaded into memory.\n",
      "File train_credit_bureau_a_1_3 loaded into memory.\n",
      "File train_credit_bureau_a_1_1 loaded into memory.\n",
      "File train_credit_bureau_a_1_0 loaded into memory.\n",
      "File train_credit_bureau_a_1_2 loaded into memory.\n",
      "File train_credit_bureau_b_1 loaded into memory.\n",
      "File train_other_1 loaded into memory.\n",
      "File train_person_1 loaded into memory.\n",
      "File train_deposit_1 loaded into memory.\n",
      "File train_debitcard_1 loaded into memory.\n",
      "File train_credit_bureau_a_2_8 loaded into memory.\n",
      "File train_credit_bureau_a_2_7 loaded into memory.\n",
      "File train_credit_bureau_a_2_5 loaded into memory.\n",
      "File train_credit_bureau_a_2_0 loaded into memory.\n",
      "File train_credit_bureau_a_2_10 loaded into memory.\n",
      "File train_credit_bureau_a_2_9 loaded into memory.\n",
      "File train_credit_bureau_a_2_2 loaded into memory.\n",
      "File train_credit_bureau_a_2_1 loaded into memory.\n",
      "File train_credit_bureau_a_2_3 loaded into memory.\n",
      "File train_credit_bureau_a_2_6 loaded into memory.\n",
      "File train_credit_bureau_a_2_4 loaded into memory.\n",
      "File train_credit_bureau_b_2 loaded into memory.\n",
      "Memory usage of dataframe \"df_train\" is 6783.1317 MB.\n",
      "Memory usage of dataframe \"df_train\" became 4174.0953 MB.\n",
      "Memory usage of dataframe \"train_df\" is 2870.9171 MB.\n",
      "Memory usage of dataframe \"train_df\" became 2665.6302 MB.\n",
      "Train data shape: (1526659, 472)\n"
     ]
    },
    {
     "data": {
      "text/html": [
       "<div><style>\n",
       ".dataframe > thead > tr,\n",
       ".dataframe > tbody > tr {\n",
       "  text-align: right;\n",
       "  white-space: pre-wrap;\n",
       "}\n",
       "</style>\n",
       "<small>shape: (10, 472)</small><table border=\"1\" class=\"dataframe\"><thead><tr><th>case_id</th><th>month</th><th>week_num</th><th>target</th><th>assignmentdate_238D</th><th>assignmentdate_4527235D</th><th>birthdate_574D</th><th>contractssum_5085716L</th><th>dateofbirth_337D</th><th>days120_123L</th><th>days180_256L</th><th>days30_165L</th><th>days360_512L</th><th>days90_310L</th><th>description_5085714M</th><th>education_1103M</th><th>education_88M</th><th>firstquarter_103L</th><th>fourthquarter_440L</th><th>maritalst_385M</th><th>maritalst_893M</th><th>numberofqueries_373L</th><th>pmtaverage_3A</th><th>pmtaverage_4527227A</th><th>pmtcount_4527229L</th><th>pmtcount_693L</th><th>pmtscount_423L</th><th>pmtssum_45A</th><th>requesttype_4525192L</th><th>responsedate_1012D</th><th>responsedate_4527233D</th><th>responsedate_4917613D</th><th>secondquarter_766L</th><th>thirdquarter_1082L</th><th>actualdpdtolerance_344P</th><th>amtinstpaidbefduel24m_4187115A</th><th>annuity_780A</th><th>&hellip;</th><th>mean_mainoccupationinc_384A</th><th>max_amount_416A</th><th>max_num_group1_10</th><th>max_openingdate_313D</th><th>mean_amount_416A</th><th>mean_openingdate_313D</th><th>max_num_group1_11</th><th>max_openingdate_857D</th><th>mean_openingdate_857D</th><th>max_collater_typofvalofguarant_298M</th><th>max_collater_typofvalofguarant_407M</th><th>max_collater_valueofguarantee_1124L</th><th>max_collater_valueofguarantee_876L</th><th>max_collaterals_typeofguarante_359M</th><th>max_collaterals_typeofguarante_669M</th><th>max_num_group1_12</th><th>max_num_group2</th><th>max_pmts_dpd_1073P</th><th>max_pmts_dpd_303P</th><th>max_pmts_month_158T</th><th>max_pmts_month_706T</th><th>max_pmts_overdue_1140A</th><th>max_pmts_overdue_1152A</th><th>max_pmts_year_1139T</th><th>max_pmts_year_507T</th><th>max_subjectroles_name_541M</th><th>max_subjectroles_name_838M</th><th>mean_pmts_dpd_1073P</th><th>mean_pmts_dpd_303P</th><th>mean_pmts_overdue_1140A</th><th>mean_pmts_overdue_1152A</th><th>var_pmts_dpd_1073P</th><th>var_pmts_dpd_303P</th><th>var_pmts_overdue_1140A</th><th>var_pmts_overdue_1152A</th><th>year</th><th>day</th></tr><tr><td>u32</td><td>u32</td><td>u8</td><td>u8</td><td>i16</td><td>u8</td><td>i16</td><td>f32</td><td>i32</td><td>f32</td><td>f32</td><td>f32</td><td>f32</td><td>f32</td><td>str</td><td>str</td><td>str</td><td>f32</td><td>f32</td><td>str</td><td>str</td><td>f32</td><td>f32</td><td>f32</td><td>f32</td><td>f32</td><td>f32</td><td>f32</td><td>str</td><td>i8</td><td>u8</td><td>i8</td><td>f32</td><td>f32</td><td>f32</td><td>f32</td><td>f32</td><td>&hellip;</td><td>f32</td><td>f32</td><td>u8</td><td>i16</td><td>f32</td><td>i16</td><td>u8</td><td>i16</td><td>i16</td><td>str</td><td>str</td><td>f32</td><td>f32</td><td>str</td><td>str</td><td>u16</td><td>u8</td><td>f32</td><td>f32</td><td>f32</td><td>f32</td><td>f32</td><td>f32</td><td>f32</td><td>f32</td><td>str</td><td>str</td><td>f32</td><td>f32</td><td>f32</td><td>f32</td><td>f32</td><td>f32</td><td>f32</td><td>f32</td><td>u16</td><td>u8</td></tr></thead><tbody><tr><td>103291</td><td>201901</td><td>0</td><td>0</td><td>null</td><td>null</td><td>null</td><td>null</td><td>null</td><td>null</td><td>null</td><td>null</td><td>null</td><td>null</td><td>null</td><td>null</td><td>null</td><td>null</td><td>null</td><td>null</td><td>null</td><td>null</td><td>null</td><td>null</td><td>null</td><td>null</td><td>null</td><td>null</td><td>null</td><td>null</td><td>null</td><td>null</td><td>null</td><td>null</td><td>0.0</td><td>null</td><td>4929.399902</td><td>&hellip;</td><td>42000.0</td><td>203.518005</td><td>0</td><td>-1176</td><td>203.518005</td><td>-1176</td><td>0</td><td>-1176</td><td>-1176</td><td>null</td><td>null</td><td>null</td><td>null</td><td>null</td><td>null</td><td>null</td><td>null</td><td>null</td><td>null</td><td>null</td><td>null</td><td>null</td><td>null</td><td>null</td><td>null</td><td>null</td><td>null</td><td>null</td><td>null</td><td>null</td><td>null</td><td>null</td><td>null</td><td>null</td><td>null</td><td>2019</td><td>4</td></tr><tr><td>136598</td><td>201906</td><td>24</td><td>0</td><td>-2202</td><td>null</td><td>-23393</td><td>null</td><td>-23393</td><td>1.0</td><td>1.0</td><td>0.0</td><td>3.0</td><td>1.0</td><td>&quot;a55475b1&quot;</td><td>&quot;a55475b1&quot;</td><td>&quot;a55475b1&quot;</td><td>4.0</td><td>3.0</td><td>&quot;3439d993&quot;</td><td>&quot;46b968c3&quot;</td><td>3.0</td><td>7222.200195</td><td>null</td><td>null</td><td>6.0</td><td>null</td><td>null</td><td>null</td><td>14</td><td>null</td><td>null</td><td>3.0</td><td>0.0</td><td>0.0</td><td>162879.0</td><td>1808.200073</td><td>&hellip;</td><td>40000.0</td><td>204.03801</td><td>0</td><td>-1449</td><td>204.03801</td><td>-1449</td><td>0</td><td>-1449</td><td>-1449</td><td>&quot;a55475b1&quot;</td><td>&quot;a55475b1&quot;</td><td>0.0</td><td>100000.0</td><td>&quot;c7a5ad39&quot;</td><td>&quot;c7a5ad39&quot;</td><td>10</td><td>35</td><td>0.0</td><td>29.0</td><td>12.0</td><td>12.0</td><td>0.0</td><td>6849.600098</td><td>2020.0</td><td>2019.0</td><td>&quot;ab3c25cf&quot;</td><td>&quot;ab3c25cf&quot;</td><td>0.0</td><td>0.511765</td><td>0.0</td><td>177.059875</td><td>0.0</td><td>8.073825</td><td>0.0</td><td>673480.3125</td><td>2019</td><td>18</td></tr><tr><td>25700</td><td>201908</td><td>31</td><td>0</td><td>-2589</td><td>null</td><td>-25634</td><td>null</td><td>-25634</td><td>0.0</td><td>0.0</td><td>0.0</td><td>0.0</td><td>0.0</td><td>&quot;a55475b1&quot;</td><td>&quot;a55475b1&quot;</td><td>&quot;a55475b1&quot;</td><td>2.0</td><td>3.0</td><td>&quot;a55475b1&quot;</td><td>&quot;a55475b1&quot;</td><td>0.0</td><td>18237.201172</td><td>null</td><td>null</td><td>6.0</td><td>null</td><td>null</td><td>null</td><td>14</td><td>null</td><td>null</td><td>1.0</td><td>1.0</td><td>null</td><td>null</td><td>5344.600098</td><td>&hellip;</td><td>76000.0</td><td>null</td><td>null</td><td>null</td><td>null</td><td>null</td><td>null</td><td>null</td><td>null</td><td>&quot;a55475b1&quot;</td><td>&quot;a55475b1&quot;</td><td>9.023e6</td><td>100000.0</td><td>&quot;c7a5ad39&quot;</td><td>&quot;a55475b1&quot;</td><td>4</td><td>35</td><td>1.0</td><td>333.0</td><td>12.0</td><td>12.0</td><td>18062.712891</td><td>9214.400391</td><td>2020.0</td><td>2018.0</td><td>&quot;ab3c25cf&quot;</td><td>&quot;daf49a8a&quot;</td><td>0.041667</td><td>20.054054</td><td>752.613037</td><td>1626.900024</td><td>0.041667</td><td>5557.695801</td><td>1.3594233e7</td><td>8351803.5</td><td>2019</td><td>7</td></tr><tr><td>114706</td><td>201903</td><td>9</td><td>0</td><td>-3035</td><td>null</td><td>-24230</td><td>null</td><td>-24230</td><td>2.0</td><td>3.0</td><td>0.0</td><td>4.0</td><td>1.0</td><td>&quot;a55475b1&quot;</td><td>&quot;6b2ae0fa&quot;</td><td>&quot;a55475b1&quot;</td><td>1.0</td><td>2.0</td><td>&quot;b6cabe76&quot;</td><td>&quot;a55475b1&quot;</td><td>4.0</td><td>17400.5</td><td>null</td><td>null</td><td>6.0</td><td>null</td><td>null</td><td>null</td><td>14</td><td>null</td><td>null</td><td>2.0</td><td>1.0</td><td>0.0</td><td>null</td><td>6169.800293</td><td>&hellip;</td><td>60000.0</td><td>null</td><td>null</td><td>null</td><td>null</td><td>null</td><td>null</td><td>null</td><td>null</td><td>&quot;a55475b1&quot;</td><td>&quot;a55475b1&quot;</td><td>0.0</td><td>null</td><td>&quot;a55475b1&quot;</td><td>&quot;c7a5ad39&quot;</td><td>1</td><td>23</td><td>0.0</td><td>null</td><td>12.0</td><td>null</td><td>0.0</td><td>null</td><td>2020.0</td><td>null</td><td>&quot;a55475b1&quot;</td><td>&quot;ab3c25cf&quot;</td><td>0.0</td><td>null</td><td>0.0</td><td>null</td><td>0.0</td><td>null</td><td>0.0</td><td>null</td><td>2019</td><td>5</td></tr><tr><td>655664</td><td>201903</td><td>11</td><td>0</td><td>-250</td><td>null</td><td>-23275</td><td>null</td><td>-23275</td><td>1.0</td><td>2.0</td><td>1.0</td><td>2.0</td><td>1.0</td><td>&quot;a55475b1&quot;</td><td>&quot;a55475b1&quot;</td><td>&quot;a55475b1&quot;</td><td>1.0</td><td>1.0</td><td>&quot;a55475b1&quot;</td><td>&quot;a55475b1&quot;</td><td>2.0</td><td>5960.800293</td><td>null</td><td>null</td><td>6.0</td><td>null</td><td>null</td><td>null</td><td>14</td><td>null</td><td>null</td><td>0.0</td><td>0.0</td><td>null</td><td>null</td><td>1650.200073</td><td>&hellip;</td><td>30000.0</td><td>null</td><td>null</td><td>null</td><td>null</td><td>null</td><td>null</td><td>null</td><td>null</td><td>&quot;a55475b1&quot;</td><td>&quot;a55475b1&quot;</td><td>0.0</td><td>null</td><td>&quot;a55475b1&quot;</td><td>&quot;c7a5ad39&quot;</td><td>0</td><td>23</td><td>3.0</td><td>null</td><td>12.0</td><td>null</td><td>51.897999</td><td>null</td><td>2020.0</td><td>null</td><td>&quot;a55475b1&quot;</td><td>&quot;ab3c25cf&quot;</td><td>0.6</td><td>null</td><td>10.3796</td><td>null</td><td>1.8</td><td>null</td><td>538.680481</td><td>null</td><td>2019</td><td>22</td></tr><tr><td>729992</td><td>201907</td><td>25</td><td>0</td><td>null</td><td>null</td><td>-15156</td><td>null</td><td>-15156</td><td>1.0</td><td>1.0</td><td>0.0</td><td>5.0</td><td>0.0</td><td>&quot;a55475b1&quot;</td><td>&quot;a55475b1&quot;</td><td>&quot;a55475b1&quot;</td><td>1.0</td><td>3.0</td><td>&quot;a55475b1&quot;</td><td>&quot;a55475b1&quot;</td><td>5.0</td><td>null</td><td>null</td><td>null</td><td>null</td><td>0.0</td><td>0.0</td><td>null</td><td>14</td><td>null</td><td>null</td><td>5.0</td><td>3.0</td><td>0.0</td><td>null</td><td>5446.0</td><td>&hellip;</td><td>30000.0</td><td>null</td><td>null</td><td>null</td><td>null</td><td>null</td><td>null</td><td>null</td><td>null</td><td>&quot;a55475b1&quot;</td><td>&quot;a55475b1&quot;</td><td>0.0</td><td>0.0</td><td>&quot;c7a5ad39&quot;</td><td>&quot;c7a5ad39&quot;</td><td>1</td><td>35</td><td>0.0</td><td>0.0</td><td>12.0</td><td>12.0</td><td>0.0</td><td>0.0</td><td>2020.0</td><td>2019.0</td><td>&quot;ab3c25cf&quot;</td><td>&quot;ab3c25cf&quot;</td><td>0.0</td><td>0.0</td><td>0.0</td><td>0.0</td><td>0.0</td><td>0.0</td><td>0.0</td><td>0.0</td><td>2019</td><td>1</td></tr><tr><td>1343447</td><td>201904</td><td>15</td><td>1</td><td>null</td><td>null</td><td>-17182</td><td>null</td><td>-17182</td><td>6.0</td><td>6.0</td><td>0.0</td><td>8.0</td><td>2.0</td><td>&quot;a55475b1&quot;</td><td>&quot;a55475b1&quot;</td><td>&quot;a55475b1&quot;</td><td>14.0</td><td>8.0</td><td>&quot;3439d993&quot;</td><td>&quot;a55475b1&quot;</td><td>8.0</td><td>null</td><td>null</td><td>null</td><td>null</td><td>6.0</td><td>6576.800293</td><td>null</td><td>14</td><td>null</td><td>null</td><td>4.0</td><td>9.0</td><td>0.0</td><td>62892.601562</td><td>8899.799805</td><td>&hellip;</td><td>99800.0</td><td>null</td><td>null</td><td>null</td><td>null</td><td>null</td><td>null</td><td>null</td><td>null</td><td>&quot;a55475b1&quot;</td><td>&quot;a55475b1&quot;</td><td>0.0</td><td>null</td><td>&quot;a55475b1&quot;</td><td>&quot;c7a5ad39&quot;</td><td>1</td><td>35</td><td>45.0</td><td>null</td><td>12.0</td><td>null</td><td>4001.446045</td><td>null</td><td>2020.0</td><td>null</td><td>&quot;a55475b1&quot;</td><td>&quot;ab3c25cf&quot;</td><td>3.958333</td><td>null</td><td>509.882629</td><td>null</td><td>69.828011</td><td>null</td><td>745252.0625</td><td>null</td><td>2019</td><td>17</td></tr><tr><td>1603772</td><td>201910</td><td>43</td><td>1</td><td>null</td><td>null</td><td>null</td><td>null</td><td>-17134</td><td>0.0</td><td>0.0</td><td>0.0</td><td>3.0</td><td>0.0</td><td>&quot;a55475b1&quot;</td><td>&quot;6b2ae0fa&quot;</td><td>&quot;a55475b1&quot;</td><td>6.0</td><td>1.0</td><td>&quot;3439d993&quot;</td><td>&quot;a55475b1&quot;</td><td>3.0</td><td>null</td><td>null</td><td>null</td><td>null</td><td>null</td><td>null</td><td>&quot;DEDUCTION_6&quot;</td><td>null</td><td>14</td><td>null</td><td>3.0</td><td>1.0</td><td>0.0</td><td>14270.400391</td><td>3923.600098</td><td>&hellip;</td><td>40000.0</td><td>null</td><td>null</td><td>null</td><td>null</td><td>null</td><td>null</td><td>null</td><td>null</td><td>&quot;a55475b1&quot;</td><td>&quot;a55475b1&quot;</td><td>0.0</td><td>0.0</td><td>&quot;c7a5ad39&quot;</td><td>&quot;a55475b1&quot;</td><td>10</td><td>35</td><td>0.0</td><td>165.0</td><td>12.0</td><td>12.0</td><td>0.0</td><td>28821.816406</td><td>2020.0</td><td>2020.0</td><td>&quot;ab3c25cf&quot;</td><td>&quot;ab3c25cf&quot;</td><td>0.0</td><td>12.529851</td><td>0.0</td><td>1701.282227</td><td>0.0</td><td>852.296082</td><td>0.0</td><td>2.119254e7</td><td>2019</td><td>30</td></tr><tr><td>1772343</td><td>202002</td><td>56</td><td>0</td><td>null</td><td>null</td><td>null</td><td>null</td><td>-12512</td><td>4.0</td><td>6.0</td><td>2.0</td><td>7.0</td><td>3.0</td><td>&quot;a55475b1&quot;</td><td>&quot;39a0853f&quot;</td><td>&quot;a55475b1&quot;</td><td>11.0</td><td>3.0</td><td>&quot;3439d993&quot;</td><td>&quot;a55475b1&quot;</td><td>7.0</td><td>null</td><td>null</td><td>null</td><td>null</td><td>null</td><td>null</td><td>&quot;DEDUCTION_6&quot;</td><td>null</td><td>14</td><td>null</td><td>3.0</td><td>7.0</td><td>0.0</td><td>0.0</td><td>3256.199951</td><td>&hellip;</td><td>80000.0</td><td>null</td><td>null</td><td>null</td><td>null</td><td>null</td><td>null</td><td>null</td><td>null</td><td>&quot;a55475b1&quot;</td><td>&quot;a55475b1&quot;</td><td>0.0</td><td>0.0</td><td>&quot;c7a5ad39&quot;</td><td>&quot;c7a5ad39&quot;</td><td>34</td><td>35</td><td>0.0</td><td>0.0</td><td>12.0</td><td>12.0</td><td>5199.304199</td><td>0.0</td><td>2021.0</td><td>2021.0</td><td>&quot;ab3c25cf&quot;</td><td>&quot;ab3c25cf&quot;</td><td>0.0</td><td>0.0</td><td>118.166</td><td>0.0</td><td>0.0</td><td>0.0</td><td>614380.9375</td><td>0.0</td><td>2020</td><td>3</td></tr><tr><td>917966</td><td>201912</td><td>51</td><td>0</td><td>null</td><td>null</td><td>null</td><td>null</td><td>-19112</td><td>1.0</td><td>2.0</td><td>0.0</td><td>4.0</td><td>1.0</td><td>&quot;a55475b1&quot;</td><td>&quot;6b2ae0fa&quot;</td><td>&quot;a55475b1&quot;</td><td>2.0</td><td>3.0</td><td>&quot;3439d993&quot;</td><td>&quot;a55475b1&quot;</td><td>4.0</td><td>null</td><td>null</td><td>null</td><td>null</td><td>null</td><td>null</td><td>&quot;DEDUCTION_6&quot;</td><td>null</td><td>14</td><td>null</td><td>2.0</td><td>2.0</td><td>null</td><td>null</td><td>3061.199951</td><td>&hellip;</td><td>70000.0</td><td>null</td><td>null</td><td>null</td><td>null</td><td>null</td><td>null</td><td>null</td><td>null</td><td>&quot;a55475b1&quot;</td><td>&quot;a55475b1&quot;</td><td>0.0</td><td>807395.0</td><td>&quot;c7a5ad39&quot;</td><td>&quot;c7a5ad39&quot;</td><td>14</td><td>35</td><td>0.0</td><td>5.0</td><td>12.0</td><td>12.0</td><td>0.0</td><td>8281.0</td><td>2020.0</td><td>2020.0</td><td>&quot;ab3c25cf&quot;</td><td>&quot;ab3c25cf&quot;</td><td>0.0</td><td>0.172185</td><td>0.0</td><td>174.318222</td><td>0.0</td><td>0.463488</td><td>0.0</td><td>960854.4375</td><td>2019</td><td>29</td></tr></tbody></table></div>"
      ],
      "text/plain": [
       "shape: (10, 472)\n",
       "┌─────────┬────────┬──────────┬────────┬───┬─────────────────────┬────────────────────┬──────┬─────┐\n",
       "│ case_id ┆ month  ┆ week_num ┆ target ┆ … ┆ var_pmts_overdue_11 ┆ var_pmts_overdue_1 ┆ year ┆ day │\n",
       "│ ---     ┆ ---    ┆ ---      ┆ ---    ┆   ┆ 40A                 ┆ 152A               ┆ ---  ┆ --- │\n",
       "│ u32     ┆ u32    ┆ u8       ┆ u8     ┆   ┆ ---                 ┆ ---                ┆ u16  ┆ u8  │\n",
       "│         ┆        ┆          ┆        ┆   ┆ f32                 ┆ f32                ┆      ┆     │\n",
       "╞═════════╪════════╪══════════╪════════╪═══╪═════════════════════╪════════════════════╪══════╪═════╡\n",
       "│ 103291  ┆ 201901 ┆ 0        ┆ 0      ┆ … ┆ null                ┆ null               ┆ 2019 ┆ 4   │\n",
       "│ 136598  ┆ 201906 ┆ 24       ┆ 0      ┆ … ┆ 0.0                 ┆ 673480.3125        ┆ 2019 ┆ 18  │\n",
       "│ 25700   ┆ 201908 ┆ 31       ┆ 0      ┆ … ┆ 1.3594233e7         ┆ 8351803.5          ┆ 2019 ┆ 7   │\n",
       "│ 114706  ┆ 201903 ┆ 9        ┆ 0      ┆ … ┆ 0.0                 ┆ null               ┆ 2019 ┆ 5   │\n",
       "│ 655664  ┆ 201903 ┆ 11       ┆ 0      ┆ … ┆ 538.680481          ┆ null               ┆ 2019 ┆ 22  │\n",
       "│ 729992  ┆ 201907 ┆ 25       ┆ 0      ┆ … ┆ 0.0                 ┆ 0.0                ┆ 2019 ┆ 1   │\n",
       "│ 1343447 ┆ 201904 ┆ 15       ┆ 1      ┆ … ┆ 745252.0625         ┆ null               ┆ 2019 ┆ 17  │\n",
       "│ 1603772 ┆ 201910 ┆ 43       ┆ 1      ┆ … ┆ 0.0                 ┆ 2.119254e7         ┆ 2019 ┆ 30  │\n",
       "│ 1772343 ┆ 202002 ┆ 56       ┆ 0      ┆ … ┆ 614380.9375         ┆ 0.0                ┆ 2020 ┆ 3   │\n",
       "│ 917966  ┆ 201912 ┆ 51       ┆ 0      ┆ … ┆ 0.0                 ┆ 960854.4375        ┆ 2019 ┆ 29  │\n",
       "└─────────┴────────┴──────────┴────────┴───┴─────────────────────┴────────────────────┴──────┴─────┘"
      ]
     },
     "metadata": {},
     "output_type": "display_data"
    },
    {
     "name": "stdout",
     "output_type": "stream",
     "text": [
      "CPU times: user 2min 56s, sys: 40.6 s, total: 3min 37s\n",
      "Wall time: 18.7 s\n"
     ]
    }
   ],
   "source": [
    "%%time\n",
    "\n",
    "data_store: dict = {\n",
    "    \"df_base\": SchemaGen.scan_files(os.path.join(TRAIN_DIR, \"train_base.parquet\")),\n",
    "    \"depth_0\": [\n",
    "        SchemaGen.scan_files(os.path.join(TRAIN_DIR, \"train_static_cb_0.parquet\")),\n",
    "        SchemaGen.scan_files(os.path.join(TRAIN_DIR, \"train_static_0_*.parquet\")),\n",
    "    ],\n",
    "    \"depth_1\": [\n",
    "        SchemaGen.scan_files(os.path.join(TRAIN_DIR, \"train_applprev_1_*.parquet\"), 1),\n",
    "        SchemaGen.scan_files(os.path.join(TRAIN_DIR, \"train_tax_registry_a_1.parquet\"), 1),\n",
    "        SchemaGen.scan_files(os.path.join(TRAIN_DIR, \"train_tax_registry_b_1.parquet\"), 1),\n",
    "        SchemaGen.scan_files(os.path.join(TRAIN_DIR, \"train_tax_registry_c_1.parquet\"), 1),\n",
    "        SchemaGen.scan_files(os.path.join(TRAIN_DIR, \"train_credit_bureau_a_1_*.parquet\"), 1),\n",
    "        SchemaGen.scan_files(os.path.join(TRAIN_DIR, \"train_credit_bureau_b_1.parquet\"), 1),\n",
    "        SchemaGen.scan_files(os.path.join(TRAIN_DIR, \"train_other_1.parquet\"), 1),\n",
    "        SchemaGen.scan_files(os.path.join(TRAIN_DIR, \"train_person_1.parquet\"), 1),\n",
    "        SchemaGen.scan_files(os.path.join(TRAIN_DIR, \"train_deposit_1.parquet\"), 1),\n",
    "        SchemaGen.scan_files(os.path.join(TRAIN_DIR, \"train_debitcard_1.parquet\"), 1),\n",
    "    ],\n",
    "    \"depth_2\": [\n",
    "        SchemaGen.scan_files(os.path.join(TRAIN_DIR, \"train_credit_bureau_a_2_*.parquet\"), 2),\n",
    "        SchemaGen.scan_files(os.path.join(TRAIN_DIR, \"train_credit_bureau_b_2.parquet\"), 2),\n",
    "    ],\n",
    "}\n",
    "\n",
    "train_df: pl.LazyFrame = (\n",
    "    SchemaGen.join_dataframes(**data_store)\n",
    "    .pipe(Pipeline.filter_cols)\n",
    "    .pipe(Pipeline.transform_cols)\n",
    "    .pipe(Pipeline.handle_dates)\n",
    "    .pipe(Utility.reduce_memory_usage, \"train_df\")\n",
    ")\n",
    "\n",
    "del data_store\n",
    "gc.collect()\n",
    "\n",
    "print(f\"Train data shape: {train_df.shape}\")\n",
    "display(train_df.head(10))"
   ]
  },
  {
   "cell_type": "code",
   "execution_count": 7,
   "metadata": {},
   "outputs": [],
   "source": [
    "train_df, cat_cols = Utility.to_pandas(train_df)"
   ]
  },
  {
   "cell_type": "markdown",
   "metadata": {},
   "source": [
    "### Train"
   ]
  },
  {
   "cell_type": "code",
   "execution_count": 8,
   "metadata": {},
   "outputs": [],
   "source": [
    "device: str = \"gpu\"\n",
    "est_cnt: int = 6000\n",
    "\n",
    "if DRY_RUN:\n",
    "    device = \"cpu\"\n",
    "    train_df = train_df.iloc[:50000]\n",
    "    est_cnt: int = 600"
   ]
  },
  {
   "cell_type": "code",
   "execution_count": 9,
   "metadata": {},
   "outputs": [],
   "source": [
    "X = train_df.drop(columns=[\"target\", \"case_id\", \"week_num\"])\n",
    "y = train_df[\"target\"]\n",
    "weeks = train_df[\"week_num\"]\n",
    "\n",
    "del train_df\n",
    "gc.collect()\n",
    "\n",
    "cv = StratifiedGroupKFold(n_splits=5, shuffle=True, random_state=42)"
   ]
  },
  {
   "cell_type": "code",
   "execution_count": 10,
   "metadata": {},
   "outputs": [],
   "source": [
    "catboost_params = {\n",
    "    \"best_model_min_trees\": 1200,\n",
    "    \"boosting_type\": \"Plain\",\n",
    "    \"eval_metric\": \"AUC\",\n",
    "    \"iterations\": est_cnt,\n",
    "    \"learning_rate\": 0.05,\n",
    "    \"l2_leaf_reg\": 10,\n",
    "    \"max_leaves\": 64,\n",
    "    \"random_seed\": 42,\n",
    "    \"task_type\": \"GPU\",\n",
    "    \"use_best_model\": True,\n",
    "}\n",
    "\n",
    "lgb_params = {\n",
    "    \"boosting_type\": \"gbdt\",\n",
    "    \"colsample_bytree\": 0.8,\n",
    "    \"colsample_bynode\": 0.8,\n",
    "    \"device\": device,\n",
    "    \"extra_trees\":True,\n",
    "    \"learning_rate\": 0.05,\n",
    "    \"reg_alpha\": 0.1,\n",
    "    \"reg_lambda\": 10,\n",
    "    \"max_depth\": 20,\n",
    "    \"metric\": \"auc\",\n",
    "    \"n_estimators\": 2000,\n",
    "    \"num_leaves\": 64,\n",
    "    \"objective\": \"binary\",\n",
    "    \"random_state\": 42,\n",
    "    \"verbose\": -1,\n",
    "}\n",
    "\n",
    "lgb_params_2 = {\n",
    "    \"boosting_type\": \"gbdt\",\n",
    "    \"colsample_bytree\": 0.8,\n",
    "    \"colsample_bynode\": 0.8,\n",
    "    \"device\": device,\n",
    "    \"extra_trees\":True,\n",
    "    \"learning_rate\": 0.03,\n",
    "    \"reg_alpha\": 0.1,\n",
    "    \"reg_lambda\": 10,\n",
    "    \"max_depth\": 16,\n",
    "    \"metric\": \"auc\",\n",
    "    \"n_estimators\": 2000,\n",
    "    \"num_leaves\": 72,\n",
    "    \"objective\": \"binary\",\n",
    "    \"random_state\": 42,\n",
    "    \"verbose\": -1,\n",
    "}"
   ]
  },
  {
   "cell_type": "code",
   "execution_count": 11,
   "metadata": {},
   "outputs": [
    {
     "name": "stderr",
     "output_type": "stream",
     "text": [
      "Default metric period is 5 because AUC is/are not implemented for GPU\n"
     ]
    },
    {
     "name": "stdout",
     "output_type": "stream",
     "text": [
      "0:\ttest: 0.6907933\tbest: 0.6907933 (0)\ttotal: 157ms\tremaining: 15m 41s\n",
      "300:\ttest: 0.8506913\tbest: 0.8506913 (300)\ttotal: 35.6s\tremaining: 11m 13s\n",
      "600:\ttest: 0.8544757\tbest: 0.8544757 (600)\ttotal: 1m 9s\tremaining: 10m 27s\n",
      "900:\ttest: 0.8562239\tbest: 0.8562239 (900)\ttotal: 1m 43s\tremaining: 9m 47s\n",
      "1200:\ttest: 0.8574800\tbest: 0.8574848 (1195)\ttotal: 2m 17s\tremaining: 9m 9s\n",
      "1500:\ttest: 0.8584509\tbest: 0.8584509 (1500)\ttotal: 2m 51s\tremaining: 8m 34s\n",
      "1800:\ttest: 0.8592788\tbest: 0.8592788 (1800)\ttotal: 3m 25s\tremaining: 7m 59s\n",
      "2100:\ttest: 0.8600082\tbest: 0.8600082 (2100)\ttotal: 3m 59s\tremaining: 7m 24s\n",
      "2400:\ttest: 0.8604954\tbest: 0.8604954 (2400)\ttotal: 4m 33s\tremaining: 6m 50s\n",
      "2700:\ttest: 0.8608026\tbest: 0.8608087 (2670)\ttotal: 5m 8s\tremaining: 6m 16s\n",
      "3000:\ttest: 0.8612822\tbest: 0.8612822 (3000)\ttotal: 5m 42s\tremaining: 5m 42s\n",
      "3300:\ttest: 0.8616092\tbest: 0.8616092 (3300)\ttotal: 6m 16s\tremaining: 5m 8s\n",
      "3600:\ttest: 0.8618485\tbest: 0.8618513 (3580)\ttotal: 6m 51s\tremaining: 4m 33s\n",
      "3900:\ttest: 0.8620699\tbest: 0.8620743 (3895)\ttotal: 7m 25s\tremaining: 3m 59s\n",
      "4200:\ttest: 0.8623513\tbest: 0.8623513 (4200)\ttotal: 7m 59s\tremaining: 3m 25s\n",
      "4500:\ttest: 0.8626125\tbest: 0.8626125 (4500)\ttotal: 8m 33s\tremaining: 2m 51s\n",
      "4800:\ttest: 0.8627344\tbest: 0.8627366 (4785)\ttotal: 9m 7s\tremaining: 2m 16s\n",
      "5100:\ttest: 0.8628953\tbest: 0.8629021 (5095)\ttotal: 9m 42s\tremaining: 1m 42s\n",
      "5400:\ttest: 0.8630917\tbest: 0.8630932 (5395)\ttotal: 10m 16s\tremaining: 1m 8s\n",
      "5700:\ttest: 0.8631837\tbest: 0.8631890 (5695)\ttotal: 10m 50s\tremaining: 34.1s\n",
      "5999:\ttest: 0.8633730\tbest: 0.8633730 (5999)\ttotal: 11m 25s\tremaining: 0us\n",
      "bestTest = 0.8633729815\n",
      "bestIteration = 5999\n"
     ]
    },
    {
     "name": "stderr",
     "output_type": "stream",
     "text": [
      "<timed exec>:30: SettingWithCopyWarning: \n",
      "A value is trying to be set on a copy of a slice from a DataFrame.\n",
      "Try using .loc[row_indexer,col_indexer] = value instead\n",
      "\n",
      "See the caveats in the documentation: https://pandas.pydata.org/pandas-docs/stable/user_guide/indexing.html#returning-a-view-versus-a-copy\n",
      "<timed exec>:31: SettingWithCopyWarning: \n",
      "A value is trying to be set on a copy of a slice from a DataFrame.\n",
      "Try using .loc[row_indexer,col_indexer] = value instead\n",
      "\n",
      "See the caveats in the documentation: https://pandas.pydata.org/pandas-docs/stable/user_guide/indexing.html#returning-a-view-versus-a-copy\n",
      "1 warning generated.\n",
      "1 warning generated.\n",
      "1 warning generated.\n",
      "1 warning generated.\n",
      "1 warning generated.\n",
      "1 warning generated.\n",
      "1 warning generated.\n",
      "1 warning generated.\n",
      "1 warning generated.\n",
      "1 warning generated.\n",
      "1 warning generated.\n",
      "1 warning generated.\n",
      "1 warning generated.\n",
      "1 warning generated.\n",
      "1 warning generated.\n",
      "1 warning generated.\n",
      "1 warning generated.\n",
      "1 warning generated.\n",
      "1 warning generated.\n",
      "1 warning generated.\n",
      "1 warning generated.\n",
      "1 warning generated.\n",
      "1 warning generated.\n",
      "1 warning generated.\n",
      "1 warning generated.\n",
      "1 warning generated.\n",
      "1 warning generated.\n",
      "1 warning generated.\n",
      "1 warning generated.\n",
      "1 warning generated.\n",
      "1 warning generated.\n",
      "1 warning generated.\n",
      "1 warning generated.\n",
      "/opt/conda/lib/python3.10/site-packages/lightgbm/basic.py:1780: UserWarning: Overriding the parameters from Reference Dataset.\n",
      "  _log_warning('Overriding the parameters from Reference Dataset.')\n",
      "/opt/conda/lib/python3.10/site-packages/lightgbm/basic.py:1513: UserWarning: categorical_column in param dict is overridden.\n",
      "  _log_warning(f'{cat_alias} in param dict is overridden.')\n"
     ]
    },
    {
     "name": "stdout",
     "output_type": "stream",
     "text": [
      "Training until validation scores don't improve for 100 rounds\n",
      "[200]\tvalid_0's auc: 0.860981\n",
      "[400]\tvalid_0's auc: 0.865324\n",
      "[600]\tvalid_0's auc: 0.866337\n",
      "[800]\tvalid_0's auc: 0.866734\n",
      "[1000]\tvalid_0's auc: 0.866994\n",
      "Early stopping, best iteration is:\n",
      "[1010]\tvalid_0's auc: 0.86701\n"
     ]
    },
    {
     "name": "stderr",
     "output_type": "stream",
     "text": [
      "Default metric period is 5 because AUC is/are not implemented for GPU\n"
     ]
    },
    {
     "name": "stdout",
     "output_type": "stream",
     "text": [
      "0:\ttest: 0.6799294\tbest: 0.6799294 (0)\ttotal: 127ms\tremaining: 12m 41s\n",
      "300:\ttest: 0.8377620\tbest: 0.8377620 (300)\ttotal: 34.9s\tremaining: 11m 1s\n",
      "600:\ttest: 0.8423406\tbest: 0.8423406 (600)\ttotal: 1m 8s\tremaining: 10m 19s\n",
      "900:\ttest: 0.8447096\tbest: 0.8447096 (900)\ttotal: 1m 42s\tremaining: 9m 40s\n",
      "1200:\ttest: 0.8462603\tbest: 0.8462603 (1200)\ttotal: 2m 16s\tremaining: 9m 3s\n",
      "1500:\ttest: 0.8473294\tbest: 0.8473294 (1500)\ttotal: 2m 49s\tremaining: 8m 27s\n",
      "1800:\ttest: 0.8482442\tbest: 0.8482442 (1800)\ttotal: 3m 23s\tremaining: 7m 53s\n",
      "2100:\ttest: 0.8490030\tbest: 0.8490030 (2100)\ttotal: 3m 56s\tremaining: 7m 19s\n",
      "2400:\ttest: 0.8496845\tbest: 0.8496845 (2400)\ttotal: 4m 30s\tremaining: 6m 45s\n",
      "2700:\ttest: 0.8501790\tbest: 0.8501790 (2700)\ttotal: 5m 4s\tremaining: 6m 11s\n",
      "3000:\ttest: 0.8506145\tbest: 0.8506145 (3000)\ttotal: 5m 37s\tremaining: 5m 37s\n",
      "3300:\ttest: 0.8511556\tbest: 0.8511556 (3300)\ttotal: 6m 11s\tremaining: 5m 3s\n",
      "3600:\ttest: 0.8515446\tbest: 0.8515446 (3600)\ttotal: 6m 44s\tremaining: 4m 29s\n",
      "3900:\ttest: 0.8519640\tbest: 0.8519640 (3900)\ttotal: 7m 18s\tremaining: 3m 55s\n",
      "4200:\ttest: 0.8523380\tbest: 0.8523380 (4200)\ttotal: 7m 51s\tremaining: 3m 22s\n",
      "4500:\ttest: 0.8526511\tbest: 0.8526513 (4495)\ttotal: 8m 25s\tremaining: 2m 48s\n",
      "4800:\ttest: 0.8529240\tbest: 0.8529240 (4800)\ttotal: 8m 58s\tremaining: 2m 14s\n",
      "5100:\ttest: 0.8531765\tbest: 0.8531765 (5100)\ttotal: 9m 32s\tremaining: 1m 40s\n",
      "5400:\ttest: 0.8534384\tbest: 0.8534425 (5395)\ttotal: 10m 6s\tremaining: 1m 7s\n",
      "5700:\ttest: 0.8536705\tbest: 0.8536705 (5700)\ttotal: 10m 40s\tremaining: 33.6s\n",
      "5999:\ttest: 0.8538613\tbest: 0.8538613 (5999)\ttotal: 11m 14s\tremaining: 0us\n",
      "bestTest = 0.8538613319\n",
      "bestIteration = 5999\n"
     ]
    },
    {
     "name": "stderr",
     "output_type": "stream",
     "text": [
      "<timed exec>:30: SettingWithCopyWarning: \n",
      "A value is trying to be set on a copy of a slice from a DataFrame.\n",
      "Try using .loc[row_indexer,col_indexer] = value instead\n",
      "\n",
      "See the caveats in the documentation: https://pandas.pydata.org/pandas-docs/stable/user_guide/indexing.html#returning-a-view-versus-a-copy\n",
      "<timed exec>:31: SettingWithCopyWarning: \n",
      "A value is trying to be set on a copy of a slice from a DataFrame.\n",
      "Try using .loc[row_indexer,col_indexer] = value instead\n",
      "\n",
      "See the caveats in the documentation: https://pandas.pydata.org/pandas-docs/stable/user_guide/indexing.html#returning-a-view-versus-a-copy\n",
      "/opt/conda/lib/python3.10/site-packages/lightgbm/basic.py:1780: UserWarning: Overriding the parameters from Reference Dataset.\n",
      "  _log_warning('Overriding the parameters from Reference Dataset.')\n",
      "/opt/conda/lib/python3.10/site-packages/lightgbm/basic.py:1513: UserWarning: categorical_column in param dict is overridden.\n",
      "  _log_warning(f'{cat_alias} in param dict is overridden.')\n"
     ]
    },
    {
     "name": "stdout",
     "output_type": "stream",
     "text": [
      "Training until validation scores don't improve for 100 rounds\n",
      "[200]\tvalid_0's auc: 0.844681\n",
      "[400]\tvalid_0's auc: 0.85303\n",
      "[600]\tvalid_0's auc: 0.856032\n",
      "[800]\tvalid_0's auc: 0.857231\n",
      "[1000]\tvalid_0's auc: 0.857655\n",
      "[1200]\tvalid_0's auc: 0.858002\n",
      "[1400]\tvalid_0's auc: 0.858176\n",
      "[1600]\tvalid_0's auc: 0.85835\n",
      "[1800]\tvalid_0's auc: 0.858482\n",
      "[2000]\tvalid_0's auc: 0.858603\n",
      "Did not meet early stopping. Best iteration is:\n",
      "[1993]\tvalid_0's auc: 0.858615\n"
     ]
    },
    {
     "name": "stderr",
     "output_type": "stream",
     "text": [
      "Default metric period is 5 because AUC is/are not implemented for GPU\n"
     ]
    },
    {
     "name": "stdout",
     "output_type": "stream",
     "text": [
      "0:\ttest: 0.6747274\tbest: 0.6747274 (0)\ttotal: 130ms\tremaining: 12m 58s\n",
      "300:\ttest: 0.8386381\tbest: 0.8386381 (300)\ttotal: 35.9s\tremaining: 11m 20s\n",
      "600:\ttest: 0.8434204\tbest: 0.8434204 (600)\ttotal: 1m 10s\tremaining: 10m 37s\n",
      "900:\ttest: 0.8455154\tbest: 0.8455154 (900)\ttotal: 1m 45s\tremaining: 9m 58s\n",
      "1200:\ttest: 0.8466938\tbest: 0.8466938 (1200)\ttotal: 2m 20s\tremaining: 9m 19s\n",
      "1500:\ttest: 0.8476221\tbest: 0.8476221 (1500)\ttotal: 2m 54s\tremaining: 8m 43s\n",
      "1800:\ttest: 0.8485180\tbest: 0.8485180 (1800)\ttotal: 3m 29s\tremaining: 8m 7s\n",
      "2100:\ttest: 0.8491917\tbest: 0.8491917 (2100)\ttotal: 4m 4s\tremaining: 7m 32s\n",
      "2400:\ttest: 0.8498088\tbest: 0.8498088 (2400)\ttotal: 4m 38s\tremaining: 6m 57s\n",
      "2700:\ttest: 0.8502643\tbest: 0.8502643 (2700)\ttotal: 5m 13s\tremaining: 6m 22s\n",
      "3000:\ttest: 0.8507349\tbest: 0.8507349 (3000)\ttotal: 5m 48s\tremaining: 5m 48s\n",
      "3300:\ttest: 0.8510727\tbest: 0.8510727 (3300)\ttotal: 6m 22s\tremaining: 5m 13s\n",
      "3600:\ttest: 0.8514274\tbest: 0.8514274 (3600)\ttotal: 6m 57s\tremaining: 4m 38s\n",
      "3900:\ttest: 0.8516845\tbest: 0.8516845 (3900)\ttotal: 7m 32s\tremaining: 4m 3s\n",
      "4200:\ttest: 0.8519379\tbest: 0.8519390 (4180)\ttotal: 8m 6s\tremaining: 3m 28s\n",
      "4500:\ttest: 0.8521783\tbest: 0.8521783 (4500)\ttotal: 8m 41s\tremaining: 2m 53s\n",
      "4800:\ttest: 0.8524181\tbest: 0.8524181 (4800)\ttotal: 9m 16s\tremaining: 2m 18s\n",
      "5100:\ttest: 0.8526762\tbest: 0.8526762 (5100)\ttotal: 9m 50s\tremaining: 1m 44s\n",
      "5400:\ttest: 0.8528163\tbest: 0.8528175 (5390)\ttotal: 10m 25s\tremaining: 1m 9s\n",
      "5700:\ttest: 0.8529553\tbest: 0.8529553 (5700)\ttotal: 11m\tremaining: 34.6s\n",
      "5999:\ttest: 0.8531721\tbest: 0.8531721 (5999)\ttotal: 11m 35s\tremaining: 0us\n",
      "bestTest = 0.8531720638\n",
      "bestIteration = 5999\n"
     ]
    },
    {
     "name": "stderr",
     "output_type": "stream",
     "text": [
      "<timed exec>:30: SettingWithCopyWarning: \n",
      "A value is trying to be set on a copy of a slice from a DataFrame.\n",
      "Try using .loc[row_indexer,col_indexer] = value instead\n",
      "\n",
      "See the caveats in the documentation: https://pandas.pydata.org/pandas-docs/stable/user_guide/indexing.html#returning-a-view-versus-a-copy\n",
      "<timed exec>:31: SettingWithCopyWarning: \n",
      "A value is trying to be set on a copy of a slice from a DataFrame.\n",
      "Try using .loc[row_indexer,col_indexer] = value instead\n",
      "\n",
      "See the caveats in the documentation: https://pandas.pydata.org/pandas-docs/stable/user_guide/indexing.html#returning-a-view-versus-a-copy\n",
      "/opt/conda/lib/python3.10/site-packages/lightgbm/basic.py:1780: UserWarning: Overriding the parameters from Reference Dataset.\n",
      "  _log_warning('Overriding the parameters from Reference Dataset.')\n",
      "/opt/conda/lib/python3.10/site-packages/lightgbm/basic.py:1513: UserWarning: categorical_column in param dict is overridden.\n",
      "  _log_warning(f'{cat_alias} in param dict is overridden.')\n"
     ]
    },
    {
     "name": "stdout",
     "output_type": "stream",
     "text": [
      "Training until validation scores don't improve for 100 rounds\n",
      "[200]\tvalid_0's auc: 0.851288\n",
      "[400]\tvalid_0's auc: 0.856172\n",
      "[600]\tvalid_0's auc: 0.857409\n",
      "[800]\tvalid_0's auc: 0.857982\n",
      "[1000]\tvalid_0's auc: 0.858205\n",
      "Early stopping, best iteration is:\n",
      "[1004]\tvalid_0's auc: 0.858214\n"
     ]
    },
    {
     "name": "stderr",
     "output_type": "stream",
     "text": [
      "Default metric period is 5 because AUC is/are not implemented for GPU\n"
     ]
    },
    {
     "name": "stdout",
     "output_type": "stream",
     "text": [
      "0:\ttest: 0.6693533\tbest: 0.6693533 (0)\ttotal: 132ms\tremaining: 13m 10s\n",
      "300:\ttest: 0.8390459\tbest: 0.8390459 (300)\ttotal: 36.9s\tremaining: 11m 38s\n",
      "600:\ttest: 0.8440240\tbest: 0.8440240 (600)\ttotal: 1m 12s\tremaining: 10m 52s\n",
      "900:\ttest: 0.8465752\tbest: 0.8465752 (900)\ttotal: 1m 48s\tremaining: 10m 13s\n",
      "1200:\ttest: 0.8478985\tbest: 0.8478985 (1200)\ttotal: 2m 23s\tremaining: 9m 34s\n",
      "1500:\ttest: 0.8490477\tbest: 0.8490477 (1500)\ttotal: 2m 59s\tremaining: 8m 57s\n",
      "1800:\ttest: 0.8500168\tbest: 0.8500168 (1800)\ttotal: 3m 34s\tremaining: 8m 20s\n",
      "2100:\ttest: 0.8507628\tbest: 0.8507628 (2100)\ttotal: 4m 9s\tremaining: 7m 43s\n",
      "2400:\ttest: 0.8512424\tbest: 0.8512424 (2400)\ttotal: 4m 45s\tremaining: 7m 7s\n",
      "2700:\ttest: 0.8518240\tbest: 0.8518240 (2700)\ttotal: 5m 20s\tremaining: 6m 31s\n",
      "3000:\ttest: 0.8522235\tbest: 0.8522235 (3000)\ttotal: 5m 56s\tremaining: 5m 56s\n",
      "3300:\ttest: 0.8526372\tbest: 0.8526400 (3295)\ttotal: 6m 31s\tremaining: 5m 20s\n",
      "3600:\ttest: 0.8530054\tbest: 0.8530054 (3600)\ttotal: 7m 7s\tremaining: 4m 44s\n",
      "3900:\ttest: 0.8533056\tbest: 0.8533056 (3900)\ttotal: 7m 42s\tremaining: 4m 8s\n",
      "4200:\ttest: 0.8535683\tbest: 0.8535683 (4200)\ttotal: 8m 18s\tremaining: 3m 33s\n",
      "4500:\ttest: 0.8538622\tbest: 0.8538622 (4500)\ttotal: 8m 53s\tremaining: 2m 57s\n",
      "4800:\ttest: 0.8541358\tbest: 0.8541391 (4790)\ttotal: 9m 28s\tremaining: 2m 22s\n",
      "5100:\ttest: 0.8543328\tbest: 0.8543328 (5100)\ttotal: 10m 4s\tremaining: 1m 46s\n",
      "5400:\ttest: 0.8544785\tbest: 0.8544785 (5400)\ttotal: 10m 39s\tremaining: 1m 10s\n",
      "5700:\ttest: 0.8546846\tbest: 0.8546846 (5700)\ttotal: 11m 15s\tremaining: 35.4s\n",
      "5999:\ttest: 0.8548144\tbest: 0.8548194 (5975)\ttotal: 11m 50s\tremaining: 0us\n",
      "bestTest = 0.8548193574\n",
      "bestIteration = 5975\n",
      "Shrink model to first 5976 iterations.\n"
     ]
    },
    {
     "name": "stderr",
     "output_type": "stream",
     "text": [
      "<timed exec>:30: SettingWithCopyWarning: \n",
      "A value is trying to be set on a copy of a slice from a DataFrame.\n",
      "Try using .loc[row_indexer,col_indexer] = value instead\n",
      "\n",
      "See the caveats in the documentation: https://pandas.pydata.org/pandas-docs/stable/user_guide/indexing.html#returning-a-view-versus-a-copy\n",
      "<timed exec>:31: SettingWithCopyWarning: \n",
      "A value is trying to be set on a copy of a slice from a DataFrame.\n",
      "Try using .loc[row_indexer,col_indexer] = value instead\n",
      "\n",
      "See the caveats in the documentation: https://pandas.pydata.org/pandas-docs/stable/user_guide/indexing.html#returning-a-view-versus-a-copy\n",
      "/opt/conda/lib/python3.10/site-packages/lightgbm/basic.py:1780: UserWarning: Overriding the parameters from Reference Dataset.\n",
      "  _log_warning('Overriding the parameters from Reference Dataset.')\n",
      "/opt/conda/lib/python3.10/site-packages/lightgbm/basic.py:1513: UserWarning: categorical_column in param dict is overridden.\n",
      "  _log_warning(f'{cat_alias} in param dict is overridden.')\n"
     ]
    },
    {
     "name": "stdout",
     "output_type": "stream",
     "text": [
      "Training until validation scores don't improve for 100 rounds\n",
      "[200]\tvalid_0's auc: 0.846194\n",
      "[400]\tvalid_0's auc: 0.85455\n",
      "[600]\tvalid_0's auc: 0.857472\n",
      "[800]\tvalid_0's auc: 0.858663\n",
      "[1000]\tvalid_0's auc: 0.859229\n",
      "[1200]\tvalid_0's auc: 0.859668\n",
      "[1400]\tvalid_0's auc: 0.860024\n",
      "[1600]\tvalid_0's auc: 0.86021\n",
      "[1800]\tvalid_0's auc: 0.860386\n",
      "[2000]\tvalid_0's auc: 0.860513\n",
      "Did not meet early stopping. Best iteration is:\n",
      "[1994]\tvalid_0's auc: 0.860536\n"
     ]
    },
    {
     "name": "stderr",
     "output_type": "stream",
     "text": [
      "Default metric period is 5 because AUC is/are not implemented for GPU\n"
     ]
    },
    {
     "name": "stdout",
     "output_type": "stream",
     "text": [
      "0:\ttest: 0.6781521\tbest: 0.6781521 (0)\ttotal: 127ms\tremaining: 12m 40s\n",
      "300:\ttest: 0.8354783\tbest: 0.8354783 (300)\ttotal: 35.2s\tremaining: 11m 7s\n",
      "600:\ttest: 0.8401458\tbest: 0.8401458 (600)\ttotal: 1m 9s\tremaining: 10m 24s\n",
      "900:\ttest: 0.8422469\tbest: 0.8422469 (900)\ttotal: 1m 43s\tremaining: 9m 44s\n",
      "1200:\ttest: 0.8435604\tbest: 0.8435604 (1200)\ttotal: 2m 16s\tremaining: 9m 7s\n",
      "1500:\ttest: 0.8445185\tbest: 0.8445185 (1500)\ttotal: 2m 50s\tremaining: 8m 30s\n",
      "1800:\ttest: 0.8454717\tbest: 0.8454717 (1800)\ttotal: 3m 23s\tremaining: 7m 55s\n",
      "2100:\ttest: 0.8461337\tbest: 0.8461337 (2100)\ttotal: 3m 57s\tremaining: 7m 20s\n",
      "2400:\ttest: 0.8468145\tbest: 0.8468145 (2400)\ttotal: 4m 31s\tremaining: 6m 47s\n",
      "2700:\ttest: 0.8474751\tbest: 0.8474751 (2700)\ttotal: 5m 5s\tremaining: 6m 13s\n",
      "3000:\ttest: 0.8479452\tbest: 0.8479452 (3000)\ttotal: 5m 39s\tremaining: 5m 39s\n",
      "3300:\ttest: 0.8483309\tbest: 0.8483310 (3295)\ttotal: 6m 13s\tremaining: 5m 5s\n",
      "3600:\ttest: 0.8487560\tbest: 0.8487560 (3600)\ttotal: 6m 47s\tremaining: 4m 31s\n",
      "3900:\ttest: 0.8490622\tbest: 0.8490622 (3900)\ttotal: 7m 21s\tremaining: 3m 57s\n",
      "4200:\ttest: 0.8494045\tbest: 0.8494045 (4200)\ttotal: 7m 55s\tremaining: 3m 23s\n",
      "4500:\ttest: 0.8497424\tbest: 0.8497424 (4500)\ttotal: 8m 29s\tremaining: 2m 49s\n",
      "4800:\ttest: 0.8500261\tbest: 0.8500261 (4800)\ttotal: 9m 2s\tremaining: 2m 15s\n",
      "5100:\ttest: 0.8502952\tbest: 0.8502952 (5100)\ttotal: 9m 36s\tremaining: 1m 41s\n",
      "5400:\ttest: 0.8505280\tbest: 0.8505280 (5400)\ttotal: 10m 10s\tremaining: 1m 7s\n",
      "5700:\ttest: 0.8507276\tbest: 0.8507276 (5700)\ttotal: 10m 44s\tremaining: 33.8s\n",
      "5999:\ttest: 0.8509420\tbest: 0.8509457 (5995)\ttotal: 11m 18s\tremaining: 0us\n",
      "bestTest = 0.8509456813\n",
      "bestIteration = 5995\n",
      "Shrink model to first 5996 iterations.\n"
     ]
    },
    {
     "name": "stderr",
     "output_type": "stream",
     "text": [
      "<timed exec>:30: SettingWithCopyWarning: \n",
      "A value is trying to be set on a copy of a slice from a DataFrame.\n",
      "Try using .loc[row_indexer,col_indexer] = value instead\n",
      "\n",
      "See the caveats in the documentation: https://pandas.pydata.org/pandas-docs/stable/user_guide/indexing.html#returning-a-view-versus-a-copy\n",
      "<timed exec>:31: SettingWithCopyWarning: \n",
      "A value is trying to be set on a copy of a slice from a DataFrame.\n",
      "Try using .loc[row_indexer,col_indexer] = value instead\n",
      "\n",
      "See the caveats in the documentation: https://pandas.pydata.org/pandas-docs/stable/user_guide/indexing.html#returning-a-view-versus-a-copy\n",
      "/opt/conda/lib/python3.10/site-packages/lightgbm/basic.py:1780: UserWarning: Overriding the parameters from Reference Dataset.\n",
      "  _log_warning('Overriding the parameters from Reference Dataset.')\n",
      "/opt/conda/lib/python3.10/site-packages/lightgbm/basic.py:1513: UserWarning: categorical_column in param dict is overridden.\n",
      "  _log_warning(f'{cat_alias} in param dict is overridden.')\n"
     ]
    },
    {
     "name": "stdout",
     "output_type": "stream",
     "text": [
      "Training until validation scores don't improve for 100 rounds\n",
      "[200]\tvalid_0's auc: 0.847878\n",
      "[400]\tvalid_0's auc: 0.852602\n",
      "[600]\tvalid_0's auc: 0.853677\n",
      "[800]\tvalid_0's auc: 0.854149\n",
      "[1000]\tvalid_0's auc: 0.854434\n",
      "[1200]\tvalid_0's auc: 0.854665\n",
      "Early stopping, best iteration is:\n",
      "[1275]\tvalid_0's auc: 0.854768\n",
      "CV AUC scores for CatBoost:  [0.8633729826457213, 0.8538613862399729, 0.853172044382759, 0.8548193356088387, 0.8509457174264036]\n",
      "Maximum CV AUC score for CatBoost:  0.8633729826457213\n",
      "CV AUC scores for LGBM:  [0.8670098449146831, 0.8586152430392099, 0.8582138299964486, 0.8605357568878694, 0.8547680495712842]\n",
      "Maximum CV AUC score for LGBM:  0.8670098449146831\n",
      "CPU times: user 3h 54min 50s, sys: 1min 36s, total: 3h 56min 27s\n",
      "Wall time: 1h 8min\n"
     ]
    }
   ],
   "source": [
    "%%time\n",
    "\n",
    "fitted_models_cat = []\n",
    "fitted_models_lgb = []\n",
    "\n",
    "cv_scores_cat = []\n",
    "cv_scores_lgb = []\n",
    "\n",
    "iterator = 0\n",
    "for idx_train, idx_valid in cv.split(X, y, groups=weeks):\n",
    "    X_train, y_train = X.iloc[idx_train], y.iloc[idx_train]\n",
    "    X_valid, y_valid = X.iloc[idx_valid], y.iloc[idx_valid]\n",
    "\n",
    "    #######\n",
    "    # cat #\n",
    "    #######\n",
    "    train_pool = Pool(X_train, y_train, cat_features=cat_cols)\n",
    "    val_pool = Pool(X_valid, y_valid, cat_features=cat_cols)\n",
    "\n",
    "    clf = CatBoostClassifier(**catboost_params)\n",
    "\n",
    "    clf.fit(train_pool, eval_set=val_pool, verbose=300)\n",
    "    y_pred_valid = clf.predict_proba(X_valid)[:,1]\n",
    "    auc_score = roc_auc_score(y_valid, y_pred_valid)\n",
    "\n",
    "    fitted_models_cat.append(clf)\n",
    "    cv_scores_cat.append(auc_score)\n",
    "\n",
    "    #######\n",
    "    # lgb #\n",
    "    #######\n",
    "    X_train[cat_cols] = X_train[cat_cols].astype(\"category\")\n",
    "    X_valid[cat_cols] = X_valid[cat_cols].astype(\"category\")\n",
    "\n",
    "    if iterator % 2 == 0:\n",
    "        model = lgb.LGBMClassifier(**lgb_params)\n",
    "    else:\n",
    "        model = lgb.LGBMClassifier(**lgb_params_2)\n",
    "\n",
    "    model.fit(\n",
    "        X_train,\n",
    "        y_train,\n",
    "        eval_set = [(X_valid, y_valid)],\n",
    "        callbacks = [lgb.log_evaluation(200), lgb.early_stopping(100)],\n",
    "    )\n",
    "\n",
    "    y_pred_valid = model.predict_proba(X_valid)[:,1]\n",
    "    auc_score = roc_auc_score(y_valid, y_pred_valid)\n",
    "\n",
    "    fitted_models_lgb.append(model)\n",
    "    cv_scores_lgb.append(auc_score)\n",
    "\n",
    "    iterator += 1\n",
    "\n",
    "print(\"CV AUC scores for CatBoost: \", cv_scores_cat)\n",
    "print(\"Maximum CV AUC score for CatBoost: \", max(cv_scores_cat))\n",
    "\n",
    "print(\"CV AUC scores for LGBM: \", cv_scores_lgb)\n",
    "print(\"Maximum CV AUC score for LGBM: \", max(cv_scores_lgb))"
   ]
  },
  {
   "cell_type": "markdown",
   "metadata": {},
   "source": [
    "### Ensemble"
   ]
  },
  {
   "cell_type": "code",
   "execution_count": 12,
   "metadata": {},
   "outputs": [],
   "source": [
    "from src.models.voting_model import VotingModel\n",
    "\n",
    "model = VotingModel(fitted_models_cat+fitted_models_lgb)"
   ]
  },
  {
   "cell_type": "code",
   "execution_count": 13,
   "metadata": {},
   "outputs": [],
   "source": [
    "with open('voting_model.pkl', 'wb') as f:\n",
    "    pickle.dump(model, f)"
   ]
  },
  {
   "cell_type": "code",
   "execution_count": null,
   "metadata": {},
   "outputs": [],
   "source": []
  }
 ],
 "metadata": {
  "kernelspec": {
   "display_name": "Python 3 (ipykernel)",
   "language": "python",
   "name": "python3"
  },
  "language_info": {
   "codemirror_mode": {
    "name": "ipython",
    "version": 3
   },
   "file_extension": ".py",
   "mimetype": "text/x-python",
   "name": "python",
   "nbconvert_exporter": "python",
   "pygments_lexer": "ipython3",
   "version": "3.10.12"
  }
 },
 "nbformat": 4,
 "nbformat_minor": 2
}
