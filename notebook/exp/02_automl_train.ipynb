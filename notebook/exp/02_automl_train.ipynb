{
 "cells": [
  {
   "cell_type": "markdown",
   "metadata": {},
   "source": [
    "## AutoML - Train\n",
    "\n",
    "https://www.kaggle.com/code/alexryzhkov/lightautoml-nn-test"
   ]
  },
  {
   "cell_type": "markdown",
   "metadata": {},
   "source": [
    "### Configuration"
   ]
  },
  {
   "cell_type": "code",
   "execution_count": 1,
   "metadata": {},
   "outputs": [],
   "source": [
    "# モジュールの動的import(import先のファイルが更新されたときに追従する)\n",
    "%load_ext autoreload\n",
    "%autoreload 2"
   ]
  },
  {
   "cell_type": "code",
   "execution_count": 2,
   "metadata": {},
   "outputs": [
    {
     "name": "stdout",
     "output_type": "stream",
     "text": [
      "Processing ./input/lightautoml-v0-3-8/lightautoml-0.3.8-py3-none-any.whl\n",
      "Requirement already satisfied: autowoe>=1.2 in /opt/conda/lib/python3.10/site-packages (from lightautoml==0.3.8) (1.3.2)\n",
      "Requirement already satisfied: catboost>=0.26.1 in /opt/conda/lib/python3.10/site-packages (from lightautoml==0.3.8) (1.2.1)\n",
      "Requirement already satisfied: cmaes in /opt/conda/lib/python3.10/site-packages (from lightautoml==0.3.8) (0.10.0)\n",
      "Requirement already satisfied: holidays in /opt/conda/lib/python3.10/site-packages (from lightautoml==0.3.8) (0.24)\n",
      "Requirement already satisfied: jinja2 in /opt/conda/lib/python3.10/site-packages (from lightautoml==0.3.8) (3.1.2)\n",
      "Requirement already satisfied: joblib<1.3.0 in /opt/conda/lib/python3.10/site-packages (from lightautoml==0.3.8) (1.2.0)\n",
      "Requirement already satisfied: json2html in /opt/conda/lib/python3.10/site-packages (from lightautoml==0.3.8) (1.3.0)\n",
      "Requirement already satisfied: lightgbm<=3.2.1,>=2.3 in /opt/conda/lib/python3.10/site-packages (from lightautoml==0.3.8) (3.2.1)\n",
      "Requirement already satisfied: networkx in /opt/conda/lib/python3.10/site-packages (from lightautoml==0.3.8) (3.1)\n",
      "Requirement already satisfied: numpy>=1.22 in /opt/conda/lib/python3.10/site-packages (from lightautoml==0.3.8) (1.23.5)\n",
      "Requirement already satisfied: optuna in /opt/conda/lib/python3.10/site-packages (from lightautoml==0.3.8) (3.3.0)\n",
      "Requirement already satisfied: pandas<2.0.0 in /opt/conda/lib/python3.10/site-packages (from lightautoml==0.3.8) (1.5.3)\n",
      "Requirement already satisfied: poetry-core<2.0.0,>=1.0.0 in /opt/conda/lib/python3.10/site-packages (from lightautoml==0.3.8) (1.9.0)\n",
      "Requirement already satisfied: pyyaml in /opt/conda/lib/python3.10/site-packages (from lightautoml==0.3.8) (6.0)\n",
      "Requirement already satisfied: scikit-learn>=0.22 in /opt/conda/lib/python3.10/site-packages (from lightautoml==0.3.8) (1.2.2)\n",
      "Requirement already satisfied: seaborn in /opt/conda/lib/python3.10/site-packages (from lightautoml==0.3.8) (0.12.2)\n",
      "Requirement already satisfied: statsmodels<=0.14.0 in /opt/conda/lib/python3.10/site-packages (from lightautoml==0.3.8) (0.14.0)\n",
      "Requirement already satisfied: torch<=2.0.0,>=1.9.0 in /opt/conda/lib/python3.10/site-packages (from lightautoml==0.3.8) (2.0.0)\n",
      "Requirement already satisfied: tqdm in /opt/conda/lib/python3.10/site-packages (from lightautoml==0.3.8) (4.66.1)\n",
      "Requirement already satisfied: StrEnum<0.5.0,>=0.4.7 in /opt/conda/lib/python3.10/site-packages (from autowoe>=1.2->lightautoml==0.3.8) (0.4.15)\n",
      "Requirement already satisfied: matplotlib in /opt/conda/lib/python3.10/site-packages (from autowoe>=1.2->lightautoml==0.3.8) (3.7.2)\n",
      "Requirement already satisfied: pytest in /opt/conda/lib/python3.10/site-packages (from autowoe>=1.2->lightautoml==0.3.8) (7.4.1)\n",
      "Requirement already satisfied: pytz in /opt/conda/lib/python3.10/site-packages (from autowoe>=1.2->lightautoml==0.3.8) (2023.3)\n",
      "Requirement already satisfied: scipy in /opt/conda/lib/python3.10/site-packages (from autowoe>=1.2->lightautoml==0.3.8) (1.11.2)\n",
      "Requirement already satisfied: sphinx in /opt/conda/lib/python3.10/site-packages (from autowoe>=1.2->lightautoml==0.3.8) (7.3.7)\n",
      "Requirement already satisfied: sphinx-rtd-theme in /opt/conda/lib/python3.10/site-packages (from autowoe>=1.2->lightautoml==0.3.8) (0.2.4)\n",
      "Requirement already satisfied: graphviz in /opt/conda/lib/python3.10/site-packages (from catboost>=0.26.1->lightautoml==0.3.8) (0.20.1)\n",
      "Requirement already satisfied: plotly in /opt/conda/lib/python3.10/site-packages (from catboost>=0.26.1->lightautoml==0.3.8) (5.15.0)\n",
      "Requirement already satisfied: six in /opt/conda/lib/python3.10/site-packages (from catboost>=0.26.1->lightautoml==0.3.8) (1.16.0)\n",
      "Requirement already satisfied: wheel in /opt/conda/lib/python3.10/site-packages (from lightgbm<=3.2.1,>=2.3->lightautoml==0.3.8) (0.40.0)\n",
      "Requirement already satisfied: python-dateutil>=2.8.1 in /opt/conda/lib/python3.10/site-packages (from pandas<2.0.0->lightautoml==0.3.8) (2.8.2)\n",
      "Requirement already satisfied: threadpoolctl>=2.0.0 in /opt/conda/lib/python3.10/site-packages (from scikit-learn>=0.22->lightautoml==0.3.8) (3.1.0)\n",
      "Requirement already satisfied: patsy>=0.5.2 in /opt/conda/lib/python3.10/site-packages (from statsmodels<=0.14.0->lightautoml==0.3.8) (0.5.3)\n",
      "Requirement already satisfied: packaging>=21.3 in /opt/conda/lib/python3.10/site-packages (from statsmodels<=0.14.0->lightautoml==0.3.8) (21.3)\n",
      "Requirement already satisfied: filelock in /opt/conda/lib/python3.10/site-packages (from torch<=2.0.0,>=1.9.0->lightautoml==0.3.8) (3.12.2)\n",
      "Requirement already satisfied: typing-extensions in /opt/conda/lib/python3.10/site-packages (from torch<=2.0.0,>=1.9.0->lightautoml==0.3.8) (4.6.3)\n",
      "Requirement already satisfied: sympy in /opt/conda/lib/python3.10/site-packages (from torch<=2.0.0,>=1.9.0->lightautoml==0.3.8) (1.12)\n",
      "Requirement already satisfied: nvidia-cuda-nvrtc-cu11==11.7.99 in /opt/conda/lib/python3.10/site-packages (from torch<=2.0.0,>=1.9.0->lightautoml==0.3.8) (11.7.99)\n",
      "Requirement already satisfied: nvidia-cuda-runtime-cu11==11.7.99 in /opt/conda/lib/python3.10/site-packages (from torch<=2.0.0,>=1.9.0->lightautoml==0.3.8) (11.7.99)\n",
      "Requirement already satisfied: nvidia-cuda-cupti-cu11==11.7.101 in /opt/conda/lib/python3.10/site-packages (from torch<=2.0.0,>=1.9.0->lightautoml==0.3.8) (11.7.101)\n",
      "Requirement already satisfied: nvidia-cudnn-cu11==8.5.0.96 in /opt/conda/lib/python3.10/site-packages (from torch<=2.0.0,>=1.9.0->lightautoml==0.3.8) (8.5.0.96)\n",
      "Requirement already satisfied: nvidia-cublas-cu11==11.10.3.66 in /opt/conda/lib/python3.10/site-packages (from torch<=2.0.0,>=1.9.0->lightautoml==0.3.8) (11.10.3.66)\n",
      "Requirement already satisfied: nvidia-cufft-cu11==10.9.0.58 in /opt/conda/lib/python3.10/site-packages (from torch<=2.0.0,>=1.9.0->lightautoml==0.3.8) (10.9.0.58)\n",
      "Requirement already satisfied: nvidia-curand-cu11==10.2.10.91 in /opt/conda/lib/python3.10/site-packages (from torch<=2.0.0,>=1.9.0->lightautoml==0.3.8) (10.2.10.91)\n",
      "Requirement already satisfied: nvidia-cusolver-cu11==11.4.0.1 in /opt/conda/lib/python3.10/site-packages (from torch<=2.0.0,>=1.9.0->lightautoml==0.3.8) (11.4.0.1)\n",
      "Requirement already satisfied: nvidia-cusparse-cu11==11.7.4.91 in /opt/conda/lib/python3.10/site-packages (from torch<=2.0.0,>=1.9.0->lightautoml==0.3.8) (11.7.4.91)\n",
      "Requirement already satisfied: nvidia-nccl-cu11==2.14.3 in /opt/conda/lib/python3.10/site-packages (from torch<=2.0.0,>=1.9.0->lightautoml==0.3.8) (2.14.3)\n",
      "Requirement already satisfied: nvidia-nvtx-cu11==11.7.91 in /opt/conda/lib/python3.10/site-packages (from torch<=2.0.0,>=1.9.0->lightautoml==0.3.8) (11.7.91)\n",
      "Requirement already satisfied: triton==2.0.0 in /opt/conda/lib/python3.10/site-packages (from torch<=2.0.0,>=1.9.0->lightautoml==0.3.8) (2.0.0)\n",
      "Requirement already satisfied: setuptools in /opt/conda/lib/python3.10/site-packages (from nvidia-cublas-cu11==11.10.3.66->torch<=2.0.0,>=1.9.0->lightautoml==0.3.8) (68.0.0)\n",
      "Requirement already satisfied: cmake in /opt/conda/lib/python3.10/site-packages (from triton==2.0.0->torch<=2.0.0,>=1.9.0->lightautoml==0.3.8) (3.25.0)\n",
      "Requirement already satisfied: lit in /opt/conda/lib/python3.10/site-packages (from triton==2.0.0->torch<=2.0.0,>=1.9.0->lightautoml==0.3.8) (15.0.7)\n",
      "Requirement already satisfied: hijri-converter in /opt/conda/lib/python3.10/site-packages (from holidays->lightautoml==0.3.8) (2.3.1)\n",
      "Requirement already satisfied: korean-lunar-calendar in /opt/conda/lib/python3.10/site-packages (from holidays->lightautoml==0.3.8) (0.3.1)\n",
      "Requirement already satisfied: MarkupSafe>=2.0 in /opt/conda/lib/python3.10/site-packages (from jinja2->lightautoml==0.3.8) (2.1.3)\n",
      "Requirement already satisfied: alembic>=1.5.0 in /opt/conda/lib/python3.10/site-packages (from optuna->lightautoml==0.3.8) (1.12.0)\n",
      "Requirement already satisfied: colorlog in /opt/conda/lib/python3.10/site-packages (from optuna->lightautoml==0.3.8) (6.7.0)\n",
      "Requirement already satisfied: sqlalchemy>=1.3.0 in /opt/conda/lib/python3.10/site-packages (from optuna->lightautoml==0.3.8) (2.0.17)\n",
      "Requirement already satisfied: Mako in /opt/conda/lib/python3.10/site-packages (from alembic>=1.5.0->optuna->lightautoml==0.3.8) (1.2.4)\n",
      "Requirement already satisfied: contourpy>=1.0.1 in /opt/conda/lib/python3.10/site-packages (from matplotlib->autowoe>=1.2->lightautoml==0.3.8) (1.1.0)\n",
      "Requirement already satisfied: cycler>=0.10 in /opt/conda/lib/python3.10/site-packages (from matplotlib->autowoe>=1.2->lightautoml==0.3.8) (0.11.0)\n",
      "Requirement already satisfied: fonttools>=4.22.0 in /opt/conda/lib/python3.10/site-packages (from matplotlib->autowoe>=1.2->lightautoml==0.3.8) (4.40.0)\n",
      "Requirement already satisfied: kiwisolver>=1.0.1 in /opt/conda/lib/python3.10/site-packages (from matplotlib->autowoe>=1.2->lightautoml==0.3.8) (1.4.4)\n",
      "Requirement already satisfied: pillow>=6.2.0 in /opt/conda/lib/python3.10/site-packages (from matplotlib->autowoe>=1.2->lightautoml==0.3.8) (9.5.0)\n",
      "Requirement already satisfied: pyparsing<3.1,>=2.3.1 in /opt/conda/lib/python3.10/site-packages (from matplotlib->autowoe>=1.2->lightautoml==0.3.8) (3.0.9)\n",
      "Requirement already satisfied: greenlet!=0.4.17 in /opt/conda/lib/python3.10/site-packages (from sqlalchemy>=1.3.0->optuna->lightautoml==0.3.8) (2.0.2)\n",
      "Requirement already satisfied: tenacity>=6.2.0 in /opt/conda/lib/python3.10/site-packages (from plotly->catboost>=0.26.1->lightautoml==0.3.8) (8.2.2)\n",
      "Requirement already satisfied: iniconfig in /opt/conda/lib/python3.10/site-packages (from pytest->autowoe>=1.2->lightautoml==0.3.8) (2.0.0)\n",
      "Requirement already satisfied: pluggy<2.0,>=0.12 in /opt/conda/lib/python3.10/site-packages (from pytest->autowoe>=1.2->lightautoml==0.3.8) (1.0.0)\n",
      "Requirement already satisfied: exceptiongroup>=1.0.0rc8 in /opt/conda/lib/python3.10/site-packages (from pytest->autowoe>=1.2->lightautoml==0.3.8) (1.1.1)\n",
      "Requirement already satisfied: tomli>=1.0.0 in /opt/conda/lib/python3.10/site-packages (from pytest->autowoe>=1.2->lightautoml==0.3.8) (2.0.1)\n",
      "Requirement already satisfied: sphinxcontrib-applehelp in /opt/conda/lib/python3.10/site-packages (from sphinx->autowoe>=1.2->lightautoml==0.3.8) (1.0.8)\n",
      "Requirement already satisfied: sphinxcontrib-devhelp in /opt/conda/lib/python3.10/site-packages (from sphinx->autowoe>=1.2->lightautoml==0.3.8) (1.0.6)\n",
      "Requirement already satisfied: sphinxcontrib-jsmath in /opt/conda/lib/python3.10/site-packages (from sphinx->autowoe>=1.2->lightautoml==0.3.8) (1.0.1)\n",
      "Requirement already satisfied: sphinxcontrib-htmlhelp>=2.0.0 in /opt/conda/lib/python3.10/site-packages (from sphinx->autowoe>=1.2->lightautoml==0.3.8) (2.0.5)\n",
      "Requirement already satisfied: sphinxcontrib-serializinghtml>=1.1.9 in /opt/conda/lib/python3.10/site-packages (from sphinx->autowoe>=1.2->lightautoml==0.3.8) (1.1.10)\n",
      "Requirement already satisfied: sphinxcontrib-qthelp in /opt/conda/lib/python3.10/site-packages (from sphinx->autowoe>=1.2->lightautoml==0.3.8) (1.0.7)\n",
      "Requirement already satisfied: Pygments>=2.14 in /opt/conda/lib/python3.10/site-packages (from sphinx->autowoe>=1.2->lightautoml==0.3.8) (2.15.1)\n",
      "Requirement already satisfied: docutils<0.22,>=0.18.1 in /opt/conda/lib/python3.10/site-packages (from sphinx->autowoe>=1.2->lightautoml==0.3.8) (0.20.1)\n",
      "Requirement already satisfied: snowballstemmer>=2.0 in /opt/conda/lib/python3.10/site-packages (from sphinx->autowoe>=1.2->lightautoml==0.3.8) (2.2.0)\n",
      "Requirement already satisfied: babel>=2.9 in /opt/conda/lib/python3.10/site-packages (from sphinx->autowoe>=1.2->lightautoml==0.3.8) (2.12.1)\n",
      "Requirement already satisfied: alabaster~=0.7.14 in /opt/conda/lib/python3.10/site-packages (from sphinx->autowoe>=1.2->lightautoml==0.3.8) (0.7.16)\n",
      "Requirement already satisfied: imagesize>=1.3 in /opt/conda/lib/python3.10/site-packages (from sphinx->autowoe>=1.2->lightautoml==0.3.8) (1.4.1)\n",
      "Requirement already satisfied: requests>=2.25.0 in /opt/conda/lib/python3.10/site-packages (from sphinx->autowoe>=1.2->lightautoml==0.3.8) (2.31.0)\n",
      "Requirement already satisfied: mpmath>=0.19 in /opt/conda/lib/python3.10/site-packages (from sympy->torch<=2.0.0,>=1.9.0->lightautoml==0.3.8) (1.3.0)\n",
      "Requirement already satisfied: charset-normalizer<4,>=2 in /opt/conda/lib/python3.10/site-packages (from requests>=2.25.0->sphinx->autowoe>=1.2->lightautoml==0.3.8) (3.1.0)\n",
      "Requirement already satisfied: idna<4,>=2.5 in /opt/conda/lib/python3.10/site-packages (from requests>=2.25.0->sphinx->autowoe>=1.2->lightautoml==0.3.8) (3.4)\n",
      "Requirement already satisfied: urllib3<3,>=1.21.1 in /opt/conda/lib/python3.10/site-packages (from requests>=2.25.0->sphinx->autowoe>=1.2->lightautoml==0.3.8) (1.26.15)\n",
      "Requirement already satisfied: certifi>=2017.4.17 in /opt/conda/lib/python3.10/site-packages (from requests>=2.25.0->sphinx->autowoe>=1.2->lightautoml==0.3.8) (2023.7.22)\n",
      "lightautoml is already installed with the same version as the provided wheel. Use --force-reinstall to force an installation of the wheel.\n"
     ]
    }
   ],
   "source": [
    "! python -m pip install --no-index --find-links=/kaggle/input/autogluon-pkgs autogluon > /dev/null\n",
    "! python -m pip install --no-index --find-links=/kaggle/input/ray-pkgs --upgrade --force-reinstall -q ray==2.6.3"
   ]
  },
  {
   "cell_type": "code",
   "execution_count": 3,
   "metadata": {},
   "outputs": [
    {
     "name": "stderr",
     "output_type": "stream",
     "text": [
      "/opt/conda/lib/python3.10/site-packages/scipy/__init__.py:146: UserWarning: A NumPy version >=1.16.5 and <1.23.0 is required for this version of SciPy (detected version 1.23.5\n",
      "  warnings.warn(f\"A NumPy version >={np_minversion} and <{np_maxversion}\"\n"
     ]
    }
   ],
   "source": [
    "import sys\n",
    "from pathlib import Path\n",
    "import subprocess\n",
    "import os\n",
    "import gc\n",
    "from glob import glob\n",
    "import pickle\n",
    "\n",
    "import numpy as np\n",
    "import pandas as pd\n",
    "import polars as pl\n",
    "from datetime import datetime\n",
    "import seaborn as sns\n",
    "import matplotlib.pyplot as plt\n",
    "\n",
    "from sklearn.model_selection import TimeSeriesSplit, GroupKFold, StratifiedGroupKFold\n",
    "from sklearn.metrics import roc_auc_score\n",
    "# LightAutoML presets, task and report generation\n",
    "from lightautoml.automl.presets.tabular_presets import TabularAutoML\n",
    "from lightautoml.tasks import Task\n",
    "\n",
    "from imblearn.over_sampling import SMOTE\n",
    "from sklearn.preprocessing import OrdinalEncoder\n",
    "from sklearn.impute import KNNImputer"
   ]
  },
  {
   "cell_type": "code",
   "execution_count": 4,
   "metadata": {},
   "outputs": [],
   "source": [
    "ROOT = \"/kaggle/input/home-credit-credit-risk-model-stability\"\n",
    "\n",
    "TRAIN_DIR = os.path.join(ROOT, \"parquet_files\", \"train\")"
   ]
  },
  {
   "cell_type": "code",
   "execution_count": 5,
   "metadata": {},
   "outputs": [],
   "source": [
    "DRY_RUN = True"
   ]
  },
  {
   "cell_type": "markdown",
   "metadata": {},
   "source": [
    "### Def utility classes"
   ]
  },
  {
   "cell_type": "code",
   "execution_count": 6,
   "metadata": {},
   "outputs": [],
   "source": [
    "from src.utils.utility import Utility\n",
    "from src.utils.schema_gen import SchemaGen\n",
    "from src.utils.pipeline import Pipeline\n",
    "from src.utils.aggregator import Aggregator"
   ]
  },
  {
   "cell_type": "markdown",
   "metadata": {},
   "source": [
    "### Read train data"
   ]
  },
  {
   "cell_type": "code",
   "execution_count": 7,
   "metadata": {},
   "outputs": [
    {
     "name": "stdout",
     "output_type": "stream",
     "text": [
      "File train_base loaded into memory.\n",
      "File train_static_cb_0 loaded into memory.\n",
      "File train_static_0_1 loaded into memory.\n",
      "File train_static_0_0 loaded into memory.\n",
      "File train_applprev_1_0 loaded into memory.\n",
      "File train_applprev_1_1 loaded into memory.\n",
      "File train_tax_registry_a_1 loaded into memory.\n",
      "File train_tax_registry_b_1 loaded into memory.\n",
      "File train_tax_registry_c_1 loaded into memory.\n",
      "File train_credit_bureau_a_1_3 loaded into memory.\n",
      "File train_credit_bureau_a_1_1 loaded into memory.\n",
      "File train_credit_bureau_a_1_0 loaded into memory.\n",
      "File train_credit_bureau_a_1_2 loaded into memory.\n",
      "File train_credit_bureau_b_1 loaded into memory.\n",
      "File train_other_1 loaded into memory.\n",
      "File train_person_1 loaded into memory.\n",
      "File train_deposit_1 loaded into memory.\n",
      "File train_debitcard_1 loaded into memory.\n",
      "File train_credit_bureau_a_2_8 loaded into memory.\n",
      "File train_credit_bureau_a_2_7 loaded into memory.\n",
      "File train_credit_bureau_a_2_5 loaded into memory.\n",
      "File train_credit_bureau_a_2_0 loaded into memory.\n",
      "File train_credit_bureau_a_2_10 loaded into memory.\n",
      "File train_credit_bureau_a_2_9 loaded into memory.\n",
      "File train_credit_bureau_a_2_2 loaded into memory.\n",
      "File train_credit_bureau_a_2_1 loaded into memory.\n",
      "File train_credit_bureau_a_2_3 loaded into memory.\n",
      "File train_credit_bureau_a_2_6 loaded into memory.\n",
      "File train_credit_bureau_a_2_4 loaded into memory.\n",
      "File train_credit_bureau_b_2 loaded into memory.\n",
      "Memory usage of dataframe \"train_df\" is 8989.1683 MB.\n",
      "Memory usage of dataframe \"train_df\" became 5657.988 MB.\n",
      "Memory usage of dataframe \"train_df\" is 3481.5808 MB.\n",
      "Memory usage of dataframe \"train_df\" became 3234.0717 MB.\n",
      "Train data shape: (1526659, 567)\n"
     ]
    },
    {
     "data": {
      "text/html": [
       "<div><style>\n",
       ".dataframe > thead > tr,\n",
       ".dataframe > tbody > tr {\n",
       "  text-align: right;\n",
       "  white-space: pre-wrap;\n",
       "}\n",
       "</style>\n",
       "<small>shape: (10, 567)</small><table border=\"1\" class=\"dataframe\"><thead><tr><th>case_id</th><th>month</th><th>week_num</th><th>target</th><th>assignmentdate_238D</th><th>assignmentdate_4527235D</th><th>birthdate_574D</th><th>contractssum_5085716L</th><th>dateofbirth_337D</th><th>days120_123L</th><th>days180_256L</th><th>days30_165L</th><th>days360_512L</th><th>days90_310L</th><th>description_5085714M</th><th>education_1103M</th><th>education_88M</th><th>firstquarter_103L</th><th>fourthquarter_440L</th><th>maritalst_385M</th><th>maritalst_893M</th><th>numberofqueries_373L</th><th>pmtaverage_3A</th><th>pmtaverage_4527227A</th><th>pmtcount_4527229L</th><th>pmtcount_693L</th><th>pmtscount_423L</th><th>pmtssum_45A</th><th>requesttype_4525192L</th><th>responsedate_1012D</th><th>responsedate_4527233D</th><th>responsedate_4917613D</th><th>secondquarter_766L</th><th>thirdquarter_1082L</th><th>actualdpdtolerance_344P</th><th>amtinstpaidbefduel24m_4187115A</th><th>annuity_780A</th><th>&hellip;</th><th>max_collater_valueofguarantee_876L</th><th>max_collaterals_typeofguarante_359M</th><th>max_collaterals_typeofguarante_669M</th><th>max_num_group1_12</th><th>max_num_group2</th><th>max_pmts_dpd_1073P</th><th>max_pmts_dpd_303P</th><th>max_pmts_month_158T</th><th>max_pmts_month_706T</th><th>max_pmts_overdue_1140A</th><th>max_pmts_overdue_1152A</th><th>max_pmts_year_1139T</th><th>max_pmts_year_507T</th><th>max_subjectroles_name_541M</th><th>max_subjectroles_name_838M</th><th>last_collater_typofvalofguarant_298M</th><th>last_collater_typofvalofguarant_407M</th><th>last_collaterals_typeofguarante_359M</th><th>last_collaterals_typeofguarante_669M</th><th>last_num_group1_12</th><th>last_num_group2</th><th>last_pmts_month_158T</th><th>last_pmts_month_706T</th><th>last_pmts_year_1139T</th><th>last_pmts_year_507T</th><th>last_subjectroles_name_541M</th><th>last_subjectroles_name_838M</th><th>mean_pmts_dpd_1073P</th><th>mean_pmts_dpd_303P</th><th>mean_pmts_overdue_1140A</th><th>mean_pmts_overdue_1152A</th><th>var_pmts_dpd_1073P</th><th>var_pmts_dpd_303P</th><th>var_pmts_overdue_1140A</th><th>var_pmts_overdue_1152A</th><th>year</th><th>day</th></tr><tr><td>u32</td><td>u32</td><td>u8</td><td>u8</td><td>i16</td><td>u8</td><td>i16</td><td>f32</td><td>i32</td><td>f32</td><td>f32</td><td>f32</td><td>f32</td><td>f32</td><td>str</td><td>str</td><td>str</td><td>f32</td><td>f32</td><td>str</td><td>str</td><td>f32</td><td>f32</td><td>f32</td><td>f32</td><td>f32</td><td>f32</td><td>f32</td><td>str</td><td>i8</td><td>u8</td><td>i8</td><td>f32</td><td>f32</td><td>f32</td><td>f32</td><td>f32</td><td>&hellip;</td><td>f32</td><td>str</td><td>str</td><td>u16</td><td>u8</td><td>f32</td><td>f32</td><td>f32</td><td>f32</td><td>f32</td><td>f32</td><td>f32</td><td>f32</td><td>str</td><td>str</td><td>str</td><td>str</td><td>str</td><td>str</td><td>u16</td><td>u8</td><td>f32</td><td>f32</td><td>f32</td><td>f32</td><td>str</td><td>str</td><td>f32</td><td>f32</td><td>f32</td><td>f32</td><td>f32</td><td>f32</td><td>f32</td><td>f32</td><td>u16</td><td>u8</td></tr></thead><tbody><tr><td>1351709</td><td>201904</td><td>16</td><td>0</td><td>null</td><td>null</td><td>-13629</td><td>null</td><td>-13629</td><td>2.0</td><td>4.0</td><td>0.0</td><td>11.0</td><td>0.0</td><td>&quot;a55475b1&quot;</td><td>&quot;6b2ae0fa&quot;</td><td>&quot;a55475b1&quot;</td><td>6.0</td><td>8.0</td><td>&quot;a7fcb6e5&quot;</td><td>&quot;a55475b1&quot;</td><td>11.0</td><td>null</td><td>null</td><td>null</td><td>null</td><td>6.0</td><td>10004.242188</td><td>null</td><td>14</td><td>null</td><td>null</td><td>7.0</td><td>6.0</td><td>0.0</td><td>9996.600586</td><td>4000.0</td><td>&hellip;</td><td>null</td><td>&quot;a55475b1&quot;</td><td>&quot;c7a5ad39&quot;</td><td>0</td><td>35</td><td>0.0</td><td>null</td><td>12.0</td><td>null</td><td>0.0</td><td>null</td><td>2020.0</td><td>null</td><td>&quot;a55475b1&quot;</td><td>&quot;ab3c25cf&quot;</td><td>&quot;a55475b1&quot;</td><td>&quot;a55475b1&quot;</td><td>&quot;a55475b1&quot;</td><td>&quot;a55475b1&quot;</td><td>0</td><td>35</td><td>1.0</td><td>null</td><td>2020.0</td><td>null</td><td>&quot;a55475b1&quot;</td><td>&quot;a55475b1&quot;</td><td>0.0</td><td>null</td><td>0.0</td><td>null</td><td>0.0</td><td>null</td><td>0.0</td><td>null</td><td>2019</td><td>26</td></tr><tr><td>1391295</td><td>201906</td><td>22</td><td>0</td><td>null</td><td>null</td><td>-11572</td><td>null</td><td>-11572</td><td>4.0</td><td>4.0</td><td>2.0</td><td>8.0</td><td>3.0</td><td>&quot;a55475b1&quot;</td><td>&quot;6b2ae0fa&quot;</td><td>&quot;a55475b1&quot;</td><td>10.0</td><td>5.0</td><td>&quot;3439d993&quot;</td><td>&quot;a55475b1&quot;</td><td>8.0</td><td>null</td><td>null</td><td>null</td><td>null</td><td>6.0</td><td>50244.800781</td><td>null</td><td>14</td><td>null</td><td>null</td><td>9.0</td><td>4.0</td><td>0.0</td><td>0.0</td><td>3673.600098</td><td>&hellip;</td><td>0.0</td><td>&quot;c7a5ad39&quot;</td><td>&quot;c7a5ad39&quot;</td><td>13</td><td>35</td><td>0.0</td><td>23.0</td><td>12.0</td><td>12.0</td><td>0.0</td><td>12109.618164</td><td>2020.0</td><td>2019.0</td><td>&quot;ab3c25cf&quot;</td><td>&quot;ab3c25cf&quot;</td><td>&quot;a55475b1&quot;</td><td>&quot;a55475b1&quot;</td><td>&quot;a55475b1&quot;</td><td>&quot;a55475b1&quot;</td><td>13</td><td>11</td><td>null</td><td>1.0</td><td>null</td><td>2019.0</td><td>&quot;a55475b1&quot;</td><td>&quot;a55475b1&quot;</td><td>0.0</td><td>0.333333</td><td>0.0</td><td>248.332977</td><td>0.0</td><td>6.192</td><td>0.0</td><td>1.8484e6</td><td>2019</td><td>7</td></tr><tr><td>1592107</td><td>201910</td><td>41</td><td>0</td><td>null</td><td>14</td><td>null</td><td>null</td><td>-15602</td><td>0.0</td><td>1.0</td><td>0.0</td><td>2.0</td><td>0.0</td><td>&quot;a55475b1&quot;</td><td>&quot;6b2ae0fa&quot;</td><td>&quot;a55475b1&quot;</td><td>1.0</td><td>1.0</td><td>&quot;3439d993&quot;</td><td>&quot;a55475b1&quot;</td><td>2.0</td><td>null</td><td>26043.400391</td><td>6.0</td><td>null</td><td>null</td><td>null</td><td>&quot;PENSION_6&quot;</td><td>null</td><td>14</td><td>null</td><td>2.0</td><td>0.0</td><td>0.0</td><td>12276.902344</td><td>1998.200073</td><td>&hellip;</td><td>0.0</td><td>&quot;c7a5ad39&quot;</td><td>&quot;c7a5ad39&quot;</td><td>4</td><td>23</td><td>0.0</td><td>0.0</td><td>12.0</td><td>12.0</td><td>0.0</td><td>0.0</td><td>2020.0</td><td>2019.0</td><td>&quot;ab3c25cf&quot;</td><td>&quot;ab3c25cf&quot;</td><td>&quot;a55475b1&quot;</td><td>&quot;a55475b1&quot;</td><td>&quot;a55475b1&quot;</td><td>&quot;a55475b1&quot;</td><td>4</td><td>23</td><td>null</td><td>1.0</td><td>null</td><td>2019.0</td><td>&quot;a55475b1&quot;</td><td>&quot;a55475b1&quot;</td><td>0.0</td><td>0.0</td><td>0.0</td><td>0.0</td><td>0.0</td><td>0.0</td><td>0.0</td><td>0.0</td><td>2019</td><td>21</td></tr><tr><td>253257</td><td>202009</td><td>89</td><td>0</td><td>null</td><td>null</td><td>null</td><td>1.1372e6</td><td>-20743</td><td>1.0</td><td>1.0</td><td>1.0</td><td>2.0</td><td>1.0</td><td>&quot;2fc785b2&quot;</td><td>&quot;a55475b1&quot;</td><td>&quot;a55475b1&quot;</td><td>0.0</td><td>2.0</td><td>&quot;3439d993&quot;</td><td>&quot;a55475b1&quot;</td><td>2.0</td><td>null</td><td>null</td><td>null</td><td>null</td><td>null</td><td>null</td><td>null</td><td>null</td><td>null</td><td>14</td><td>2.0</td><td>4.0</td><td>0.0</td><td>49844.0</td><td>1513.200073</td><td>&hellip;</td><td>250000.0</td><td>&quot;c7a5ad39&quot;</td><td>&quot;c7a5ad39&quot;</td><td>6</td><td>35</td><td>9.0</td><td>12.0</td><td>12.0</td><td>12.0</td><td>11457.360352</td><td>1949.400024</td><td>2021.0</td><td>2021.0</td><td>&quot;ab3c25cf&quot;</td><td>&quot;ab3c25cf&quot;</td><td>&quot;a55475b1&quot;</td><td>&quot;a55475b1&quot;</td><td>&quot;a55475b1&quot;</td><td>&quot;a55475b1&quot;</td><td>6</td><td>23</td><td>null</td><td>1.0</td><td>null</td><td>2021.0</td><td>&quot;a55475b1&quot;</td><td>&quot;a55475b1&quot;</td><td>0.315789</td><td>0.2</td><td>586.896851</td><td>25.92415</td><td>2.167852</td><td>1.67395</td><td>5.114673e6</td><td>39758.21875</td><td>2020</td><td>15</td></tr><tr><td>736158</td><td>201907</td><td>26</td><td>0</td><td>null</td><td>null</td><td>-12455</td><td>null</td><td>-12455</td><td>0.0</td><td>0.0</td><td>0.0</td><td>2.0</td><td>0.0</td><td>&quot;a55475b1&quot;</td><td>&quot;a55475b1&quot;</td><td>&quot;a55475b1&quot;</td><td>0.0</td><td>3.0</td><td>&quot;a55475b1&quot;</td><td>&quot;a55475b1&quot;</td><td>2.0</td><td>null</td><td>null</td><td>null</td><td>null</td><td>6.0</td><td>5700.0</td><td>null</td><td>14</td><td>null</td><td>null</td><td>0.0</td><td>1.0</td><td>null</td><td>null</td><td>4016.600098</td><td>&hellip;</td><td>null</td><td>&quot;a55475b1&quot;</td><td>&quot;c7a5ad39&quot;</td><td>1</td><td>35</td><td>1.0</td><td>null</td><td>12.0</td><td>null</td><td>2412.800049</td><td>null</td><td>2020.0</td><td>null</td><td>&quot;a55475b1&quot;</td><td>&quot;ab3c25cf&quot;</td><td>&quot;a55475b1&quot;</td><td>&quot;a55475b1&quot;</td><td>&quot;a55475b1&quot;</td><td>&quot;a55475b1&quot;</td><td>1</td><td>35</td><td>1.0</td><td>null</td><td>2020.0</td><td>null</td><td>&quot;a55475b1&quot;</td><td>&quot;a55475b1&quot;</td><td>0.022222</td><td>null</td><td>53.617779</td><td>null</td><td>0.022222</td><td>null</td><td>129368.976562</td><td>null</td><td>2019</td><td>8</td></tr><tr><td>1798686</td><td>202002</td><td>60</td><td>0</td><td>null</td><td>null</td><td>null</td><td>null</td><td>-11592</td><td>5.0</td><td>7.0</td><td>2.0</td><td>12.0</td><td>4.0</td><td>&quot;a55475b1&quot;</td><td>&quot;6b2ae0fa&quot;</td><td>&quot;a55475b1&quot;</td><td>9.0</td><td>6.0</td><td>&quot;3439d993&quot;</td><td>&quot;a55475b1&quot;</td><td>12.0</td><td>null</td><td>null</td><td>null</td><td>null</td><td>null</td><td>null</td><td>&quot;DEDUCTION_6&quot;</td><td>null</td><td>14</td><td>null</td><td>3.0</td><td>2.0</td><td>0.0</td><td>85319.804688</td><td>2509.600098</td><td>&hellip;</td><td>0.0</td><td>&quot;c7a5ad39&quot;</td><td>&quot;c7a5ad39&quot;</td><td>10</td><td>35</td><td>13.0</td><td>1583.0</td><td>12.0</td><td>12.0</td><td>4727.503906</td><td>43247.296875</td><td>2021.0</td><td>2021.0</td><td>&quot;ab3c25cf&quot;</td><td>&quot;ab3c25cf&quot;</td><td>&quot;a55475b1&quot;</td><td>&quot;a55475b1&quot;</td><td>&quot;a55475b1&quot;</td><td>&quot;a55475b1&quot;</td><td>10</td><td>11</td><td>null</td><td>1.0</td><td>null</td><td>2021.0</td><td>&quot;a55475b1&quot;</td><td>&quot;a55475b1&quot;</td><td>1.371429</td><td>717.837219</td><td>928.587891</td><td>17029.513672</td><td>11.416807</td><td>437757.71875</td><td>3.385189e6</td><td>3.07756256e8</td><td>2020</td><td>26</td></tr><tr><td>1818875</td><td>202003</td><td>63</td><td>0</td><td>null</td><td>null</td><td>null</td><td>null</td><td>-14289</td><td>0.0</td><td>0.0</td><td>0.0</td><td>4.0</td><td>0.0</td><td>&quot;a55475b1&quot;</td><td>&quot;a55475b1&quot;</td><td>&quot;a55475b1&quot;</td><td>0.0</td><td>0.0</td><td>&quot;a55475b1&quot;</td><td>&quot;a55475b1&quot;</td><td>4.0</td><td>null</td><td>null</td><td>null</td><td>null</td><td>null</td><td>null</td><td>&quot;DEDUCTION_6&quot;</td><td>null</td><td>14</td><td>null</td><td>0.0</td><td>5.0</td><td>4.0</td><td>36788.402344</td><td>1289.599976</td><td>&hellip;</td><td>0.0</td><td>&quot;c7a5ad39&quot;</td><td>&quot;c7a5ad39&quot;</td><td>0</td><td>35</td><td>0.0</td><td>969.0</td><td>12.0</td><td>12.0</td><td>0.0</td><td>109792.203125</td><td>2021.0</td><td>2019.0</td><td>&quot;ab3c25cf&quot;</td><td>&quot;ab3c25cf&quot;</td><td>&quot;a55475b1&quot;</td><td>&quot;a55475b1&quot;</td><td>&quot;a55475b1&quot;</td><td>&quot;a55475b1&quot;</td><td>0</td><td>35</td><td>null</td><td>1.0</td><td>null</td><td>2019.0</td><td>&quot;a55475b1&quot;</td><td>&quot;a55475b1&quot;</td><td>0.0</td><td>667.541687</td><td>0.0</td><td>60830.613281</td><td>0.0</td><td>37092.605469</td><td>0.0</td><td>1.1833e9</td><td>2020</td><td>17</td></tr><tr><td>711512</td><td>201906</td><td>23</td><td>0</td><td>null</td><td>null</td><td>-18120</td><td>null</td><td>-18120</td><td>0.0</td><td>0.0</td><td>0.0</td><td>0.0</td><td>0.0</td><td>&quot;a55475b1&quot;</td><td>&quot;a55475b1&quot;</td><td>&quot;a55475b1&quot;</td><td>0.0</td><td>0.0</td><td>&quot;a55475b1&quot;</td><td>&quot;a55475b1&quot;</td><td>0.0</td><td>null</td><td>null</td><td>null</td><td>null</td><td>0.0</td><td>0.0</td><td>null</td><td>14</td><td>null</td><td>null</td><td>0.0</td><td>0.0</td><td>null</td><td>null</td><td>2752.800049</td><td>&hellip;</td><td>6.149203e6</td><td>&quot;c7a5ad39&quot;</td><td>&quot;c7a5ad39&quot;</td><td>5</td><td>35</td><td>0.0</td><td>0.0</td><td>12.0</td><td>12.0</td><td>0.0</td><td>0.0</td><td>2020.0</td><td>2016.0</td><td>&quot;ab3c25cf&quot;</td><td>&quot;ab3c25cf&quot;</td><td>&quot;a55475b1&quot;</td><td>&quot;a55475b1&quot;</td><td>&quot;a55475b1&quot;</td><td>&quot;a55475b1&quot;</td><td>5</td><td>23</td><td>null</td><td>1.0</td><td>null</td><td>2012.0</td><td>&quot;a55475b1&quot;</td><td>&quot;a55475b1&quot;</td><td>0.0</td><td>0.0</td><td>0.0</td><td>0.0</td><td>0.0</td><td>0.0</td><td>0.0</td><td>0.0</td><td>2019</td><td>12</td></tr><tr><td>112214</td><td>201902</td><td>7</td><td>0</td><td>-1617</td><td>null</td><td>-22817</td><td>null</td><td>-22817</td><td>0.0</td><td>0.0</td><td>0.0</td><td>2.0</td><td>0.0</td><td>&quot;a55475b1&quot;</td><td>&quot;6b2ae0fa&quot;</td><td>&quot;a55475b1&quot;</td><td>0.0</td><td>0.0</td><td>&quot;b6cabe76&quot;</td><td>&quot;a55475b1&quot;</td><td>2.0</td><td>6907.133789</td><td>null</td><td>null</td><td>6.0</td><td>null</td><td>null</td><td>null</td><td>14</td><td>null</td><td>null</td><td>0.0</td><td>6.0</td><td>0.0</td><td>null</td><td>4683.399902</td><td>&hellip;</td><td>null</td><td>&quot;a55475b1&quot;</td><td>&quot;c7a5ad39&quot;</td><td>2</td><td>35</td><td>15.0</td><td>null</td><td>12.0</td><td>null</td><td>0.8</td><td>null</td><td>2020.0</td><td>null</td><td>&quot;a55475b1&quot;</td><td>&quot;ab3c25cf&quot;</td><td>&quot;a55475b1&quot;</td><td>&quot;a55475b1&quot;</td><td>&quot;a55475b1&quot;</td><td>&quot;a55475b1&quot;</td><td>2</td><td>23</td><td>1.0</td><td>null</td><td>2020.0</td><td>null</td><td>&quot;a55475b1&quot;</td><td>&quot;a55475b1&quot;</td><td>0.481481</td><td>null</td><td>0.02963</td><td>null</td><td>6.292103</td><td>null</td><td>0.023256</td><td>null</td><td>2019</td><td>20</td></tr><tr><td>1789254</td><td>202002</td><td>58</td><td>0</td><td>null</td><td>null</td><td>null</td><td>null</td><td>-10366</td><td>5.0</td><td>6.0</td><td>1.0</td><td>9.0</td><td>5.0</td><td>&quot;a55475b1&quot;</td><td>&quot;a55475b1&quot;</td><td>&quot;a55475b1&quot;</td><td>5.0</td><td>7.0</td><td>&quot;a55475b1&quot;</td><td>&quot;a55475b1&quot;</td><td>9.0</td><td>null</td><td>null</td><td>null</td><td>null</td><td>null</td><td>null</td><td>&quot;DEDUCTION_6&quot;</td><td>null</td><td>14</td><td>null</td><td>2.0</td><td>7.0</td><td>0.0</td><td>36605.589844</td><td>2945.600098</td><td>&hellip;</td><td>0.0</td><td>&quot;c7a5ad39&quot;</td><td>&quot;c7a5ad39&quot;</td><td>6</td><td>35</td><td>0.0</td><td>24.0</td><td>12.0</td><td>12.0</td><td>0.0</td><td>1281.800049</td><td>2021.0</td><td>2020.0</td><td>&quot;ab3c25cf&quot;</td><td>&quot;ab3c25cf&quot;</td><td>&quot;a55475b1&quot;</td><td>&quot;a55475b1&quot;</td><td>&quot;a55475b1&quot;</td><td>&quot;a55475b1&quot;</td><td>6</td><td>23</td><td>null</td><td>1.0</td><td>null</td><td>2020.0</td><td>&quot;a55475b1&quot;</td><td>&quot;a55475b1&quot;</td><td>0.0</td><td>1.463768</td><td>0.0</td><td>80.356522</td><td>0.0</td><td>21.164108</td><td>0.0</td><td>88686.59375</td><td>2020</td><td>17</td></tr></tbody></table></div>"
      ],
      "text/plain": [
       "shape: (10, 567)\n",
       "┌─────────┬────────┬──────────┬────────┬───┬─────────────────────┬────────────────────┬──────┬─────┐\n",
       "│ case_id ┆ month  ┆ week_num ┆ target ┆ … ┆ var_pmts_overdue_11 ┆ var_pmts_overdue_1 ┆ year ┆ day │\n",
       "│ ---     ┆ ---    ┆ ---      ┆ ---    ┆   ┆ 40A                 ┆ 152A               ┆ ---  ┆ --- │\n",
       "│ u32     ┆ u32    ┆ u8       ┆ u8     ┆   ┆ ---                 ┆ ---                ┆ u16  ┆ u8  │\n",
       "│         ┆        ┆          ┆        ┆   ┆ f32                 ┆ f32                ┆      ┆     │\n",
       "╞═════════╪════════╪══════════╪════════╪═══╪═════════════════════╪════════════════════╪══════╪═════╡\n",
       "│ 1351709 ┆ 201904 ┆ 16       ┆ 0      ┆ … ┆ 0.0                 ┆ null               ┆ 2019 ┆ 26  │\n",
       "│ 1391295 ┆ 201906 ┆ 22       ┆ 0      ┆ … ┆ 0.0                 ┆ 1.8484e6           ┆ 2019 ┆ 7   │\n",
       "│ 1592107 ┆ 201910 ┆ 41       ┆ 0      ┆ … ┆ 0.0                 ┆ 0.0                ┆ 2019 ┆ 21  │\n",
       "│ 253257  ┆ 202009 ┆ 89       ┆ 0      ┆ … ┆ 5.114673e6          ┆ 39758.21875        ┆ 2020 ┆ 15  │\n",
       "│ 736158  ┆ 201907 ┆ 26       ┆ 0      ┆ … ┆ 129368.976562       ┆ null               ┆ 2019 ┆ 8   │\n",
       "│ 1798686 ┆ 202002 ┆ 60       ┆ 0      ┆ … ┆ 3.385189e6          ┆ 3.07756256e8       ┆ 2020 ┆ 26  │\n",
       "│ 1818875 ┆ 202003 ┆ 63       ┆ 0      ┆ … ┆ 0.0                 ┆ 1.1833e9           ┆ 2020 ┆ 17  │\n",
       "│ 711512  ┆ 201906 ┆ 23       ┆ 0      ┆ … ┆ 0.0                 ┆ 0.0                ┆ 2019 ┆ 12  │\n",
       "│ 112214  ┆ 201902 ┆ 7        ┆ 0      ┆ … ┆ 0.023256            ┆ null               ┆ 2019 ┆ 20  │\n",
       "│ 1789254 ┆ 202002 ┆ 58       ┆ 0      ┆ … ┆ 0.0                 ┆ 88686.59375        ┆ 2020 ┆ 17  │\n",
       "└─────────┴────────┴──────────┴────────┴───┴─────────────────────┴────────────────────┴──────┴─────┘"
      ]
     },
     "metadata": {},
     "output_type": "display_data"
    },
    {
     "name": "stdout",
     "output_type": "stream",
     "text": [
      "CPU times: user 3min 11s, sys: 47.8 s, total: 3min 58s\n",
      "Wall time: 24.8 s\n"
     ]
    }
   ],
   "source": [
    "%%time\n",
    "\n",
    "data_store: dict = {\n",
    "    \"df_base\": SchemaGen.scan_files(os.path.join(TRAIN_DIR, \"train_base.parquet\")),\n",
    "    \"depth_0\": [\n",
    "        SchemaGen.scan_files(os.path.join(TRAIN_DIR, \"train_static_cb_0.parquet\")),\n",
    "        SchemaGen.scan_files(os.path.join(TRAIN_DIR, \"train_static_0_*.parquet\")),\n",
    "    ],\n",
    "    \"depth_1\": [\n",
    "        SchemaGen.scan_files(os.path.join(TRAIN_DIR, \"train_applprev_1_*.parquet\"), 1),\n",
    "        SchemaGen.scan_files(os.path.join(TRAIN_DIR, \"train_tax_registry_a_1.parquet\"), 1),\n",
    "        SchemaGen.scan_files(os.path.join(TRAIN_DIR, \"train_tax_registry_b_1.parquet\"), 1),\n",
    "        SchemaGen.scan_files(os.path.join(TRAIN_DIR, \"train_tax_registry_c_1.parquet\"), 1),\n",
    "        SchemaGen.scan_files(os.path.join(TRAIN_DIR, \"train_credit_bureau_a_1_*.parquet\"), 1),\n",
    "        SchemaGen.scan_files(os.path.join(TRAIN_DIR, \"train_credit_bureau_b_1.parquet\"), 1),\n",
    "        SchemaGen.scan_files(os.path.join(TRAIN_DIR, \"train_other_1.parquet\"), 1),\n",
    "        SchemaGen.scan_files(os.path.join(TRAIN_DIR, \"train_person_1.parquet\"), 1),\n",
    "        SchemaGen.scan_files(os.path.join(TRAIN_DIR, \"train_deposit_1.parquet\"), 1),\n",
    "        SchemaGen.scan_files(os.path.join(TRAIN_DIR, \"train_debitcard_1.parquet\"), 1),\n",
    "    ],\n",
    "    \"depth_2\": [\n",
    "        SchemaGen.scan_files(os.path.join(TRAIN_DIR, \"train_credit_bureau_a_2_*.parquet\"), 2),\n",
    "        SchemaGen.scan_files(os.path.join(TRAIN_DIR, \"train_credit_bureau_b_2.parquet\"), 2),\n",
    "    ],\n",
    "}\n",
    "\n",
    "train_df: pl.LazyFrame = (\n",
    "    SchemaGen.join_dataframes(**data_store)\n",
    "    .pipe(Pipeline.filter_cols)\n",
    "    .pipe(Pipeline.transform_cols)\n",
    "    .pipe(Pipeline.handle_dates)\n",
    "    .pipe(Utility.reduce_memory_usage, \"train_df\")\n",
    ")\n",
    "\n",
    "del data_store\n",
    "gc.collect()\n",
    "\n",
    "print(f\"Train data shape: {train_df.shape}\")\n",
    "display(train_df.head(10))"
   ]
  },
  {
   "cell_type": "code",
   "execution_count": 8,
   "metadata": {},
   "outputs": [],
   "source": [
    "train_df, cat_cols = Utility.to_pandas(train_df)"
   ]
  },
  {
   "cell_type": "markdown",
   "metadata": {},
   "source": [
    "### Train"
   ]
  },
  {
   "cell_type": "code",
   "execution_count": 9,
   "metadata": {},
   "outputs": [],
   "source": [
    "device: str = \"gpu\"\n",
    "iterations: int = 6000\n",
    "\n",
    "if DRY_RUN:\n",
    "    device = \"cpu\"\n",
    "    train_df = train_df.iloc[:50000]\n",
    "    iterations: int = 600"
   ]
  },
  {
   "cell_type": "code",
   "execution_count": 10,
   "metadata": {},
   "outputs": [],
   "source": [
    "X = train_df.drop(columns=[\"target\", \"case_id\", \"week_num\"])\n",
    "y = train_df[\"target\"]\n",
    "weeks = train_df[\"week_num\"]\n",
    "\n",
    "del train_df\n",
    "gc.collect()\n",
    "\n",
    "cv = StratifiedGroupKFold(n_splits=5, shuffle=True, random_state=42)"
   ]
  },
  {
   "cell_type": "code",
   "execution_count": 11,
   "metadata": {},
   "outputs": [],
   "source": [
    "automl_params = {\n",
    "    \"N_THREADS\": 8,\n",
    "    \"RANDOM_STATE\": 42,\n",
    "    \"TASK\": \"binary\",\n",
    "    \"TIMEOUT\": 10000,\n",
    "    \"ADVANCED_ROLES\": False,\n",
    "    \"USE_QNT\": True,\n",
    "    \"USE_PLR\": False,\n",
    "    \"TRAIN_BS\": 512,\n",
    "}"
   ]
  },
  {
   "cell_type": "code",
   "execution_count": 16,
   "metadata": {},
   "outputs": [
    {
     "ename": "TypeError",
     "evalue": "'numpy.uint8' object is not iterable",
     "output_type": "error",
     "traceback": [
      "\u001b[0;31m---------------------------------------------------------------------------\u001b[0m",
      "\u001b[0;31mTypeError\u001b[0m                                 Traceback (most recent call last)",
      "File \u001b[0;32m<timed exec>:27\u001b[0m\n",
      "File \u001b[0;32m/opt/conda/lib/python3.10/site-packages/lightautoml/automl/presets/tabular_presets.py:721\u001b[0m, in \u001b[0;36mTabularAutoML.fit_predict\u001b[0;34m(self, train_data, roles, train_features, cv_iter, valid_data, valid_features, log_file, verbose)\u001b[0m\n\u001b[1;32m    718\u001b[0m \u001b[38;5;28;01mif\u001b[39;00m \u001b[38;5;28mself\u001b[39m\u001b[38;5;241m.\u001b[39mis_time_series:\n\u001b[1;32m    719\u001b[0m     train \u001b[38;5;241m=\u001b[39m {\u001b[38;5;124m\"\u001b[39m\u001b[38;5;124mseq\u001b[39m\u001b[38;5;124m\"\u001b[39m: {\u001b[38;5;124m\"\u001b[39m\u001b[38;5;124mseq0\u001b[39m\u001b[38;5;124m\"\u001b[39m: train}}\n\u001b[0;32m--> 721\u001b[0m oof_pred \u001b[38;5;241m=\u001b[39m \u001b[38;5;28;43msuper\u001b[39;49m\u001b[43m(\u001b[49m\u001b[43m)\u001b[49m\u001b[38;5;241;43m.\u001b[39;49m\u001b[43mfit_predict\u001b[49m\u001b[43m(\u001b[49m\u001b[43mtrain\u001b[49m\u001b[43m,\u001b[49m\u001b[43m \u001b[49m\u001b[43mroles\u001b[49m\u001b[38;5;241;43m=\u001b[39;49m\u001b[43mroles\u001b[49m\u001b[43m,\u001b[49m\u001b[43m \u001b[49m\u001b[43mcv_iter\u001b[49m\u001b[38;5;241;43m=\u001b[39;49m\u001b[43mcv_iter\u001b[49m\u001b[43m,\u001b[49m\u001b[43m \u001b[49m\u001b[43mvalid_data\u001b[49m\u001b[38;5;241;43m=\u001b[39;49m\u001b[43mvalid_data\u001b[49m\u001b[43m,\u001b[49m\u001b[43m \u001b[49m\u001b[43mverbose\u001b[49m\u001b[38;5;241;43m=\u001b[39;49m\u001b[43mverbose\u001b[49m\u001b[43m)\u001b[49m\n\u001b[1;32m    723\u001b[0m \u001b[38;5;28;01mreturn\u001b[39;00m cast(NumpyDataset, oof_pred)\n",
      "File \u001b[0;32m/opt/conda/lib/python3.10/site-packages/lightautoml/automl/presets/base.py:208\u001b[0m, in \u001b[0;36mAutoMLPreset.fit_predict\u001b[0;34m(self, train_data, roles, train_features, cv_iter, valid_data, valid_features, verbose)\u001b[0m\n\u001b[1;32m    205\u001b[0m logger\u001b[38;5;241m.\u001b[39minfo(\u001b[38;5;124mf\u001b[39m\u001b[38;5;124m\"\u001b[39m\u001b[38;5;124m- memory: \u001b[39m\u001b[38;5;132;01m{\u001b[39;00m\u001b[38;5;28mself\u001b[39m\u001b[38;5;241m.\u001b[39mmemory_limit\u001b[38;5;132;01m}\u001b[39;00m\u001b[38;5;124m GB\u001b[39m\u001b[38;5;130;01m\\n\u001b[39;00m\u001b[38;5;124m\"\u001b[39m)\n\u001b[1;32m    207\u001b[0m \u001b[38;5;28mself\u001b[39m\u001b[38;5;241m.\u001b[39mtimer\u001b[38;5;241m.\u001b[39mstart()\n\u001b[0;32m--> 208\u001b[0m result \u001b[38;5;241m=\u001b[39m \u001b[38;5;28;43msuper\u001b[39;49m\u001b[43m(\u001b[49m\u001b[43m)\u001b[49m\u001b[38;5;241;43m.\u001b[39;49m\u001b[43mfit_predict\u001b[49m\u001b[43m(\u001b[49m\n\u001b[1;32m    209\u001b[0m \u001b[43m    \u001b[49m\u001b[43mtrain_data\u001b[49m\u001b[43m,\u001b[49m\n\u001b[1;32m    210\u001b[0m \u001b[43m    \u001b[49m\u001b[43mroles\u001b[49m\u001b[43m,\u001b[49m\n\u001b[1;32m    211\u001b[0m \u001b[43m    \u001b[49m\u001b[43mtrain_features\u001b[49m\u001b[43m,\u001b[49m\n\u001b[1;32m    212\u001b[0m \u001b[43m    \u001b[49m\u001b[43mcv_iter\u001b[49m\u001b[43m,\u001b[49m\n\u001b[1;32m    213\u001b[0m \u001b[43m    \u001b[49m\u001b[43mvalid_data\u001b[49m\u001b[43m,\u001b[49m\n\u001b[1;32m    214\u001b[0m \u001b[43m    \u001b[49m\u001b[43mvalid_features\u001b[49m\u001b[43m,\u001b[49m\n\u001b[1;32m    215\u001b[0m \u001b[43m    \u001b[49m\u001b[43mverbose\u001b[49m\u001b[38;5;241;43m=\u001b[39;49m\u001b[43mverbose\u001b[49m\u001b[43m,\u001b[49m\n\u001b[1;32m    216\u001b[0m \u001b[43m\u001b[49m\u001b[43m)\u001b[49m\n\u001b[1;32m    218\u001b[0m logger\u001b[38;5;241m.\u001b[39minfo(\u001b[38;5;124m\"\u001b[39m\u001b[38;5;130;01m\\x1b\u001b[39;00m\u001b[38;5;124m[1mAutoml preset training completed in \u001b[39m\u001b[38;5;132;01m{:.2f}\u001b[39;00m\u001b[38;5;124m seconds\u001b[39m\u001b[38;5;130;01m\\x1b\u001b[39;00m\u001b[38;5;124m[0m\u001b[39m\u001b[38;5;130;01m\\n\u001b[39;00m\u001b[38;5;124m\"\u001b[39m\u001b[38;5;241m.\u001b[39mformat(\u001b[38;5;28mself\u001b[39m\u001b[38;5;241m.\u001b[39mtimer\u001b[38;5;241m.\u001b[39mtime_spent))\n\u001b[1;32m    219\u001b[0m logger\u001b[38;5;241m.\u001b[39minfo(\u001b[38;5;124mf\u001b[39m\u001b[38;5;124m\"\u001b[39m\u001b[38;5;124mModel description:\u001b[39m\u001b[38;5;130;01m\\n\u001b[39;00m\u001b[38;5;132;01m{\u001b[39;00m\u001b[38;5;28mself\u001b[39m\u001b[38;5;241m.\u001b[39mcreate_model_str_desc()\u001b[38;5;132;01m}\u001b[39;00m\u001b[38;5;130;01m\\n\u001b[39;00m\u001b[38;5;124m\"\u001b[39m)\n",
      "File \u001b[0;32m/opt/conda/lib/python3.10/site-packages/lightautoml/automl/base.py:186\u001b[0m, in \u001b[0;36mAutoML.fit_predict\u001b[0;34m(self, train_data, roles, train_features, cv_iter, valid_data, valid_features, verbose)\u001b[0m\n\u001b[1;32m    184\u001b[0m set_stdout_level(verbosity_to_loglevel(verbose))\n\u001b[1;32m    185\u001b[0m \u001b[38;5;28mself\u001b[39m\u001b[38;5;241m.\u001b[39mtimer\u001b[38;5;241m.\u001b[39mstart()\n\u001b[0;32m--> 186\u001b[0m train_dataset \u001b[38;5;241m=\u001b[39m \u001b[38;5;28;43mself\u001b[39;49m\u001b[38;5;241;43m.\u001b[39;49m\u001b[43mreader\u001b[49m\u001b[38;5;241;43m.\u001b[39;49m\u001b[43mfit_read\u001b[49m\u001b[43m(\u001b[49m\u001b[43mtrain_data\u001b[49m\u001b[43m,\u001b[49m\u001b[43m \u001b[49m\u001b[43mtrain_features\u001b[49m\u001b[43m,\u001b[49m\u001b[43m \u001b[49m\u001b[43mroles\u001b[49m\u001b[43m)\u001b[49m\n\u001b[1;32m    188\u001b[0m \u001b[38;5;28;01massert\u001b[39;00m (\n\u001b[1;32m    189\u001b[0m     \u001b[38;5;28mlen\u001b[39m(\u001b[38;5;28mself\u001b[39m\u001b[38;5;241m.\u001b[39m_levels) \u001b[38;5;241m<\u001b[39m\u001b[38;5;241m=\u001b[39m \u001b[38;5;241m1\u001b[39m \u001b[38;5;129;01mor\u001b[39;00m train_dataset\u001b[38;5;241m.\u001b[39mfolds \u001b[38;5;129;01mis\u001b[39;00m \u001b[38;5;129;01mnot\u001b[39;00m \u001b[38;5;28;01mNone\u001b[39;00m\n\u001b[1;32m    190\u001b[0m ), \u001b[38;5;124m\"\u001b[39m\u001b[38;5;124mNot possible to fit more than 1 level without cv folds\u001b[39m\u001b[38;5;124m\"\u001b[39m\n\u001b[1;32m    192\u001b[0m \u001b[38;5;28;01massert\u001b[39;00m (\n\u001b[1;32m    193\u001b[0m     \u001b[38;5;28mlen\u001b[39m(\u001b[38;5;28mself\u001b[39m\u001b[38;5;241m.\u001b[39m_levels) \u001b[38;5;241m<\u001b[39m\u001b[38;5;241m=\u001b[39m \u001b[38;5;241m1\u001b[39m \u001b[38;5;129;01mor\u001b[39;00m valid_data \u001b[38;5;129;01mis\u001b[39;00m \u001b[38;5;28;01mNone\u001b[39;00m\n\u001b[1;32m    194\u001b[0m ), \u001b[38;5;124m\"\u001b[39m\u001b[38;5;124mNot possible to fit more than 1 level with holdout validation\u001b[39m\u001b[38;5;124m\"\u001b[39m\n",
      "File \u001b[0;32m/opt/conda/lib/python3.10/site-packages/lightautoml/reader/base.py:285\u001b[0m, in \u001b[0;36mPandasToPandasReader.fit_read\u001b[0;34m(self, train_data, features_names, roles, **kwargs)\u001b[0m\n\u001b[1;32m    282\u001b[0m     roles \u001b[38;5;241m=\u001b[39m {}\n\u001b[1;32m    283\u001b[0m \u001b[38;5;66;03m# transform roles from user format {RoleX: ['feat0', 'feat1', ...], RoleY: 'TARGET', ....}\u001b[39;00m\n\u001b[1;32m    284\u001b[0m \u001b[38;5;66;03m# to automl format {'feat0': RoleX, 'feat1': RoleX, 'TARGET': RoleY, ...}\u001b[39;00m\n\u001b[0;32m--> 285\u001b[0m parsed_roles \u001b[38;5;241m=\u001b[39m \u001b[43mroles_parser\u001b[49m\u001b[43m(\u001b[49m\u001b[43mroles\u001b[49m\u001b[43m)\u001b[49m\n\u001b[1;32m    286\u001b[0m \u001b[38;5;66;03m# transform str role definition to automl ColumnRole\u001b[39;00m\n\u001b[1;32m    287\u001b[0m attrs_dict \u001b[38;5;241m=\u001b[39m \u001b[38;5;28mdict\u001b[39m(\u001b[38;5;28mzip\u001b[39m(array_attr_roles, valid_array_attributes))\n",
      "File \u001b[0;32m/opt/conda/lib/python3.10/site-packages/lightautoml/dataset/utils.py:43\u001b[0m, in \u001b[0;36mroles_parser\u001b[0;34m(init_roles)\u001b[0m\n\u001b[1;32m     40\u001b[0m         roles[feat] \u001b[38;5;241m=\u001b[39m r\n\u001b[1;32m     42\u001b[0m     \u001b[38;5;28;01melse\u001b[39;00m:\n\u001b[0;32m---> 43\u001b[0m         \u001b[38;5;28;01mfor\u001b[39;00m f \u001b[38;5;129;01min\u001b[39;00m init_roles[r]:\n\u001b[1;32m     44\u001b[0m             roles[f] \u001b[38;5;241m=\u001b[39m r\n\u001b[1;32m     46\u001b[0m \u001b[38;5;28;01mreturn\u001b[39;00m roles\n",
      "\u001b[0;31mTypeError\u001b[0m: 'numpy.uint8' object is not iterable"
     ]
    }
   ],
   "source": [
    "%%time\n",
    "\n",
    "fitted_models_automl = []\n",
    "cv_scores_automl = []\n",
    "\n",
    "iterator = 0\n",
    "for idx_train, idx_valid in cv.split(X, y, groups=weeks):\n",
    "    X_train, y_train = X.iloc[idx_train], y.iloc[idx_train]\n",
    "    X_valid, y_valid = X.iloc[idx_valid], y.iloc[idx_valid]\n",
    "\n",
    "    train_data = TabularDataset(X_train)\n",
    "    valid_data = TabularDataset(X_valid)\n",
    "\n",
    "    ##########\n",
    "    # AutoML #\n",
    "    ##########\n",
    "    model = TabularPredictor(\n",
    "        label=\"target\",\n",
    "        problem_type=\"binary\",\n",
    "        eval_metric=\"roc_auc\",\n",
    "        path=\"predictor\",\n",
    "    )\n",
    "\n",
    "    # モデルのトレーニングと予測\n",
    "    oof_pred = model.fit_predict(X_train, y_train)\n",
    "    y_pred_valid = model.predict(X_valid).data[:, 0]\n",
    "\n",
    "    # AUCスコアの計算\n",
    "    auc_score = roc_auc_score(y_valid, y_pred_valid)\n",
    "\n",
    "    fitted_models_automl.append(model)\n",
    "    cv_scores_automl.append(auc_score)\n",
    "\n",
    "    iterator += 1\n",
    "\n",
    "print(\"CV AUC scores for CatBoost: \", cv_scores_cat)\n",
    "print(\"Maximum CV AUC score for CatBoost: \", max(cv_scores_cat))\n",
    "\n",
    "print(\"CV AUC scores for LGBM: \", cv_scores_lgb)\n",
    "print(\"Maximum CV AUC score for LGBM: \", max(cv_scores_lgb))\n",
    "\n",
    "print(\"CV AUC scores for XGB: \", cv_scores_xgb)\n",
    "print(\"Maximum CV AUC score for XGB: \", max(cv_scores_xgb))"
   ]
  },
  {
   "cell_type": "markdown",
   "metadata": {},
   "source": [
    "### Ensemble"
   ]
  },
  {
   "cell_type": "code",
   "execution_count": null,
   "metadata": {},
   "outputs": [],
   "source": [
    "from src.models.voting_model import VotingModel\n",
    "\n",
    "model = VotingModel(fitted_models_cat+fitted_models_lgb+fitted_models_xgb)"
   ]
  },
  {
   "cell_type": "code",
   "execution_count": null,
   "metadata": {},
   "outputs": [],
   "source": [
    "with open('voting_model.pkl', 'wb') as f:\n",
    "    pickle.dump(model, f)"
   ]
  },
  {
   "cell_type": "code",
   "execution_count": null,
   "metadata": {},
   "outputs": [],
   "source": []
  }
 ],
 "metadata": {
  "kernelspec": {
   "display_name": "Python 3 (ipykernel)",
   "language": "python",
   "name": "python3"
  }
 },
 "nbformat": 4,
 "nbformat_minor": 2
}
