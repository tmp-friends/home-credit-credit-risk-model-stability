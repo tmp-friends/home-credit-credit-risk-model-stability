{
 "cells": [
  {
   "cell_type": "markdown",
   "id": "6b6f8d9e",
   "metadata": {
    "papermill": {
     "duration": 0.005495,
     "end_time": "2024-05-21T00:02:59.465327",
     "exception": false,
     "start_time": "2024-05-21T00:02:59.459832",
     "status": "completed"
    },
    "tags": []
   },
   "source": [
    "## Baseline - Infer\n",
    "\n",
    "※ Kaggle notebookのみで動かす\n",
    "\n",
    "https://www.kaggle.com/code/pxcai666/catboost-lightgbm-ensemble/notebook"
   ]
  },
  {
   "cell_type": "markdown",
   "id": "0ec4e832",
   "metadata": {
    "papermill": {
     "duration": 0.004551,
     "end_time": "2024-05-21T00:02:59.474794",
     "exception": false,
     "start_time": "2024-05-21T00:02:59.470243",
     "status": "completed"
    },
    "tags": []
   },
   "source": [
    "### Configuration"
   ]
  },
  {
   "cell_type": "code",
   "execution_count": 1,
   "id": "2eb5084a",
   "metadata": {
    "execution": {
     "iopub.execute_input": "2024-05-21T00:02:59.485638Z",
     "iopub.status.busy": "2024-05-21T00:02:59.485328Z",
     "iopub.status.idle": "2024-05-21T00:03:05.380212Z",
     "shell.execute_reply": "2024-05-21T00:03:05.379348Z"
    },
    "papermill": {
     "duration": 5.903094,
     "end_time": "2024-05-21T00:03:05.382647",
     "exception": false,
     "start_time": "2024-05-21T00:02:59.479553",
     "status": "completed"
    },
    "tags": []
   },
   "outputs": [],
   "source": [
    "import sys\n",
    "from pathlib import Path\n",
    "import subprocess\n",
    "import os\n",
    "import gc\n",
    "from glob import glob\n",
    "import pickle\n",
    "\n",
    "import numpy as np\n",
    "import pandas as pd\n",
    "import polars as pl\n",
    "from datetime import datetime\n",
    "import seaborn as sns\n",
    "import matplotlib.pyplot as plt\n",
    "\n",
    "from sklearn.model_selection import TimeSeriesSplit, GroupKFold, StratifiedGroupKFold\n",
    "from sklearn.base import BaseEstimator, RegressorMixin\n",
    "from sklearn.metrics import roc_auc_score\n",
    "from catboost import CatBoostClassifier, Pool\n",
    "import lightgbm as lgb\n",
    "\n",
    "from imblearn.over_sampling import SMOTE\n",
    "from sklearn.preprocessing import OrdinalEncoder\n",
    "from sklearn.impute import KNNImputer"
   ]
  },
  {
   "cell_type": "code",
   "execution_count": 2,
   "id": "7894557f",
   "metadata": {
    "execution": {
     "iopub.execute_input": "2024-05-21T00:03:05.394521Z",
     "iopub.status.busy": "2024-05-21T00:03:05.393903Z",
     "iopub.status.idle": "2024-05-21T00:03:05.398266Z",
     "shell.execute_reply": "2024-05-21T00:03:05.397364Z"
    },
    "papermill": {
     "duration": 0.012175,
     "end_time": "2024-05-21T00:03:05.400226",
     "exception": false,
     "start_time": "2024-05-21T00:03:05.388051",
     "status": "completed"
    },
    "tags": []
   },
   "outputs": [],
   "source": [
    "# Kaggle\n",
    "sys.path.append('/kaggle/input/home-credit-crms-repo')"
   ]
  },
  {
   "cell_type": "code",
   "execution_count": 3,
   "id": "9acb4a42",
   "metadata": {
    "execution": {
     "iopub.execute_input": "2024-05-21T00:03:05.411210Z",
     "iopub.status.busy": "2024-05-21T00:03:05.410700Z",
     "iopub.status.idle": "2024-05-21T00:03:05.415190Z",
     "shell.execute_reply": "2024-05-21T00:03:05.414295Z"
    },
    "papermill": {
     "duration": 0.012233,
     "end_time": "2024-05-21T00:03:05.417251",
     "exception": false,
     "start_time": "2024-05-21T00:03:05.405018",
     "status": "completed"
    },
    "tags": []
   },
   "outputs": [],
   "source": [
    "ROOT = \"/kaggle/input/home-credit-credit-risk-model-stability\"\n",
    "\n",
    "TRAIN_DIR = os.path.join(ROOT, \"parquet_files\", \"train\")\n",
    "TEST_DIR = os.path.join(ROOT, \"parquet_files\", \"test\")"
   ]
  },
  {
   "cell_type": "markdown",
   "id": "a2759003",
   "metadata": {
    "papermill": {
     "duration": 0.004881,
     "end_time": "2024-05-21T00:03:05.427313",
     "exception": false,
     "start_time": "2024-05-21T00:03:05.422432",
     "status": "completed"
    },
    "tags": []
   },
   "source": [
    "### Def utility classes"
   ]
  },
  {
   "cell_type": "code",
   "execution_count": 4,
   "id": "ffa30a2f",
   "metadata": {
    "execution": {
     "iopub.execute_input": "2024-05-21T00:03:05.438158Z",
     "iopub.status.busy": "2024-05-21T00:03:05.437888Z",
     "iopub.status.idle": "2024-05-21T00:03:05.474746Z",
     "shell.execute_reply": "2024-05-21T00:03:05.473994Z"
    },
    "papermill": {
     "duration": 0.044668,
     "end_time": "2024-05-21T00:03:05.476719",
     "exception": false,
     "start_time": "2024-05-21T00:03:05.432051",
     "status": "completed"
    },
    "tags": []
   },
   "outputs": [],
   "source": [
    "from src.utils.utility import Utility\n",
    "from src.utils.schema_gen import SchemaGen\n",
    "from src.utils.pipeline import Pipeline\n",
    "from src.utils.aggregator import Aggregator"
   ]
  },
  {
   "cell_type": "markdown",
   "id": "b484045a",
   "metadata": {
    "papermill": {
     "duration": 0.00458,
     "end_time": "2024-05-21T00:03:05.486210",
     "exception": false,
     "start_time": "2024-05-21T00:03:05.481630",
     "status": "completed"
    },
    "tags": []
   },
   "source": [
    "### Read train data"
   ]
  },
  {
   "cell_type": "code",
   "execution_count": 5,
   "id": "b7ba547c",
   "metadata": {
    "execution": {
     "iopub.execute_input": "2024-05-21T00:03:05.496789Z",
     "iopub.status.busy": "2024-05-21T00:03:05.496318Z",
     "iopub.status.idle": "2024-05-21T00:05:23.656869Z",
     "shell.execute_reply": "2024-05-21T00:05:23.655969Z"
    },
    "papermill": {
     "duration": 138.168991,
     "end_time": "2024-05-21T00:05:23.659833",
     "exception": false,
     "start_time": "2024-05-21T00:03:05.490842",
     "status": "completed"
    },
    "tags": []
   },
   "outputs": [
    {
     "name": "stdout",
     "output_type": "stream",
     "text": [
      "File train_base loaded into memory.\n",
      "File train_static_cb_0 loaded into memory.\n",
      "File train_static_0_0 loaded into memory.\n",
      "File train_static_0_1 loaded into memory.\n",
      "File train_applprev_1_1 loaded into memory.\n",
      "File train_applprev_1_0 loaded into memory.\n",
      "File train_tax_registry_a_1 loaded into memory.\n",
      "File train_tax_registry_b_1 loaded into memory.\n",
      "File train_tax_registry_c_1 loaded into memory.\n",
      "File train_credit_bureau_a_1_3 loaded into memory.\n",
      "File train_credit_bureau_a_1_2 loaded into memory.\n",
      "File train_credit_bureau_a_1_0 loaded into memory.\n",
      "File train_credit_bureau_a_1_1 loaded into memory.\n",
      "File train_credit_bureau_b_1 loaded into memory.\n",
      "File train_other_1 loaded into memory.\n",
      "File train_person_1 loaded into memory.\n",
      "File train_deposit_1 loaded into memory.\n",
      "File train_debitcard_1 loaded into memory.\n",
      "File train_credit_bureau_a_2_6 loaded into memory.\n",
      "File train_credit_bureau_a_2_1 loaded into memory.\n",
      "File train_credit_bureau_a_2_0 loaded into memory.\n",
      "File train_credit_bureau_a_2_7 loaded into memory.\n",
      "File train_credit_bureau_a_2_5 loaded into memory.\n",
      "File train_credit_bureau_a_2_2 loaded into memory.\n",
      "File train_credit_bureau_a_2_4 loaded into memory.\n",
      "File train_credit_bureau_a_2_9 loaded into memory.\n",
      "File train_credit_bureau_a_2_3 loaded into memory.\n",
      "File train_credit_bureau_a_2_10 loaded into memory.\n",
      "File train_credit_bureau_a_2_8 loaded into memory.\n",
      "File train_credit_bureau_b_2 loaded into memory.\n",
      "Memory usage of dataframe \"train_df\" is 6783.1317 MB.\n",
      "Memory usage of dataframe \"train_df\" became 4174.0953 MB.\n",
      "Memory usage of dataframe \"train_df\" is 2870.9171 MB.\n",
      "Memory usage of dataframe \"train_df\" became 2665.6302 MB.\n",
      "Train data shape: (1526659, 472)\n"
     ]
    },
    {
     "data": {
      "text/html": [
       "<div><style>\n",
       ".dataframe > thead > tr,\n",
       ".dataframe > tbody > tr {\n",
       "  text-align: right;\n",
       "  white-space: pre-wrap;\n",
       "}\n",
       "</style>\n",
       "<small>shape: (10, 472)</small><table border=\"1\" class=\"dataframe\"><thead><tr><th>case_id</th><th>month</th><th>week_num</th><th>target</th><th>assignmentdate_238D</th><th>assignmentdate_4527235D</th><th>birthdate_574D</th><th>contractssum_5085716L</th><th>dateofbirth_337D</th><th>days120_123L</th><th>days180_256L</th><th>days30_165L</th><th>days360_512L</th><th>days90_310L</th><th>description_5085714M</th><th>education_1103M</th><th>education_88M</th><th>firstquarter_103L</th><th>fourthquarter_440L</th><th>maritalst_385M</th><th>maritalst_893M</th><th>numberofqueries_373L</th><th>pmtaverage_3A</th><th>pmtaverage_4527227A</th><th>pmtcount_4527229L</th><th>pmtcount_693L</th><th>pmtscount_423L</th><th>pmtssum_45A</th><th>requesttype_4525192L</th><th>responsedate_1012D</th><th>responsedate_4527233D</th><th>responsedate_4917613D</th><th>secondquarter_766L</th><th>thirdquarter_1082L</th><th>actualdpdtolerance_344P</th><th>amtinstpaidbefduel24m_4187115A</th><th>annuity_780A</th><th>&hellip;</th><th>mean_mainoccupationinc_384A</th><th>max_amount_416A</th><th>max_num_group1_10</th><th>max_openingdate_313D</th><th>mean_amount_416A</th><th>mean_openingdate_313D</th><th>max_num_group1_11</th><th>max_openingdate_857D</th><th>mean_openingdate_857D</th><th>max_collater_typofvalofguarant_298M</th><th>max_collater_typofvalofguarant_407M</th><th>max_collater_valueofguarantee_1124L</th><th>max_collater_valueofguarantee_876L</th><th>max_collaterals_typeofguarante_359M</th><th>max_collaterals_typeofguarante_669M</th><th>max_num_group1_12</th><th>max_num_group2</th><th>max_pmts_dpd_1073P</th><th>max_pmts_dpd_303P</th><th>max_pmts_month_158T</th><th>max_pmts_month_706T</th><th>max_pmts_overdue_1140A</th><th>max_pmts_overdue_1152A</th><th>max_pmts_year_1139T</th><th>max_pmts_year_507T</th><th>max_subjectroles_name_541M</th><th>max_subjectroles_name_838M</th><th>mean_pmts_dpd_1073P</th><th>mean_pmts_dpd_303P</th><th>mean_pmts_overdue_1140A</th><th>mean_pmts_overdue_1152A</th><th>var_pmts_dpd_1073P</th><th>var_pmts_dpd_303P</th><th>var_pmts_overdue_1140A</th><th>var_pmts_overdue_1152A</th><th>year</th><th>day</th></tr><tr><td>u32</td><td>u32</td><td>u8</td><td>u8</td><td>i16</td><td>u8</td><td>i16</td><td>f32</td><td>i32</td><td>f32</td><td>f32</td><td>f32</td><td>f32</td><td>f32</td><td>str</td><td>str</td><td>str</td><td>f32</td><td>f32</td><td>str</td><td>str</td><td>f32</td><td>f32</td><td>f32</td><td>f32</td><td>f32</td><td>f32</td><td>f32</td><td>str</td><td>i8</td><td>u8</td><td>i8</td><td>f32</td><td>f32</td><td>f32</td><td>f32</td><td>f32</td><td>&hellip;</td><td>f32</td><td>f32</td><td>u8</td><td>i16</td><td>f32</td><td>i16</td><td>u8</td><td>i16</td><td>i16</td><td>str</td><td>str</td><td>f32</td><td>f32</td><td>str</td><td>str</td><td>u16</td><td>u8</td><td>f32</td><td>f32</td><td>f32</td><td>f32</td><td>f32</td><td>f32</td><td>f32</td><td>f32</td><td>str</td><td>str</td><td>f32</td><td>f32</td><td>f32</td><td>f32</td><td>f32</td><td>f32</td><td>f32</td><td>f32</td><td>u16</td><td>u8</td></tr></thead><tbody><tr><td>131126</td><td>201905</td><td>20</td><td>0</td><td>null</td><td>null</td><td>-16398</td><td>null</td><td>-16398</td><td>3.0</td><td>5.0</td><td>3.0</td><td>5.0</td><td>3.0</td><td>&quot;a55475b1&quot;</td><td>&quot;6b2ae0fa&quot;</td><td>&quot;a55475b1&quot;</td><td>0.0</td><td>5.0</td><td>&quot;a7fcb6e5&quot;</td><td>&quot;a55475b1&quot;</td><td>5.0</td><td>null</td><td>null</td><td>null</td><td>null</td><td>2.0</td><td>2258.503906</td><td>null</td><td>12</td><td>null</td><td>null</td><td>5.0</td><td>1.0</td><td>0.0</td><td>0.0</td><td>1902.800049</td><td>&hellip;</td><td>36000.0</td><td>null</td><td>null</td><td>null</td><td>null</td><td>null</td><td>null</td><td>null</td><td>null</td><td>&quot;a55475b1&quot;</td><td>&quot;a55475b1&quot;</td><td>0.0</td><td>null</td><td>&quot;a55475b1&quot;</td><td>&quot;c7a5ad39&quot;</td><td>1</td><td>23</td><td>5.0</td><td>null</td><td>12.0</td><td>null</td><td>4285.800293</td><td>null</td><td>2020.0</td><td>null</td><td>&quot;a55475b1&quot;</td><td>&quot;ab3c25cf&quot;</td><td>0.315789</td><td>null</td><td>276.43158</td><td>null</td><td>1.339181</td><td>null</td><td>991674.375</td><td>null</td><td>2019</td><td>24</td></tr><tr><td>1458400</td><td>201907</td><td>29</td><td>0</td><td>null</td><td>null</td><td>-12470</td><td>null</td><td>-12470</td><td>2.0</td><td>2.0</td><td>1.0</td><td>2.0</td><td>2.0</td><td>&quot;a55475b1&quot;</td><td>&quot;6b2ae0fa&quot;</td><td>&quot;a55475b1&quot;</td><td>0.0</td><td>0.0</td><td>&quot;3439d993&quot;</td><td>&quot;a55475b1&quot;</td><td>2.0</td><td>null</td><td>null</td><td>null</td><td>null</td><td>5.0</td><td>5564.0</td><td>null</td><td>2</td><td>null</td><td>null</td><td>2.0</td><td>1.0</td><td>0.0</td><td>13139.400391</td><td>2301.0</td><td>&hellip;</td><td>60000.0</td><td>null</td><td>null</td><td>null</td><td>null</td><td>null</td><td>null</td><td>null</td><td>null</td><td>&quot;a55475b1&quot;</td><td>&quot;a55475b1&quot;</td><td>null</td><td>0.0</td><td>&quot;c7a5ad39&quot;</td><td>&quot;a55475b1&quot;</td><td>7</td><td>35</td><td>null</td><td>1519.0</td><td>null</td><td>12.0</td><td>null</td><td>14599.981445</td><td>null</td><td>2020.0</td><td>&quot;ab3c25cf&quot;</td><td>&quot;a55475b1&quot;</td><td>null</td><td>187.682922</td><td>null</td><td>2954.826416</td><td>null</td><td>230112.09375</td><td>null</td><td>2.3780864e7</td><td>2019</td><td>23</td></tr><tr><td>608531</td><td>201901</td><td>1</td><td>0</td><td>null</td><td>null</td><td>-8626</td><td>null</td><td>null</td><td>null</td><td>null</td><td>null</td><td>null</td><td>null</td><td>&quot;a55475b1&quot;</td><td>&quot;a55475b1&quot;</td><td>&quot;a55475b1&quot;</td><td>null</td><td>null</td><td>&quot;a55475b1&quot;</td><td>&quot;a55475b1&quot;</td><td>null</td><td>null</td><td>null</td><td>null</td><td>null</td><td>7.0</td><td>16118.807617</td><td>null</td><td>14</td><td>null</td><td>null</td><td>null</td><td>null</td><td>null</td><td>null</td><td>1174.400024</td><td>&hellip;</td><td>26000.0</td><td>null</td><td>null</td><td>null</td><td>null</td><td>null</td><td>null</td><td>null</td><td>null</td><td>null</td><td>null</td><td>null</td><td>null</td><td>null</td><td>null</td><td>null</td><td>null</td><td>null</td><td>null</td><td>null</td><td>null</td><td>null</td><td>null</td><td>null</td><td>null</td><td>null</td><td>null</td><td>null</td><td>null</td><td>null</td><td>null</td><td>null</td><td>null</td><td>null</td><td>null</td><td>2019</td><td>12</td></tr><tr><td>1815133</td><td>202003</td><td>62</td><td>0</td><td>null</td><td>null</td><td>null</td><td>null</td><td>-14165</td><td>4.0</td><td>4.0</td><td>2.0</td><td>8.0</td><td>3.0</td><td>&quot;a55475b1&quot;</td><td>&quot;6b2ae0fa&quot;</td><td>&quot;6b2ae0fa&quot;</td><td>2.0</td><td>3.0</td><td>&quot;38c061ee&quot;</td><td>&quot;e18430ff&quot;</td><td>8.0</td><td>null</td><td>null</td><td>null</td><td>null</td><td>null</td><td>null</td><td>&quot;DEDUCTION_6&quot;</td><td>null</td><td>14</td><td>14</td><td>3.0</td><td>3.0</td><td>0.0</td><td>2686.400146</td><td>2210.400146</td><td>&hellip;</td><td>76000.0</td><td>null</td><td>null</td><td>null</td><td>null</td><td>null</td><td>null</td><td>null</td><td>null</td><td>&quot;a55475b1&quot;</td><td>&quot;a55475b1&quot;</td><td>0.0</td><td>75386.0</td><td>&quot;c7a5ad39&quot;</td><td>&quot;c7a5ad39&quot;</td><td>3</td><td>35</td><td>25.0</td><td>1212.0</td><td>12.0</td><td>12.0</td><td>2659.600098</td><td>121354.179688</td><td>2021.0</td><td>2020.0</td><td>&quot;ab3c25cf&quot;</td><td>&quot;ab3c25cf&quot;</td><td>5.230769</td><td>487.612915</td><td>204.798309</td><td>41923.726562</td><td>96.192307</td><td>171961.125</td><td>544018.9375</td><td>1.4132e9</td><td>2020</td><td>13</td></tr><tr><td>166678</td><td>201910</td><td>40</td><td>0</td><td>null</td><td>null</td><td>null</td><td>null</td><td>-13618</td><td>2.0</td><td>3.0</td><td>2.0</td><td>8.0</td><td>2.0</td><td>&quot;a55475b1&quot;</td><td>&quot;6b2ae0fa&quot;</td><td>&quot;a55475b1&quot;</td><td>6.0</td><td>6.0</td><td>&quot;3439d993&quot;</td><td>&quot;a55475b1&quot;</td><td>8.0</td><td>null</td><td>null</td><td>null</td><td>null</td><td>null</td><td>null</td><td>&quot;DEDUCTION_6&quot;</td><td>null</td><td>14</td><td>null</td><td>8.0</td><td>11.0</td><td>0.0</td><td>92927.601562</td><td>9242.799805</td><td>&hellip;</td><td>100000.0</td><td>null</td><td>null</td><td>null</td><td>null</td><td>null</td><td>null</td><td>null</td><td>null</td><td>&quot;a55475b1&quot;</td><td>&quot;a55475b1&quot;</td><td>0.0</td><td>0.0</td><td>&quot;c7a5ad39&quot;</td><td>&quot;c7a5ad39&quot;</td><td>9</td><td>35</td><td>7.0</td><td>298.0</td><td>12.0</td><td>12.0</td><td>13152.408203</td><td>23690.824219</td><td>2020.0</td><td>2020.0</td><td>&quot;ab3c25cf&quot;</td><td>&quot;ab3c25cf&quot;</td><td>0.432432</td><td>12.828359</td><td>1009.878723</td><td>1508.235107</td><td>2.084413</td><td>2656.158203</td><td>9.402565e6</td><td>1.7405034e7</td><td>2019</td><td>13</td></tr><tr><td>186995</td><td>201912</td><td>50</td><td>0</td><td>null</td><td>14</td><td>null</td><td>null</td><td>-23516</td><td>1.0</td><td>2.0</td><td>0.0</td><td>3.0</td><td>1.0</td><td>&quot;a55475b1&quot;</td><td>&quot;a55475b1&quot;</td><td>&quot;a55475b1&quot;</td><td>1.0</td><td>2.0</td><td>&quot;3439d993&quot;</td><td>&quot;46b968c3&quot;</td><td>3.0</td><td>null</td><td>7222.200195</td><td>6.0</td><td>null</td><td>null</td><td>null</td><td>&quot;PENSION_6&quot;</td><td>null</td><td>14</td><td>null</td><td>1.0</td><td>3.0</td><td>0.0</td><td>143365.265625</td><td>1415.200073</td><td>&hellip;</td><td>37564.0</td><td>289.613983</td><td>0</td><td>-2145</td><td>289.613983</td><td>-2145</td><td>0</td><td>-2145</td><td>-2145</td><td>&quot;a55475b1&quot;</td><td>&quot;a55475b1&quot;</td><td>0.0</td><td>0.0</td><td>&quot;c7a5ad39&quot;</td><td>&quot;c7a5ad39&quot;</td><td>4</td><td>35</td><td>0.0</td><td>29.0</td><td>12.0</td><td>12.0</td><td>0.0</td><td>2490.600098</td><td>2020.0</td><td>2020.0</td><td>&quot;ab3c25cf&quot;</td><td>&quot;ab3c25cf&quot;</td><td>0.0</td><td>1.014084</td><td>0.0</td><td>35.523945</td><td>0.0</td><td>24.242657</td><td>0.0</td><td>87348.460938</td><td>2019</td><td>19</td></tr><tr><td>980647</td><td>202004</td><td>68</td><td>0</td><td>null</td><td>null</td><td>null</td><td>null</td><td>-13291</td><td>0.0</td><td>0.0</td><td>0.0</td><td>0.0</td><td>0.0</td><td>&quot;a55475b1&quot;</td><td>&quot;a55475b1&quot;</td><td>&quot;a55475b1&quot;</td><td>0.0</td><td>0.0</td><td>&quot;a55475b1&quot;</td><td>&quot;a55475b1&quot;</td><td>0.0</td><td>null</td><td>null</td><td>null</td><td>null</td><td>null</td><td>null</td><td>null</td><td>null</td><td>null</td><td>14</td><td>0.0</td><td>0.0</td><td>null</td><td>null</td><td>1509.200073</td><td>&hellip;</td><td>24000.0</td><td>null</td><td>null</td><td>null</td><td>null</td><td>null</td><td>null</td><td>null</td><td>null</td><td>&quot;a55475b1&quot;</td><td>&quot;a55475b1&quot;</td><td>0.0</td><td>null</td><td>&quot;a55475b1&quot;</td><td>&quot;c7a5ad39&quot;</td><td>0</td><td>11</td><td>0.0</td><td>null</td><td>12.0</td><td>null</td><td>0.0</td><td>null</td><td>2021.0</td><td>null</td><td>&quot;a55475b1&quot;</td><td>&quot;ab3c25cf&quot;</td><td>0.0</td><td>null</td><td>0.0</td><td>null</td><td>0.0</td><td>null</td><td>0.0</td><td>null</td><td>2020</td><td>21</td></tr><tr><td>2558945</td><td>201904</td><td>13</td><td>0</td><td>null</td><td>null</td><td>-13792</td><td>null</td><td>-13792</td><td>5.0</td><td>5.0</td><td>2.0</td><td>6.0</td><td>4.0</td><td>&quot;a55475b1&quot;</td><td>&quot;a55475b1&quot;</td><td>&quot;a55475b1&quot;</td><td>4.0</td><td>2.0</td><td>&quot;a55475b1&quot;</td><td>&quot;a55475b1&quot;</td><td>6.0</td><td>null</td><td>null</td><td>null</td><td>null</td><td>2.0</td><td>2584.400146</td><td>null</td><td>14</td><td>null</td><td>null</td><td>0.0</td><td>0.0</td><td>0.0</td><td>12888.799805</td><td>3678.600098</td><td>&hellip;</td><td>56000.0</td><td>null</td><td>null</td><td>null</td><td>null</td><td>null</td><td>null</td><td>null</td><td>null</td><td>&quot;a55475b1&quot;</td><td>&quot;a55475b1&quot;</td><td>0.0</td><td>null</td><td>&quot;a55475b1&quot;</td><td>&quot;c7a5ad39&quot;</td><td>0</td><td>23</td><td>0.0</td><td>null</td><td>12.0</td><td>null</td><td>0.0</td><td>null</td><td>2020.0</td><td>null</td><td>&quot;a55475b1&quot;</td><td>&quot;ab3c25cf&quot;</td><td>0.0</td><td>null</td><td>0.0</td><td>null</td><td>0.0</td><td>null</td><td>0.0</td><td>null</td><td>2019</td><td>5</td></tr><tr><td>138215</td><td>201906</td><td>24</td><td>0</td><td>-4297</td><td>null</td><td>-23703</td><td>null</td><td>-23703</td><td>4.0</td><td>4.0</td><td>1.0</td><td>7.0</td><td>4.0</td><td>&quot;a55475b1&quot;</td><td>&quot;c8e1a1d0&quot;</td><td>&quot;a55475b1&quot;</td><td>1.0</td><td>4.0</td><td>&quot;3439d993&quot;</td><td>&quot;a55475b1&quot;</td><td>7.0</td><td>7512.0</td><td>null</td><td>null</td><td>6.0</td><td>null</td><td>null</td><td>null</td><td>14</td><td>null</td><td>null</td><td>7.0</td><td>3.0</td><td>0.0</td><td>0.0</td><td>4613.600098</td><td>&hellip;</td><td>90000.0</td><td>null</td><td>null</td><td>null</td><td>null</td><td>null</td><td>null</td><td>null</td><td>null</td><td>&quot;a55475b1&quot;</td><td>&quot;a55475b1&quot;</td><td>0.0</td><td>0.0</td><td>&quot;c7a5ad39&quot;</td><td>&quot;c7a5ad39&quot;</td><td>5</td><td>35</td><td>5.0</td><td>163.0</td><td>12.0</td><td>12.0</td><td>1632.800049</td><td>54583.0</td><td>2020.0</td><td>2020.0</td><td>&quot;ab3c25cf&quot;</td><td>&quot;ab3c25cf&quot;</td><td>0.333333</td><td>12.5</td><td>80.076736</td><td>3223.135254</td><td>1.195402</td><td>932.558838</td><td>104806.03125</td><td>1.2798536e8</td><td>2019</td><td>24</td></tr><tr><td>801572</td><td>201909</td><td>36</td><td>0</td><td>null</td><td>null</td><td>null</td><td>null</td><td>-11305</td><td>3.0</td><td>5.0</td><td>2.0</td><td>17.0</td><td>3.0</td><td>&quot;a55475b1&quot;</td><td>&quot;6b2ae0fa&quot;</td><td>&quot;a55475b1&quot;</td><td>22.0</td><td>13.0</td><td>&quot;a7fcb6e5&quot;</td><td>&quot;a55475b1&quot;</td><td>17.0</td><td>null</td><td>null</td><td>null</td><td>null</td><td>6.0</td><td>12613.600586</td><td>&quot;DEDUCTION_6&quot;</td><td>14</td><td>14</td><td>null</td><td>9.0</td><td>11.0</td><td>0.0</td><td>null</td><td>3282.0</td><td>&hellip;</td><td>46000.0</td><td>null</td><td>null</td><td>null</td><td>null</td><td>null</td><td>null</td><td>null</td><td>null</td><td>&quot;a55475b1&quot;</td><td>&quot;a55475b1&quot;</td><td>5.038e6</td><td>0.0</td><td>&quot;c7a5ad39&quot;</td><td>&quot;c7a5ad39&quot;</td><td>7</td><td>35</td><td>0.0</td><td>35.0</td><td>12.0</td><td>12.0</td><td>0.0</td><td>5217.200195</td><td>2020.0</td><td>2020.0</td><td>&quot;ab3c25cf&quot;</td><td>&quot;ab3c25cf&quot;</td><td>0.0</td><td>1.814159</td><td>0.0</td><td>438.676819</td><td>0.0</td><td>21.349083</td><td>0.0</td><td>955230.1875</td><td>2019</td><td>14</td></tr></tbody></table></div>"
      ],
      "text/plain": [
       "shape: (10, 472)\n",
       "┌─────────┬────────┬──────────┬────────┬───┬─────────────────────┬────────────────────┬──────┬─────┐\n",
       "│ case_id ┆ month  ┆ week_num ┆ target ┆ … ┆ var_pmts_overdue_11 ┆ var_pmts_overdue_1 ┆ year ┆ day │\n",
       "│ ---     ┆ ---    ┆ ---      ┆ ---    ┆   ┆ 40A                 ┆ 152A               ┆ ---  ┆ --- │\n",
       "│ u32     ┆ u32    ┆ u8       ┆ u8     ┆   ┆ ---                 ┆ ---                ┆ u16  ┆ u8  │\n",
       "│         ┆        ┆          ┆        ┆   ┆ f32                 ┆ f32                ┆      ┆     │\n",
       "╞═════════╪════════╪══════════╪════════╪═══╪═════════════════════╪════════════════════╪══════╪═════╡\n",
       "│ 131126  ┆ 201905 ┆ 20       ┆ 0      ┆ … ┆ 991674.375          ┆ null               ┆ 2019 ┆ 24  │\n",
       "│ 1458400 ┆ 201907 ┆ 29       ┆ 0      ┆ … ┆ null                ┆ 2.3780864e7        ┆ 2019 ┆ 23  │\n",
       "│ 608531  ┆ 201901 ┆ 1        ┆ 0      ┆ … ┆ null                ┆ null               ┆ 2019 ┆ 12  │\n",
       "│ 1815133 ┆ 202003 ┆ 62       ┆ 0      ┆ … ┆ 544018.9375         ┆ 1.4132e9           ┆ 2020 ┆ 13  │\n",
       "│ 166678  ┆ 201910 ┆ 40       ┆ 0      ┆ … ┆ 9.402565e6          ┆ 1.7405034e7        ┆ 2019 ┆ 13  │\n",
       "│ 186995  ┆ 201912 ┆ 50       ┆ 0      ┆ … ┆ 0.0                 ┆ 87348.460938       ┆ 2019 ┆ 19  │\n",
       "│ 980647  ┆ 202004 ┆ 68       ┆ 0      ┆ … ┆ 0.0                 ┆ null               ┆ 2020 ┆ 21  │\n",
       "│ 2558945 ┆ 201904 ┆ 13       ┆ 0      ┆ … ┆ 0.0                 ┆ null               ┆ 2019 ┆ 5   │\n",
       "│ 138215  ┆ 201906 ┆ 24       ┆ 0      ┆ … ┆ 104806.03125        ┆ 1.2798536e8        ┆ 2019 ┆ 24  │\n",
       "│ 801572  ┆ 201909 ┆ 36       ┆ 0      ┆ … ┆ 0.0                 ┆ 955230.1875        ┆ 2019 ┆ 14  │\n",
       "└─────────┴────────┴──────────┴────────┴───┴─────────────────────┴────────────────────┴──────┴─────┘"
      ]
     },
     "metadata": {},
     "output_type": "display_data"
    },
    {
     "name": "stdout",
     "output_type": "stream",
     "text": [
      "CPU times: user 5min 45s, sys: 1min 42s, total: 7min 28s\n",
      "Wall time: 2min 18s\n"
     ]
    }
   ],
   "source": [
    "%%time\n",
    "\n",
    "data_store: dict = {\n",
    "    \"df_base\": SchemaGen.scan_files(os.path.join(TRAIN_DIR, \"train_base.parquet\")),\n",
    "    \"depth_0\": [\n",
    "        SchemaGen.scan_files(os.path.join(TRAIN_DIR, \"train_static_cb_0.parquet\")),\n",
    "        SchemaGen.scan_files(os.path.join(TRAIN_DIR, \"train_static_0_*.parquet\")),\n",
    "    ],\n",
    "    \"depth_1\": [\n",
    "        SchemaGen.scan_files(os.path.join(TRAIN_DIR, \"train_applprev_1_*.parquet\"), 1),\n",
    "        SchemaGen.scan_files(os.path.join(TRAIN_DIR, \"train_tax_registry_a_1.parquet\"), 1),\n",
    "        SchemaGen.scan_files(os.path.join(TRAIN_DIR, \"train_tax_registry_b_1.parquet\"), 1),\n",
    "        SchemaGen.scan_files(os.path.join(TRAIN_DIR, \"train_tax_registry_c_1.parquet\"), 1),\n",
    "        SchemaGen.scan_files(os.path.join(TRAIN_DIR, \"train_credit_bureau_a_1_*.parquet\"), 1),\n",
    "        SchemaGen.scan_files(os.path.join(TRAIN_DIR, \"train_credit_bureau_b_1.parquet\"), 1),\n",
    "        SchemaGen.scan_files(os.path.join(TRAIN_DIR, \"train_other_1.parquet\"), 1),\n",
    "        SchemaGen.scan_files(os.path.join(TRAIN_DIR, \"train_person_1.parquet\"), 1),\n",
    "        SchemaGen.scan_files(os.path.join(TRAIN_DIR, \"train_deposit_1.parquet\"), 1),\n",
    "        SchemaGen.scan_files(os.path.join(TRAIN_DIR, \"train_debitcard_1.parquet\"), 1),\n",
    "    ],\n",
    "    \"depth_2\": [\n",
    "        SchemaGen.scan_files(os.path.join(TRAIN_DIR, \"train_credit_bureau_a_2_*.parquet\"), 2),\n",
    "        SchemaGen.scan_files(os.path.join(TRAIN_DIR, \"train_credit_bureau_b_2.parquet\"), 2),\n",
    "    ],\n",
    "}\n",
    "\n",
    "train_df: pl.LazyFrame = (\n",
    "    SchemaGen.join_dataframes(**data_store)\n",
    "    .pipe(Pipeline.filter_cols)\n",
    "    .pipe(Pipeline.transform_cols)\n",
    "    .pipe(Pipeline.handle_dates)\n",
    "    .pipe(Utility.reduce_memory_usage, \"train_df\")\n",
    ")\n",
    "\n",
    "del data_store\n",
    "gc.collect()\n",
    "\n",
    "print(f\"Train data shape: {train_df.shape}\")\n",
    "display(train_df.head(10))"
   ]
  },
  {
   "cell_type": "markdown",
   "id": "667875cd",
   "metadata": {
    "papermill": {
     "duration": 0.005948,
     "end_time": "2024-05-21T00:05:23.672125",
     "exception": false,
     "start_time": "2024-05-21T00:05:23.666177",
     "status": "completed"
    },
    "tags": []
   },
   "source": [
    "### Read test data"
   ]
  },
  {
   "cell_type": "code",
   "execution_count": 6,
   "id": "dfc12448",
   "metadata": {
    "execution": {
     "iopub.execute_input": "2024-05-21T00:05:23.685828Z",
     "iopub.status.busy": "2024-05-21T00:05:23.685512Z",
     "iopub.status.idle": "2024-05-21T00:05:27.935117Z",
     "shell.execute_reply": "2024-05-21T00:05:27.934036Z"
    },
    "papermill": {
     "duration": 4.258863,
     "end_time": "2024-05-21T00:05:27.937225",
     "exception": false,
     "start_time": "2024-05-21T00:05:23.678362",
     "status": "completed"
    },
    "tags": []
   },
   "outputs": [
    {
     "name": "stdout",
     "output_type": "stream",
     "text": [
      "File test_base loaded into memory.\n",
      "File test_static_cb_0 loaded into memory.\n",
      "File test_static_0_0 loaded into memory.\n",
      "File test_static_0_2 loaded into memory.\n",
      "File test_static_0_1 loaded into memory.\n",
      "File test_applprev_1_2 loaded into memory.\n",
      "File test_applprev_1_0 loaded into memory.\n",
      "File test_applprev_1_1 loaded into memory.\n",
      "File test_tax_registry_a_1 loaded into memory.\n",
      "File test_tax_registry_b_1 loaded into memory.\n",
      "File test_tax_registry_c_1 loaded into memory.\n",
      "File test_credit_bureau_a_1_3 loaded into memory.\n",
      "File test_credit_bureau_a_1_2 loaded into memory.\n",
      "File test_credit_bureau_a_1_1 loaded into memory.\n",
      "File test_credit_bureau_a_1_4 loaded into memory.\n",
      "File test_credit_bureau_a_1_0 loaded into memory.\n",
      "File test_credit_bureau_b_1 loaded into memory.\n",
      "File test_other_1 loaded into memory.\n",
      "File test_person_1 loaded into memory.\n",
      "File test_deposit_1 loaded into memory.\n",
      "File test_debitcard_1 loaded into memory.\n",
      "File test_credit_bureau_b_2 loaded into memory.\n",
      "File test_credit_bureau_a_2_3 loaded into memory.\n",
      "File test_credit_bureau_a_2_9 loaded into memory.\n",
      "File test_credit_bureau_a_2_2 loaded into memory.\n",
      "File test_credit_bureau_a_2_11 loaded into memory.\n",
      "File test_credit_bureau_a_2_1 loaded into memory.\n",
      "File test_credit_bureau_a_2_6 loaded into memory.\n",
      "File test_credit_bureau_a_2_5 loaded into memory.\n",
      "File test_credit_bureau_a_2_0 loaded into memory.\n",
      "File test_credit_bureau_a_2_7 loaded into memory.\n",
      "File test_credit_bureau_a_2_10 loaded into memory.\n",
      "File test_credit_bureau_a_2_8 loaded into memory.\n",
      "File test_credit_bureau_a_2_4 loaded into memory.\n",
      "Memory usage of dataframe \"train_df\" is 0.0432 MB.\n",
      "Memory usage of dataframe \"train_df\" became 0.0311 MB.\n",
      "Memory usage of dataframe \"test_df\" is 0.0184 MB.\n",
      "Memory usage of dataframe \"test_df\" became 0.0173 MB.\n",
      "Test data shape: (10, 471)\n"
     ]
    }
   ],
   "source": [
    "data_store = {\n",
    "    \"df_base\": SchemaGen.scan_files(os.path.join(TEST_DIR, \"test_base.parquet\")),\n",
    "    \"depth_0\": [\n",
    "        SchemaGen.scan_files(os.path.join(TEST_DIR, \"test_static_cb_0.parquet\")),\n",
    "        SchemaGen.scan_files(os.path.join(TEST_DIR, \"test_static_0_*.parquet\")),\n",
    "    ],\n",
    "    \"depth_1\": [\n",
    "        SchemaGen.scan_files(os.path.join(TEST_DIR, \"test_applprev_1_*.parquet\"), 1),\n",
    "        SchemaGen.scan_files(os.path.join(TEST_DIR, \"test_tax_registry_a_1.parquet\"), 1),\n",
    "        SchemaGen.scan_files(os.path.join(TEST_DIR, \"test_tax_registry_b_1.parquet\"), 1),\n",
    "        SchemaGen.scan_files(os.path.join(TEST_DIR, \"test_tax_registry_c_1.parquet\"), 1),\n",
    "        SchemaGen.scan_files(os.path.join(TEST_DIR, \"test_credit_bureau_a_1_*.parquet\"), 1),\n",
    "        SchemaGen.scan_files(os.path.join(TEST_DIR, \"test_credit_bureau_b_1.parquet\"), 1),\n",
    "        SchemaGen.scan_files(os.path.join(TEST_DIR, \"test_other_1.parquet\"), 1),\n",
    "        SchemaGen.scan_files(os.path.join(TEST_DIR, \"test_person_1.parquet\"), 1),\n",
    "        SchemaGen.scan_files(os.path.join(TEST_DIR, \"test_deposit_1.parquet\"), 1),\n",
    "        SchemaGen.scan_files(os.path.join(TEST_DIR, \"test_debitcard_1.parquet\"), 1),\n",
    "    ],\n",
    "    \"depth_2\": [\n",
    "        SchemaGen.scan_files(os.path.join(TEST_DIR, \"test_credit_bureau_b_2.parquet\"), 2),\n",
    "        SchemaGen.scan_files(os.path.join(TEST_DIR, \"test_credit_bureau_a_2_*.parquet\"), 2),\n",
    "        # SchemaGen.scan_files(os.path.join(TEST_DIR, \"test_applprev_2.parquet\"), 2),\n",
    "        # SchemaGen.scan_files(os.path.join(TEST_DIR, \"test_person_2.parquet\"), 2)\n",
    "    ],\n",
    "}\n",
    "\n",
    "test_df: pl.DataFrame = (\n",
    "    SchemaGen.join_dataframes(**data_store)\n",
    "    .pipe(Pipeline.transform_cols)\n",
    "    .pipe(Pipeline.handle_dates)\n",
    "    .select([col for col in train_df.columns if col != \"target\"])\n",
    "    .pipe(Utility.reduce_memory_usage, \"test_df\")\n",
    ")\n",
    "\n",
    "del data_store\n",
    "gc.collect()\n",
    "\n",
    "print(f\"Test data shape: {test_df.shape}\")"
   ]
  },
  {
   "cell_type": "code",
   "execution_count": 7,
   "id": "8def404c",
   "metadata": {
    "execution": {
     "iopub.execute_input": "2024-05-21T00:05:27.954557Z",
     "iopub.status.busy": "2024-05-21T00:05:27.954280Z",
     "iopub.status.idle": "2024-05-21T00:05:51.189750Z",
     "shell.execute_reply": "2024-05-21T00:05:51.188847Z"
    },
    "papermill": {
     "duration": 23.247173,
     "end_time": "2024-05-21T00:05:51.191966",
     "exception": false,
     "start_time": "2024-05-21T00:05:27.944793",
     "status": "completed"
    },
    "tags": []
   },
   "outputs": [
    {
     "data": {
      "text/plain": [
       "0"
      ]
     },
     "execution_count": 7,
     "metadata": {},
     "output_type": "execute_result"
    }
   ],
   "source": [
    "train_df, cat_cols = Utility.to_pandas(train_df)\n",
    "test_df, cat_cols = Utility.to_pandas(test_df, cat_cols)\n",
    "\n",
    "del train_df\n",
    "gc.collect()"
   ]
  },
  {
   "cell_type": "code",
   "execution_count": 8,
   "id": "06062ee5",
   "metadata": {
    "execution": {
     "iopub.execute_input": "2024-05-21T00:05:51.209846Z",
     "iopub.status.busy": "2024-05-21T00:05:51.208979Z",
     "iopub.status.idle": "2024-05-21T00:05:51.243276Z",
     "shell.execute_reply": "2024-05-21T00:05:51.242411Z"
    },
    "papermill": {
     "duration": 0.045298,
     "end_time": "2024-05-21T00:05:51.245309",
     "exception": false,
     "start_time": "2024-05-21T00:05:51.200011",
     "status": "completed"
    },
    "tags": []
   },
   "outputs": [
    {
     "data": {
      "text/html": [
       "<div>\n",
       "<style scoped>\n",
       "    .dataframe tbody tr th:only-of-type {\n",
       "        vertical-align: middle;\n",
       "    }\n",
       "\n",
       "    .dataframe tbody tr th {\n",
       "        vertical-align: top;\n",
       "    }\n",
       "\n",
       "    .dataframe thead th {\n",
       "        text-align: right;\n",
       "    }\n",
       "</style>\n",
       "<table border=\"1\" class=\"dataframe\">\n",
       "  <thead>\n",
       "    <tr style=\"text-align: right;\">\n",
       "      <th></th>\n",
       "      <th>case_id</th>\n",
       "      <th>month</th>\n",
       "      <th>week_num</th>\n",
       "      <th>assignmentdate_238D</th>\n",
       "      <th>assignmentdate_4527235D</th>\n",
       "      <th>birthdate_574D</th>\n",
       "      <th>contractssum_5085716L</th>\n",
       "      <th>dateofbirth_337D</th>\n",
       "      <th>days120_123L</th>\n",
       "      <th>days180_256L</th>\n",
       "      <th>...</th>\n",
       "      <th>mean_pmts_dpd_1073P</th>\n",
       "      <th>mean_pmts_dpd_303P</th>\n",
       "      <th>mean_pmts_overdue_1140A</th>\n",
       "      <th>mean_pmts_overdue_1152A</th>\n",
       "      <th>var_pmts_dpd_1073P</th>\n",
       "      <th>var_pmts_dpd_303P</th>\n",
       "      <th>var_pmts_overdue_1140A</th>\n",
       "      <th>var_pmts_overdue_1152A</th>\n",
       "      <th>year</th>\n",
       "      <th>day</th>\n",
       "    </tr>\n",
       "  </thead>\n",
       "  <tbody>\n",
       "    <tr>\n",
       "      <th>0</th>\n",
       "      <td>57633</td>\n",
       "      <td>202201</td>\n",
       "      <td>100</td>\n",
       "      <td>NaN</td>\n",
       "      <td>NaN</td>\n",
       "      <td>NaN</td>\n",
       "      <td>6.373008e+06</td>\n",
       "      <td>-10496</td>\n",
       "      <td>3.0</td>\n",
       "      <td>3.0</td>\n",
       "      <td>...</td>\n",
       "      <td>0.0</td>\n",
       "      <td>0.000000</td>\n",
       "      <td>0.0</td>\n",
       "      <td>0.000000</td>\n",
       "      <td>NaN</td>\n",
       "      <td>0.000000</td>\n",
       "      <td>0.0</td>\n",
       "      <td>0.0</td>\n",
       "      <td>2022</td>\n",
       "      <td>25</td>\n",
       "    </tr>\n",
       "    <tr>\n",
       "      <th>1</th>\n",
       "      <td>57549</td>\n",
       "      <td>202201</td>\n",
       "      <td>100</td>\n",
       "      <td>NaN</td>\n",
       "      <td>NaN</td>\n",
       "      <td>NaN</td>\n",
       "      <td>1.563078e+06</td>\n",
       "      <td>-22723</td>\n",
       "      <td>6.0</td>\n",
       "      <td>9.0</td>\n",
       "      <td>...</td>\n",
       "      <td>NaN</td>\n",
       "      <td>NaN</td>\n",
       "      <td>NaN</td>\n",
       "      <td>NaN</td>\n",
       "      <td>NaN</td>\n",
       "      <td>NaN</td>\n",
       "      <td>NaN</td>\n",
       "      <td>NaN</td>\n",
       "      <td>2022</td>\n",
       "      <td>17</td>\n",
       "    </tr>\n",
       "    <tr>\n",
       "      <th>2</th>\n",
       "      <td>57551</td>\n",
       "      <td>202201</td>\n",
       "      <td>100</td>\n",
       "      <td>NaN</td>\n",
       "      <td>NaN</td>\n",
       "      <td>NaN</td>\n",
       "      <td>2.926195e+06</td>\n",
       "      <td>-14090</td>\n",
       "      <td>1.0</td>\n",
       "      <td>3.0</td>\n",
       "      <td>...</td>\n",
       "      <td>NaN</td>\n",
       "      <td>NaN</td>\n",
       "      <td>NaN</td>\n",
       "      <td>NaN</td>\n",
       "      <td>NaN</td>\n",
       "      <td>NaN</td>\n",
       "      <td>NaN</td>\n",
       "      <td>NaN</td>\n",
       "      <td>2020</td>\n",
       "      <td>27</td>\n",
       "    </tr>\n",
       "    <tr>\n",
       "      <th>3</th>\n",
       "      <td>57569</td>\n",
       "      <td>202201</td>\n",
       "      <td>100</td>\n",
       "      <td>NaN</td>\n",
       "      <td>NaN</td>\n",
       "      <td>NaN</td>\n",
       "      <td>NaN</td>\n",
       "      <td>-26408</td>\n",
       "      <td>4.0</td>\n",
       "      <td>4.0</td>\n",
       "      <td>...</td>\n",
       "      <td>NaN</td>\n",
       "      <td>2328.571533</td>\n",
       "      <td>NaN</td>\n",
       "      <td>33346.402344</td>\n",
       "      <td>NaN</td>\n",
       "      <td>3341.619141</td>\n",
       "      <td>NaN</td>\n",
       "      <td>0.0</td>\n",
       "      <td>2021</td>\n",
       "      <td>20</td>\n",
       "    </tr>\n",
       "    <tr>\n",
       "      <th>4</th>\n",
       "      <td>57634</td>\n",
       "      <td>202201</td>\n",
       "      <td>100</td>\n",
       "      <td>NaN</td>\n",
       "      <td>NaN</td>\n",
       "      <td>NaN</td>\n",
       "      <td>1.526365e+04</td>\n",
       "      <td>-16281</td>\n",
       "      <td>2.0</td>\n",
       "      <td>2.0</td>\n",
       "      <td>...</td>\n",
       "      <td>NaN</td>\n",
       "      <td>NaN</td>\n",
       "      <td>NaN</td>\n",
       "      <td>NaN</td>\n",
       "      <td>NaN</td>\n",
       "      <td>NaN</td>\n",
       "      <td>NaN</td>\n",
       "      <td>NaN</td>\n",
       "      <td>2021</td>\n",
       "      <td>27</td>\n",
       "    </tr>\n",
       "    <tr>\n",
       "      <th>5</th>\n",
       "      <td>57543</td>\n",
       "      <td>202201</td>\n",
       "      <td>100</td>\n",
       "      <td>NaN</td>\n",
       "      <td>NaN</td>\n",
       "      <td>NaN</td>\n",
       "      <td>1.513640e+05</td>\n",
       "      <td>-14804</td>\n",
       "      <td>2.0</td>\n",
       "      <td>4.0</td>\n",
       "      <td>...</td>\n",
       "      <td>0.0</td>\n",
       "      <td>NaN</td>\n",
       "      <td>0.0</td>\n",
       "      <td>NaN</td>\n",
       "      <td>NaN</td>\n",
       "      <td>NaN</td>\n",
       "      <td>NaN</td>\n",
       "      <td>NaN</td>\n",
       "      <td>2021</td>\n",
       "      <td>14</td>\n",
       "    </tr>\n",
       "    <tr>\n",
       "      <th>6</th>\n",
       "      <td>57630</td>\n",
       "      <td>202201</td>\n",
       "      <td>100</td>\n",
       "      <td>NaN</td>\n",
       "      <td>NaN</td>\n",
       "      <td>NaN</td>\n",
       "      <td>4.999750e+05</td>\n",
       "      <td>-19767</td>\n",
       "      <td>1.0</td>\n",
       "      <td>2.0</td>\n",
       "      <td>...</td>\n",
       "      <td>0.0</td>\n",
       "      <td>0.000000</td>\n",
       "      <td>0.0</td>\n",
       "      <td>0.000000</td>\n",
       "      <td>NaN</td>\n",
       "      <td>NaN</td>\n",
       "      <td>NaN</td>\n",
       "      <td>NaN</td>\n",
       "      <td>2021</td>\n",
       "      <td>16</td>\n",
       "    </tr>\n",
       "    <tr>\n",
       "      <th>7</th>\n",
       "      <td>57631</td>\n",
       "      <td>202201</td>\n",
       "      <td>100</td>\n",
       "      <td>NaN</td>\n",
       "      <td>NaN</td>\n",
       "      <td>NaN</td>\n",
       "      <td>4.803345e+05</td>\n",
       "      <td>-12999</td>\n",
       "      <td>0.0</td>\n",
       "      <td>0.0</td>\n",
       "      <td>...</td>\n",
       "      <td>0.0</td>\n",
       "      <td>0.000000</td>\n",
       "      <td>0.0</td>\n",
       "      <td>0.000000</td>\n",
       "      <td>0.0</td>\n",
       "      <td>0.000000</td>\n",
       "      <td>0.0</td>\n",
       "      <td>0.0</td>\n",
       "      <td>2022</td>\n",
       "      <td>4</td>\n",
       "    </tr>\n",
       "    <tr>\n",
       "      <th>8</th>\n",
       "      <td>57552</td>\n",
       "      <td>202201</td>\n",
       "      <td>100</td>\n",
       "      <td>NaN</td>\n",
       "      <td>NaN</td>\n",
       "      <td>NaN</td>\n",
       "      <td>7.470318e+05</td>\n",
       "      <td>-23768</td>\n",
       "      <td>2.0</td>\n",
       "      <td>2.0</td>\n",
       "      <td>...</td>\n",
       "      <td>NaN</td>\n",
       "      <td>NaN</td>\n",
       "      <td>NaN</td>\n",
       "      <td>NaN</td>\n",
       "      <td>NaN</td>\n",
       "      <td>NaN</td>\n",
       "      <td>NaN</td>\n",
       "      <td>NaN</td>\n",
       "      <td>2020</td>\n",
       "      <td>27</td>\n",
       "    </tr>\n",
       "    <tr>\n",
       "      <th>9</th>\n",
       "      <td>57632</td>\n",
       "      <td>202201</td>\n",
       "      <td>100</td>\n",
       "      <td>NaN</td>\n",
       "      <td>NaN</td>\n",
       "      <td>NaN</td>\n",
       "      <td>1.767700e+04</td>\n",
       "      <td>-23107</td>\n",
       "      <td>1.0</td>\n",
       "      <td>2.0</td>\n",
       "      <td>...</td>\n",
       "      <td>0.0</td>\n",
       "      <td>NaN</td>\n",
       "      <td>0.0</td>\n",
       "      <td>NaN</td>\n",
       "      <td>0.0</td>\n",
       "      <td>NaN</td>\n",
       "      <td>0.0</td>\n",
       "      <td>NaN</td>\n",
       "      <td>2022</td>\n",
       "      <td>5</td>\n",
       "    </tr>\n",
       "  </tbody>\n",
       "</table>\n",
       "<p>10 rows × 471 columns</p>\n",
       "</div>"
      ],
      "text/plain": [
       "   case_id   month  week_num  assignmentdate_238D  assignmentdate_4527235D  \\\n",
       "0    57633  202201       100                  NaN                      NaN   \n",
       "1    57549  202201       100                  NaN                      NaN   \n",
       "2    57551  202201       100                  NaN                      NaN   \n",
       "3    57569  202201       100                  NaN                      NaN   \n",
       "4    57634  202201       100                  NaN                      NaN   \n",
       "5    57543  202201       100                  NaN                      NaN   \n",
       "6    57630  202201       100                  NaN                      NaN   \n",
       "7    57631  202201       100                  NaN                      NaN   \n",
       "8    57552  202201       100                  NaN                      NaN   \n",
       "9    57632  202201       100                  NaN                      NaN   \n",
       "\n",
       "   birthdate_574D  contractssum_5085716L  dateofbirth_337D  days120_123L  \\\n",
       "0             NaN           6.373008e+06            -10496           3.0   \n",
       "1             NaN           1.563078e+06            -22723           6.0   \n",
       "2             NaN           2.926195e+06            -14090           1.0   \n",
       "3             NaN                    NaN            -26408           4.0   \n",
       "4             NaN           1.526365e+04            -16281           2.0   \n",
       "5             NaN           1.513640e+05            -14804           2.0   \n",
       "6             NaN           4.999750e+05            -19767           1.0   \n",
       "7             NaN           4.803345e+05            -12999           0.0   \n",
       "8             NaN           7.470318e+05            -23768           2.0   \n",
       "9             NaN           1.767700e+04            -23107           1.0   \n",
       "\n",
       "   days180_256L  ...  mean_pmts_dpd_1073P  mean_pmts_dpd_303P  \\\n",
       "0           3.0  ...                  0.0            0.000000   \n",
       "1           9.0  ...                  NaN                 NaN   \n",
       "2           3.0  ...                  NaN                 NaN   \n",
       "3           4.0  ...                  NaN         2328.571533   \n",
       "4           2.0  ...                  NaN                 NaN   \n",
       "5           4.0  ...                  0.0                 NaN   \n",
       "6           2.0  ...                  0.0            0.000000   \n",
       "7           0.0  ...                  0.0            0.000000   \n",
       "8           2.0  ...                  NaN                 NaN   \n",
       "9           2.0  ...                  0.0                 NaN   \n",
       "\n",
       "   mean_pmts_overdue_1140A mean_pmts_overdue_1152A var_pmts_dpd_1073P  \\\n",
       "0                      0.0                0.000000                NaN   \n",
       "1                      NaN                     NaN                NaN   \n",
       "2                      NaN                     NaN                NaN   \n",
       "3                      NaN            33346.402344                NaN   \n",
       "4                      NaN                     NaN                NaN   \n",
       "5                      0.0                     NaN                NaN   \n",
       "6                      0.0                0.000000                NaN   \n",
       "7                      0.0                0.000000                0.0   \n",
       "8                      NaN                     NaN                NaN   \n",
       "9                      0.0                     NaN                0.0   \n",
       "\n",
       "  var_pmts_dpd_303P  var_pmts_overdue_1140A  var_pmts_overdue_1152A  year day  \n",
       "0          0.000000                     0.0                     0.0  2022  25  \n",
       "1               NaN                     NaN                     NaN  2022  17  \n",
       "2               NaN                     NaN                     NaN  2020  27  \n",
       "3       3341.619141                     NaN                     0.0  2021  20  \n",
       "4               NaN                     NaN                     NaN  2021  27  \n",
       "5               NaN                     NaN                     NaN  2021  14  \n",
       "6               NaN                     NaN                     NaN  2021  16  \n",
       "7          0.000000                     0.0                     0.0  2022   4  \n",
       "8               NaN                     NaN                     NaN  2020  27  \n",
       "9               NaN                     0.0                     NaN  2022   5  \n",
       "\n",
       "[10 rows x 471 columns]"
      ]
     },
     "execution_count": 8,
     "metadata": {},
     "output_type": "execute_result"
    }
   ],
   "source": [
    "test_df"
   ]
  },
  {
   "cell_type": "markdown",
   "id": "2b5f09f7",
   "metadata": {
    "papermill": {
     "duration": 0.008271,
     "end_time": "2024-05-21T00:05:51.261718",
     "exception": false,
     "start_time": "2024-05-21T00:05:51.253447",
     "status": "completed"
    },
    "tags": []
   },
   "source": [
    "### Inference"
   ]
  },
  {
   "cell_type": "code",
   "execution_count": 9,
   "id": "2414eaec",
   "metadata": {
    "execution": {
     "iopub.execute_input": "2024-05-21T00:05:51.279249Z",
     "iopub.status.busy": "2024-05-21T00:05:51.278976Z",
     "iopub.status.idle": "2024-05-21T00:05:51.335701Z",
     "shell.execute_reply": "2024-05-21T00:05:51.334843Z"
    },
    "papermill": {
     "duration": 0.067737,
     "end_time": "2024-05-21T00:05:51.337696",
     "exception": false,
     "start_time": "2024-05-21T00:05:51.269959",
     "status": "completed"
    },
    "tags": []
   },
   "outputs": [
    {
     "data": {
      "text/html": [
       "<div>\n",
       "<style scoped>\n",
       "    .dataframe tbody tr th:only-of-type {\n",
       "        vertical-align: middle;\n",
       "    }\n",
       "\n",
       "    .dataframe tbody tr th {\n",
       "        vertical-align: top;\n",
       "    }\n",
       "\n",
       "    .dataframe thead th {\n",
       "        text-align: right;\n",
       "    }\n",
       "</style>\n",
       "<table border=\"1\" class=\"dataframe\">\n",
       "  <thead>\n",
       "    <tr style=\"text-align: right;\">\n",
       "      <th></th>\n",
       "      <th>score</th>\n",
       "    </tr>\n",
       "    <tr>\n",
       "      <th>case_id</th>\n",
       "      <th></th>\n",
       "    </tr>\n",
       "  </thead>\n",
       "  <tbody>\n",
       "    <tr>\n",
       "      <th>57633</th>\n",
       "      <td>0.1</td>\n",
       "    </tr>\n",
       "    <tr>\n",
       "      <th>57549</th>\n",
       "      <td>0.1</td>\n",
       "    </tr>\n",
       "    <tr>\n",
       "      <th>57551</th>\n",
       "      <td>0.1</td>\n",
       "    </tr>\n",
       "    <tr>\n",
       "      <th>57569</th>\n",
       "      <td>0.1</td>\n",
       "    </tr>\n",
       "    <tr>\n",
       "      <th>57634</th>\n",
       "      <td>0.1</td>\n",
       "    </tr>\n",
       "    <tr>\n",
       "      <th>57543</th>\n",
       "      <td>0.1</td>\n",
       "    </tr>\n",
       "    <tr>\n",
       "      <th>57630</th>\n",
       "      <td>0.1</td>\n",
       "    </tr>\n",
       "    <tr>\n",
       "      <th>57631</th>\n",
       "      <td>0.1</td>\n",
       "    </tr>\n",
       "    <tr>\n",
       "      <th>57552</th>\n",
       "      <td>0.1</td>\n",
       "    </tr>\n",
       "    <tr>\n",
       "      <th>57632</th>\n",
       "      <td>0.1</td>\n",
       "    </tr>\n",
       "  </tbody>\n",
       "</table>\n",
       "</div>"
      ],
      "text/plain": [
       "         score\n",
       "case_id       \n",
       "57633      0.1\n",
       "57549      0.1\n",
       "57551      0.1\n",
       "57569      0.1\n",
       "57634      0.1\n",
       "57543      0.1\n",
       "57630      0.1\n",
       "57631      0.1\n",
       "57552      0.1\n",
       "57632      0.1"
      ]
     },
     "execution_count": 9,
     "metadata": {},
     "output_type": "execute_result"
    }
   ],
   "source": [
    "X_test = test_df.drop(columns=[\"week_num\"]).set_index(\"case_id\")\n",
    "X_test[cat_cols] = X_test[cat_cols].astype(\"category\")\n",
    "# X_test[cat_cols] = X_test[cat_cols].apply(lambda x: x.cat.add_categories(['NaN']).fillna('NaN'))\n",
    "\n",
    "# preds = pd.Series(loaded_model.predict_proba(X_test)[:, 1], index=test_df.index)\n",
    "\n",
    "submission_df = pd.DataFrame(index=X_test.index)\n",
    "# submission_df[\"score\"] = preds\n",
    "submission_df[\"score\"] = 0.1\n",
    "\n",
    "# Metric Hack\n",
    "# https://www.kaggle.com/code/a520hh/fork-of-this-is-the-way/notebook\n",
    "# condition = preds < 0.98\n",
    "# submission_df.loc[condition, \"score\"] = (submission_df.loc[condition, \"score\"] - 0.073).clip(0)\n",
    "\n",
    "submission_df"
   ]
  },
  {
   "cell_type": "code",
   "execution_count": 10,
   "id": "d25054a0",
   "metadata": {
    "execution": {
     "iopub.execute_input": "2024-05-21T00:05:51.355778Z",
     "iopub.status.busy": "2024-05-21T00:05:51.355111Z",
     "iopub.status.idle": "2024-05-21T00:05:51.360922Z",
     "shell.execute_reply": "2024-05-21T00:05:51.360243Z"
    },
    "papermill": {
     "duration": 0.016733,
     "end_time": "2024-05-21T00:05:51.362765",
     "exception": false,
     "start_time": "2024-05-21T00:05:51.346032",
     "status": "completed"
    },
    "tags": []
   },
   "outputs": [],
   "source": [
    "submission_df.to_csv(\"submission.csv\")"
   ]
  },
  {
   "cell_type": "code",
   "execution_count": null,
   "id": "776c4c1f",
   "metadata": {
    "papermill": {
     "duration": 0.008608,
     "end_time": "2024-05-21T00:05:51.379899",
     "exception": false,
     "start_time": "2024-05-21T00:05:51.371291",
     "status": "completed"
    },
    "tags": []
   },
   "outputs": [],
   "source": []
  }
 ],
 "metadata": {
  "kaggle": {
   "accelerator": "gpu",
   "dataSources": [
    {
     "databundleVersionId": 7921029,
     "sourceId": 50160,
     "sourceType": "competition"
    },
    {
     "datasetId": 5038079,
     "sourceId": 8453472,
     "sourceType": "datasetVersion"
    },
    {
     "datasetId": 5038176,
     "sourceId": 8454976,
     "sourceType": "datasetVersion"
    }
   ],
   "dockerImageVersionId": 30699,
   "isGpuEnabled": true,
   "isInternetEnabled": false,
   "language": "python",
   "sourceType": "notebook"
  },
  "kernelspec": {
   "display_name": "Python 3",
   "language": "python",
   "name": "python3"
  },
  "language_info": {
   "codemirror_mode": {
    "name": "ipython",
    "version": 3
   },
   "file_extension": ".py",
   "mimetype": "text/x-python",
   "name": "python",
   "nbconvert_exporter": "python",
   "pygments_lexer": "ipython3",
   "version": "3.10.13"
  },
  "papermill": {
   "default_parameters": {},
   "duration": 175.564678,
   "end_time": "2024-05-21T00:05:52.308207",
   "environment_variables": {},
   "exception": null,
   "input_path": "__notebook__.ipynb",
   "output_path": "__notebook__.ipynb",
   "parameters": {},
   "start_time": "2024-05-21T00:02:56.743529",
   "version": "2.5.0"
  }
 },
 "nbformat": 4,
 "nbformat_minor": 5
}
