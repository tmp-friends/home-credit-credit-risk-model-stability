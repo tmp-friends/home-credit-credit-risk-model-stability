{
 "cells": [
  {
   "cell_type": "markdown",
   "id": "a5704514",
   "metadata": {
    "papermill": {
     "duration": 0.00541,
     "end_time": "2024-05-19T05:11:31.161711",
     "exception": false,
     "start_time": "2024-05-19T05:11:31.156301",
     "status": "completed"
    },
    "tags": []
   },
   "source": [
    "## Baseline - Infer\n",
    "\n",
    "※ Kaggle notebookのみで動かす\n",
    "\n",
    "https://www.kaggle.com/code/pxcai666/catboost-lightgbm-ensemble/notebook"
   ]
  },
  {
   "cell_type": "markdown",
   "id": "8af357ef",
   "metadata": {
    "papermill": {
     "duration": 0.004625,
     "end_time": "2024-05-19T05:11:31.171464",
     "exception": false,
     "start_time": "2024-05-19T05:11:31.166839",
     "status": "completed"
    },
    "tags": []
   },
   "source": [
    "### Configuration"
   ]
  },
  {
   "cell_type": "code",
   "execution_count": 1,
   "id": "3151c1c1",
   "metadata": {
    "execution": {
     "iopub.execute_input": "2024-05-19T05:11:31.182749Z",
     "iopub.status.busy": "2024-05-19T05:11:31.182377Z",
     "iopub.status.idle": "2024-05-19T05:11:37.390254Z",
     "shell.execute_reply": "2024-05-19T05:11:37.389325Z"
    },
    "papermill": {
     "duration": 6.216216,
     "end_time": "2024-05-19T05:11:37.392497",
     "exception": false,
     "start_time": "2024-05-19T05:11:31.176281",
     "status": "completed"
    },
    "tags": []
   },
   "outputs": [],
   "source": [
    "import sys\n",
    "from pathlib import Path\n",
    "import subprocess\n",
    "import os\n",
    "import gc\n",
    "from glob import glob\n",
    "import pickle\n",
    "\n",
    "import numpy as np\n",
    "import pandas as pd\n",
    "import polars as pl\n",
    "from datetime import datetime\n",
    "import seaborn as sns\n",
    "import matplotlib.pyplot as plt\n",
    "\n",
    "from sklearn.model_selection import TimeSeriesSplit, GroupKFold, StratifiedGroupKFold\n",
    "from sklearn.base import BaseEstimator, RegressorMixin\n",
    "from sklearn.metrics import roc_auc_score\n",
    "from catboost import CatBoostClassifier, Pool\n",
    "import lightgbm as lgb\n",
    "\n",
    "from imblearn.over_sampling import SMOTE\n",
    "from sklearn.preprocessing import OrdinalEncoder\n",
    "from sklearn.impute import KNNImputer"
   ]
  },
  {
   "cell_type": "code",
   "execution_count": 2,
   "id": "d0b78dce",
   "metadata": {
    "execution": {
     "iopub.execute_input": "2024-05-19T05:11:37.404456Z",
     "iopub.status.busy": "2024-05-19T05:11:37.403899Z",
     "iopub.status.idle": "2024-05-19T05:11:37.408197Z",
     "shell.execute_reply": "2024-05-19T05:11:37.407356Z"
    },
    "papermill": {
     "duration": 0.012297,
     "end_time": "2024-05-19T05:11:37.410146",
     "exception": false,
     "start_time": "2024-05-19T05:11:37.397849",
     "status": "completed"
    },
    "tags": []
   },
   "outputs": [],
   "source": [
    "# Kaggle\n",
    "sys.path.append('/kaggle/input/home-credit-crms-repo')"
   ]
  },
  {
   "cell_type": "code",
   "execution_count": 3,
   "id": "a2ce86db",
   "metadata": {
    "execution": {
     "iopub.execute_input": "2024-05-19T05:11:37.421617Z",
     "iopub.status.busy": "2024-05-19T05:11:37.420919Z",
     "iopub.status.idle": "2024-05-19T05:11:37.425285Z",
     "shell.execute_reply": "2024-05-19T05:11:37.424483Z"
    },
    "papermill": {
     "duration": 0.011972,
     "end_time": "2024-05-19T05:11:37.427152",
     "exception": false,
     "start_time": "2024-05-19T05:11:37.415180",
     "status": "completed"
    },
    "tags": []
   },
   "outputs": [],
   "source": [
    "ROOT = \"/kaggle/input/home-credit-credit-risk-model-stability\"\n",
    "\n",
    "TRAIN_DIR = os.path.join(ROOT, \"parquet_files\", \"train\")\n",
    "TEST_DIR = os.path.join(ROOT, \"parquet_files\", \"test\")"
   ]
  },
  {
   "cell_type": "markdown",
   "id": "56805b0c",
   "metadata": {
    "papermill": {
     "duration": 0.004805,
     "end_time": "2024-05-19T05:11:37.437156",
     "exception": false,
     "start_time": "2024-05-19T05:11:37.432351",
     "status": "completed"
    },
    "tags": []
   },
   "source": [
    "### Def utility classes"
   ]
  },
  {
   "cell_type": "code",
   "execution_count": 4,
   "id": "f27b139a",
   "metadata": {
    "execution": {
     "iopub.execute_input": "2024-05-19T05:11:37.447898Z",
     "iopub.status.busy": "2024-05-19T05:11:37.447634Z",
     "iopub.status.idle": "2024-05-19T05:11:37.479851Z",
     "shell.execute_reply": "2024-05-19T05:11:37.478952Z"
    },
    "papermill": {
     "duration": 0.039731,
     "end_time": "2024-05-19T05:11:37.481847",
     "exception": false,
     "start_time": "2024-05-19T05:11:37.442116",
     "status": "completed"
    },
    "tags": []
   },
   "outputs": [],
   "source": [
    "from src.utils.utility import Utility\n",
    "from src.utils.schema_gen import SchemaGen\n",
    "from src.utils.pipeline import Pipeline\n",
    "from src.utils.aggregator import Aggregator"
   ]
  },
  {
   "cell_type": "markdown",
   "id": "832587a3",
   "metadata": {
    "papermill": {
     "duration": 0.004972,
     "end_time": "2024-05-19T05:11:37.492115",
     "exception": false,
     "start_time": "2024-05-19T05:11:37.487143",
     "status": "completed"
    },
    "tags": []
   },
   "source": [
    "### Read train data"
   ]
  },
  {
   "cell_type": "code",
   "execution_count": 5,
   "id": "5c1ee3ac",
   "metadata": {
    "execution": {
     "iopub.execute_input": "2024-05-19T05:11:37.504358Z",
     "iopub.status.busy": "2024-05-19T05:11:37.503742Z",
     "iopub.status.idle": "2024-05-19T05:11:38.644655Z",
     "shell.execute_reply": "2024-05-19T05:11:38.643773Z"
    },
    "papermill": {
     "duration": 1.149246,
     "end_time": "2024-05-19T05:11:38.646738",
     "exception": false,
     "start_time": "2024-05-19T05:11:37.497492",
     "status": "completed"
    },
    "tags": []
   },
   "outputs": [
    {
     "name": "stdout",
     "output_type": "stream",
     "text": [
      "File train_base loaded into memory.\n",
      "Memory usage of dataframe \"train_df\" is 37.8543 MB.\n",
      "Memory usage of dataframe \"train_df\" became 20.3831 MB.\n",
      "Memory usage of dataframe \"train_df\" is 18.9272 MB.\n",
      "Memory usage of dataframe \"train_df\" became 18.9272 MB.\n",
      "Train data shape: (1526659, 6)\n"
     ]
    },
    {
     "data": {
      "text/html": [
       "<div><style>\n",
       ".dataframe > thead > tr,\n",
       ".dataframe > tbody > tr {\n",
       "  text-align: right;\n",
       "  white-space: pre-wrap;\n",
       "}\n",
       "</style>\n",
       "<small>shape: (10, 6)</small><table border=\"1\" class=\"dataframe\"><thead><tr><th>case_id</th><th>month</th><th>week_num</th><th>target</th><th>year</th><th>day</th></tr><tr><td>u32</td><td>u32</td><td>u8</td><td>u8</td><td>u16</td><td>u8</td></tr></thead><tbody><tr><td>141511</td><td>201907</td><td>27</td><td>0</td><td>2019</td><td>9</td></tr><tr><td>747618</td><td>201907</td><td>28</td><td>0</td><td>2019</td><td>20</td></tr><tr><td>902356</td><td>201912</td><td>50</td><td>0</td><td>2019</td><td>17</td></tr><tr><td>1727389</td><td>201912</td><td>52</td><td>0</td><td>2019</td><td>31</td></tr><tr><td>1869468</td><td>202006</td><td>77</td><td>0</td><td>2020</td><td>23</td></tr><tr><td>131757</td><td>201905</td><td>21</td><td>1</td><td>2019</td><td>28</td></tr><tr><td>619514</td><td>201901</td><td>3</td><td>0</td><td>2019</td><td>26</td></tr><tr><td>1363008</td><td>201905</td><td>18</td><td>0</td><td>2019</td><td>10</td></tr><tr><td>1843992</td><td>202005</td><td>72</td><td>0</td><td>2020</td><td>20</td></tr><tr><td>2699640</td><td>202009</td><td>89</td><td>0</td><td>2020</td><td>17</td></tr></tbody></table></div>"
      ],
      "text/plain": [
       "shape: (10, 6)\n",
       "┌─────────┬────────┬──────────┬────────┬──────┬─────┐\n",
       "│ case_id ┆ month  ┆ week_num ┆ target ┆ year ┆ day │\n",
       "│ ---     ┆ ---    ┆ ---      ┆ ---    ┆ ---  ┆ --- │\n",
       "│ u32     ┆ u32    ┆ u8       ┆ u8     ┆ u16  ┆ u8  │\n",
       "╞═════════╪════════╪══════════╪════════╪══════╪═════╡\n",
       "│ 141511  ┆ 201907 ┆ 27       ┆ 0      ┆ 2019 ┆ 9   │\n",
       "│ 747618  ┆ 201907 ┆ 28       ┆ 0      ┆ 2019 ┆ 20  │\n",
       "│ 902356  ┆ 201912 ┆ 50       ┆ 0      ┆ 2019 ┆ 17  │\n",
       "│ 1727389 ┆ 201912 ┆ 52       ┆ 0      ┆ 2019 ┆ 31  │\n",
       "│ 1869468 ┆ 202006 ┆ 77       ┆ 0      ┆ 2020 ┆ 23  │\n",
       "│ 131757  ┆ 201905 ┆ 21       ┆ 1      ┆ 2019 ┆ 28  │\n",
       "│ 619514  ┆ 201901 ┆ 3        ┆ 0      ┆ 2019 ┆ 26  │\n",
       "│ 1363008 ┆ 201905 ┆ 18       ┆ 0      ┆ 2019 ┆ 10  │\n",
       "│ 1843992 ┆ 202005 ┆ 72       ┆ 0      ┆ 2020 ┆ 20  │\n",
       "│ 2699640 ┆ 202009 ┆ 89       ┆ 0      ┆ 2020 ┆ 17  │\n",
       "└─────────┴────────┴──────────┴────────┴──────┴─────┘"
      ]
     },
     "metadata": {},
     "output_type": "display_data"
    },
    {
     "name": "stdout",
     "output_type": "stream",
     "text": [
      "CPU times: user 1.17 s, sys: 345 ms, total: 1.51 s\n",
      "Wall time: 1.13 s\n"
     ]
    }
   ],
   "source": [
    "%%time\n",
    "\n",
    "data_store: dict = {\n",
    "    \"df_base\": SchemaGen.scan_files(os.path.join(TRAIN_DIR, \"train_base.parquet\")),\n",
    "    \"depth_0\": [\n",
    "#         SchemaGen.scan_files(os.path.join(TRAIN_DIR, \"train_static_cb_0.parquet\")),\n",
    "#         SchemaGen.scan_files(os.path.join(TRAIN_DIR, \"train_static_0_*.parquet\")),\n",
    "    ],\n",
    "    \"depth_1\": [\n",
    "#         SchemaGen.scan_files(os.path.join(TRAIN_DIR, \"train_applprev_1_*.parquet\"), 1),\n",
    "#         SchemaGen.scan_files(os.path.join(TRAIN_DIR, \"train_tax_registry_a_1.parquet\"), 1),\n",
    "#         SchemaGen.scan_files(os.path.join(TRAIN_DIR, \"train_tax_registry_b_1.parquet\"), 1),\n",
    "#         SchemaGen.scan_files(os.path.join(TRAIN_DIR, \"train_tax_registry_c_1.parquet\"), 1),\n",
    "#         SchemaGen.scan_files(os.path.join(TRAIN_DIR, \"train_credit_bureau_a_1_*.parquet\"), 1),\n",
    "#         SchemaGen.scan_files(os.path.join(TRAIN_DIR, \"train_credit_bureau_b_1.parquet\"), 1),\n",
    "#         SchemaGen.scan_files(os.path.join(TRAIN_DIR, \"train_other_1.parquet\"), 1),\n",
    "#         SchemaGen.scan_files(os.path.join(TRAIN_DIR, \"train_person_1.parquet\"), 1),\n",
    "#         SchemaGen.scan_files(os.path.join(TRAIN_DIR, \"train_deposit_1.parquet\"), 1),\n",
    "#         SchemaGen.scan_files(os.path.join(TRAIN_DIR, \"train_debitcard_1.parquet\"), 1),\n",
    "    ],\n",
    "    \"depth_2\": [\n",
    "#         SchemaGen.scan_files(os.path.join(TRAIN_DIR, \"train_credit_bureau_a_2_*.parquet\"), 2),\n",
    "#         SchemaGen.scan_files(os.path.join(TRAIN_DIR, \"train_credit_bureau_b_2.parquet\"), 2),\n",
    "    ],\n",
    "}\n",
    "\n",
    "train_df: pl.LazyFrame = (\n",
    "    SchemaGen.join_dataframes(**data_store)\n",
    "    .pipe(Pipeline.filter_cols)\n",
    "    .pipe(Pipeline.transform_cols)\n",
    "    .pipe(Pipeline.handle_dates)\n",
    "    .pipe(Utility.reduce_memory_usage, \"train_df\")\n",
    ")\n",
    "\n",
    "del data_store\n",
    "gc.collect()\n",
    "\n",
    "print(f\"Train data shape: {train_df.shape}\")\n",
    "display(train_df.head(10))"
   ]
  },
  {
   "cell_type": "code",
   "execution_count": 6,
   "id": "62a1d452",
   "metadata": {
    "execution": {
     "iopub.execute_input": "2024-05-19T05:11:38.659092Z",
     "iopub.status.busy": "2024-05-19T05:11:38.658770Z",
     "iopub.status.idle": "2024-05-19T05:11:38.792819Z",
     "shell.execute_reply": "2024-05-19T05:11:38.792002Z"
    },
    "papermill": {
     "duration": 0.142501,
     "end_time": "2024-05-19T05:11:38.794963",
     "exception": false,
     "start_time": "2024-05-19T05:11:38.652462",
     "status": "completed"
    },
    "tags": []
   },
   "outputs": [
    {
     "data": {
      "text/plain": [
       "0"
      ]
     },
     "execution_count": 6,
     "metadata": {},
     "output_type": "execute_result"
    }
   ],
   "source": [
    "cols = train_df.columns\n",
    "train_df, cat_cols = Utility.to_pandas(train_df)\n",
    "\n",
    "del train_df\n",
    "gc.collect()"
   ]
  },
  {
   "cell_type": "markdown",
   "id": "44afaacb",
   "metadata": {
    "papermill": {
     "duration": 0.005418,
     "end_time": "2024-05-19T05:11:38.806184",
     "exception": false,
     "start_time": "2024-05-19T05:11:38.800766",
     "status": "completed"
    },
    "tags": []
   },
   "source": [
    "### Read test data"
   ]
  },
  {
   "cell_type": "code",
   "execution_count": 7,
   "id": "a86a4e1b",
   "metadata": {
    "execution": {
     "iopub.execute_input": "2024-05-19T05:11:38.818755Z",
     "iopub.status.busy": "2024-05-19T05:11:38.818445Z",
     "iopub.status.idle": "2024-05-19T05:11:39.018883Z",
     "shell.execute_reply": "2024-05-19T05:11:39.017968Z"
    },
    "papermill": {
     "duration": 0.209131,
     "end_time": "2024-05-19T05:11:39.020988",
     "exception": false,
     "start_time": "2024-05-19T05:11:38.811857",
     "status": "completed"
    },
    "tags": []
   },
   "outputs": [
    {
     "name": "stdout",
     "output_type": "stream",
     "text": [
      "File test_base loaded into memory.\n",
      "Memory usage of dataframe \"train_df\" is 0.0002 MB.\n",
      "Memory usage of dataframe \"train_df\" became 0.0001 MB.\n",
      "Memory usage of dataframe \"test_df\" is 0.0001 MB.\n",
      "Memory usage of dataframe \"test_df\" became 0.0001 MB.\n",
      "Test data shape: (10, 5)\n"
     ]
    }
   ],
   "source": [
    "data_store = {\n",
    "    \"df_base\": SchemaGen.scan_files(os.path.join(TEST_DIR, \"test_base.parquet\")),\n",
    "    \"depth_0\": [\n",
    "#         SchemaGen.scan_files(os.path.join(TEST_DIR, \"test_static_cb_0.parquet\")),\n",
    "#         SchemaGen.scan_files(os.path.join(TEST_DIR, \"test_static_0_*.parquet\")),\n",
    "    ],\n",
    "    \"depth_1\": [\n",
    "#         SchemaGen.scan_files(os.path.join(TEST_DIR, \"test_applprev_1_*.parquet\"), 1),\n",
    "#         SchemaGen.scan_files(os.path.join(TEST_DIR, \"test_tax_registry_a_1.parquet\"), 1),\n",
    "#         SchemaGen.scan_files(os.path.join(TEST_DIR, \"test_tax_registry_b_1.parquet\"), 1),\n",
    "#         SchemaGen.scan_files(os.path.join(TEST_DIR, \"test_tax_registry_c_1.parquet\"), 1),\n",
    "#         SchemaGen.scan_files(os.path.join(TEST_DIR, \"test_credit_bureau_a_1_*.parquet\"), 1),\n",
    "#         SchemaGen.scan_files(os.path.join(TEST_DIR, \"test_credit_bureau_b_1.parquet\"), 1),\n",
    "#         SchemaGen.scan_files(os.path.join(TEST_DIR, \"test_other_1.parquet\"), 1),\n",
    "#         SchemaGen.scan_files(os.path.join(TEST_DIR, \"test_person_1.parquet\"), 1),\n",
    "#         SchemaGen.scan_files(os.path.join(TEST_DIR, \"test_deposit_1.parquet\"), 1),\n",
    "#         SchemaGen.scan_files(os.path.join(TEST_DIR, \"test_debitcard_1.parquet\"), 1),\n",
    "    ],\n",
    "    \"depth_2\": [\n",
    "#         SchemaGen.scan_files(os.path.join(TEST_DIR, \"test_credit_bureau_b_2.parquet\"), 2),\n",
    "#         SchemaGen.scan_files(os.path.join(TEST_DIR, \"test_credit_bureau_a_2_*.parquet\"), 2),\n",
    "#         # SchemaGen.scan_files(os.path.join(TEST_DIR, \"test_applprev_2.parquet\"), 2),\n",
    "#         # SchemaGen.scan_files(os.path.join(TEST_DIR, \"test_person_2.parquet\"), 2)\n",
    "    ],\n",
    "}\n",
    "\n",
    "test_df: pl.DataFrame = (\n",
    "    SchemaGen.join_dataframes(**data_store)\n",
    "    .pipe(Pipeline.transform_cols)\n",
    "    .pipe(Pipeline.handle_dates)\n",
    "    .select([col for col in cols if col != \"target\"])\n",
    "    .pipe(Utility.reduce_memory_usage, \"test_df\")\n",
    ")\n",
    "\n",
    "del data_store\n",
    "gc.collect()\n",
    "\n",
    "print(f\"Test data shape: {test_df.shape}\")"
   ]
  },
  {
   "cell_type": "code",
   "execution_count": 8,
   "id": "7f146eb4",
   "metadata": {
    "execution": {
     "iopub.execute_input": "2024-05-19T05:11:39.034190Z",
     "iopub.status.busy": "2024-05-19T05:11:39.033876Z",
     "iopub.status.idle": "2024-05-19T05:11:39.040678Z",
     "shell.execute_reply": "2024-05-19T05:11:39.039910Z"
    },
    "papermill": {
     "duration": 0.015491,
     "end_time": "2024-05-19T05:11:39.042762",
     "exception": false,
     "start_time": "2024-05-19T05:11:39.027271",
     "status": "completed"
    },
    "tags": []
   },
   "outputs": [],
   "source": [
    "test_df, cat_cols = Utility.to_pandas(test_df, cat_cols)"
   ]
  },
  {
   "cell_type": "code",
   "execution_count": 9,
   "id": "f256e8c8",
   "metadata": {
    "execution": {
     "iopub.execute_input": "2024-05-19T05:11:39.056477Z",
     "iopub.status.busy": "2024-05-19T05:11:39.056179Z",
     "iopub.status.idle": "2024-05-19T05:11:39.069993Z",
     "shell.execute_reply": "2024-05-19T05:11:39.068945Z"
    },
    "papermill": {
     "duration": 0.022793,
     "end_time": "2024-05-19T05:11:39.071897",
     "exception": false,
     "start_time": "2024-05-19T05:11:39.049104",
     "status": "completed"
    },
    "tags": []
   },
   "outputs": [
    {
     "data": {
      "text/html": [
       "<div>\n",
       "<style scoped>\n",
       "    .dataframe tbody tr th:only-of-type {\n",
       "        vertical-align: middle;\n",
       "    }\n",
       "\n",
       "    .dataframe tbody tr th {\n",
       "        vertical-align: top;\n",
       "    }\n",
       "\n",
       "    .dataframe thead th {\n",
       "        text-align: right;\n",
       "    }\n",
       "</style>\n",
       "<table border=\"1\" class=\"dataframe\">\n",
       "  <thead>\n",
       "    <tr style=\"text-align: right;\">\n",
       "      <th></th>\n",
       "      <th>case_id</th>\n",
       "      <th>month</th>\n",
       "      <th>week_num</th>\n",
       "      <th>year</th>\n",
       "      <th>day</th>\n",
       "    </tr>\n",
       "  </thead>\n",
       "  <tbody>\n",
       "    <tr>\n",
       "      <th>0</th>\n",
       "      <td>57632</td>\n",
       "      <td>202201</td>\n",
       "      <td>100</td>\n",
       "      <td>2022</td>\n",
       "      <td>5</td>\n",
       "    </tr>\n",
       "    <tr>\n",
       "      <th>1</th>\n",
       "      <td>57551</td>\n",
       "      <td>202201</td>\n",
       "      <td>100</td>\n",
       "      <td>2020</td>\n",
       "      <td>27</td>\n",
       "    </tr>\n",
       "    <tr>\n",
       "      <th>2</th>\n",
       "      <td>57630</td>\n",
       "      <td>202201</td>\n",
       "      <td>100</td>\n",
       "      <td>2021</td>\n",
       "      <td>16</td>\n",
       "    </tr>\n",
       "    <tr>\n",
       "      <th>3</th>\n",
       "      <td>57634</td>\n",
       "      <td>202201</td>\n",
       "      <td>100</td>\n",
       "      <td>2021</td>\n",
       "      <td>27</td>\n",
       "    </tr>\n",
       "    <tr>\n",
       "      <th>4</th>\n",
       "      <td>57552</td>\n",
       "      <td>202201</td>\n",
       "      <td>100</td>\n",
       "      <td>2020</td>\n",
       "      <td>27</td>\n",
       "    </tr>\n",
       "    <tr>\n",
       "      <th>5</th>\n",
       "      <td>57549</td>\n",
       "      <td>202201</td>\n",
       "      <td>100</td>\n",
       "      <td>2022</td>\n",
       "      <td>17</td>\n",
       "    </tr>\n",
       "    <tr>\n",
       "      <th>6</th>\n",
       "      <td>57543</td>\n",
       "      <td>202201</td>\n",
       "      <td>100</td>\n",
       "      <td>2021</td>\n",
       "      <td>14</td>\n",
       "    </tr>\n",
       "    <tr>\n",
       "      <th>7</th>\n",
       "      <td>57631</td>\n",
       "      <td>202201</td>\n",
       "      <td>100</td>\n",
       "      <td>2022</td>\n",
       "      <td>4</td>\n",
       "    </tr>\n",
       "    <tr>\n",
       "      <th>8</th>\n",
       "      <td>57569</td>\n",
       "      <td>202201</td>\n",
       "      <td>100</td>\n",
       "      <td>2021</td>\n",
       "      <td>20</td>\n",
       "    </tr>\n",
       "    <tr>\n",
       "      <th>9</th>\n",
       "      <td>57633</td>\n",
       "      <td>202201</td>\n",
       "      <td>100</td>\n",
       "      <td>2022</td>\n",
       "      <td>25</td>\n",
       "    </tr>\n",
       "  </tbody>\n",
       "</table>\n",
       "</div>"
      ],
      "text/plain": [
       "   case_id   month  week_num  year  day\n",
       "0    57632  202201       100  2022    5\n",
       "1    57551  202201       100  2020   27\n",
       "2    57630  202201       100  2021   16\n",
       "3    57634  202201       100  2021   27\n",
       "4    57552  202201       100  2020   27\n",
       "5    57549  202201       100  2022   17\n",
       "6    57543  202201       100  2021   14\n",
       "7    57631  202201       100  2022    4\n",
       "8    57569  202201       100  2021   20\n",
       "9    57633  202201       100  2022   25"
      ]
     },
     "execution_count": 9,
     "metadata": {},
     "output_type": "execute_result"
    }
   ],
   "source": [
    "test_df"
   ]
  },
  {
   "cell_type": "markdown",
   "id": "b4d81236",
   "metadata": {
    "papermill": {
     "duration": 0.005707,
     "end_time": "2024-05-19T05:11:39.083528",
     "exception": false,
     "start_time": "2024-05-19T05:11:39.077821",
     "status": "completed"
    },
    "tags": []
   },
   "source": [
    "### Inference"
   ]
  },
  {
   "cell_type": "code",
   "execution_count": 10,
   "id": "c5da8ea2",
   "metadata": {
    "execution": {
     "iopub.execute_input": "2024-05-19T05:11:39.096502Z",
     "iopub.status.busy": "2024-05-19T05:11:39.096004Z",
     "iopub.status.idle": "2024-05-19T05:11:39.110926Z",
     "shell.execute_reply": "2024-05-19T05:11:39.110113Z"
    },
    "papermill": {
     "duration": 0.023452,
     "end_time": "2024-05-19T05:11:39.112854",
     "exception": false,
     "start_time": "2024-05-19T05:11:39.089402",
     "status": "completed"
    },
    "tags": []
   },
   "outputs": [
    {
     "data": {
      "text/html": [
       "<div>\n",
       "<style scoped>\n",
       "    .dataframe tbody tr th:only-of-type {\n",
       "        vertical-align: middle;\n",
       "    }\n",
       "\n",
       "    .dataframe tbody tr th {\n",
       "        vertical-align: top;\n",
       "    }\n",
       "\n",
       "    .dataframe thead th {\n",
       "        text-align: right;\n",
       "    }\n",
       "</style>\n",
       "<table border=\"1\" class=\"dataframe\">\n",
       "  <thead>\n",
       "    <tr style=\"text-align: right;\">\n",
       "      <th></th>\n",
       "      <th>score</th>\n",
       "    </tr>\n",
       "    <tr>\n",
       "      <th>case_id</th>\n",
       "      <th></th>\n",
       "    </tr>\n",
       "  </thead>\n",
       "  <tbody>\n",
       "    <tr>\n",
       "      <th>57632</th>\n",
       "      <td>0.1</td>\n",
       "    </tr>\n",
       "    <tr>\n",
       "      <th>57551</th>\n",
       "      <td>0.1</td>\n",
       "    </tr>\n",
       "    <tr>\n",
       "      <th>57630</th>\n",
       "      <td>0.1</td>\n",
       "    </tr>\n",
       "    <tr>\n",
       "      <th>57634</th>\n",
       "      <td>0.1</td>\n",
       "    </tr>\n",
       "    <tr>\n",
       "      <th>57552</th>\n",
       "      <td>0.1</td>\n",
       "    </tr>\n",
       "    <tr>\n",
       "      <th>57549</th>\n",
       "      <td>0.1</td>\n",
       "    </tr>\n",
       "    <tr>\n",
       "      <th>57543</th>\n",
       "      <td>0.1</td>\n",
       "    </tr>\n",
       "    <tr>\n",
       "      <th>57631</th>\n",
       "      <td>0.1</td>\n",
       "    </tr>\n",
       "    <tr>\n",
       "      <th>57569</th>\n",
       "      <td>0.1</td>\n",
       "    </tr>\n",
       "    <tr>\n",
       "      <th>57633</th>\n",
       "      <td>0.1</td>\n",
       "    </tr>\n",
       "  </tbody>\n",
       "</table>\n",
       "</div>"
      ],
      "text/plain": [
       "         score\n",
       "case_id       \n",
       "57632      0.1\n",
       "57551      0.1\n",
       "57630      0.1\n",
       "57634      0.1\n",
       "57552      0.1\n",
       "57549      0.1\n",
       "57543      0.1\n",
       "57631      0.1\n",
       "57569      0.1\n",
       "57633      0.1"
      ]
     },
     "execution_count": 10,
     "metadata": {},
     "output_type": "execute_result"
    }
   ],
   "source": [
    "X_test = test_df.drop(columns=[\"week_num\"]).set_index(\"case_id\")\n",
    "X_test[cat_cols] = X_test[cat_cols].astype(\"category\")\n",
    "# X_test[cat_cols] = X_test[cat_cols].apply(lambda x: x.cat.add_categories(['NaN']).fillna('NaN'))\n",
    "\n",
    "# preds = pd.Series(loaded_model.predict_proba(X_test)[:, 1], index=test_df.index)\n",
    "\n",
    "submission_df = pd.DataFrame(index=X_test.index)\n",
    "# submission_df[\"score\"] = preds\n",
    "submission_df[\"score\"] = 0.1\n",
    "\n",
    "# Metric Hack\n",
    "# https://www.kaggle.com/code/a520hh/fork-of-this-is-the-way/notebook\n",
    "# condition = preds < 0.98\n",
    "# submission_df.loc[condition, \"score\"] = (submission_df.loc[condition, \"score\"] - 0.073).clip(0)\n",
    "\n",
    "submission_df"
   ]
  },
  {
   "cell_type": "code",
   "execution_count": 11,
   "id": "09bae722",
   "metadata": {
    "execution": {
     "iopub.execute_input": "2024-05-19T05:11:39.126958Z",
     "iopub.status.busy": "2024-05-19T05:11:39.126716Z",
     "iopub.status.idle": "2024-05-19T05:11:39.132777Z",
     "shell.execute_reply": "2024-05-19T05:11:39.132038Z"
    },
    "papermill": {
     "duration": 0.014903,
     "end_time": "2024-05-19T05:11:39.134651",
     "exception": false,
     "start_time": "2024-05-19T05:11:39.119748",
     "status": "completed"
    },
    "tags": []
   },
   "outputs": [],
   "source": [
    "submission_df.to_csv(\"submission.csv\")"
   ]
  },
  {
   "cell_type": "code",
   "execution_count": null,
   "id": "c1090646",
   "metadata": {
    "papermill": {
     "duration": 0.005854,
     "end_time": "2024-05-19T05:11:39.146617",
     "exception": false,
     "start_time": "2024-05-19T05:11:39.140763",
     "status": "completed"
    },
    "tags": []
   },
   "outputs": [],
   "source": []
  }
 ],
 "metadata": {
  "kaggle": {
   "accelerator": "gpu",
   "dataSources": [
    {
     "databundleVersionId": 7921029,
     "sourceId": 50160,
     "sourceType": "competition"
    },
    {
     "datasetId": 5038079,
     "sourceId": 8453472,
     "sourceType": "datasetVersion"
    },
    {
     "datasetId": 5038176,
     "sourceId": 8454976,
     "sourceType": "datasetVersion"
    }
   ],
   "dockerImageVersionId": 30699,
   "isGpuEnabled": true,
   "isInternetEnabled": false,
   "language": "python",
   "sourceType": "notebook"
  },
  "kernelspec": {
   "display_name": "Python 3",
   "language": "python",
   "name": "python3"
  },
  "language_info": {
   "codemirror_mode": {
    "name": "ipython",
    "version": 3
   },
   "file_extension": ".py",
   "mimetype": "text/x-python",
   "name": "python",
   "nbconvert_exporter": "python",
   "pygments_lexer": "ipython3",
   "version": "3.10.13"
  },
  "papermill": {
   "default_parameters": {},
   "duration": 11.416995,
   "end_time": "2024-05-19T05:11:39.770986",
   "environment_variables": {},
   "exception": null,
   "input_path": "__notebook__.ipynb",
   "output_path": "__notebook__.ipynb",
   "parameters": {},
   "start_time": "2024-05-19T05:11:28.353991",
   "version": "2.5.0"
  }
 },
 "nbformat": 4,
 "nbformat_minor": 5
}
