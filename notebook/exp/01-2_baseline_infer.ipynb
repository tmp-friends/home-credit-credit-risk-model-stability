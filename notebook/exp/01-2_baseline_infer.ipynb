{
 "cells": [
  {
   "cell_type": "markdown",
   "id": "9d713e1f",
   "metadata": {
    "papermill": {
     "duration": 0.005434,
     "end_time": "2024-05-19T00:02:51.081639",
     "exception": false,
     "start_time": "2024-05-19T00:02:51.076205",
     "status": "completed"
    },
    "tags": []
   },
   "source": [
    "## Baseline - Infer\n",
    "\n",
    "※ Kaggle notebookのみで動かす\n",
    "\n",
    "https://www.kaggle.com/code/pxcai666/catboost-lightgbm-ensemble/notebook"
   ]
  },
  {
   "cell_type": "markdown",
   "id": "47c379fc",
   "metadata": {
    "papermill": {
     "duration": 0.00474,
     "end_time": "2024-05-19T00:02:51.091596",
     "exception": false,
     "start_time": "2024-05-19T00:02:51.086856",
     "status": "completed"
    },
    "tags": []
   },
   "source": [
    "### Configuration"
   ]
  },
  {
   "cell_type": "code",
   "execution_count": 1,
   "id": "dd2df3d4",
   "metadata": {
    "execution": {
     "iopub.execute_input": "2024-05-19T00:02:51.103192Z",
     "iopub.status.busy": "2024-05-19T00:02:51.102811Z",
     "iopub.status.idle": "2024-05-19T00:02:57.126502Z",
     "shell.execute_reply": "2024-05-19T00:02:57.125443Z"
    },
    "papermill": {
     "duration": 6.032762,
     "end_time": "2024-05-19T00:02:57.129222",
     "exception": false,
     "start_time": "2024-05-19T00:02:51.096460",
     "status": "completed"
    },
    "tags": []
   },
   "outputs": [],
   "source": [
    "import sys\n",
    "from pathlib import Path\n",
    "import subprocess\n",
    "import os\n",
    "import gc\n",
    "from glob import glob\n",
    "import pickle\n",
    "\n",
    "import numpy as np\n",
    "import pandas as pd\n",
    "import polars as pl\n",
    "from datetime import datetime\n",
    "import seaborn as sns\n",
    "import matplotlib.pyplot as plt\n",
    "\n",
    "from sklearn.model_selection import TimeSeriesSplit, GroupKFold, StratifiedGroupKFold\n",
    "from sklearn.base import BaseEstimator, RegressorMixin\n",
    "from sklearn.metrics import roc_auc_score\n",
    "from catboost import CatBoostClassifier, Pool\n",
    "import lightgbm as lgb\n",
    "\n",
    "from imblearn.over_sampling import SMOTE\n",
    "from sklearn.preprocessing import OrdinalEncoder\n",
    "from sklearn.impute import KNNImputer"
   ]
  },
  {
   "cell_type": "code",
   "execution_count": 2,
   "id": "6964e948",
   "metadata": {
    "execution": {
     "iopub.execute_input": "2024-05-19T00:02:57.143929Z",
     "iopub.status.busy": "2024-05-19T00:02:57.143304Z",
     "iopub.status.idle": "2024-05-19T00:02:57.148056Z",
     "shell.execute_reply": "2024-05-19T00:02:57.147211Z"
    },
    "papermill": {
     "duration": 0.014577,
     "end_time": "2024-05-19T00:02:57.150073",
     "exception": false,
     "start_time": "2024-05-19T00:02:57.135496",
     "status": "completed"
    },
    "tags": []
   },
   "outputs": [],
   "source": [
    "# Kaggle\n",
    "sys.path.append('/kaggle/input/home-credit-crms-repo')"
   ]
  },
  {
   "cell_type": "code",
   "execution_count": 3,
   "id": "54cf6717",
   "metadata": {
    "execution": {
     "iopub.execute_input": "2024-05-19T00:02:57.161840Z",
     "iopub.status.busy": "2024-05-19T00:02:57.161256Z",
     "iopub.status.idle": "2024-05-19T00:02:57.165849Z",
     "shell.execute_reply": "2024-05-19T00:02:57.164955Z"
    },
    "papermill": {
     "duration": 0.01277,
     "end_time": "2024-05-19T00:02:57.168098",
     "exception": false,
     "start_time": "2024-05-19T00:02:57.155328",
     "status": "completed"
    },
    "tags": []
   },
   "outputs": [],
   "source": [
    "ROOT = \"/kaggle/input/home-credit-credit-risk-model-stability\"\n",
    "\n",
    "TRAIN_DIR = os.path.join(ROOT, \"parquet_files\", \"train\")\n",
    "TEST_DIR = os.path.join(ROOT, \"parquet_files\", \"test\")"
   ]
  },
  {
   "cell_type": "markdown",
   "id": "dd6633de",
   "metadata": {
    "papermill": {
     "duration": 0.005904,
     "end_time": "2024-05-19T00:02:57.181050",
     "exception": false,
     "start_time": "2024-05-19T00:02:57.175146",
     "status": "completed"
    },
    "tags": []
   },
   "source": [
    "### Def utility classes"
   ]
  },
  {
   "cell_type": "code",
   "execution_count": 4,
   "id": "fe664dcc",
   "metadata": {
    "execution": {
     "iopub.execute_input": "2024-05-19T00:02:57.191882Z",
     "iopub.status.busy": "2024-05-19T00:02:57.191558Z",
     "iopub.status.idle": "2024-05-19T00:02:57.227055Z",
     "shell.execute_reply": "2024-05-19T00:02:57.226216Z"
    },
    "papermill": {
     "duration": 0.043093,
     "end_time": "2024-05-19T00:02:57.229011",
     "exception": false,
     "start_time": "2024-05-19T00:02:57.185918",
     "status": "completed"
    },
    "tags": []
   },
   "outputs": [],
   "source": [
    "from src.utils.utility import Utility\n",
    "from src.utils.schema_gen import SchemaGen\n",
    "from src.utils.pipeline import Pipeline\n",
    "from src.utils.aggregator import Aggregator"
   ]
  },
  {
   "cell_type": "markdown",
   "id": "7d63503b",
   "metadata": {
    "papermill": {
     "duration": 0.004699,
     "end_time": "2024-05-19T00:02:57.238894",
     "exception": false,
     "start_time": "2024-05-19T00:02:57.234195",
     "status": "completed"
    },
    "tags": []
   },
   "source": [
    "### Read train data"
   ]
  },
  {
   "cell_type": "code",
   "execution_count": 5,
   "id": "6529ecde",
   "metadata": {
    "execution": {
     "iopub.execute_input": "2024-05-19T00:02:57.249958Z",
     "iopub.status.busy": "2024-05-19T00:02:57.249485Z",
     "iopub.status.idle": "2024-05-19T00:05:14.879149Z",
     "shell.execute_reply": "2024-05-19T00:05:14.878312Z"
    },
    "papermill": {
     "duration": 137.637813,
     "end_time": "2024-05-19T00:05:14.881571",
     "exception": false,
     "start_time": "2024-05-19T00:02:57.243758",
     "status": "completed"
    },
    "tags": []
   },
   "outputs": [
    {
     "name": "stdout",
     "output_type": "stream",
     "text": [
      "File train_base loaded into memory.\n",
      "File train_static_cb_0 loaded into memory.\n",
      "File train_static_0_0 loaded into memory.\n",
      "File train_static_0_1 loaded into memory.\n",
      "File train_applprev_1_1 loaded into memory.\n",
      "File train_applprev_1_0 loaded into memory.\n",
      "File train_tax_registry_a_1 loaded into memory.\n",
      "File train_tax_registry_b_1 loaded into memory.\n",
      "File train_tax_registry_c_1 loaded into memory.\n",
      "File train_credit_bureau_a_1_3 loaded into memory.\n",
      "File train_credit_bureau_a_1_2 loaded into memory.\n",
      "File train_credit_bureau_a_1_0 loaded into memory.\n",
      "File train_credit_bureau_a_1_1 loaded into memory.\n",
      "File train_credit_bureau_b_1 loaded into memory.\n",
      "File train_other_1 loaded into memory.\n",
      "File train_person_1 loaded into memory.\n",
      "File train_deposit_1 loaded into memory.\n",
      "File train_debitcard_1 loaded into memory.\n",
      "File train_credit_bureau_a_2_6 loaded into memory.\n",
      "File train_credit_bureau_a_2_1 loaded into memory.\n",
      "File train_credit_bureau_a_2_0 loaded into memory.\n",
      "File train_credit_bureau_a_2_7 loaded into memory.\n",
      "File train_credit_bureau_a_2_5 loaded into memory.\n",
      "File train_credit_bureau_a_2_2 loaded into memory.\n",
      "File train_credit_bureau_a_2_4 loaded into memory.\n",
      "File train_credit_bureau_a_2_9 loaded into memory.\n",
      "File train_credit_bureau_a_2_3 loaded into memory.\n",
      "File train_credit_bureau_a_2_10 loaded into memory.\n",
      "File train_credit_bureau_a_2_8 loaded into memory.\n",
      "File train_credit_bureau_b_2 loaded into memory.\n",
      "Memory usage of dataframe \"df_train\" is 6783.1317 MB.\n",
      "Memory usage of dataframe \"df_train\" became 4174.0953 MB.\n",
      "Memory usage of dataframe \"train_df\" is 2870.9171 MB.\n",
      "Memory usage of dataframe \"train_df\" became 2665.6302 MB.\n",
      "Train data shape: (1526659, 472)\n"
     ]
    },
    {
     "data": {
      "text/html": [
       "<div><style>\n",
       ".dataframe > thead > tr,\n",
       ".dataframe > tbody > tr {\n",
       "  text-align: right;\n",
       "  white-space: pre-wrap;\n",
       "}\n",
       "</style>\n",
       "<small>shape: (10, 472)</small><table border=\"1\" class=\"dataframe\"><thead><tr><th>case_id</th><th>month</th><th>week_num</th><th>target</th><th>assignmentdate_238D</th><th>assignmentdate_4527235D</th><th>birthdate_574D</th><th>contractssum_5085716L</th><th>dateofbirth_337D</th><th>days120_123L</th><th>days180_256L</th><th>days30_165L</th><th>days360_512L</th><th>days90_310L</th><th>description_5085714M</th><th>education_1103M</th><th>education_88M</th><th>firstquarter_103L</th><th>fourthquarter_440L</th><th>maritalst_385M</th><th>maritalst_893M</th><th>numberofqueries_373L</th><th>pmtaverage_3A</th><th>pmtaverage_4527227A</th><th>pmtcount_4527229L</th><th>pmtcount_693L</th><th>pmtscount_423L</th><th>pmtssum_45A</th><th>requesttype_4525192L</th><th>responsedate_1012D</th><th>responsedate_4527233D</th><th>responsedate_4917613D</th><th>secondquarter_766L</th><th>thirdquarter_1082L</th><th>actualdpdtolerance_344P</th><th>amtinstpaidbefduel24m_4187115A</th><th>annuity_780A</th><th>&hellip;</th><th>mean_mainoccupationinc_384A</th><th>max_amount_416A</th><th>max_num_group1_10</th><th>max_openingdate_313D</th><th>mean_amount_416A</th><th>mean_openingdate_313D</th><th>max_num_group1_11</th><th>max_openingdate_857D</th><th>mean_openingdate_857D</th><th>max_collater_typofvalofguarant_298M</th><th>max_collater_typofvalofguarant_407M</th><th>max_collater_valueofguarantee_1124L</th><th>max_collater_valueofguarantee_876L</th><th>max_collaterals_typeofguarante_359M</th><th>max_collaterals_typeofguarante_669M</th><th>max_num_group1_12</th><th>max_num_group2</th><th>max_pmts_dpd_1073P</th><th>max_pmts_dpd_303P</th><th>max_pmts_month_158T</th><th>max_pmts_month_706T</th><th>max_pmts_overdue_1140A</th><th>max_pmts_overdue_1152A</th><th>max_pmts_year_1139T</th><th>max_pmts_year_507T</th><th>max_subjectroles_name_541M</th><th>max_subjectroles_name_838M</th><th>mean_pmts_dpd_1073P</th><th>mean_pmts_dpd_303P</th><th>mean_pmts_overdue_1140A</th><th>mean_pmts_overdue_1152A</th><th>var_pmts_dpd_1073P</th><th>var_pmts_dpd_303P</th><th>var_pmts_overdue_1140A</th><th>var_pmts_overdue_1152A</th><th>year</th><th>day</th></tr><tr><td>u32</td><td>u32</td><td>u8</td><td>u8</td><td>i16</td><td>u8</td><td>i16</td><td>f32</td><td>i32</td><td>f32</td><td>f32</td><td>f32</td><td>f32</td><td>f32</td><td>str</td><td>str</td><td>str</td><td>f32</td><td>f32</td><td>str</td><td>str</td><td>f32</td><td>f32</td><td>f32</td><td>f32</td><td>f32</td><td>f32</td><td>f32</td><td>str</td><td>i8</td><td>u8</td><td>i8</td><td>f32</td><td>f32</td><td>f32</td><td>f32</td><td>f32</td><td>&hellip;</td><td>f32</td><td>f32</td><td>u8</td><td>i16</td><td>f32</td><td>i16</td><td>u8</td><td>i16</td><td>i16</td><td>str</td><td>str</td><td>f32</td><td>f32</td><td>str</td><td>str</td><td>u16</td><td>u8</td><td>f32</td><td>f32</td><td>f32</td><td>f32</td><td>f32</td><td>f32</td><td>f32</td><td>f32</td><td>str</td><td>str</td><td>f32</td><td>f32</td><td>f32</td><td>f32</td><td>f32</td><td>f32</td><td>f32</td><td>f32</td><td>u16</td><td>u8</td></tr></thead><tbody><tr><td>616305</td><td>201901</td><td>2</td><td>0</td><td>null</td><td>null</td><td>-19347</td><td>null</td><td>-19347</td><td>0.0</td><td>0.0</td><td>0.0</td><td>2.0</td><td>0.0</td><td>&quot;a55475b1&quot;</td><td>&quot;a55475b1&quot;</td><td>&quot;a55475b1&quot;</td><td>0.0</td><td>0.0</td><td>&quot;a55475b1&quot;</td><td>&quot;a55475b1&quot;</td><td>2.0</td><td>null</td><td>null</td><td>null</td><td>null</td><td>4.0</td><td>2900.0</td><td>null</td><td>14</td><td>null</td><td>null</td><td>2.0</td><td>0.0</td><td>null</td><td>null</td><td>3535.600098</td><td>&hellip;</td><td>39000.0</td><td>null</td><td>null</td><td>null</td><td>null</td><td>null</td><td>null</td><td>null</td><td>null</td><td>&quot;a55475b1&quot;</td><td>&quot;a55475b1&quot;</td><td>0.0</td><td>null</td><td>&quot;a55475b1&quot;</td><td>&quot;c7a5ad39&quot;</td><td>0</td><td>35</td><td>0.0</td><td>null</td><td>12.0</td><td>null</td><td>0.0</td><td>null</td><td>2020.0</td><td>null</td><td>&quot;a55475b1&quot;</td><td>&quot;ab3c25cf&quot;</td><td>0.0</td><td>null</td><td>0.0</td><td>null</td><td>0.0</td><td>null</td><td>0.0</td><td>null</td><td>2019</td><td>21</td></tr><tr><td>1915146</td><td>202009</td><td>87</td><td>0</td><td>null</td><td>null</td><td>null</td><td>116424.0</td><td>-24108</td><td>0.0</td><td>2.0</td><td>0.0</td><td>4.0</td><td>0.0</td><td>&quot;2fc785b2&quot;</td><td>&quot;6b2ae0fa&quot;</td><td>&quot;a55475b1&quot;</td><td>3.0</td><td>9.0</td><td>&quot;a7fcb6e5&quot;</td><td>&quot;a55475b1&quot;</td><td>4.0</td><td>null</td><td>null</td><td>null</td><td>null</td><td>null</td><td>null</td><td>null</td><td>null</td><td>null</td><td>14</td><td>12.0</td><td>9.0</td><td>0.0</td><td>172490.671875</td><td>8026.0</td><td>&hellip;</td><td>70000.0</td><td>487.716034</td><td>0</td><td>-2315</td><td>487.716034</td><td>-2315</td><td>0</td><td>-2315</td><td>-2315</td><td>&quot;a55475b1&quot;</td><td>&quot;a55475b1&quot;</td><td>0.0</td><td>790020.0</td><td>&quot;c7a5ad39&quot;</td><td>&quot;c7a5ad39&quot;</td><td>21</td><td>35</td><td>0.0</td><td>1.0</td><td>12.0</td><td>12.0</td><td>0.0</td><td>337.941986</td><td>2021.0</td><td>2021.0</td><td>&quot;ab3c25cf&quot;</td><td>&quot;ab3c25cf&quot;</td><td>0.0</td><td>0.015748</td><td>0.0</td><td>4.399396</td><td>0.0</td><td>0.015561</td><td>0.0</td><td>1014.187805</td><td>2020</td><td>2</td></tr><tr><td>755826</td><td>201907</td><td>29</td><td>0</td><td>null</td><td>null</td><td>-16979</td><td>null</td><td>-16979</td><td>1.0</td><td>1.0</td><td>0.0</td><td>4.0</td><td>0.0</td><td>&quot;a55475b1&quot;</td><td>&quot;a55475b1&quot;</td><td>&quot;a55475b1&quot;</td><td>2.0</td><td>1.0</td><td>&quot;a7fcb6e5&quot;</td><td>&quot;a55475b1&quot;</td><td>4.0</td><td>null</td><td>null</td><td>null</td><td>null</td><td>6.0</td><td>5100.0</td><td>null</td><td>14</td><td>null</td><td>null</td><td>3.0</td><td>0.0</td><td>null</td><td>null</td><td>4732.0</td><td>&hellip;</td><td>70000.0</td><td>null</td><td>null</td><td>null</td><td>null</td><td>null</td><td>null</td><td>null</td><td>null</td><td>&quot;a55475b1&quot;</td><td>&quot;a55475b1&quot;</td><td>null</td><td>129990.0</td><td>&quot;c7a5ad39&quot;</td><td>&quot;a55475b1&quot;</td><td>5</td><td>35</td><td>null</td><td>1382.0</td><td>null</td><td>12.0</td><td>null</td><td>57971.527344</td><td>null</td><td>2020.0</td><td>&quot;ab3c25cf&quot;</td><td>&quot;a55475b1&quot;</td><td>null</td><td>389.391296</td><td>null</td><td>17519.662109</td><td>null</td><td>284049.5625</td><td>null</td><td>5.1723008e8</td><td>2019</td><td>29</td></tr><tr><td>235099</td><td>202006</td><td>78</td><td>0</td><td>null</td><td>null</td><td>null</td><td>412604.90625</td><td>-26113</td><td>3.0</td><td>3.0</td><td>3.0</td><td>3.0</td><td>3.0</td><td>&quot;2fc785b2&quot;</td><td>&quot;a55475b1&quot;</td><td>&quot;a55475b1&quot;</td><td>0.0</td><td>0.0</td><td>&quot;3439d993&quot;</td><td>&quot;a55475b1&quot;</td><td>3.0</td><td>null</td><td>null</td><td>null</td><td>null</td><td>null</td><td>null</td><td>null</td><td>null</td><td>null</td><td>6</td><td>6.0</td><td>0.0</td><td>0.0</td><td>110669.476562</td><td>4892.200195</td><td>&hellip;</td><td>40000.0</td><td>null</td><td>null</td><td>null</td><td>null</td><td>null</td><td>null</td><td>null</td><td>null</td><td>&quot;a55475b1&quot;</td><td>&quot;a55475b1&quot;</td><td>0.0</td><td>0.0</td><td>&quot;c7a5ad39&quot;</td><td>&quot;c7a5ad39&quot;</td><td>1</td><td>35</td><td>6.0</td><td>0.0</td><td>12.0</td><td>12.0</td><td>4393.800293</td><td>0.0</td><td>2021.0</td><td>2021.0</td><td>&quot;ab3c25cf&quot;</td><td>&quot;ab3c25cf&quot;</td><td>0.184211</td><td>0.0</td><td>229.515808</td><td>0.0</td><td>0.965149</td><td>0.0</td><td>973880.875</td><td>0.0</td><td>2020</td><td>30</td></tr><tr><td>1685874</td><td>201912</td><td>49</td><td>0</td><td>null</td><td>null</td><td>null</td><td>null</td><td>-11762</td><td>3.0</td><td>6.0</td><td>1.0</td><td>16.0</td><td>3.0</td><td>&quot;a55475b1&quot;</td><td>&quot;6b2ae0fa&quot;</td><td>&quot;a55475b1&quot;</td><td>13.0</td><td>13.0</td><td>&quot;3439d993&quot;</td><td>&quot;a55475b1&quot;</td><td>16.0</td><td>null</td><td>null</td><td>null</td><td>null</td><td>null</td><td>null</td><td>&quot;DEDUCTION_6&quot;</td><td>null</td><td>14</td><td>null</td><td>6.0</td><td>9.0</td><td>0.0</td><td>0.0</td><td>1841.599976</td><td>&hellip;</td><td>60000.0</td><td>241.272003</td><td>0</td><td>-1492</td><td>241.272003</td><td>-1492</td><td>0</td><td>-1492</td><td>-1492</td><td>&quot;a55475b1&quot;</td><td>&quot;a55475b1&quot;</td><td>5.591e6</td><td>9.3903e6</td><td>&quot;c7a5ad39&quot;</td><td>&quot;c7a5ad39&quot;</td><td>16</td><td>35</td><td>0.0</td><td>0.0</td><td>12.0</td><td>12.0</td><td>0.0</td><td>0.0</td><td>2020.0</td><td>2020.0</td><td>&quot;ab3c25cf&quot;</td><td>&quot;ab3c25cf&quot;</td><td>0.0</td><td>0.0</td><td>0.0</td><td>0.0</td><td>0.0</td><td>0.0</td><td>0.0</td><td>0.0</td><td>2019</td><td>14</td></tr><tr><td>606718</td><td>201901</td><td>1</td><td>0</td><td>null</td><td>null</td><td>-13797</td><td>null</td><td>-13797</td><td>0.0</td><td>0.0</td><td>0.0</td><td>0.0</td><td>0.0</td><td>&quot;a55475b1&quot;</td><td>&quot;a55475b1&quot;</td><td>&quot;a55475b1&quot;</td><td>0.0</td><td>0.0</td><td>&quot;a55475b1&quot;</td><td>&quot;a55475b1&quot;</td><td>0.0</td><td>null</td><td>null</td><td>null</td><td>null</td><td>10.0</td><td>3675.800049</td><td>null</td><td>14</td><td>null</td><td>null</td><td>0.0</td><td>0.0</td><td>0.0</td><td>null</td><td>1013.600037</td><td>&hellip;</td><td>16000.0</td><td>null</td><td>null</td><td>null</td><td>null</td><td>null</td><td>null</td><td>null</td><td>null</td><td>&quot;a55475b1&quot;</td><td>&quot;a55475b1&quot;</td><td>0.0</td><td>null</td><td>&quot;a55475b1&quot;</td><td>&quot;c7a5ad39&quot;</td><td>0</td><td>11</td><td>0.0</td><td>null</td><td>12.0</td><td>null</td><td>0.0</td><td>null</td><td>2019.0</td><td>null</td><td>&quot;a55475b1&quot;</td><td>&quot;ab3c25cf&quot;</td><td>0.0</td><td>null</td><td>0.0</td><td>null</td><td>null</td><td>null</td><td>null</td><td>null</td><td>2019</td><td>9</td></tr><tr><td>1763986</td><td>202001</td><td>55</td><td>0</td><td>null</td><td>null</td><td>null</td><td>null</td><td>-15640</td><td>1.0</td><td>2.0</td><td>0.0</td><td>3.0</td><td>1.0</td><td>&quot;a55475b1&quot;</td><td>&quot;717ddd49&quot;</td><td>&quot;a55475b1&quot;</td><td>2.0</td><td>2.0</td><td>&quot;3439d993&quot;</td><td>&quot;a55475b1&quot;</td><td>3.0</td><td>null</td><td>null</td><td>null</td><td>null</td><td>null</td><td>null</td><td>&quot;DEDUCTION_6&quot;</td><td>null</td><td>14</td><td>null</td><td>2.0</td><td>2.0</td><td>0.0</td><td>0.0</td><td>7193.800293</td><td>&hellip;</td><td>70000.0</td><td>null</td><td>null</td><td>null</td><td>null</td><td>null</td><td>null</td><td>null</td><td>null</td><td>&quot;a55475b1&quot;</td><td>&quot;a55475b1&quot;</td><td>0.0</td><td>2.288615e6</td><td>&quot;c7a5ad39&quot;</td><td>&quot;c7a5ad39&quot;</td><td>11</td><td>35</td><td>19.0</td><td>27.0</td><td>12.0</td><td>12.0</td><td>16.030001</td><td>4639.04834</td><td>2021.0</td><td>2019.0</td><td>&quot;daf49a8a&quot;</td><td>&quot;ab3c25cf&quot;</td><td>0.659574</td><td>0.542056</td><td>0.682128</td><td>147.162964</td><td>10.533765</td><td>8.571328</td><td>10.696799</td><td>530083.0</td><td>2020</td><td>26</td></tr><tr><td>647840</td><td>201903</td><td>9</td><td>0</td><td>null</td><td>null</td><td>-9353</td><td>null</td><td>-17966</td><td>6.0</td><td>6.0</td><td>3.0</td><td>18.0</td><td>5.0</td><td>&quot;a55475b1&quot;</td><td>&quot;6b2ae0fa&quot;</td><td>&quot;a55475b1&quot;</td><td>10.0</td><td>9.0</td><td>&quot;a7fcb6e5&quot;</td><td>&quot;a55475b1&quot;</td><td>18.0</td><td>null</td><td>null</td><td>null</td><td>null</td><td>10.0</td><td>16836.400391</td><td>null</td><td>14</td><td>null</td><td>null</td><td>13.0</td><td>11.0</td><td>null</td><td>null</td><td>2005.0</td><td>&hellip;</td><td>44000.0</td><td>null</td><td>null</td><td>null</td><td>null</td><td>null</td><td>null</td><td>null</td><td>null</td><td>&quot;a55475b1&quot;</td><td>&quot;a55475b1&quot;</td><td>0.0</td><td>null</td><td>&quot;a55475b1&quot;</td><td>&quot;c7a5ad39&quot;</td><td>2</td><td>35</td><td>2.0</td><td>null</td><td>12.0</td><td>null</td><td>6892.46582</td><td>null</td><td>2020.0</td><td>null</td><td>&quot;a55475b1&quot;</td><td>&quot;ab3c25cf&quot;</td><td>0.107143</td><td>null</td><td>406.570953</td><td>null</td><td>0.133766</td><td>null</td><td>2.221589e6</td><td>null</td><td>2019</td><td>11</td></tr><tr><td>1856526</td><td>202006</td><td>74</td><td>0</td><td>null</td><td>null</td><td>null</td><td>157091.796875</td><td>-25847</td><td>1.0</td><td>1.0</td><td>0.0</td><td>3.0</td><td>1.0</td><td>&quot;2fc785b2&quot;</td><td>&quot;717ddd49&quot;</td><td>&quot;a55475b1&quot;</td><td>5.0</td><td>4.0</td><td>&quot;b6cabe76&quot;</td><td>&quot;a55475b1&quot;</td><td>3.0</td><td>null</td><td>null</td><td>null</td><td>null</td><td>null</td><td>null</td><td>null</td><td>null</td><td>null</td><td>14</td><td>2.0</td><td>4.0</td><td>0.0</td><td>111318.164062</td><td>4483.399902</td><td>&hellip;</td><td>24000.0</td><td>0.0</td><td>0</td><td>-2242</td><td>0.0</td><td>-2242</td><td>0</td><td>-2242</td><td>-2242</td><td>&quot;a55475b1&quot;</td><td>&quot;a55475b1&quot;</td><td>0.0</td><td>180000.0</td><td>&quot;c7a5ad39&quot;</td><td>&quot;c7a5ad39&quot;</td><td>24</td><td>35</td><td>0.0</td><td>12.0</td><td>12.0</td><td>12.0</td><td>0.0</td><td>15432.200195</td><td>2021.0</td><td>2020.0</td><td>&quot;ab3c25cf&quot;</td><td>&quot;ab3c25cf&quot;</td><td>0.0</td><td>0.210692</td><td>0.0</td><td>322.134308</td><td>0.0</td><td>1.359254</td><td>0.0</td><td>2.9752e6</td><td>2020</td><td>7</td></tr><tr><td>721263</td><td>201906</td><td>24</td><td>0</td><td>null</td><td>null</td><td>-11859</td><td>null</td><td>-11859</td><td>3.0</td><td>3.0</td><td>2.0</td><td>5.0</td><td>3.0</td><td>&quot;a55475b1&quot;</td><td>&quot;a55475b1&quot;</td><td>&quot;a55475b1&quot;</td><td>2.0</td><td>2.0</td><td>&quot;a55475b1&quot;</td><td>&quot;a55475b1&quot;</td><td>5.0</td><td>null</td><td>null</td><td>null</td><td>null</td><td>0.0</td><td>0.0</td><td>null</td><td>14</td><td>null</td><td>null</td><td>3.0</td><td>2.0</td><td>null</td><td>null</td><td>2527.800049</td><td>&hellip;</td><td>51000.0</td><td>null</td><td>null</td><td>null</td><td>null</td><td>null</td><td>null</td><td>null</td><td>null</td><td>&quot;a55475b1&quot;</td><td>&quot;a55475b1&quot;</td><td>0.0</td><td>0.0</td><td>&quot;c7a5ad39&quot;</td><td>&quot;c7a5ad39&quot;</td><td>0</td><td>35</td><td>0.0</td><td>0.0</td><td>12.0</td><td>12.0</td><td>0.0</td><td>0.0</td><td>2020.0</td><td>2016.0</td><td>&quot;ab3c25cf&quot;</td><td>&quot;ab3c25cf&quot;</td><td>0.0</td><td>0.0</td><td>0.0</td><td>0.0</td><td>0.0</td><td>0.0</td><td>0.0</td><td>0.0</td><td>2019</td><td>21</td></tr></tbody></table></div>"
      ],
      "text/plain": [
       "shape: (10, 472)\n",
       "┌─────────┬────────┬──────────┬────────┬───┬─────────────────────┬────────────────────┬──────┬─────┐\n",
       "│ case_id ┆ month  ┆ week_num ┆ target ┆ … ┆ var_pmts_overdue_11 ┆ var_pmts_overdue_1 ┆ year ┆ day │\n",
       "│ ---     ┆ ---    ┆ ---      ┆ ---    ┆   ┆ 40A                 ┆ 152A               ┆ ---  ┆ --- │\n",
       "│ u32     ┆ u32    ┆ u8       ┆ u8     ┆   ┆ ---                 ┆ ---                ┆ u16  ┆ u8  │\n",
       "│         ┆        ┆          ┆        ┆   ┆ f32                 ┆ f32                ┆      ┆     │\n",
       "╞═════════╪════════╪══════════╪════════╪═══╪═════════════════════╪════════════════════╪══════╪═════╡\n",
       "│ 616305  ┆ 201901 ┆ 2        ┆ 0      ┆ … ┆ 0.0                 ┆ null               ┆ 2019 ┆ 21  │\n",
       "│ 1915146 ┆ 202009 ┆ 87       ┆ 0      ┆ … ┆ 0.0                 ┆ 1014.187805        ┆ 2020 ┆ 2   │\n",
       "│ 755826  ┆ 201907 ┆ 29       ┆ 0      ┆ … ┆ null                ┆ 5.1723008e8        ┆ 2019 ┆ 29  │\n",
       "│ 235099  ┆ 202006 ┆ 78       ┆ 0      ┆ … ┆ 973880.875          ┆ 0.0                ┆ 2020 ┆ 30  │\n",
       "│ 1685874 ┆ 201912 ┆ 49       ┆ 0      ┆ … ┆ 0.0                 ┆ 0.0                ┆ 2019 ┆ 14  │\n",
       "│ 606718  ┆ 201901 ┆ 1        ┆ 0      ┆ … ┆ null                ┆ null               ┆ 2019 ┆ 9   │\n",
       "│ 1763986 ┆ 202001 ┆ 55       ┆ 0      ┆ … ┆ 10.696799           ┆ 530083.0           ┆ 2020 ┆ 26  │\n",
       "│ 647840  ┆ 201903 ┆ 9        ┆ 0      ┆ … ┆ 2.221589e6          ┆ null               ┆ 2019 ┆ 11  │\n",
       "│ 1856526 ┆ 202006 ┆ 74       ┆ 0      ┆ … ┆ 0.0                 ┆ 2.9752e6           ┆ 2020 ┆ 7   │\n",
       "│ 721263  ┆ 201906 ┆ 24       ┆ 0      ┆ … ┆ 0.0                 ┆ 0.0                ┆ 2019 ┆ 21  │\n",
       "└─────────┴────────┴──────────┴────────┴───┴─────────────────────┴────────────────────┴──────┴─────┘"
      ]
     },
     "metadata": {},
     "output_type": "display_data"
    },
    {
     "name": "stdout",
     "output_type": "stream",
     "text": [
      "CPU times: user 5min 51s, sys: 1min 44s, total: 7min 35s\n",
      "Wall time: 2min 17s\n"
     ]
    }
   ],
   "source": [
    "%%time\n",
    "\n",
    "data_store: dict = {\n",
    "    \"df_base\": SchemaGen.scan_files(os.path.join(TRAIN_DIR, \"train_base.parquet\")),\n",
    "    \"depth_0\": [\n",
    "        SchemaGen.scan_files(os.path.join(TRAIN_DIR, \"train_static_cb_0.parquet\")),\n",
    "        SchemaGen.scan_files(os.path.join(TRAIN_DIR, \"train_static_0_*.parquet\")),\n",
    "    ],\n",
    "    \"depth_1\": [\n",
    "        SchemaGen.scan_files(os.path.join(TRAIN_DIR, \"train_applprev_1_*.parquet\"), 1),\n",
    "        SchemaGen.scan_files(os.path.join(TRAIN_DIR, \"train_tax_registry_a_1.parquet\"), 1),\n",
    "        SchemaGen.scan_files(os.path.join(TRAIN_DIR, \"train_tax_registry_b_1.parquet\"), 1),\n",
    "        SchemaGen.scan_files(os.path.join(TRAIN_DIR, \"train_tax_registry_c_1.parquet\"), 1),\n",
    "        SchemaGen.scan_files(os.path.join(TRAIN_DIR, \"train_credit_bureau_a_1_*.parquet\"), 1),\n",
    "        SchemaGen.scan_files(os.path.join(TRAIN_DIR, \"train_credit_bureau_b_1.parquet\"), 1),\n",
    "        SchemaGen.scan_files(os.path.join(TRAIN_DIR, \"train_other_1.parquet\"), 1),\n",
    "        SchemaGen.scan_files(os.path.join(TRAIN_DIR, \"train_person_1.parquet\"), 1),\n",
    "        SchemaGen.scan_files(os.path.join(TRAIN_DIR, \"train_deposit_1.parquet\"), 1),\n",
    "        SchemaGen.scan_files(os.path.join(TRAIN_DIR, \"train_debitcard_1.parquet\"), 1),\n",
    "    ],\n",
    "    \"depth_2\": [\n",
    "        SchemaGen.scan_files(os.path.join(TRAIN_DIR, \"train_credit_bureau_a_2_*.parquet\"), 2),\n",
    "        SchemaGen.scan_files(os.path.join(TRAIN_DIR, \"train_credit_bureau_b_2.parquet\"), 2),\n",
    "    ],\n",
    "}\n",
    "\n",
    "train_df: pl.LazyFrame = (\n",
    "    SchemaGen.join_dataframes(**data_store)\n",
    "    .pipe(Pipeline.filter_cols)\n",
    "    .pipe(Pipeline.transform_cols)\n",
    "    .pipe(Pipeline.handle_dates)\n",
    "    .pipe(Utility.reduce_memory_usage, \"train_df\")\n",
    ")\n",
    "\n",
    "del data_store\n",
    "gc.collect()\n",
    "\n",
    "print(f\"Train data shape: {train_df.shape}\")\n",
    "display(train_df.head(10))"
   ]
  },
  {
   "cell_type": "code",
   "execution_count": 6,
   "id": "6302f5b5",
   "metadata": {
    "execution": {
     "iopub.execute_input": "2024-05-19T00:05:14.895876Z",
     "iopub.status.busy": "2024-05-19T00:05:14.895606Z",
     "iopub.status.idle": "2024-05-19T00:05:38.320205Z",
     "shell.execute_reply": "2024-05-19T00:05:38.319314Z"
    },
    "papermill": {
     "duration": 23.433978,
     "end_time": "2024-05-19T00:05:38.322178",
     "exception": false,
     "start_time": "2024-05-19T00:05:14.888200",
     "status": "completed"
    },
    "tags": []
   },
   "outputs": [
    {
     "data": {
      "text/plain": [
       "0"
      ]
     },
     "execution_count": 6,
     "metadata": {},
     "output_type": "execute_result"
    }
   ],
   "source": [
    "cols = train_df.columns\n",
    "train_df, cat_cols = Utility.to_pandas(train_df)\n",
    "\n",
    "del train_df\n",
    "gc.collect()"
   ]
  },
  {
   "cell_type": "markdown",
   "id": "f6983687",
   "metadata": {
    "papermill": {
     "duration": 0.007023,
     "end_time": "2024-05-19T00:05:38.337382",
     "exception": false,
     "start_time": "2024-05-19T00:05:38.330359",
     "status": "completed"
    },
    "tags": []
   },
   "source": [
    "### Read test data"
   ]
  },
  {
   "cell_type": "code",
   "execution_count": 7,
   "id": "0f71789c",
   "metadata": {
    "execution": {
     "iopub.execute_input": "2024-05-19T00:05:38.352942Z",
     "iopub.status.busy": "2024-05-19T00:05:38.352635Z",
     "iopub.status.idle": "2024-05-19T00:05:43.071493Z",
     "shell.execute_reply": "2024-05-19T00:05:43.070488Z"
    },
    "papermill": {
     "duration": 4.729622,
     "end_time": "2024-05-19T00:05:43.073563",
     "exception": false,
     "start_time": "2024-05-19T00:05:38.343941",
     "status": "completed"
    },
    "tags": []
   },
   "outputs": [
    {
     "name": "stdout",
     "output_type": "stream",
     "text": [
      "File test_base loaded into memory.\n",
      "File test_static_cb_0 loaded into memory.\n",
      "File test_static_0_0 loaded into memory.\n",
      "File test_static_0_2 loaded into memory.\n",
      "File test_static_0_1 loaded into memory.\n",
      "File test_applprev_1_2 loaded into memory.\n",
      "File test_applprev_1_0 loaded into memory.\n",
      "File test_applprev_1_1 loaded into memory.\n",
      "File test_tax_registry_a_1 loaded into memory.\n",
      "File test_tax_registry_b_1 loaded into memory.\n",
      "File test_tax_registry_c_1 loaded into memory.\n",
      "File test_credit_bureau_a_1_3 loaded into memory.\n",
      "File test_credit_bureau_a_1_2 loaded into memory.\n",
      "File test_credit_bureau_a_1_1 loaded into memory.\n",
      "File test_credit_bureau_a_1_4 loaded into memory.\n",
      "File test_credit_bureau_a_1_0 loaded into memory.\n",
      "File test_credit_bureau_b_1 loaded into memory.\n",
      "File test_other_1 loaded into memory.\n",
      "File test_person_1 loaded into memory.\n",
      "File test_deposit_1 loaded into memory.\n",
      "File test_debitcard_1 loaded into memory.\n",
      "File test_credit_bureau_b_2 loaded into memory.\n",
      "File test_credit_bureau_a_2_3 loaded into memory.\n",
      "File test_credit_bureau_a_2_9 loaded into memory.\n",
      "File test_credit_bureau_a_2_2 loaded into memory.\n",
      "File test_credit_bureau_a_2_11 loaded into memory.\n",
      "File test_credit_bureau_a_2_1 loaded into memory.\n",
      "File test_credit_bureau_a_2_6 loaded into memory.\n",
      "File test_credit_bureau_a_2_5 loaded into memory.\n",
      "File test_credit_bureau_a_2_0 loaded into memory.\n",
      "File test_credit_bureau_a_2_7 loaded into memory.\n",
      "File test_credit_bureau_a_2_10 loaded into memory.\n",
      "File test_credit_bureau_a_2_8 loaded into memory.\n",
      "File test_credit_bureau_a_2_4 loaded into memory.\n",
      "Memory usage of dataframe \"df_train\" is 0.0432 MB.\n",
      "Memory usage of dataframe \"df_train\" became 0.0311 MB.\n",
      "Memory usage of dataframe \"test_df\" is 0.0184 MB.\n",
      "Memory usage of dataframe \"test_df\" became 0.0173 MB.\n",
      "Test data shape: (10, 471)\n"
     ]
    }
   ],
   "source": [
    "data_store = {\n",
    "    \"df_base\": SchemaGen.scan_files(os.path.join(TEST_DIR, \"test_base.parquet\")),\n",
    "    \"depth_0\": [\n",
    "        SchemaGen.scan_files(os.path.join(TEST_DIR, \"test_static_cb_0.parquet\")),\n",
    "        SchemaGen.scan_files(os.path.join(TEST_DIR, \"test_static_0_*.parquet\")),\n",
    "    ],\n",
    "    \"depth_1\": [\n",
    "        SchemaGen.scan_files(os.path.join(TEST_DIR, \"test_applprev_1_*.parquet\"), 1),\n",
    "        SchemaGen.scan_files(os.path.join(TEST_DIR, \"test_tax_registry_a_1.parquet\"), 1),\n",
    "        SchemaGen.scan_files(os.path.join(TEST_DIR, \"test_tax_registry_b_1.parquet\"), 1),\n",
    "        SchemaGen.scan_files(os.path.join(TEST_DIR, \"test_tax_registry_c_1.parquet\"), 1),\n",
    "        SchemaGen.scan_files(os.path.join(TEST_DIR, \"test_credit_bureau_a_1_*.parquet\"), 1),\n",
    "        SchemaGen.scan_files(os.path.join(TEST_DIR, \"test_credit_bureau_b_1.parquet\"), 1),\n",
    "        SchemaGen.scan_files(os.path.join(TEST_DIR, \"test_other_1.parquet\"), 1),\n",
    "        SchemaGen.scan_files(os.path.join(TEST_DIR, \"test_person_1.parquet\"), 1),\n",
    "        SchemaGen.scan_files(os.path.join(TEST_DIR, \"test_deposit_1.parquet\"), 1),\n",
    "        SchemaGen.scan_files(os.path.join(TEST_DIR, \"test_debitcard_1.parquet\"), 1),\n",
    "    ],\n",
    "    \"depth_2\": [\n",
    "        SchemaGen.scan_files(os.path.join(TEST_DIR, \"test_credit_bureau_b_2.parquet\"), 2),\n",
    "        SchemaGen.scan_files(os.path.join(TEST_DIR, \"test_credit_bureau_a_2_*.parquet\"), 2),\n",
    "        # SchemaGen.scan_files(os.path.join(TEST_DIR, \"test_applprev_2.parquet\"), 2),\n",
    "        # SchemaGen.scan_files(os.path.join(TEST_DIR, \"test_person_2.parquet\"), 2)\n",
    "    ],\n",
    "}\n",
    "\n",
    "test_df: pl.DataFrame = (\n",
    "    SchemaGen.join_dataframes(**data_store)\n",
    "    .pipe(Pipeline.transform_cols)\n",
    "    .pipe(Pipeline.handle_dates)\n",
    "    .select([col for col in cols if col != \"target\"])\n",
    "    .pipe(Utility.reduce_memory_usage, \"test_df\")\n",
    ")\n",
    "\n",
    "del data_store\n",
    "gc.collect()\n",
    "\n",
    "print(f\"Test data shape: {test_df.shape}\")"
   ]
  },
  {
   "cell_type": "code",
   "execution_count": 8,
   "id": "da3f4d3a",
   "metadata": {
    "execution": {
     "iopub.execute_input": "2024-05-19T00:05:43.090301Z",
     "iopub.status.busy": "2024-05-19T00:05:43.089991Z",
     "iopub.status.idle": "2024-05-19T00:05:43.117713Z",
     "shell.execute_reply": "2024-05-19T00:05:43.116946Z"
    },
    "papermill": {
     "duration": 0.038359,
     "end_time": "2024-05-19T00:05:43.119746",
     "exception": false,
     "start_time": "2024-05-19T00:05:43.081387",
     "status": "completed"
    },
    "tags": []
   },
   "outputs": [],
   "source": [
    "test_df, cat_cols = Utility.to_pandas(test_df, cat_cols)"
   ]
  },
  {
   "cell_type": "markdown",
   "id": "498d9ee8",
   "metadata": {
    "papermill": {
     "duration": 0.008565,
     "end_time": "2024-05-19T00:05:43.136971",
     "exception": false,
     "start_time": "2024-05-19T00:05:43.128406",
     "status": "completed"
    },
    "tags": []
   },
   "source": [
    "### Inference"
   ]
  },
  {
   "cell_type": "code",
   "execution_count": 9,
   "id": "c3cfb48b",
   "metadata": {
    "execution": {
     "iopub.execute_input": "2024-05-19T00:05:43.153313Z",
     "iopub.status.busy": "2024-05-19T00:05:43.153019Z",
     "iopub.status.idle": "2024-05-19T00:05:43.156705Z",
     "shell.execute_reply": "2024-05-19T00:05:43.155867Z"
    },
    "papermill": {
     "duration": 0.014063,
     "end_time": "2024-05-19T00:05:43.158576",
     "exception": false,
     "start_time": "2024-05-19T00:05:43.144513",
     "status": "completed"
    },
    "tags": []
   },
   "outputs": [],
   "source": [
    "# with open('/kaggle/input/home-credit-crms-models/voting_model.pkl', 'rb') as f:\n",
    "#     loaded_model = pickle.load(f)"
   ]
  },
  {
   "cell_type": "code",
   "execution_count": 10,
   "id": "9296cd3d",
   "metadata": {
    "execution": {
     "iopub.execute_input": "2024-05-19T00:05:43.175266Z",
     "iopub.status.busy": "2024-05-19T00:05:43.174969Z",
     "iopub.status.idle": "2024-05-19T00:05:43.238934Z",
     "shell.execute_reply": "2024-05-19T00:05:43.238052Z"
    },
    "papermill": {
     "duration": 0.074671,
     "end_time": "2024-05-19T00:05:43.240982",
     "exception": false,
     "start_time": "2024-05-19T00:05:43.166311",
     "status": "completed"
    },
    "tags": []
   },
   "outputs": [
    {
     "data": {
      "text/html": [
       "<div>\n",
       "<style scoped>\n",
       "    .dataframe tbody tr th:only-of-type {\n",
       "        vertical-align: middle;\n",
       "    }\n",
       "\n",
       "    .dataframe tbody tr th {\n",
       "        vertical-align: top;\n",
       "    }\n",
       "\n",
       "    .dataframe thead th {\n",
       "        text-align: right;\n",
       "    }\n",
       "</style>\n",
       "<table border=\"1\" class=\"dataframe\">\n",
       "  <thead>\n",
       "    <tr style=\"text-align: right;\">\n",
       "      <th></th>\n",
       "      <th>score</th>\n",
       "    </tr>\n",
       "    <tr>\n",
       "      <th>case_id</th>\n",
       "      <th></th>\n",
       "    </tr>\n",
       "  </thead>\n",
       "  <tbody>\n",
       "    <tr>\n",
       "      <th>57633</th>\n",
       "      <td>0.1</td>\n",
       "    </tr>\n",
       "    <tr>\n",
       "      <th>57634</th>\n",
       "      <td>0.1</td>\n",
       "    </tr>\n",
       "    <tr>\n",
       "      <th>57569</th>\n",
       "      <td>0.1</td>\n",
       "    </tr>\n",
       "    <tr>\n",
       "      <th>57552</th>\n",
       "      <td>0.1</td>\n",
       "    </tr>\n",
       "    <tr>\n",
       "      <th>57549</th>\n",
       "      <td>0.1</td>\n",
       "    </tr>\n",
       "    <tr>\n",
       "      <th>57551</th>\n",
       "      <td>0.1</td>\n",
       "    </tr>\n",
       "    <tr>\n",
       "      <th>57543</th>\n",
       "      <td>0.1</td>\n",
       "    </tr>\n",
       "    <tr>\n",
       "      <th>57632</th>\n",
       "      <td>0.1</td>\n",
       "    </tr>\n",
       "    <tr>\n",
       "      <th>57631</th>\n",
       "      <td>0.1</td>\n",
       "    </tr>\n",
       "    <tr>\n",
       "      <th>57630</th>\n",
       "      <td>0.1</td>\n",
       "    </tr>\n",
       "  </tbody>\n",
       "</table>\n",
       "</div>"
      ],
      "text/plain": [
       "         score\n",
       "case_id       \n",
       "57633      0.1\n",
       "57634      0.1\n",
       "57569      0.1\n",
       "57552      0.1\n",
       "57549      0.1\n",
       "57551      0.1\n",
       "57543      0.1\n",
       "57632      0.1\n",
       "57631      0.1\n",
       "57630      0.1"
      ]
     },
     "execution_count": 10,
     "metadata": {},
     "output_type": "execute_result"
    }
   ],
   "source": [
    "test_df = test_df.drop(columns=[\"week_num\"]).set_index(\"case_id\")\n",
    "test_df[cat_cols] = test_df[cat_cols].astype(\"category\")\n",
    "\n",
    "# preds = pd.Series(loaded_model.predict_proba(test_df)[:, 1], index=test_df.index)\n",
    "\n",
    "submission_df = pd.DataFrame(index=test_df.index)\n",
    "# submission_df[\"score\"] = preds\n",
    "submission_df[\"score\"] = 0.1\n",
    "\n",
    "# Metric Hack\n",
    "# https://www.kaggle.com/code/a520hh/fork-of-this-is-the-way/notebook\n",
    "# condition = preds < 0.98\n",
    "# submission_df.loc[condition, \"score\"] = (submission_df.loc[condition, \"score\"] - 0.073).clip(0)\n",
    "\n",
    "submission_df"
   ]
  },
  {
   "cell_type": "code",
   "execution_count": 11,
   "id": "ab29ad55",
   "metadata": {
    "execution": {
     "iopub.execute_input": "2024-05-19T00:05:43.258269Z",
     "iopub.status.busy": "2024-05-19T00:05:43.257983Z",
     "iopub.status.idle": "2024-05-19T00:05:43.264123Z",
     "shell.execute_reply": "2024-05-19T00:05:43.263289Z"
    },
    "papermill": {
     "duration": 0.016726,
     "end_time": "2024-05-19T00:05:43.266002",
     "exception": false,
     "start_time": "2024-05-19T00:05:43.249276",
     "status": "completed"
    },
    "tags": []
   },
   "outputs": [],
   "source": [
    "submission_df.to_csv(\"submission.csv\")"
   ]
  },
  {
   "cell_type": "code",
   "execution_count": null,
   "id": "d1a965bd",
   "metadata": {
    "papermill": {
     "duration": 0.007542,
     "end_time": "2024-05-19T00:05:43.281449",
     "exception": false,
     "start_time": "2024-05-19T00:05:43.273907",
     "status": "completed"
    },
    "tags": []
   },
   "outputs": [],
   "source": []
  }
 ],
 "metadata": {
  "kaggle": {
   "accelerator": "gpu",
   "dataSources": [
    {
     "databundleVersionId": 7921029,
     "sourceId": 50160,
     "sourceType": "competition"
    },
    {
     "datasetId": 5038079,
     "sourceId": 8453472,
     "sourceType": "datasetVersion"
    },
    {
     "datasetId": 5038176,
     "sourceId": 8453625,
     "sourceType": "datasetVersion"
    }
   ],
   "dockerImageVersionId": 30699,
   "isGpuEnabled": true,
   "isInternetEnabled": false,
   "language": "python",
   "sourceType": "notebook"
  },
  "kernelspec": {
   "display_name": "Python 3",
   "language": "python",
   "name": "python3"
  },
  "language_info": {
   "codemirror_mode": {
    "name": "ipython",
    "version": 3
   },
   "file_extension": ".py",
   "mimetype": "text/x-python",
   "name": "python",
   "nbconvert_exporter": "python",
   "pygments_lexer": "ipython3",
   "version": "3.10.13"
  },
  "papermill": {
   "default_parameters": {},
   "duration": 175.904954,
   "end_time": "2024-05-19T00:05:44.209764",
   "environment_variables": {},
   "exception": null,
   "input_path": "__notebook__.ipynb",
   "output_path": "__notebook__.ipynb",
   "parameters": {},
   "start_time": "2024-05-19T00:02:48.304810",
   "version": "2.5.0"
  }
 },
 "nbformat": 4,
 "nbformat_minor": 5
}
