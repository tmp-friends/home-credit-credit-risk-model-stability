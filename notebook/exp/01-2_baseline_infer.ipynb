{
 "cells": [
  {
   "cell_type": "markdown",
   "id": "0ea3a18b",
   "metadata": {
    "papermill": {
     "duration": 0.006135,
     "end_time": "2024-05-19T04:51:53.381368",
     "exception": false,
     "start_time": "2024-05-19T04:51:53.375233",
     "status": "completed"
    },
    "tags": []
   },
   "source": [
    "## Baseline - Infer\n",
    "\n",
    "※ Kaggle notebookのみで動かす\n",
    "\n",
    "https://www.kaggle.com/code/pxcai666/catboost-lightgbm-ensemble/notebook"
   ]
  },
  {
   "cell_type": "markdown",
   "id": "ea67f406",
   "metadata": {
    "papermill": {
     "duration": 0.005282,
     "end_time": "2024-05-19T04:51:53.392302",
     "exception": false,
     "start_time": "2024-05-19T04:51:53.387020",
     "status": "completed"
    },
    "tags": []
   },
   "source": [
    "### Configuration"
   ]
  },
  {
   "cell_type": "code",
   "execution_count": 1,
   "id": "df72afe0",
   "metadata": {
    "execution": {
     "iopub.execute_input": "2024-05-19T04:51:53.405233Z",
     "iopub.status.busy": "2024-05-19T04:51:53.404405Z",
     "iopub.status.idle": "2024-05-19T04:51:59.421290Z",
     "shell.execute_reply": "2024-05-19T04:51:59.420252Z"
    },
    "papermill": {
     "duration": 6.026124,
     "end_time": "2024-05-19T04:51:59.423705",
     "exception": false,
     "start_time": "2024-05-19T04:51:53.397581",
     "status": "completed"
    },
    "tags": []
   },
   "outputs": [],
   "source": [
    "import sys\n",
    "from pathlib import Path\n",
    "import subprocess\n",
    "import os\n",
    "import gc\n",
    "from glob import glob\n",
    "import pickle\n",
    "\n",
    "import numpy as np\n",
    "import pandas as pd\n",
    "import polars as pl\n",
    "from datetime import datetime\n",
    "import seaborn as sns\n",
    "import matplotlib.pyplot as plt\n",
    "\n",
    "from sklearn.model_selection import TimeSeriesSplit, GroupKFold, StratifiedGroupKFold\n",
    "from sklearn.base import BaseEstimator, RegressorMixin\n",
    "from sklearn.metrics import roc_auc_score\n",
    "from catboost import CatBoostClassifier, Pool\n",
    "import lightgbm as lgb\n",
    "\n",
    "from imblearn.over_sampling import SMOTE\n",
    "from sklearn.preprocessing import OrdinalEncoder\n",
    "from sklearn.impute import KNNImputer"
   ]
  },
  {
   "cell_type": "code",
   "execution_count": 2,
   "id": "8a48ab88",
   "metadata": {
    "execution": {
     "iopub.execute_input": "2024-05-19T04:51:59.436469Z",
     "iopub.status.busy": "2024-05-19T04:51:59.435827Z",
     "iopub.status.idle": "2024-05-19T04:51:59.441300Z",
     "shell.execute_reply": "2024-05-19T04:51:59.440512Z"
    },
    "papermill": {
     "duration": 0.013789,
     "end_time": "2024-05-19T04:51:59.443146",
     "exception": false,
     "start_time": "2024-05-19T04:51:59.429357",
     "status": "completed"
    },
    "tags": []
   },
   "outputs": [],
   "source": [
    "# Kaggle\n",
    "sys.path.append('/kaggle/input/home-credit-crms-repo')"
   ]
  },
  {
   "cell_type": "code",
   "execution_count": 3,
   "id": "c6765044",
   "metadata": {
    "execution": {
     "iopub.execute_input": "2024-05-19T04:51:59.455513Z",
     "iopub.status.busy": "2024-05-19T04:51:59.455195Z",
     "iopub.status.idle": "2024-05-19T04:51:59.459706Z",
     "shell.execute_reply": "2024-05-19T04:51:59.458857Z"
    },
    "papermill": {
     "duration": 0.012943,
     "end_time": "2024-05-19T04:51:59.461708",
     "exception": false,
     "start_time": "2024-05-19T04:51:59.448765",
     "status": "completed"
    },
    "tags": []
   },
   "outputs": [],
   "source": [
    "ROOT = \"/kaggle/input/home-credit-credit-risk-model-stability\"\n",
    "\n",
    "TRAIN_DIR = os.path.join(ROOT, \"parquet_files\", \"train\")\n",
    "TEST_DIR = os.path.join(ROOT, \"parquet_files\", \"test\")"
   ]
  },
  {
   "cell_type": "markdown",
   "id": "12215648",
   "metadata": {
    "papermill": {
     "duration": 0.005181,
     "end_time": "2024-05-19T04:51:59.472299",
     "exception": false,
     "start_time": "2024-05-19T04:51:59.467118",
     "status": "completed"
    },
    "tags": []
   },
   "source": [
    "### Def utility classes"
   ]
  },
  {
   "cell_type": "code",
   "execution_count": 4,
   "id": "c852a1c4",
   "metadata": {
    "execution": {
     "iopub.execute_input": "2024-05-19T04:51:59.484595Z",
     "iopub.status.busy": "2024-05-19T04:51:59.484058Z",
     "iopub.status.idle": "2024-05-19T04:51:59.517241Z",
     "shell.execute_reply": "2024-05-19T04:51:59.516319Z"
    },
    "papermill": {
     "duration": 0.04186,
     "end_time": "2024-05-19T04:51:59.519518",
     "exception": false,
     "start_time": "2024-05-19T04:51:59.477658",
     "status": "completed"
    },
    "tags": []
   },
   "outputs": [],
   "source": [
    "from src.utils.utility import Utility\n",
    "from src.utils.schema_gen import SchemaGen\n",
    "from src.utils.pipeline import Pipeline\n",
    "from src.utils.aggregator import Aggregator"
   ]
  },
  {
   "cell_type": "markdown",
   "id": "fa7922ae",
   "metadata": {
    "papermill": {
     "duration": 0.00535,
     "end_time": "2024-05-19T04:51:59.530577",
     "exception": false,
     "start_time": "2024-05-19T04:51:59.525227",
     "status": "completed"
    },
    "tags": []
   },
   "source": [
    "### Read train data"
   ]
  },
  {
   "cell_type": "code",
   "execution_count": 5,
   "id": "97a88034",
   "metadata": {
    "execution": {
     "iopub.execute_input": "2024-05-19T04:51:59.542726Z",
     "iopub.status.busy": "2024-05-19T04:51:59.542433Z",
     "iopub.status.idle": "2024-05-19T04:54:16.237655Z",
     "shell.execute_reply": "2024-05-19T04:54:16.236801Z"
    },
    "papermill": {
     "duration": 136.70439,
     "end_time": "2024-05-19T04:54:16.240388",
     "exception": false,
     "start_time": "2024-05-19T04:51:59.535998",
     "status": "completed"
    },
    "tags": []
   },
   "outputs": [
    {
     "name": "stdout",
     "output_type": "stream",
     "text": [
      "File train_base loaded into memory.\n",
      "File train_static_cb_0 loaded into memory.\n",
      "File train_static_0_0 loaded into memory.\n",
      "File train_static_0_1 loaded into memory.\n",
      "File train_applprev_1_1 loaded into memory.\n",
      "File train_applprev_1_0 loaded into memory.\n",
      "File train_tax_registry_a_1 loaded into memory.\n",
      "File train_tax_registry_b_1 loaded into memory.\n",
      "File train_tax_registry_c_1 loaded into memory.\n",
      "File train_credit_bureau_a_1_3 loaded into memory.\n",
      "File train_credit_bureau_a_1_2 loaded into memory.\n",
      "File train_credit_bureau_a_1_0 loaded into memory.\n",
      "File train_credit_bureau_a_1_1 loaded into memory.\n",
      "File train_credit_bureau_b_1 loaded into memory.\n",
      "File train_other_1 loaded into memory.\n",
      "File train_person_1 loaded into memory.\n",
      "File train_deposit_1 loaded into memory.\n",
      "File train_debitcard_1 loaded into memory.\n",
      "File train_credit_bureau_a_2_6 loaded into memory.\n",
      "File train_credit_bureau_a_2_1 loaded into memory.\n",
      "File train_credit_bureau_a_2_0 loaded into memory.\n",
      "File train_credit_bureau_a_2_7 loaded into memory.\n",
      "File train_credit_bureau_a_2_5 loaded into memory.\n",
      "File train_credit_bureau_a_2_2 loaded into memory.\n",
      "File train_credit_bureau_a_2_4 loaded into memory.\n",
      "File train_credit_bureau_a_2_9 loaded into memory.\n",
      "File train_credit_bureau_a_2_3 loaded into memory.\n",
      "File train_credit_bureau_a_2_10 loaded into memory.\n",
      "File train_credit_bureau_a_2_8 loaded into memory.\n",
      "File train_credit_bureau_b_2 loaded into memory.\n",
      "Memory usage of dataframe \"train_df\" is 6783.1317 MB.\n",
      "Memory usage of dataframe \"train_df\" became 4174.0953 MB.\n",
      "Memory usage of dataframe \"train_df\" is 2870.9171 MB.\n",
      "Memory usage of dataframe \"train_df\" became 2665.6302 MB.\n",
      "Train data shape: (1526659, 472)\n"
     ]
    },
    {
     "data": {
      "text/html": [
       "<div><style>\n",
       ".dataframe > thead > tr,\n",
       ".dataframe > tbody > tr {\n",
       "  text-align: right;\n",
       "  white-space: pre-wrap;\n",
       "}\n",
       "</style>\n",
       "<small>shape: (10, 472)</small><table border=\"1\" class=\"dataframe\"><thead><tr><th>case_id</th><th>month</th><th>week_num</th><th>target</th><th>assignmentdate_238D</th><th>assignmentdate_4527235D</th><th>birthdate_574D</th><th>contractssum_5085716L</th><th>dateofbirth_337D</th><th>days120_123L</th><th>days180_256L</th><th>days30_165L</th><th>days360_512L</th><th>days90_310L</th><th>description_5085714M</th><th>education_1103M</th><th>education_88M</th><th>firstquarter_103L</th><th>fourthquarter_440L</th><th>maritalst_385M</th><th>maritalst_893M</th><th>numberofqueries_373L</th><th>pmtaverage_3A</th><th>pmtaverage_4527227A</th><th>pmtcount_4527229L</th><th>pmtcount_693L</th><th>pmtscount_423L</th><th>pmtssum_45A</th><th>requesttype_4525192L</th><th>responsedate_1012D</th><th>responsedate_4527233D</th><th>responsedate_4917613D</th><th>secondquarter_766L</th><th>thirdquarter_1082L</th><th>actualdpdtolerance_344P</th><th>amtinstpaidbefduel24m_4187115A</th><th>annuity_780A</th><th>&hellip;</th><th>mean_mainoccupationinc_384A</th><th>max_amount_416A</th><th>max_num_group1_10</th><th>max_openingdate_313D</th><th>mean_amount_416A</th><th>mean_openingdate_313D</th><th>max_num_group1_11</th><th>max_openingdate_857D</th><th>mean_openingdate_857D</th><th>max_collater_typofvalofguarant_298M</th><th>max_collater_typofvalofguarant_407M</th><th>max_collater_valueofguarantee_1124L</th><th>max_collater_valueofguarantee_876L</th><th>max_collaterals_typeofguarante_359M</th><th>max_collaterals_typeofguarante_669M</th><th>max_num_group1_12</th><th>max_num_group2</th><th>max_pmts_dpd_1073P</th><th>max_pmts_dpd_303P</th><th>max_pmts_month_158T</th><th>max_pmts_month_706T</th><th>max_pmts_overdue_1140A</th><th>max_pmts_overdue_1152A</th><th>max_pmts_year_1139T</th><th>max_pmts_year_507T</th><th>max_subjectroles_name_541M</th><th>max_subjectroles_name_838M</th><th>mean_pmts_dpd_1073P</th><th>mean_pmts_dpd_303P</th><th>mean_pmts_overdue_1140A</th><th>mean_pmts_overdue_1152A</th><th>var_pmts_dpd_1073P</th><th>var_pmts_dpd_303P</th><th>var_pmts_overdue_1140A</th><th>var_pmts_overdue_1152A</th><th>year</th><th>day</th></tr><tr><td>u32</td><td>u32</td><td>u8</td><td>u8</td><td>i16</td><td>u8</td><td>i16</td><td>f32</td><td>i32</td><td>f32</td><td>f32</td><td>f32</td><td>f32</td><td>f32</td><td>str</td><td>str</td><td>str</td><td>f32</td><td>f32</td><td>str</td><td>str</td><td>f32</td><td>f32</td><td>f32</td><td>f32</td><td>f32</td><td>f32</td><td>f32</td><td>str</td><td>i8</td><td>u8</td><td>i8</td><td>f32</td><td>f32</td><td>f32</td><td>f32</td><td>f32</td><td>&hellip;</td><td>f32</td><td>f32</td><td>u8</td><td>i16</td><td>f32</td><td>i16</td><td>u8</td><td>i16</td><td>i16</td><td>str</td><td>str</td><td>f32</td><td>f32</td><td>str</td><td>str</td><td>u16</td><td>u8</td><td>f32</td><td>f32</td><td>f32</td><td>f32</td><td>f32</td><td>f32</td><td>f32</td><td>f32</td><td>str</td><td>str</td><td>f32</td><td>f32</td><td>f32</td><td>f32</td><td>f32</td><td>f32</td><td>f32</td><td>f32</td><td>u16</td><td>u8</td></tr></thead><tbody><tr><td>1561462</td><td>201910</td><td>39</td><td>0</td><td>null</td><td>null</td><td>null</td><td>null</td><td>-15309</td><td>0.0</td><td>0.0</td><td>0.0</td><td>1.0</td><td>0.0</td><td>&quot;a55475b1&quot;</td><td>&quot;717ddd49&quot;</td><td>&quot;a55475b1&quot;</td><td>2.0</td><td>2.0</td><td>&quot;3439d993&quot;</td><td>&quot;a55475b1&quot;</td><td>1.0</td><td>null</td><td>null</td><td>null</td><td>null</td><td>6.0</td><td>25813.0</td><td>&quot;DEDUCTION_6&quot;</td><td>14</td><td>14</td><td>null</td><td>3.0</td><td>2.0</td><td>0.0</td><td>13681.400391</td><td>6163.0</td><td>&hellip;</td><td>100000.0</td><td>null</td><td>null</td><td>null</td><td>null</td><td>null</td><td>null</td><td>null</td><td>null</td><td>&quot;a55475b1&quot;</td><td>&quot;a55475b1&quot;</td><td>null</td><td>0.0</td><td>&quot;c7a5ad39&quot;</td><td>&quot;a55475b1&quot;</td><td>6</td><td>35</td><td>null</td><td>0.0</td><td>null</td><td>12.0</td><td>null</td><td>0.0</td><td>null</td><td>2020.0</td><td>&quot;ab3c25cf&quot;</td><td>&quot;a55475b1&quot;</td><td>null</td><td>0.0</td><td>null</td><td>0.0</td><td>null</td><td>0.0</td><td>null</td><td>0.0</td><td>2019</td><td>1</td></tr><tr><td>877544</td><td>201911</td><td>47</td><td>0</td><td>null</td><td>null</td><td>null</td><td>null</td><td>-15217</td><td>0.0</td><td>0.0</td><td>0.0</td><td>0.0</td><td>0.0</td><td>&quot;a55475b1&quot;</td><td>&quot;a55475b1&quot;</td><td>&quot;a55475b1&quot;</td><td>1.0</td><td>0.0</td><td>&quot;a55475b1&quot;</td><td>&quot;a55475b1&quot;</td><td>0.0</td><td>null</td><td>null</td><td>null</td><td>null</td><td>null</td><td>null</td><td>&quot;DEDUCTION_6&quot;</td><td>null</td><td>14</td><td>null</td><td>2.0</td><td>3.0</td><td>null</td><td>null</td><td>2979.0</td><td>&hellip;</td><td>40000.0</td><td>null</td><td>null</td><td>null</td><td>null</td><td>null</td><td>null</td><td>null</td><td>null</td><td>&quot;a55475b1&quot;</td><td>&quot;a55475b1&quot;</td><td>3.1e6</td><td>0.0</td><td>&quot;c7a5ad39&quot;</td><td>&quot;c7a5ad39&quot;</td><td>3</td><td>35</td><td>0.0</td><td>0.0</td><td>12.0</td><td>12.0</td><td>0.0</td><td>0.0</td><td>2020.0</td><td>2018.0</td><td>&quot;ab3c25cf&quot;</td><td>&quot;ab3c25cf&quot;</td><td>0.0</td><td>0.0</td><td>0.0</td><td>0.0</td><td>0.0</td><td>0.0</td><td>0.0</td><td>0.0</td><td>2019</td><td>29</td></tr><tr><td>1714706</td><td>201912</td><td>51</td><td>1</td><td>null</td><td>null</td><td>null</td><td>null</td><td>-18715</td><td>1.0</td><td>3.0</td><td>0.0</td><td>4.0</td><td>0.0</td><td>&quot;a55475b1&quot;</td><td>&quot;a55475b1&quot;</td><td>&quot;a55475b1&quot;</td><td>8.0</td><td>2.0</td><td>&quot;a55475b1&quot;</td><td>&quot;a55475b1&quot;</td><td>4.0</td><td>null</td><td>null</td><td>null</td><td>null</td><td>null</td><td>null</td><td>&quot;DEDUCTION_6&quot;</td><td>null</td><td>14</td><td>null</td><td>5.0</td><td>8.0</td><td>0.0</td><td>339838.25</td><td>3119.600098</td><td>&hellip;</td><td>70000.0</td><td>null</td><td>null</td><td>null</td><td>null</td><td>null</td><td>null</td><td>null</td><td>null</td><td>&quot;a55475b1&quot;</td><td>&quot;a55475b1&quot;</td><td>0.0</td><td>3.7137e6</td><td>&quot;c7a5ad39&quot;</td><td>&quot;c7a5ad39&quot;</td><td>3</td><td>35</td><td>0.0</td><td>8.0</td><td>12.0</td><td>12.0</td><td>0.0</td><td>0.0</td><td>2020.0</td><td>2020.0</td><td>&quot;ab3c25cf&quot;</td><td>&quot;ab3c25cf&quot;</td><td>0.0</td><td>0.571429</td><td>0.0</td><td>0.0</td><td>0.0</td><td>4.571429</td><td>0.0</td><td>0.0</td><td>2019</td><td>28</td></tr><tr><td>1496334</td><td>201908</td><td>32</td><td>0</td><td>null</td><td>null</td><td>-12954</td><td>null</td><td>-12954</td><td>0.0</td><td>0.0</td><td>0.0</td><td>4.0</td><td>0.0</td><td>&quot;a55475b1&quot;</td><td>&quot;a55475b1&quot;</td><td>&quot;a55475b1&quot;</td><td>6.0</td><td>14.0</td><td>&quot;a55475b1&quot;</td><td>&quot;a55475b1&quot;</td><td>4.0</td><td>null</td><td>null</td><td>null</td><td>null</td><td>8.0</td><td>25562.201172</td><td>null</td><td>14</td><td>null</td><td>null</td><td>2.0</td><td>4.0</td><td>0.0</td><td>0.0</td><td>7005.800293</td><td>&hellip;</td><td>34000.0</td><td>null</td><td>null</td><td>null</td><td>null</td><td>null</td><td>null</td><td>null</td><td>null</td><td>&quot;a55475b1&quot;</td><td>&quot;a55475b1&quot;</td><td>0.0</td><td>0.0</td><td>&quot;c7a5ad39&quot;</td><td>&quot;c7a5ad39&quot;</td><td>1</td><td>35</td><td>0.0</td><td>20.0</td><td>12.0</td><td>12.0</td><td>0.0</td><td>2.6</td><td>2020.0</td><td>2018.0</td><td>&quot;ab3c25cf&quot;</td><td>&quot;ab3c25cf&quot;</td><td>0.0</td><td>3.222222</td><td>0.0</td><td>0.577778</td><td>0.0</td><td>48.444443</td><td>0.0</td><td>1.314445</td><td>2019</td><td>19</td></tr><tr><td>1832273</td><td>202004</td><td>65</td><td>0</td><td>null</td><td>null</td><td>null</td><td>null</td><td>-18598</td><td>0.0</td><td>0.0</td><td>0.0</td><td>0.0</td><td>0.0</td><td>&quot;a55475b1&quot;</td><td>&quot;a55475b1&quot;</td><td>&quot;a55475b1&quot;</td><td>1.0</td><td>2.0</td><td>&quot;a55475b1&quot;</td><td>&quot;a55475b1&quot;</td><td>0.0</td><td>null</td><td>null</td><td>null</td><td>null</td><td>null</td><td>null</td><td>&quot;DEDUCTION_6&quot;</td><td>null</td><td>14</td><td>null</td><td>0.0</td><td>0.0</td><td>0.0</td><td>0.0</td><td>2135.400146</td><td>&hellip;</td><td>66000.0</td><td>null</td><td>null</td><td>null</td><td>null</td><td>null</td><td>null</td><td>null</td><td>null</td><td>&quot;a55475b1&quot;</td><td>&quot;a55475b1&quot;</td><td>0.0</td><td>0.0</td><td>&quot;c7a5ad39&quot;</td><td>&quot;c7a5ad39&quot;</td><td>2</td><td>35</td><td>0.0</td><td>0.0</td><td>12.0</td><td>12.0</td><td>0.0</td><td>0.0</td><td>2021.0</td><td>2020.0</td><td>&quot;ab3c25cf&quot;</td><td>&quot;ab3c25cf&quot;</td><td>0.0</td><td>0.0</td><td>0.0</td><td>0.0</td><td>0.0</td><td>0.0</td><td>0.0</td><td>0.0</td><td>2020</td><td>1</td></tr><tr><td>704048</td><td>201906</td><td>22</td><td>0</td><td>null</td><td>null</td><td>-17231</td><td>null</td><td>-17231</td><td>0.0</td><td>0.0</td><td>0.0</td><td>0.0</td><td>0.0</td><td>&quot;a55475b1&quot;</td><td>&quot;a55475b1&quot;</td><td>&quot;a55475b1&quot;</td><td>0.0</td><td>0.0</td><td>&quot;a55475b1&quot;</td><td>&quot;a55475b1&quot;</td><td>0.0</td><td>null</td><td>null</td><td>null</td><td>null</td><td>1.0</td><td>2400.0</td><td>null</td><td>14</td><td>null</td><td>null</td><td>0.0</td><td>0.0</td><td>0.0</td><td>null</td><td>1512.200073</td><td>&hellip;</td><td>50000.0</td><td>null</td><td>null</td><td>null</td><td>null</td><td>null</td><td>null</td><td>null</td><td>null</td><td>&quot;a55475b1&quot;</td><td>&quot;a55475b1&quot;</td><td>0.0</td><td>null</td><td>&quot;a55475b1&quot;</td><td>&quot;c7a5ad39&quot;</td><td>0</td><td>35</td><td>1042.0</td><td>null</td><td>12.0</td><td>null</td><td>11440.75</td><td>null</td><td>2020.0</td><td>null</td><td>&quot;a55475b1&quot;</td><td>&quot;ab3c25cf&quot;</td><td>727.583313</td><td>null</td><td>11440.75</td><td>null</td><td>37433.296875</td><td>null</td><td>0.0</td><td>null</td><td>2019</td><td>5</td></tr><tr><td>1430116</td><td>201907</td><td>26</td><td>0</td><td>null</td><td>null</td><td>-17899</td><td>null</td><td>-17899</td><td>1.0</td><td>2.0</td><td>0.0</td><td>3.0</td><td>1.0</td><td>&quot;a55475b1&quot;</td><td>&quot;717ddd49&quot;</td><td>&quot;a55475b1&quot;</td><td>1.0</td><td>0.0</td><td>&quot;3439d993&quot;</td><td>&quot;a55475b1&quot;</td><td>3.0</td><td>null</td><td>null</td><td>null</td><td>null</td><td>6.0</td><td>3480.0</td><td>null</td><td>14</td><td>null</td><td>null</td><td>4.0</td><td>2.0</td><td>0.0</td><td>17185.0</td><td>4177.800293</td><td>&hellip;</td><td>60000.0</td><td>null</td><td>null</td><td>null</td><td>null</td><td>null</td><td>null</td><td>null</td><td>null</td><td>&quot;a55475b1&quot;</td><td>&quot;a55475b1&quot;</td><td>3.203e6</td><td>0.0</td><td>&quot;c7a5ad39&quot;</td><td>&quot;f4d8a027&quot;</td><td>3</td><td>35</td><td>0.0</td><td>0.0</td><td>12.0</td><td>12.0</td><td>0.0</td><td>0.0</td><td>2020.0</td><td>2020.0</td><td>&quot;ab3c25cf&quot;</td><td>&quot;ab3c25cf&quot;</td><td>0.0</td><td>0.0</td><td>0.0</td><td>0.0</td><td>0.0</td><td>0.0</td><td>0.0</td><td>0.0</td><td>2019</td><td>3</td></tr><tr><td>2680925</td><td>202005</td><td>71</td><td>0</td><td>null</td><td>null</td><td>null</td><td>null</td><td>-19644</td><td>3.0</td><td>5.0</td><td>1.0</td><td>6.0</td><td>3.0</td><td>&quot;a55475b1&quot;</td><td>&quot;6b2ae0fa&quot;</td><td>&quot;a55475b1&quot;</td><td>2.0</td><td>4.0</td><td>&quot;3439d993&quot;</td><td>&quot;a55475b1&quot;</td><td>6.0</td><td>null</td><td>null</td><td>null</td><td>null</td><td>null</td><td>null</td><td>null</td><td>null</td><td>null</td><td>null</td><td>5.0</td><td>0.0</td><td>0.0</td><td>218773.25</td><td>3187.800049</td><td>&hellip;</td><td>42000.0</td><td>null</td><td>null</td><td>null</td><td>null</td><td>null</td><td>null</td><td>null</td><td>null</td><td>&quot;a55475b1&quot;</td><td>&quot;a55475b1&quot;</td><td>0.0</td><td>171000.0</td><td>&quot;c7a5ad39&quot;</td><td>&quot;c7a5ad39&quot;</td><td>13</td><td>35</td><td>0.0</td><td>24.0</td><td>12.0</td><td>12.0</td><td>0.0</td><td>7697.600098</td><td>2021.0</td><td>2021.0</td><td>&quot;ab3c25cf&quot;</td><td>&quot;ab3c25cf&quot;</td><td>0.0</td><td>1.87931</td><td>0.0</td><td>321.030029</td><td>0.0</td><td>26.872263</td><td>0.0</td><td>1.527223e6</td><td>2020</td><td>13</td></tr><tr><td>835254</td><td>201910</td><td>41</td><td>0</td><td>null</td><td>null</td><td>null</td><td>null</td><td>null</td><td>null</td><td>null</td><td>null</td><td>null</td><td>null</td><td>&quot;a55475b1&quot;</td><td>&quot;a55475b1&quot;</td><td>&quot;a55475b1&quot;</td><td>null</td><td>null</td><td>&quot;a55475b1&quot;</td><td>&quot;a55475b1&quot;</td><td>null</td><td>null</td><td>null</td><td>null</td><td>null</td><td>null</td><td>null</td><td>&quot;DEDUCTION_6&quot;</td><td>null</td><td>14</td><td>null</td><td>null</td><td>null</td><td>null</td><td>null</td><td>984.0</td><td>&hellip;</td><td>30000.0</td><td>null</td><td>null</td><td>null</td><td>null</td><td>null</td><td>null</td><td>null</td><td>null</td><td>null</td><td>null</td><td>null</td><td>null</td><td>null</td><td>null</td><td>null</td><td>null</td><td>null</td><td>null</td><td>null</td><td>null</td><td>null</td><td>null</td><td>null</td><td>null</td><td>null</td><td>null</td><td>null</td><td>null</td><td>null</td><td>null</td><td>null</td><td>null</td><td>null</td><td>null</td><td>2019</td><td>19</td></tr><tr><td>1774901</td><td>202002</td><td>57</td><td>0</td><td>null</td><td>14</td><td>null</td><td>null</td><td>-25390</td><td>2.0</td><td>2.0</td><td>2.0</td><td>4.0</td><td>2.0</td><td>&quot;a55475b1&quot;</td><td>&quot;6b2ae0fa&quot;</td><td>&quot;a55475b1&quot;</td><td>3.0</td><td>0.0</td><td>&quot;b6cabe76&quot;</td><td>&quot;a55475b1&quot;</td><td>4.0</td><td>null</td><td>19155.201172</td><td>6.0</td><td>null</td><td>null</td><td>null</td><td>&quot;PENSION_6&quot;</td><td>null</td><td>14</td><td>null</td><td>3.0</td><td>0.0</td><td>0.0</td><td>77976.0</td><td>3708.199951</td><td>&hellip;</td><td>26600.0</td><td>4916.706055</td><td>0</td><td>-1252</td><td>4916.706055</td><td>-1252</td><td>0</td><td>-1252</td><td>-1252</td><td>&quot;a55475b1&quot;</td><td>&quot;a55475b1&quot;</td><td>null</td><td>200000.0</td><td>&quot;c7a5ad39&quot;</td><td>&quot;a55475b1&quot;</td><td>12</td><td>35</td><td>null</td><td>1.0</td><td>null</td><td>12.0</td><td>null</td><td>2128.285889</td><td>null</td><td>2020.0</td><td>&quot;ab3c25cf&quot;</td><td>&quot;a55475b1&quot;</td><td>null</td><td>0.010309</td><td>null</td><td>21.941093</td><td>null</td><td>0.010309</td><td>null</td><td>46696.921875</td><td>2020</td><td>5</td></tr></tbody></table></div>"
      ],
      "text/plain": [
       "shape: (10, 472)\n",
       "┌─────────┬────────┬──────────┬────────┬───┬─────────────────────┬────────────────────┬──────┬─────┐\n",
       "│ case_id ┆ month  ┆ week_num ┆ target ┆ … ┆ var_pmts_overdue_11 ┆ var_pmts_overdue_1 ┆ year ┆ day │\n",
       "│ ---     ┆ ---    ┆ ---      ┆ ---    ┆   ┆ 40A                 ┆ 152A               ┆ ---  ┆ --- │\n",
       "│ u32     ┆ u32    ┆ u8       ┆ u8     ┆   ┆ ---                 ┆ ---                ┆ u16  ┆ u8  │\n",
       "│         ┆        ┆          ┆        ┆   ┆ f32                 ┆ f32                ┆      ┆     │\n",
       "╞═════════╪════════╪══════════╪════════╪═══╪═════════════════════╪════════════════════╪══════╪═════╡\n",
       "│ 1561462 ┆ 201910 ┆ 39       ┆ 0      ┆ … ┆ null                ┆ 0.0                ┆ 2019 ┆ 1   │\n",
       "│ 877544  ┆ 201911 ┆ 47       ┆ 0      ┆ … ┆ 0.0                 ┆ 0.0                ┆ 2019 ┆ 29  │\n",
       "│ 1714706 ┆ 201912 ┆ 51       ┆ 1      ┆ … ┆ 0.0                 ┆ 0.0                ┆ 2019 ┆ 28  │\n",
       "│ 1496334 ┆ 201908 ┆ 32       ┆ 0      ┆ … ┆ 0.0                 ┆ 1.314445           ┆ 2019 ┆ 19  │\n",
       "│ 1832273 ┆ 202004 ┆ 65       ┆ 0      ┆ … ┆ 0.0                 ┆ 0.0                ┆ 2020 ┆ 1   │\n",
       "│ 704048  ┆ 201906 ┆ 22       ┆ 0      ┆ … ┆ 0.0                 ┆ null               ┆ 2019 ┆ 5   │\n",
       "│ 1430116 ┆ 201907 ┆ 26       ┆ 0      ┆ … ┆ 0.0                 ┆ 0.0                ┆ 2019 ┆ 3   │\n",
       "│ 2680925 ┆ 202005 ┆ 71       ┆ 0      ┆ … ┆ 0.0                 ┆ 1.527223e6         ┆ 2020 ┆ 13  │\n",
       "│ 835254  ┆ 201910 ┆ 41       ┆ 0      ┆ … ┆ null                ┆ null               ┆ 2019 ┆ 19  │\n",
       "│ 1774901 ┆ 202002 ┆ 57       ┆ 0      ┆ … ┆ null                ┆ 46696.921875       ┆ 2020 ┆ 5   │\n",
       "└─────────┴────────┴──────────┴────────┴───┴─────────────────────┴────────────────────┴──────┴─────┘"
      ]
     },
     "metadata": {},
     "output_type": "display_data"
    },
    {
     "name": "stdout",
     "output_type": "stream",
     "text": [
      "CPU times: user 5min 49s, sys: 1min 43s, total: 7min 33s\n",
      "Wall time: 2min 16s\n"
     ]
    }
   ],
   "source": [
    "%%time\n",
    "\n",
    "data_store: dict = {\n",
    "    \"df_base\": SchemaGen.scan_files(os.path.join(TRAIN_DIR, \"train_base.parquet\")),\n",
    "    \"depth_0\": [\n",
    "        SchemaGen.scan_files(os.path.join(TRAIN_DIR, \"train_static_cb_0.parquet\")),\n",
    "        SchemaGen.scan_files(os.path.join(TRAIN_DIR, \"train_static_0_*.parquet\")),\n",
    "    ],\n",
    "    \"depth_1\": [\n",
    "        SchemaGen.scan_files(os.path.join(TRAIN_DIR, \"train_applprev_1_*.parquet\"), 1),\n",
    "        SchemaGen.scan_files(os.path.join(TRAIN_DIR, \"train_tax_registry_a_1.parquet\"), 1),\n",
    "        SchemaGen.scan_files(os.path.join(TRAIN_DIR, \"train_tax_registry_b_1.parquet\"), 1),\n",
    "        SchemaGen.scan_files(os.path.join(TRAIN_DIR, \"train_tax_registry_c_1.parquet\"), 1),\n",
    "        SchemaGen.scan_files(os.path.join(TRAIN_DIR, \"train_credit_bureau_a_1_*.parquet\"), 1),\n",
    "        SchemaGen.scan_files(os.path.join(TRAIN_DIR, \"train_credit_bureau_b_1.parquet\"), 1),\n",
    "        SchemaGen.scan_files(os.path.join(TRAIN_DIR, \"train_other_1.parquet\"), 1),\n",
    "        SchemaGen.scan_files(os.path.join(TRAIN_DIR, \"train_person_1.parquet\"), 1),\n",
    "        SchemaGen.scan_files(os.path.join(TRAIN_DIR, \"train_deposit_1.parquet\"), 1),\n",
    "        SchemaGen.scan_files(os.path.join(TRAIN_DIR, \"train_debitcard_1.parquet\"), 1),\n",
    "    ],\n",
    "    \"depth_2\": [\n",
    "        SchemaGen.scan_files(os.path.join(TRAIN_DIR, \"train_credit_bureau_a_2_*.parquet\"), 2),\n",
    "        SchemaGen.scan_files(os.path.join(TRAIN_DIR, \"train_credit_bureau_b_2.parquet\"), 2),\n",
    "    ],\n",
    "}\n",
    "\n",
    "train_df: pl.LazyFrame = (\n",
    "    SchemaGen.join_dataframes(**data_store)\n",
    "    .pipe(Pipeline.filter_cols)\n",
    "    .pipe(Pipeline.transform_cols)\n",
    "    .pipe(Pipeline.handle_dates)\n",
    "    .pipe(Utility.reduce_memory_usage, \"train_df\")\n",
    ")\n",
    "\n",
    "del data_store\n",
    "gc.collect()\n",
    "\n",
    "print(f\"Train data shape: {train_df.shape}\")\n",
    "display(train_df.head(10))"
   ]
  },
  {
   "cell_type": "code",
   "execution_count": 6,
   "id": "ae0a56e0",
   "metadata": {
    "execution": {
     "iopub.execute_input": "2024-05-19T04:54:16.256130Z",
     "iopub.status.busy": "2024-05-19T04:54:16.255821Z",
     "iopub.status.idle": "2024-05-19T04:54:39.641137Z",
     "shell.execute_reply": "2024-05-19T04:54:39.640208Z"
    },
    "papermill": {
     "duration": 23.395244,
     "end_time": "2024-05-19T04:54:39.643061",
     "exception": false,
     "start_time": "2024-05-19T04:54:16.247817",
     "status": "completed"
    },
    "tags": []
   },
   "outputs": [
    {
     "data": {
      "text/plain": [
       "0"
      ]
     },
     "execution_count": 6,
     "metadata": {},
     "output_type": "execute_result"
    }
   ],
   "source": [
    "cols = train_df.columns\n",
    "train_df, cat_cols = Utility.to_pandas(train_df)\n",
    "\n",
    "del train_df\n",
    "gc.collect()"
   ]
  },
  {
   "cell_type": "markdown",
   "id": "5fc915bc",
   "metadata": {
    "papermill": {
     "duration": 0.006974,
     "end_time": "2024-05-19T04:54:39.658314",
     "exception": false,
     "start_time": "2024-05-19T04:54:39.651340",
     "status": "completed"
    },
    "tags": []
   },
   "source": [
    "### Read test data"
   ]
  },
  {
   "cell_type": "code",
   "execution_count": 7,
   "id": "d1bcfce1",
   "metadata": {
    "execution": {
     "iopub.execute_input": "2024-05-19T04:54:39.674037Z",
     "iopub.status.busy": "2024-05-19T04:54:39.673727Z",
     "iopub.status.idle": "2024-05-19T04:54:44.712395Z",
     "shell.execute_reply": "2024-05-19T04:54:44.711286Z"
    },
    "papermill": {
     "duration": 5.049602,
     "end_time": "2024-05-19T04:54:44.715192",
     "exception": false,
     "start_time": "2024-05-19T04:54:39.665590",
     "status": "completed"
    },
    "tags": []
   },
   "outputs": [
    {
     "name": "stdout",
     "output_type": "stream",
     "text": [
      "File test_base loaded into memory.\n",
      "File test_static_cb_0 loaded into memory.\n",
      "File test_static_0_0 loaded into memory.\n",
      "File test_static_0_2 loaded into memory.\n",
      "File test_static_0_1 loaded into memory.\n",
      "File test_applprev_1_2 loaded into memory.\n",
      "File test_applprev_1_0 loaded into memory.\n",
      "File test_applprev_1_1 loaded into memory.\n",
      "File test_tax_registry_a_1 loaded into memory.\n",
      "File test_tax_registry_b_1 loaded into memory.\n",
      "File test_tax_registry_c_1 loaded into memory.\n",
      "File test_credit_bureau_a_1_3 loaded into memory.\n",
      "File test_credit_bureau_a_1_2 loaded into memory.\n",
      "File test_credit_bureau_a_1_1 loaded into memory.\n",
      "File test_credit_bureau_a_1_4 loaded into memory.\n",
      "File test_credit_bureau_a_1_0 loaded into memory.\n",
      "File test_credit_bureau_b_1 loaded into memory.\n",
      "File test_other_1 loaded into memory.\n",
      "File test_person_1 loaded into memory.\n",
      "File test_deposit_1 loaded into memory.\n",
      "File test_debitcard_1 loaded into memory.\n",
      "File test_credit_bureau_b_2 loaded into memory.\n",
      "File test_credit_bureau_a_2_3 loaded into memory.\n",
      "File test_credit_bureau_a_2_9 loaded into memory.\n",
      "File test_credit_bureau_a_2_2 loaded into memory.\n",
      "File test_credit_bureau_a_2_11 loaded into memory.\n",
      "File test_credit_bureau_a_2_1 loaded into memory.\n",
      "File test_credit_bureau_a_2_6 loaded into memory.\n",
      "File test_credit_bureau_a_2_5 loaded into memory.\n",
      "File test_credit_bureau_a_2_0 loaded into memory.\n",
      "File test_credit_bureau_a_2_7 loaded into memory.\n",
      "File test_credit_bureau_a_2_10 loaded into memory.\n",
      "File test_credit_bureau_a_2_8 loaded into memory.\n",
      "File test_credit_bureau_a_2_4 loaded into memory.\n",
      "Memory usage of dataframe \"train_df\" is 0.0432 MB.\n",
      "Memory usage of dataframe \"train_df\" became 0.0311 MB.\n",
      "Memory usage of dataframe \"test_df\" is 0.0184 MB.\n",
      "Memory usage of dataframe \"test_df\" became 0.0173 MB.\n",
      "Test data shape: (10, 471)\n"
     ]
    }
   ],
   "source": [
    "data_store = {\n",
    "    \"df_base\": SchemaGen.scan_files(os.path.join(TEST_DIR, \"test_base.parquet\")),\n",
    "    \"depth_0\": [\n",
    "        SchemaGen.scan_files(os.path.join(TEST_DIR, \"test_static_cb_0.parquet\")),\n",
    "        SchemaGen.scan_files(os.path.join(TEST_DIR, \"test_static_0_*.parquet\")),\n",
    "    ],\n",
    "    \"depth_1\": [\n",
    "        SchemaGen.scan_files(os.path.join(TEST_DIR, \"test_applprev_1_*.parquet\"), 1),\n",
    "        SchemaGen.scan_files(os.path.join(TEST_DIR, \"test_tax_registry_a_1.parquet\"), 1),\n",
    "        SchemaGen.scan_files(os.path.join(TEST_DIR, \"test_tax_registry_b_1.parquet\"), 1),\n",
    "        SchemaGen.scan_files(os.path.join(TEST_DIR, \"test_tax_registry_c_1.parquet\"), 1),\n",
    "        SchemaGen.scan_files(os.path.join(TEST_DIR, \"test_credit_bureau_a_1_*.parquet\"), 1),\n",
    "        SchemaGen.scan_files(os.path.join(TEST_DIR, \"test_credit_bureau_b_1.parquet\"), 1),\n",
    "        SchemaGen.scan_files(os.path.join(TEST_DIR, \"test_other_1.parquet\"), 1),\n",
    "        SchemaGen.scan_files(os.path.join(TEST_DIR, \"test_person_1.parquet\"), 1),\n",
    "        SchemaGen.scan_files(os.path.join(TEST_DIR, \"test_deposit_1.parquet\"), 1),\n",
    "        SchemaGen.scan_files(os.path.join(TEST_DIR, \"test_debitcard_1.parquet\"), 1),\n",
    "    ],\n",
    "    \"depth_2\": [\n",
    "        SchemaGen.scan_files(os.path.join(TEST_DIR, \"test_credit_bureau_b_2.parquet\"), 2),\n",
    "        SchemaGen.scan_files(os.path.join(TEST_DIR, \"test_credit_bureau_a_2_*.parquet\"), 2),\n",
    "        # SchemaGen.scan_files(os.path.join(TEST_DIR, \"test_applprev_2.parquet\"), 2),\n",
    "        # SchemaGen.scan_files(os.path.join(TEST_DIR, \"test_person_2.parquet\"), 2)\n",
    "    ],\n",
    "}\n",
    "\n",
    "test_df: pl.DataFrame = (\n",
    "    SchemaGen.join_dataframes(**data_store)\n",
    "    .pipe(Pipeline.transform_cols)\n",
    "    .pipe(Pipeline.handle_dates)\n",
    "    .select([col for col in cols if col != \"target\"])\n",
    "    .pipe(Utility.reduce_memory_usage, \"test_df\")\n",
    ")\n",
    "\n",
    "del data_store\n",
    "gc.collect()\n",
    "\n",
    "print(f\"Test data shape: {test_df.shape}\")"
   ]
  },
  {
   "cell_type": "code",
   "execution_count": 8,
   "id": "747de62e",
   "metadata": {
    "execution": {
     "iopub.execute_input": "2024-05-19T04:54:44.733325Z",
     "iopub.status.busy": "2024-05-19T04:54:44.732992Z",
     "iopub.status.idle": "2024-05-19T04:54:44.760518Z",
     "shell.execute_reply": "2024-05-19T04:54:44.759836Z"
    },
    "papermill": {
     "duration": 0.038798,
     "end_time": "2024-05-19T04:54:44.762504",
     "exception": false,
     "start_time": "2024-05-19T04:54:44.723706",
     "status": "completed"
    },
    "tags": []
   },
   "outputs": [],
   "source": [
    "test_df, cat_cols = Utility.to_pandas(test_df, cat_cols)"
   ]
  },
  {
   "cell_type": "markdown",
   "id": "9dbf2c9d",
   "metadata": {
    "papermill": {
     "duration": 0.00786,
     "end_time": "2024-05-19T04:54:44.778865",
     "exception": false,
     "start_time": "2024-05-19T04:54:44.771005",
     "status": "completed"
    },
    "tags": []
   },
   "source": [
    "### Inference"
   ]
  },
  {
   "cell_type": "code",
   "execution_count": 9,
   "id": "91f68576",
   "metadata": {
    "execution": {
     "iopub.execute_input": "2024-05-19T04:54:44.796103Z",
     "iopub.status.busy": "2024-05-19T04:54:44.795798Z",
     "iopub.status.idle": "2024-05-19T04:54:46.540103Z",
     "shell.execute_reply": "2024-05-19T04:54:46.538979Z"
    },
    "papermill": {
     "duration": 1.755585,
     "end_time": "2024-05-19T04:54:46.542482",
     "exception": false,
     "start_time": "2024-05-19T04:54:44.786897",
     "status": "completed"
    },
    "tags": []
   },
   "outputs": [],
   "source": [
    "with open('/kaggle/input/home-credit-crms-models/voting_model.pkl', 'rb') as f:\n",
    "    loaded_model = pickle.load(f)"
   ]
  },
  {
   "cell_type": "code",
   "execution_count": 10,
   "id": "f0bb8c87",
   "metadata": {
    "execution": {
     "iopub.execute_input": "2024-05-19T04:54:46.561394Z",
     "iopub.status.busy": "2024-05-19T04:54:46.561023Z",
     "iopub.status.idle": "2024-05-19T04:54:46.572494Z",
     "shell.execute_reply": "2024-05-19T04:54:46.571735Z"
    },
    "papermill": {
     "duration": 0.023006,
     "end_time": "2024-05-19T04:54:46.574484",
     "exception": false,
     "start_time": "2024-05-19T04:54:46.551478",
     "status": "completed"
    },
    "tags": []
   },
   "outputs": [],
   "source": [
    "df_subm: pd.DataFrame = pd.read_csv(os.path.join(ROOT, \"sample_submission.csv\"))\n",
    "df_subm = df_subm.set_index(\"case_id\")"
   ]
  },
  {
   "cell_type": "code",
   "execution_count": 11,
   "id": "d6bd89af",
   "metadata": {
    "execution": {
     "iopub.execute_input": "2024-05-19T04:54:46.593913Z",
     "iopub.status.busy": "2024-05-19T04:54:46.593573Z",
     "iopub.status.idle": "2024-05-19T04:54:47.113534Z",
     "shell.execute_reply": "2024-05-19T04:54:47.112549Z"
    },
    "papermill": {
     "duration": 0.533093,
     "end_time": "2024-05-19T04:54:47.115961",
     "exception": false,
     "start_time": "2024-05-19T04:54:46.582868",
     "status": "completed"
    },
    "tags": []
   },
   "outputs": [
    {
     "data": {
      "text/html": [
       "<div>\n",
       "<style scoped>\n",
       "    .dataframe tbody tr th:only-of-type {\n",
       "        vertical-align: middle;\n",
       "    }\n",
       "\n",
       "    .dataframe tbody tr th {\n",
       "        vertical-align: top;\n",
       "    }\n",
       "\n",
       "    .dataframe thead th {\n",
       "        text-align: right;\n",
       "    }\n",
       "</style>\n",
       "<table border=\"1\" class=\"dataframe\">\n",
       "  <thead>\n",
       "    <tr style=\"text-align: right;\">\n",
       "      <th></th>\n",
       "      <th>score</th>\n",
       "    </tr>\n",
       "    <tr>\n",
       "      <th>case_id</th>\n",
       "      <th></th>\n",
       "    </tr>\n",
       "  </thead>\n",
       "  <tbody>\n",
       "    <tr>\n",
       "      <th>57543</th>\n",
       "      <td>0.008670</td>\n",
       "    </tr>\n",
       "    <tr>\n",
       "      <th>57549</th>\n",
       "      <td>0.056382</td>\n",
       "    </tr>\n",
       "    <tr>\n",
       "      <th>57551</th>\n",
       "      <td>0.002242</td>\n",
       "    </tr>\n",
       "    <tr>\n",
       "      <th>57552</th>\n",
       "      <td>0.020815</td>\n",
       "    </tr>\n",
       "    <tr>\n",
       "      <th>57569</th>\n",
       "      <td>0.170345</td>\n",
       "    </tr>\n",
       "    <tr>\n",
       "      <th>57630</th>\n",
       "      <td>0.007066</td>\n",
       "    </tr>\n",
       "    <tr>\n",
       "      <th>57631</th>\n",
       "      <td>0.021817</td>\n",
       "    </tr>\n",
       "    <tr>\n",
       "      <th>57632</th>\n",
       "      <td>0.005812</td>\n",
       "    </tr>\n",
       "    <tr>\n",
       "      <th>57633</th>\n",
       "      <td>0.036832</td>\n",
       "    </tr>\n",
       "    <tr>\n",
       "      <th>57634</th>\n",
       "      <td>0.022884</td>\n",
       "    </tr>\n",
       "  </tbody>\n",
       "</table>\n",
       "</div>"
      ],
      "text/plain": [
       "            score\n",
       "case_id          \n",
       "57543    0.008670\n",
       "57549    0.056382\n",
       "57551    0.002242\n",
       "57552    0.020815\n",
       "57569    0.170345\n",
       "57630    0.007066\n",
       "57631    0.021817\n",
       "57632    0.005812\n",
       "57633    0.036832\n",
       "57634    0.022884"
      ]
     },
     "metadata": {},
     "output_type": "display_data"
    }
   ],
   "source": [
    "X_test: pd.DataFrame = test_df.drop(columns=[\"week_num\"]).set_index(\"case_id\")\n",
    "\n",
    "X_test[cat_cols] = X_test[cat_cols].astype(\"category\")\n",
    "X_test[cat_cols] = X_test[cat_cols].apply(lambda x: x.cat.add_categories(['NaN']).fillna('NaN'))\n",
    "\n",
    "y_pred: pd.Series = pd.Series(loaded_model.predict_proba(X_test)[:, 1], index=X_test.index)\n",
    "\n",
    "df_subm[\"score\"] = y_pred\n",
    "\n",
    "display(df_subm)\n",
    "\n",
    "df_subm.to_csv(\"submission.csv\")"
   ]
  },
  {
   "cell_type": "code",
   "execution_count": 12,
   "id": "288e1e65",
   "metadata": {
    "execution": {
     "iopub.execute_input": "2024-05-19T04:54:47.134408Z",
     "iopub.status.busy": "2024-05-19T04:54:47.134098Z",
     "iopub.status.idle": "2024-05-19T04:54:47.138398Z",
     "shell.execute_reply": "2024-05-19T04:54:47.137358Z"
    },
    "papermill": {
     "duration": 0.015719,
     "end_time": "2024-05-19T04:54:47.140450",
     "exception": false,
     "start_time": "2024-05-19T04:54:47.124731",
     "status": "completed"
    },
    "tags": []
   },
   "outputs": [],
   "source": [
    "# test_df = test_df.drop(columns=[\"week_num\"]).set_index(\"case_id\")\n",
    "# test_df[cat_cols] = test_df[cat_cols].astype(\"category\")\n",
    "\n",
    "# # preds = pd.Series(loaded_model.predict_proba(test_df)[:, 1], index=test_df.index)\n",
    "\n",
    "# submission_df = pd.DataFrame(index=test_df.index)\n",
    "# # submission_df[\"score\"] = preds\n",
    "# submission_df[\"score\"] = 0.1\n",
    "\n",
    "# # Metric Hack\n",
    "# # https://www.kaggle.com/code/a520hh/fork-of-this-is-the-way/notebook\n",
    "# # condition = preds < 0.98\n",
    "# # submission_df.loc[condition, \"score\"] = (submission_df.loc[condition, \"score\"] - 0.073).clip(0)\n",
    "\n",
    "# submission_df"
   ]
  },
  {
   "cell_type": "code",
   "execution_count": 13,
   "id": "8dad3074",
   "metadata": {
    "execution": {
     "iopub.execute_input": "2024-05-19T04:54:47.158892Z",
     "iopub.status.busy": "2024-05-19T04:54:47.158628Z",
     "iopub.status.idle": "2024-05-19T04:54:47.162460Z",
     "shell.execute_reply": "2024-05-19T04:54:47.161627Z"
    },
    "papermill": {
     "duration": 0.015378,
     "end_time": "2024-05-19T04:54:47.164433",
     "exception": false,
     "start_time": "2024-05-19T04:54:47.149055",
     "status": "completed"
    },
    "tags": []
   },
   "outputs": [],
   "source": [
    "# submission_df.to_csv(\"submission.csv\")"
   ]
  },
  {
   "cell_type": "code",
   "execution_count": null,
   "id": "73a65633",
   "metadata": {
    "papermill": {
     "duration": 0.008181,
     "end_time": "2024-05-19T04:54:47.180942",
     "exception": false,
     "start_time": "2024-05-19T04:54:47.172761",
     "status": "completed"
    },
    "tags": []
   },
   "outputs": [],
   "source": []
  }
 ],
 "metadata": {
  "kaggle": {
   "accelerator": "gpu",
   "dataSources": [
    {
     "databundleVersionId": 7921029,
     "sourceId": 50160,
     "sourceType": "competition"
    },
    {
     "datasetId": 5038079,
     "sourceId": 8453472,
     "sourceType": "datasetVersion"
    },
    {
     "datasetId": 5038176,
     "sourceId": 8454976,
     "sourceType": "datasetVersion"
    }
   ],
   "dockerImageVersionId": 30699,
   "isGpuEnabled": true,
   "isInternetEnabled": false,
   "language": "python",
   "sourceType": "notebook"
  },
  "kernelspec": {
   "display_name": "Python 3",
   "language": "python",
   "name": "python3"
  },
  "language_info": {
   "codemirror_mode": {
    "name": "ipython",
    "version": 3
   },
   "file_extension": ".py",
   "mimetype": "text/x-python",
   "name": "python",
   "nbconvert_exporter": "python",
   "pygments_lexer": "ipython3",
   "version": "3.10.13"
  },
  "papermill": {
   "default_parameters": {},
   "duration": 177.433281,
   "end_time": "2024-05-19T04:54:48.009507",
   "environment_variables": {},
   "exception": null,
   "input_path": "__notebook__.ipynb",
   "output_path": "__notebook__.ipynb",
   "parameters": {},
   "start_time": "2024-05-19T04:51:50.576226",
   "version": "2.5.0"
  }
 },
 "nbformat": 4,
 "nbformat_minor": 5
}
