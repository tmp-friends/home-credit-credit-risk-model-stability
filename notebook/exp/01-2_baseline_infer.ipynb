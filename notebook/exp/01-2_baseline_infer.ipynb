{
 "cells": [
  {
   "cell_type": "markdown",
   "id": "89ea6bc6",
   "metadata": {
    "papermill": {
     "duration": 0.005669,
     "end_time": "2024-05-22T00:54:33.840980",
     "exception": false,
     "start_time": "2024-05-22T00:54:33.835311",
     "status": "completed"
    },
    "tags": []
   },
   "source": [
    "## Baseline - Infer\n",
    "\n",
    "※ Kaggle notebookのみで動かす\n",
    "\n",
    "https://www.kaggle.com/code/pxcai666/catboost-lightgbm-ensemble/notebook"
   ]
  },
  {
   "cell_type": "markdown",
   "id": "4fa544c6",
   "metadata": {
    "papermill": {
     "duration": 0.0049,
     "end_time": "2024-05-22T00:54:33.851243",
     "exception": false,
     "start_time": "2024-05-22T00:54:33.846343",
     "status": "completed"
    },
    "tags": []
   },
   "source": [
    "### Configuration"
   ]
  },
  {
   "cell_type": "code",
   "execution_count": 1,
   "id": "4b24e67a",
   "metadata": {
    "execution": {
     "iopub.execute_input": "2024-05-22T00:54:33.863523Z",
     "iopub.status.busy": "2024-05-22T00:54:33.862684Z",
     "iopub.status.idle": "2024-05-22T00:54:39.686112Z",
     "shell.execute_reply": "2024-05-22T00:54:39.685283Z"
    },
    "papermill": {
     "duration": 5.832173,
     "end_time": "2024-05-22T00:54:39.688451",
     "exception": false,
     "start_time": "2024-05-22T00:54:33.856278",
     "status": "completed"
    },
    "tags": []
   },
   "outputs": [],
   "source": [
    "import sys\n",
    "from pathlib import Path\n",
    "import subprocess\n",
    "import os\n",
    "import gc\n",
    "from glob import glob\n",
    "import pickle\n",
    "\n",
    "import numpy as np\n",
    "import pandas as pd\n",
    "import polars as pl\n",
    "from datetime import datetime\n",
    "import seaborn as sns\n",
    "import matplotlib.pyplot as plt\n",
    "\n",
    "from sklearn.model_selection import TimeSeriesSplit, GroupKFold, StratifiedGroupKFold\n",
    "from sklearn.base import BaseEstimator, RegressorMixin\n",
    "from sklearn.metrics import roc_auc_score\n",
    "from catboost import CatBoostClassifier, Pool\n",
    "import lightgbm as lgb\n",
    "\n",
    "from imblearn.over_sampling import SMOTE\n",
    "from sklearn.preprocessing import OrdinalEncoder\n",
    "from sklearn.impute import KNNImputer"
   ]
  },
  {
   "cell_type": "code",
   "execution_count": 2,
   "id": "55e6a275",
   "metadata": {
    "execution": {
     "iopub.execute_input": "2024-05-22T00:54:39.701438Z",
     "iopub.status.busy": "2024-05-22T00:54:39.700436Z",
     "iopub.status.idle": "2024-05-22T00:54:39.704818Z",
     "shell.execute_reply": "2024-05-22T00:54:39.703976Z"
    },
    "papermill": {
     "duration": 0.012658,
     "end_time": "2024-05-22T00:54:39.706655",
     "exception": false,
     "start_time": "2024-05-22T00:54:39.693997",
     "status": "completed"
    },
    "tags": []
   },
   "outputs": [],
   "source": [
    "# Kaggle\n",
    "sys.path.append('/kaggle/input/home-credit-crms-repo')"
   ]
  },
  {
   "cell_type": "code",
   "execution_count": 3,
   "id": "b92fd4a5",
   "metadata": {
    "execution": {
     "iopub.execute_input": "2024-05-22T00:54:39.718200Z",
     "iopub.status.busy": "2024-05-22T00:54:39.717690Z",
     "iopub.status.idle": "2024-05-22T00:54:39.722092Z",
     "shell.execute_reply": "2024-05-22T00:54:39.721293Z"
    },
    "papermill": {
     "duration": 0.012092,
     "end_time": "2024-05-22T00:54:39.723855",
     "exception": false,
     "start_time": "2024-05-22T00:54:39.711763",
     "status": "completed"
    },
    "tags": []
   },
   "outputs": [],
   "source": [
    "ROOT = \"/kaggle/input/home-credit-credit-risk-model-stability\"\n",
    "\n",
    "TRAIN_DIR = os.path.join(ROOT, \"parquet_files\", \"train\")\n",
    "TEST_DIR = os.path.join(ROOT, \"parquet_files\", \"test\")"
   ]
  },
  {
   "cell_type": "markdown",
   "id": "190f59cd",
   "metadata": {
    "papermill": {
     "duration": 0.00493,
     "end_time": "2024-05-22T00:54:39.733907",
     "exception": false,
     "start_time": "2024-05-22T00:54:39.728977",
     "status": "completed"
    },
    "tags": []
   },
   "source": [
    "### Def utility classes"
   ]
  },
  {
   "cell_type": "code",
   "execution_count": 4,
   "id": "932806c4",
   "metadata": {
    "execution": {
     "iopub.execute_input": "2024-05-22T00:54:39.745540Z",
     "iopub.status.busy": "2024-05-22T00:54:39.744954Z",
     "iopub.status.idle": "2024-05-22T00:54:39.780817Z",
     "shell.execute_reply": "2024-05-22T00:54:39.780139Z"
    },
    "papermill": {
     "duration": 0.043694,
     "end_time": "2024-05-22T00:54:39.782676",
     "exception": false,
     "start_time": "2024-05-22T00:54:39.738982",
     "status": "completed"
    },
    "tags": []
   },
   "outputs": [],
   "source": [
    "from src.utils.utility import Utility\n",
    "from src.utils.schema_gen import SchemaGen\n",
    "from src.utils.pipeline import Pipeline\n",
    "from src.utils.aggregator import Aggregator"
   ]
  },
  {
   "cell_type": "markdown",
   "id": "819df5b7",
   "metadata": {
    "papermill": {
     "duration": 0.005009,
     "end_time": "2024-05-22T00:54:39.793278",
     "exception": false,
     "start_time": "2024-05-22T00:54:39.788269",
     "status": "completed"
    },
    "tags": []
   },
   "source": [
    "### Read train data"
   ]
  },
  {
   "cell_type": "code",
   "execution_count": 5,
   "id": "b3af5348",
   "metadata": {
    "execution": {
     "iopub.execute_input": "2024-05-22T00:54:39.804761Z",
     "iopub.status.busy": "2024-05-22T00:54:39.804493Z",
     "iopub.status.idle": "2024-05-22T00:56:56.619444Z",
     "shell.execute_reply": "2024-05-22T00:56:56.618535Z"
    },
    "papermill": {
     "duration": 136.823625,
     "end_time": "2024-05-22T00:56:56.621979",
     "exception": false,
     "start_time": "2024-05-22T00:54:39.798354",
     "status": "completed"
    },
    "tags": []
   },
   "outputs": [
    {
     "name": "stdout",
     "output_type": "stream",
     "text": [
      "File train_base loaded into memory.\n",
      "File train_static_cb_0 loaded into memory.\n",
      "File train_static_0_0 loaded into memory.\n",
      "File train_static_0_1 loaded into memory.\n",
      "File train_applprev_1_1 loaded into memory.\n",
      "File train_applprev_1_0 loaded into memory.\n",
      "File train_tax_registry_a_1 loaded into memory.\n",
      "File train_tax_registry_b_1 loaded into memory.\n",
      "File train_tax_registry_c_1 loaded into memory.\n",
      "File train_credit_bureau_a_1_3 loaded into memory.\n",
      "File train_credit_bureau_a_1_2 loaded into memory.\n",
      "File train_credit_bureau_a_1_0 loaded into memory.\n",
      "File train_credit_bureau_a_1_1 loaded into memory.\n",
      "File train_credit_bureau_b_1 loaded into memory.\n",
      "File train_other_1 loaded into memory.\n",
      "File train_person_1 loaded into memory.\n",
      "File train_deposit_1 loaded into memory.\n",
      "File train_debitcard_1 loaded into memory.\n",
      "File train_credit_bureau_a_2_6 loaded into memory.\n",
      "File train_credit_bureau_a_2_1 loaded into memory.\n",
      "File train_credit_bureau_a_2_0 loaded into memory.\n",
      "File train_credit_bureau_a_2_7 loaded into memory.\n",
      "File train_credit_bureau_a_2_5 loaded into memory.\n",
      "File train_credit_bureau_a_2_2 loaded into memory.\n",
      "File train_credit_bureau_a_2_4 loaded into memory.\n",
      "File train_credit_bureau_a_2_9 loaded into memory.\n",
      "File train_credit_bureau_a_2_3 loaded into memory.\n",
      "File train_credit_bureau_a_2_10 loaded into memory.\n",
      "File train_credit_bureau_a_2_8 loaded into memory.\n",
      "File train_credit_bureau_b_2 loaded into memory.\n",
      "Memory usage of dataframe \"train_df\" is 6783.1317 MB.\n",
      "Memory usage of dataframe \"train_df\" became 4174.0953 MB.\n",
      "Memory usage of dataframe \"train_df\" is 2870.9171 MB.\n",
      "Memory usage of dataframe \"train_df\" became 2665.6302 MB.\n",
      "Train data shape: (1526659, 472)\n"
     ]
    },
    {
     "data": {
      "text/html": [
       "<div><style>\n",
       ".dataframe > thead > tr,\n",
       ".dataframe > tbody > tr {\n",
       "  text-align: right;\n",
       "  white-space: pre-wrap;\n",
       "}\n",
       "</style>\n",
       "<small>shape: (10, 472)</small><table border=\"1\" class=\"dataframe\"><thead><tr><th>case_id</th><th>month</th><th>week_num</th><th>target</th><th>assignmentdate_238D</th><th>assignmentdate_4527235D</th><th>birthdate_574D</th><th>contractssum_5085716L</th><th>dateofbirth_337D</th><th>days120_123L</th><th>days180_256L</th><th>days30_165L</th><th>days360_512L</th><th>days90_310L</th><th>description_5085714M</th><th>education_1103M</th><th>education_88M</th><th>firstquarter_103L</th><th>fourthquarter_440L</th><th>maritalst_385M</th><th>maritalst_893M</th><th>numberofqueries_373L</th><th>pmtaverage_3A</th><th>pmtaverage_4527227A</th><th>pmtcount_4527229L</th><th>pmtcount_693L</th><th>pmtscount_423L</th><th>pmtssum_45A</th><th>requesttype_4525192L</th><th>responsedate_1012D</th><th>responsedate_4527233D</th><th>responsedate_4917613D</th><th>secondquarter_766L</th><th>thirdquarter_1082L</th><th>actualdpdtolerance_344P</th><th>amtinstpaidbefduel24m_4187115A</th><th>annuity_780A</th><th>&hellip;</th><th>mean_mainoccupationinc_384A</th><th>max_amount_416A</th><th>max_num_group1_10</th><th>max_openingdate_313D</th><th>mean_amount_416A</th><th>mean_openingdate_313D</th><th>max_num_group1_11</th><th>max_openingdate_857D</th><th>mean_openingdate_857D</th><th>max_collater_typofvalofguarant_298M</th><th>max_collater_typofvalofguarant_407M</th><th>max_collater_valueofguarantee_1124L</th><th>max_collater_valueofguarantee_876L</th><th>max_collaterals_typeofguarante_359M</th><th>max_collaterals_typeofguarante_669M</th><th>max_num_group1_12</th><th>max_num_group2</th><th>max_pmts_dpd_1073P</th><th>max_pmts_dpd_303P</th><th>max_pmts_month_158T</th><th>max_pmts_month_706T</th><th>max_pmts_overdue_1140A</th><th>max_pmts_overdue_1152A</th><th>max_pmts_year_1139T</th><th>max_pmts_year_507T</th><th>max_subjectroles_name_541M</th><th>max_subjectroles_name_838M</th><th>mean_pmts_dpd_1073P</th><th>mean_pmts_dpd_303P</th><th>mean_pmts_overdue_1140A</th><th>mean_pmts_overdue_1152A</th><th>var_pmts_dpd_1073P</th><th>var_pmts_dpd_303P</th><th>var_pmts_overdue_1140A</th><th>var_pmts_overdue_1152A</th><th>year</th><th>day</th></tr><tr><td>u32</td><td>u32</td><td>u8</td><td>u8</td><td>i16</td><td>u8</td><td>i16</td><td>f32</td><td>i32</td><td>f32</td><td>f32</td><td>f32</td><td>f32</td><td>f32</td><td>str</td><td>str</td><td>str</td><td>f32</td><td>f32</td><td>str</td><td>str</td><td>f32</td><td>f32</td><td>f32</td><td>f32</td><td>f32</td><td>f32</td><td>f32</td><td>str</td><td>i8</td><td>u8</td><td>i8</td><td>f32</td><td>f32</td><td>f32</td><td>f32</td><td>f32</td><td>&hellip;</td><td>f32</td><td>f32</td><td>u8</td><td>i16</td><td>f32</td><td>i16</td><td>u8</td><td>i16</td><td>i16</td><td>str</td><td>str</td><td>f32</td><td>f32</td><td>str</td><td>str</td><td>u16</td><td>u8</td><td>f32</td><td>f32</td><td>f32</td><td>f32</td><td>f32</td><td>f32</td><td>f32</td><td>f32</td><td>str</td><td>str</td><td>f32</td><td>f32</td><td>f32</td><td>f32</td><td>f32</td><td>f32</td><td>f32</td><td>f32</td><td>u16</td><td>u8</td></tr></thead><tbody><tr><td>996492</td><td>202006</td><td>77</td><td>0</td><td>null</td><td>null</td><td>null</td><td>58543.890625</td><td>-16675</td><td>3.0</td><td>10.0</td><td>0.0</td><td>16.0</td><td>2.0</td><td>&quot;2fc785b2&quot;</td><td>&quot;6b2ae0fa&quot;</td><td>&quot;a55475b1&quot;</td><td>9.0</td><td>8.0</td><td>&quot;3439d993&quot;</td><td>&quot;a55475b1&quot;</td><td>16.0</td><td>null</td><td>null</td><td>null</td><td>null</td><td>null</td><td>null</td><td>null</td><td>null</td><td>null</td><td>14</td><td>7.0</td><td>10.0</td><td>0.0</td><td>null</td><td>7229.600098</td><td>&hellip;</td><td>120000.0</td><td>null</td><td>null</td><td>null</td><td>null</td><td>null</td><td>null</td><td>null</td><td>null</td><td>&quot;a55475b1&quot;</td><td>&quot;a55475b1&quot;</td><td>0.0</td><td>220000.0</td><td>&quot;c7a5ad39&quot;</td><td>&quot;c7a5ad39&quot;</td><td>9</td><td>35</td><td>2.0</td><td>773.0</td><td>12.0</td><td>12.0</td><td>2501.083984</td><td>73150.75</td><td>2021.0</td><td>2021.0</td><td>&quot;ab3c25cf&quot;</td><td>&quot;ab3c25cf&quot;</td><td>0.046512</td><td>189.512192</td><td>58.164745</td><td>13512.788086</td><td>0.093023</td><td>48364.976562</td><td>145474.90625</td><td>4.49108448e8</td><td>2020</td><td>27</td></tr><tr><td>657960</td><td>201903</td><td>11</td><td>0</td><td>null</td><td>null</td><td>-17707</td><td>null</td><td>-17707</td><td>3.0</td><td>3.0</td><td>0.0</td><td>3.0</td><td>3.0</td><td>&quot;a55475b1&quot;</td><td>&quot;a55475b1&quot;</td><td>&quot;a55475b1&quot;</td><td>3.0</td><td>0.0</td><td>&quot;a55475b1&quot;</td><td>&quot;a55475b1&quot;</td><td>3.0</td><td>null</td><td>null</td><td>null</td><td>null</td><td>10.0</td><td>5660.0</td><td>null</td><td>14</td><td>null</td><td>null</td><td>0.0</td><td>0.0</td><td>null</td><td>null</td><td>3728.0</td><td>&hellip;</td><td>52000.0</td><td>null</td><td>null</td><td>null</td><td>null</td><td>null</td><td>null</td><td>null</td><td>null</td><td>&quot;a55475b1&quot;</td><td>&quot;a55475b1&quot;</td><td>0.0</td><td>null</td><td>&quot;a55475b1&quot;</td><td>&quot;c7a5ad39&quot;</td><td>0</td><td>35</td><td>0.0</td><td>null</td><td>12.0</td><td>null</td><td>0.0</td><td>null</td><td>2020.0</td><td>null</td><td>&quot;a55475b1&quot;</td><td>&quot;ab3c25cf&quot;</td><td>0.0</td><td>null</td><td>0.0</td><td>null</td><td>0.0</td><td>null</td><td>0.0</td><td>null</td><td>2019</td><td>25</td></tr><tr><td>221606</td><td>202004</td><td>68</td><td>0</td><td>null</td><td>null</td><td>null</td><td>null</td><td>-9644</td><td>4.0</td><td>4.0</td><td>3.0</td><td>6.0</td><td>3.0</td><td>&quot;a55475b1&quot;</td><td>&quot;a55475b1&quot;</td><td>&quot;a55475b1&quot;</td><td>3.0</td><td>4.0</td><td>&quot;a7fcb6e5&quot;</td><td>&quot;a55475b1&quot;</td><td>6.0</td><td>null</td><td>null</td><td>null</td><td>null</td><td>null</td><td>null</td><td>null</td><td>null</td><td>null</td><td>13</td><td>5.0</td><td>1.0</td><td>0.0</td><td>41887.402344</td><td>1771.400024</td><td>&hellip;</td><td>30000.0</td><td>null</td><td>null</td><td>null</td><td>null</td><td>null</td><td>null</td><td>null</td><td>null</td><td>&quot;a55475b1&quot;</td><td>&quot;a55475b1&quot;</td><td>0.0</td><td>0.0</td><td>&quot;c7a5ad39&quot;</td><td>&quot;c7a5ad39&quot;</td><td>4</td><td>35</td><td>0.0</td><td>619.0</td><td>12.0</td><td>12.0</td><td>0.0</td><td>92360.335938</td><td>2021.0</td><td>2021.0</td><td>&quot;ab3c25cf&quot;</td><td>&quot;ab3c25cf&quot;</td><td>0.0</td><td>140.888885</td><td>0.0</td><td>29128.238281</td><td>0.0</td><td>41156.136719</td><td>0.0</td><td>1.4909e9</td><td>2020</td><td>27</td></tr><tr><td>104033</td><td>201901</td><td>1</td><td>0</td><td>-550</td><td>null</td><td>-23568</td><td>null</td><td>-23568</td><td>1.0</td><td>1.0</td><td>0.0</td><td>4.0</td><td>0.0</td><td>&quot;a55475b1&quot;</td><td>&quot;a55475b1&quot;</td><td>&quot;a55475b1&quot;</td><td>2.0</td><td>2.0</td><td>&quot;a55475b1&quot;</td><td>&quot;a55475b1&quot;</td><td>4.0</td><td>6827.766602</td><td>null</td><td>null</td><td>6.0</td><td>null</td><td>null</td><td>null</td><td>14</td><td>null</td><td>null</td><td>1.0</td><td>2.0</td><td>0.0</td><td>null</td><td>2589.199951</td><td>&hellip;</td><td>40000.0</td><td>null</td><td>null</td><td>null</td><td>null</td><td>null</td><td>null</td><td>null</td><td>null</td><td>&quot;a55475b1&quot;</td><td>&quot;a55475b1&quot;</td><td>0.0</td><td>null</td><td>&quot;a55475b1&quot;</td><td>&quot;c7a5ad39&quot;</td><td>1</td><td>23</td><td>22.0</td><td>null</td><td>12.0</td><td>null</td><td>2051.852051</td><td>null</td><td>2019.0</td><td>null</td><td>&quot;a55475b1&quot;</td><td>&quot;ab3c25cf&quot;</td><td>3.166667</td><td>null</td><td>228.218109</td><td>null</td><td>54.14706</td><td>null</td><td>440159.28125</td><td>null</td><td>2019</td><td>9</td></tr><tr><td>1840794</td><td>202005</td><td>71</td><td>0</td><td>null</td><td>null</td><td>null</td><td>null</td><td>-11579</td><td>1.0</td><td>2.0</td><td>0.0</td><td>5.0</td><td>1.0</td><td>&quot;a55475b1&quot;</td><td>&quot;a55475b1&quot;</td><td>&quot;a55475b1&quot;</td><td>4.0</td><td>8.0</td><td>&quot;a55475b1&quot;</td><td>&quot;a55475b1&quot;</td><td>5.0</td><td>null</td><td>null</td><td>null</td><td>null</td><td>null</td><td>null</td><td>null</td><td>null</td><td>null</td><td>14</td><td>6.0</td><td>5.0</td><td>0.0</td><td>0.0</td><td>4812.0</td><td>&hellip;</td><td>30000.0</td><td>null</td><td>null</td><td>null</td><td>null</td><td>null</td><td>null</td><td>null</td><td>null</td><td>&quot;a55475b1&quot;</td><td>&quot;a55475b1&quot;</td><td>0.0</td><td>0.0</td><td>&quot;c7a5ad39&quot;</td><td>&quot;c7a5ad39&quot;</td><td>0</td><td>35</td><td>0.0</td><td>0.0</td><td>12.0</td><td>12.0</td><td>0.0</td><td>0.0</td><td>2021.0</td><td>2018.0</td><td>&quot;ab3c25cf&quot;</td><td>&quot;ab3c25cf&quot;</td><td>0.0</td><td>0.0</td><td>0.0</td><td>0.0</td><td>0.0</td><td>0.0</td><td>0.0</td><td>0.0</td><td>2020</td><td>15</td></tr><tr><td>716413</td><td>201906</td><td>23</td><td>0</td><td>null</td><td>null</td><td>-16420</td><td>null</td><td>-16420</td><td>0.0</td><td>0.0</td><td>0.0</td><td>5.0</td><td>0.0</td><td>&quot;a55475b1&quot;</td><td>&quot;a55475b1&quot;</td><td>&quot;a55475b1&quot;</td><td>3.0</td><td>2.0</td><td>&quot;a55475b1&quot;</td><td>&quot;a55475b1&quot;</td><td>5.0</td><td>null</td><td>null</td><td>null</td><td>null</td><td>10.0</td><td>8432.400391</td><td>null</td><td>14</td><td>null</td><td>null</td><td>2.0</td><td>5.0</td><td>null</td><td>null</td><td>1314.400024</td><td>&hellip;</td><td>30000.0</td><td>null</td><td>null</td><td>null</td><td>null</td><td>null</td><td>null</td><td>null</td><td>null</td><td>&quot;a55475b1&quot;</td><td>&quot;a55475b1&quot;</td><td>0.0</td><td>null</td><td>&quot;a55475b1&quot;</td><td>&quot;c7a5ad39&quot;</td><td>0</td><td>35</td><td>0.0</td><td>null</td><td>12.0</td><td>null</td><td>0.0</td><td>null</td><td>2020.0</td><td>null</td><td>&quot;a55475b1&quot;</td><td>&quot;ab3c25cf&quot;</td><td>0.0</td><td>null</td><td>0.0</td><td>null</td><td>0.0</td><td>null</td><td>0.0</td><td>null</td><td>2019</td><td>15</td></tr><tr><td>634785</td><td>201902</td><td>6</td><td>0</td><td>null</td><td>null</td><td>-17944</td><td>null</td><td>-17944</td><td>3.0</td><td>3.0</td><td>1.0</td><td>3.0</td><td>3.0</td><td>&quot;a55475b1&quot;</td><td>&quot;a55475b1&quot;</td><td>&quot;a55475b1&quot;</td><td>1.0</td><td>2.0</td><td>&quot;a55475b1&quot;</td><td>&quot;a55475b1&quot;</td><td>3.0</td><td>null</td><td>null</td><td>null</td><td>null</td><td>1.0</td><td>20.0</td><td>null</td><td>14</td><td>null</td><td>null</td><td>0.0</td><td>0.0</td><td>null</td><td>null</td><td>3205.400146</td><td>&hellip;</td><td>24000.0</td><td>null</td><td>null</td><td>null</td><td>null</td><td>null</td><td>null</td><td>null</td><td>null</td><td>&quot;a55475b1&quot;</td><td>&quot;a55475b1&quot;</td><td>0.0</td><td>null</td><td>&quot;a55475b1&quot;</td><td>&quot;c7a5ad39&quot;</td><td>0</td><td>23</td><td>1.0</td><td>null</td><td>12.0</td><td>null</td><td>2812.332031</td><td>null</td><td>2020.0</td><td>null</td><td>&quot;a55475b1&quot;</td><td>&quot;ab3c25cf&quot;</td><td>0.1</td><td>null</td><td>281.233185</td><td>null</td><td>0.1</td><td>null</td><td>790921.125</td><td>null</td><td>2019</td><td>17</td></tr><tr><td>1423432</td><td>201906</td><td>25</td><td>0</td><td>null</td><td>null</td><td>-13176</td><td>null</td><td>-13176</td><td>1.0</td><td>2.0</td><td>0.0</td><td>6.0</td><td>1.0</td><td>&quot;a55475b1&quot;</td><td>&quot;6b2ae0fa&quot;</td><td>&quot;a55475b1&quot;</td><td>5.0</td><td>4.0</td><td>&quot;38c061ee&quot;</td><td>&quot;a55475b1&quot;</td><td>6.0</td><td>null</td><td>null</td><td>null</td><td>null</td><td>10.0</td><td>14081.600586</td><td>null</td><td>14</td><td>null</td><td>null</td><td>3.0</td><td>5.0</td><td>0.0</td><td>137179.828125</td><td>7569.0</td><td>&hellip;</td><td>54000.0</td><td>null</td><td>null</td><td>null</td><td>null</td><td>null</td><td>null</td><td>null</td><td>null</td><td>&quot;a55475b1&quot;</td><td>&quot;a55475b1&quot;</td><td>0.0</td><td>0.0</td><td>&quot;c7a5ad39&quot;</td><td>&quot;c7a5ad39&quot;</td><td>10</td><td>35</td><td>7.0</td><td>321.0</td><td>12.0</td><td>12.0</td><td>10848.306641</td><td>51535.964844</td><td>2020.0</td><td>2020.0</td><td>&quot;ab3c25cf&quot;</td><td>&quot;ab3c25cf&quot;</td><td>0.590909</td><td>13.94375</td><td>964.147522</td><td>3524.454102</td><td>2.919914</td><td>3008.065918</td><td>9.250528e6</td><td>1.57700144e8</td><td>2019</td><td>28</td></tr><tr><td>1649474</td><td>201911</td><td>47</td><td>0</td><td>null</td><td>14</td><td>null</td><td>null</td><td>-25227</td><td>0.0</td><td>0.0</td><td>0.0</td><td>0.0</td><td>0.0</td><td>&quot;a55475b1&quot;</td><td>&quot;6b2ae0fa&quot;</td><td>&quot;a55475b1&quot;</td><td>0.0</td><td>2.0</td><td>&quot;3439d993&quot;</td><td>&quot;a55475b1&quot;</td><td>0.0</td><td>null</td><td>8549.600586</td><td>6.0</td><td>null</td><td>null</td><td>null</td><td>&quot;PENSION_6&quot;</td><td>null</td><td>14</td><td>null</td><td>0.0</td><td>1.0</td><td>0.0</td><td>90345.382812</td><td>2000.0</td><td>&hellip;</td><td>44000.0</td><td>null</td><td>null</td><td>null</td><td>null</td><td>null</td><td>null</td><td>null</td><td>null</td><td>&quot;a55475b1&quot;</td><td>&quot;a55475b1&quot;</td><td>null</td><td>0.0</td><td>&quot;c7a5ad39&quot;</td><td>&quot;a55475b1&quot;</td><td>7</td><td>35</td><td>null</td><td>50.0</td><td>null</td><td>12.0</td><td>null</td><td>3935.199951</td><td>null</td><td>2020.0</td><td>&quot;ab3c25cf&quot;</td><td>&quot;a55475b1&quot;</td><td>null</td><td>1.571429</td><td>null</td><td>140.666138</td><td>null</td><td>51.416466</td><td>null</td><td>496101.09375</td><td>2019</td><td>26</td></tr><tr><td>670509</td><td>201904</td><td>14</td><td>0</td><td>null</td><td>null</td><td>-10117</td><td>null</td><td>null</td><td>null</td><td>null</td><td>null</td><td>null</td><td>null</td><td>&quot;a55475b1&quot;</td><td>&quot;a55475b1&quot;</td><td>&quot;a55475b1&quot;</td><td>null</td><td>null</td><td>&quot;a55475b1&quot;</td><td>&quot;a55475b1&quot;</td><td>null</td><td>null</td><td>null</td><td>null</td><td>null</td><td>6.0</td><td>2244.803955</td><td>null</td><td>14</td><td>null</td><td>null</td><td>null</td><td>null</td><td>null</td><td>null</td><td>827.400024</td><td>&hellip;</td><td>32000.0</td><td>null</td><td>null</td><td>null</td><td>null</td><td>null</td><td>null</td><td>null</td><td>null</td><td>null</td><td>null</td><td>null</td><td>null</td><td>null</td><td>null</td><td>null</td><td>null</td><td>null</td><td>null</td><td>null</td><td>null</td><td>null</td><td>null</td><td>null</td><td>null</td><td>null</td><td>null</td><td>null</td><td>null</td><td>null</td><td>null</td><td>null</td><td>null</td><td>null</td><td>null</td><td>2019</td><td>13</td></tr></tbody></table></div>"
      ],
      "text/plain": [
       "shape: (10, 472)\n",
       "┌─────────┬────────┬──────────┬────────┬───┬─────────────────────┬────────────────────┬──────┬─────┐\n",
       "│ case_id ┆ month  ┆ week_num ┆ target ┆ … ┆ var_pmts_overdue_11 ┆ var_pmts_overdue_1 ┆ year ┆ day │\n",
       "│ ---     ┆ ---    ┆ ---      ┆ ---    ┆   ┆ 40A                 ┆ 152A               ┆ ---  ┆ --- │\n",
       "│ u32     ┆ u32    ┆ u8       ┆ u8     ┆   ┆ ---                 ┆ ---                ┆ u16  ┆ u8  │\n",
       "│         ┆        ┆          ┆        ┆   ┆ f32                 ┆ f32                ┆      ┆     │\n",
       "╞═════════╪════════╪══════════╪════════╪═══╪═════════════════════╪════════════════════╪══════╪═════╡\n",
       "│ 996492  ┆ 202006 ┆ 77       ┆ 0      ┆ … ┆ 145474.90625        ┆ 4.49108448e8       ┆ 2020 ┆ 27  │\n",
       "│ 657960  ┆ 201903 ┆ 11       ┆ 0      ┆ … ┆ 0.0                 ┆ null               ┆ 2019 ┆ 25  │\n",
       "│ 221606  ┆ 202004 ┆ 68       ┆ 0      ┆ … ┆ 0.0                 ┆ 1.4909e9           ┆ 2020 ┆ 27  │\n",
       "│ 104033  ┆ 201901 ┆ 1        ┆ 0      ┆ … ┆ 440159.28125        ┆ null               ┆ 2019 ┆ 9   │\n",
       "│ 1840794 ┆ 202005 ┆ 71       ┆ 0      ┆ … ┆ 0.0                 ┆ 0.0                ┆ 2020 ┆ 15  │\n",
       "│ 716413  ┆ 201906 ┆ 23       ┆ 0      ┆ … ┆ 0.0                 ┆ null               ┆ 2019 ┆ 15  │\n",
       "│ 634785  ┆ 201902 ┆ 6        ┆ 0      ┆ … ┆ 790921.125          ┆ null               ┆ 2019 ┆ 17  │\n",
       "│ 1423432 ┆ 201906 ┆ 25       ┆ 0      ┆ … ┆ 9.250528e6          ┆ 1.57700144e8       ┆ 2019 ┆ 28  │\n",
       "│ 1649474 ┆ 201911 ┆ 47       ┆ 0      ┆ … ┆ null                ┆ 496101.09375       ┆ 2019 ┆ 26  │\n",
       "│ 670509  ┆ 201904 ┆ 14       ┆ 0      ┆ … ┆ null                ┆ null               ┆ 2019 ┆ 13  │\n",
       "└─────────┴────────┴──────────┴────────┴───┴─────────────────────┴────────────────────┴──────┴─────┘"
      ]
     },
     "metadata": {},
     "output_type": "display_data"
    },
    {
     "name": "stdout",
     "output_type": "stream",
     "text": [
      "CPU times: user 5min 46s, sys: 1min 43s, total: 7min 29s\n",
      "Wall time: 2min 16s\n"
     ]
    }
   ],
   "source": [
    "%%time\n",
    "\n",
    "data_store: dict = {\n",
    "    \"df_base\": SchemaGen.scan_files(os.path.join(TRAIN_DIR, \"train_base.parquet\")),\n",
    "    \"depth_0\": [\n",
    "        SchemaGen.scan_files(os.path.join(TRAIN_DIR, \"train_static_cb_0.parquet\")),\n",
    "        SchemaGen.scan_files(os.path.join(TRAIN_DIR, \"train_static_0_*.parquet\")),\n",
    "    ],\n",
    "    \"depth_1\": [\n",
    "        SchemaGen.scan_files(os.path.join(TRAIN_DIR, \"train_applprev_1_*.parquet\"), 1),\n",
    "        SchemaGen.scan_files(os.path.join(TRAIN_DIR, \"train_tax_registry_a_1.parquet\"), 1),\n",
    "        SchemaGen.scan_files(os.path.join(TRAIN_DIR, \"train_tax_registry_b_1.parquet\"), 1),\n",
    "        SchemaGen.scan_files(os.path.join(TRAIN_DIR, \"train_tax_registry_c_1.parquet\"), 1),\n",
    "        SchemaGen.scan_files(os.path.join(TRAIN_DIR, \"train_credit_bureau_a_1_*.parquet\"), 1),\n",
    "        SchemaGen.scan_files(os.path.join(TRAIN_DIR, \"train_credit_bureau_b_1.parquet\"), 1),\n",
    "        SchemaGen.scan_files(os.path.join(TRAIN_DIR, \"train_other_1.parquet\"), 1),\n",
    "        SchemaGen.scan_files(os.path.join(TRAIN_DIR, \"train_person_1.parquet\"), 1),\n",
    "        SchemaGen.scan_files(os.path.join(TRAIN_DIR, \"train_deposit_1.parquet\"), 1),\n",
    "        SchemaGen.scan_files(os.path.join(TRAIN_DIR, \"train_debitcard_1.parquet\"), 1),\n",
    "    ],\n",
    "    \"depth_2\": [\n",
    "        SchemaGen.scan_files(os.path.join(TRAIN_DIR, \"train_credit_bureau_a_2_*.parquet\"), 2),\n",
    "        SchemaGen.scan_files(os.path.join(TRAIN_DIR, \"train_credit_bureau_b_2.parquet\"), 2),\n",
    "    ],\n",
    "}\n",
    "\n",
    "train_df: pl.LazyFrame = (\n",
    "    SchemaGen.join_dataframes(**data_store)\n",
    "    .pipe(Pipeline.filter_cols)\n",
    "    .pipe(Pipeline.transform_cols)\n",
    "    .pipe(Pipeline.handle_dates)\n",
    "    .pipe(Utility.reduce_memory_usage, \"train_df\")\n",
    ")\n",
    "\n",
    "del data_store\n",
    "gc.collect()\n",
    "\n",
    "print(f\"Train data shape: {train_df.shape}\")\n",
    "display(train_df.head(10))"
   ]
  },
  {
   "cell_type": "code",
   "execution_count": 6,
   "id": "b56a8d87",
   "metadata": {
    "execution": {
     "iopub.execute_input": "2024-05-22T00:56:56.637243Z",
     "iopub.status.busy": "2024-05-22T00:56:56.636499Z",
     "iopub.status.idle": "2024-05-22T00:57:19.791814Z",
     "shell.execute_reply": "2024-05-22T00:57:19.790782Z"
    },
    "papermill": {
     "duration": 23.164901,
     "end_time": "2024-05-22T00:57:19.793787",
     "exception": false,
     "start_time": "2024-05-22T00:56:56.628886",
     "status": "completed"
    },
    "tags": []
   },
   "outputs": [
    {
     "data": {
      "text/plain": [
       "0"
      ]
     },
     "execution_count": 6,
     "metadata": {},
     "output_type": "execute_result"
    }
   ],
   "source": [
    "train_df, cat_cols = Utility.to_pandas(train_df)\n",
    "cols = train_df.columns\n",
    "\n",
    "del train_df\n",
    "gc.collect()"
   ]
  },
  {
   "cell_type": "markdown",
   "id": "25f18f48",
   "metadata": {
    "papermill": {
     "duration": 0.006766,
     "end_time": "2024-05-22T00:57:19.807851",
     "exception": false,
     "start_time": "2024-05-22T00:57:19.801085",
     "status": "completed"
    },
    "tags": []
   },
   "source": [
    "### Read test data"
   ]
  },
  {
   "cell_type": "code",
   "execution_count": 7,
   "id": "cd6fcfbb",
   "metadata": {
    "execution": {
     "iopub.execute_input": "2024-05-22T00:57:19.824093Z",
     "iopub.status.busy": "2024-05-22T00:57:19.823547Z",
     "iopub.status.idle": "2024-05-22T00:57:24.766825Z",
     "shell.execute_reply": "2024-05-22T00:57:24.765734Z"
    },
    "papermill": {
     "duration": 4.954465,
     "end_time": "2024-05-22T00:57:24.769202",
     "exception": false,
     "start_time": "2024-05-22T00:57:19.814737",
     "status": "completed"
    },
    "tags": []
   },
   "outputs": [
    {
     "name": "stdout",
     "output_type": "stream",
     "text": [
      "File test_base loaded into memory.\n",
      "File test_static_cb_0 loaded into memory.\n",
      "File test_static_0_0 loaded into memory.\n",
      "File test_static_0_2 loaded into memory.\n",
      "File test_static_0_1 loaded into memory.\n",
      "File test_applprev_1_2 loaded into memory.\n",
      "File test_applprev_1_0 loaded into memory.\n",
      "File test_applprev_1_1 loaded into memory.\n",
      "File test_tax_registry_a_1 loaded into memory.\n",
      "File test_tax_registry_b_1 loaded into memory.\n",
      "File test_tax_registry_c_1 loaded into memory.\n",
      "File test_credit_bureau_a_1_3 loaded into memory.\n",
      "File test_credit_bureau_a_1_2 loaded into memory.\n",
      "File test_credit_bureau_a_1_1 loaded into memory.\n",
      "File test_credit_bureau_a_1_4 loaded into memory.\n",
      "File test_credit_bureau_a_1_0 loaded into memory.\n",
      "File test_credit_bureau_b_1 loaded into memory.\n",
      "File test_other_1 loaded into memory.\n",
      "File test_person_1 loaded into memory.\n",
      "File test_deposit_1 loaded into memory.\n",
      "File test_debitcard_1 loaded into memory.\n",
      "File test_credit_bureau_a_2_3 loaded into memory.\n",
      "File test_credit_bureau_a_2_9 loaded into memory.\n",
      "File test_credit_bureau_a_2_2 loaded into memory.\n",
      "File test_credit_bureau_a_2_11 loaded into memory.\n",
      "File test_credit_bureau_a_2_1 loaded into memory.\n",
      "File test_credit_bureau_a_2_6 loaded into memory.\n",
      "File test_credit_bureau_a_2_5 loaded into memory.\n",
      "File test_credit_bureau_a_2_0 loaded into memory.\n",
      "File test_credit_bureau_a_2_7 loaded into memory.\n",
      "File test_credit_bureau_a_2_10 loaded into memory.\n",
      "File test_credit_bureau_a_2_8 loaded into memory.\n",
      "File test_credit_bureau_a_2_4 loaded into memory.\n",
      "File test_credit_bureau_b_2 loaded into memory.\n",
      "Memory usage of dataframe \"train_df\" is 0.0432 MB.\n",
      "Memory usage of dataframe \"train_df\" became 0.0311 MB.\n",
      "Memory usage of dataframe \"test_df\" is 0.0184 MB.\n",
      "Memory usage of dataframe \"test_df\" became 0.0172 MB.\n",
      "Test data shape: (10, 471)\n"
     ]
    }
   ],
   "source": [
    "data_store = {\n",
    "    \"df_base\": SchemaGen.scan_files(os.path.join(TEST_DIR, \"test_base.parquet\")),\n",
    "    \"depth_0\": [\n",
    "        SchemaGen.scan_files(os.path.join(TEST_DIR, \"test_static_cb_0.parquet\")),\n",
    "        SchemaGen.scan_files(os.path.join(TEST_DIR, \"test_static_0_*.parquet\")),\n",
    "    ],\n",
    "    \"depth_1\": [\n",
    "        SchemaGen.scan_files(os.path.join(TEST_DIR, \"test_applprev_1_*.parquet\"), 1),\n",
    "        SchemaGen.scan_files(os.path.join(TEST_DIR, \"test_tax_registry_a_1.parquet\"), 1),\n",
    "        SchemaGen.scan_files(os.path.join(TEST_DIR, \"test_tax_registry_b_1.parquet\"), 1),\n",
    "        SchemaGen.scan_files(os.path.join(TEST_DIR, \"test_tax_registry_c_1.parquet\"), 1),\n",
    "        SchemaGen.scan_files(os.path.join(TEST_DIR, \"test_credit_bureau_a_1_*.parquet\"), 1),\n",
    "        SchemaGen.scan_files(os.path.join(TEST_DIR, \"test_credit_bureau_b_1.parquet\"), 1),\n",
    "        SchemaGen.scan_files(os.path.join(TEST_DIR, \"test_other_1.parquet\"), 1),\n",
    "        SchemaGen.scan_files(os.path.join(TEST_DIR, \"test_person_1.parquet\"), 1),\n",
    "        SchemaGen.scan_files(os.path.join(TEST_DIR, \"test_deposit_1.parquet\"), 1),\n",
    "        SchemaGen.scan_files(os.path.join(TEST_DIR, \"test_debitcard_1.parquet\"), 1),\n",
    "    ],\n",
    "    \"depth_2\": [\n",
    "        SchemaGen.scan_files(os.path.join(TEST_DIR, \"test_credit_bureau_a_2_*.parquet\"), 2),\n",
    "        SchemaGen.scan_files(os.path.join(TEST_DIR, \"test_credit_bureau_b_2.parquet\"), 2),\n",
    "        # SchemaGen.scan_files(os.path.join(TEST_DIR, \"test_applprev_2.parquet\"), 2),\n",
    "        # SchemaGen.scan_files(os.path.join(TEST_DIR, \"test_person_2.parquet\"), 2)\n",
    "    ],\n",
    "}\n",
    "\n",
    "test_df: pl.DataFrame = (\n",
    "    SchemaGen.join_dataframes(**data_store)\n",
    "    .pipe(Pipeline.transform_cols)\n",
    "    .pipe(Pipeline.handle_dates)\n",
    "    .select([v for v in cols if v != \"target\"])\n",
    "    .pipe(Utility.reduce_memory_usage, \"test_df\")\n",
    ")\n",
    "\n",
    "del data_store\n",
    "gc.collect()\n",
    "\n",
    "print(f\"Test data shape: {test_df.shape}\")"
   ]
  },
  {
   "cell_type": "code",
   "execution_count": 8,
   "id": "57e865f7",
   "metadata": {
    "execution": {
     "iopub.execute_input": "2024-05-22T00:57:24.787160Z",
     "iopub.status.busy": "2024-05-22T00:57:24.786463Z",
     "iopub.status.idle": "2024-05-22T00:57:24.814046Z",
     "shell.execute_reply": "2024-05-22T00:57:24.813346Z"
    },
    "papermill": {
     "duration": 0.038522,
     "end_time": "2024-05-22T00:57:24.815852",
     "exception": false,
     "start_time": "2024-05-22T00:57:24.777330",
     "status": "completed"
    },
    "tags": []
   },
   "outputs": [],
   "source": [
    "test_df, cat_cols = Utility.to_pandas(test_df, cat_cols)"
   ]
  },
  {
   "cell_type": "code",
   "execution_count": 9,
   "id": "2e90fc53",
   "metadata": {
    "execution": {
     "iopub.execute_input": "2024-05-22T00:57:24.833615Z",
     "iopub.status.busy": "2024-05-22T00:57:24.833243Z",
     "iopub.status.idle": "2024-05-22T00:57:24.868750Z",
     "shell.execute_reply": "2024-05-22T00:57:24.867777Z"
    },
    "papermill": {
     "duration": 0.046707,
     "end_time": "2024-05-22T00:57:24.870855",
     "exception": false,
     "start_time": "2024-05-22T00:57:24.824148",
     "status": "completed"
    },
    "tags": []
   },
   "outputs": [
    {
     "data": {
      "text/html": [
       "<div>\n",
       "<style scoped>\n",
       "    .dataframe tbody tr th:only-of-type {\n",
       "        vertical-align: middle;\n",
       "    }\n",
       "\n",
       "    .dataframe tbody tr th {\n",
       "        vertical-align: top;\n",
       "    }\n",
       "\n",
       "    .dataframe thead th {\n",
       "        text-align: right;\n",
       "    }\n",
       "</style>\n",
       "<table border=\"1\" class=\"dataframe\">\n",
       "  <thead>\n",
       "    <tr style=\"text-align: right;\">\n",
       "      <th></th>\n",
       "      <th>case_id</th>\n",
       "      <th>month</th>\n",
       "      <th>week_num</th>\n",
       "      <th>assignmentdate_238D</th>\n",
       "      <th>assignmentdate_4527235D</th>\n",
       "      <th>birthdate_574D</th>\n",
       "      <th>contractssum_5085716L</th>\n",
       "      <th>dateofbirth_337D</th>\n",
       "      <th>days120_123L</th>\n",
       "      <th>days180_256L</th>\n",
       "      <th>...</th>\n",
       "      <th>mean_pmts_dpd_1073P</th>\n",
       "      <th>mean_pmts_dpd_303P</th>\n",
       "      <th>mean_pmts_overdue_1140A</th>\n",
       "      <th>mean_pmts_overdue_1152A</th>\n",
       "      <th>var_pmts_dpd_1073P</th>\n",
       "      <th>var_pmts_dpd_303P</th>\n",
       "      <th>var_pmts_overdue_1140A</th>\n",
       "      <th>var_pmts_overdue_1152A</th>\n",
       "      <th>year</th>\n",
       "      <th>day</th>\n",
       "    </tr>\n",
       "  </thead>\n",
       "  <tbody>\n",
       "    <tr>\n",
       "      <th>0</th>\n",
       "      <td>57630</td>\n",
       "      <td>202201</td>\n",
       "      <td>100</td>\n",
       "      <td>NaN</td>\n",
       "      <td>NaN</td>\n",
       "      <td>NaN</td>\n",
       "      <td>4.999750e+05</td>\n",
       "      <td>-19767</td>\n",
       "      <td>1.0</td>\n",
       "      <td>2.0</td>\n",
       "      <td>...</td>\n",
       "      <td>0.0</td>\n",
       "      <td>0.000000</td>\n",
       "      <td>0.0</td>\n",
       "      <td>0.000000</td>\n",
       "      <td>NaN</td>\n",
       "      <td>NaN</td>\n",
       "      <td>NaN</td>\n",
       "      <td>NaN</td>\n",
       "      <td>2021</td>\n",
       "      <td>16</td>\n",
       "    </tr>\n",
       "    <tr>\n",
       "      <th>1</th>\n",
       "      <td>57632</td>\n",
       "      <td>202201</td>\n",
       "      <td>100</td>\n",
       "      <td>NaN</td>\n",
       "      <td>NaN</td>\n",
       "      <td>NaN</td>\n",
       "      <td>1.767700e+04</td>\n",
       "      <td>-23107</td>\n",
       "      <td>1.0</td>\n",
       "      <td>2.0</td>\n",
       "      <td>...</td>\n",
       "      <td>0.0</td>\n",
       "      <td>NaN</td>\n",
       "      <td>0.0</td>\n",
       "      <td>NaN</td>\n",
       "      <td>0.0</td>\n",
       "      <td>NaN</td>\n",
       "      <td>0.0</td>\n",
       "      <td>NaN</td>\n",
       "      <td>2022</td>\n",
       "      <td>5</td>\n",
       "    </tr>\n",
       "    <tr>\n",
       "      <th>2</th>\n",
       "      <td>57633</td>\n",
       "      <td>202201</td>\n",
       "      <td>100</td>\n",
       "      <td>NaN</td>\n",
       "      <td>NaN</td>\n",
       "      <td>NaN</td>\n",
       "      <td>6.373008e+06</td>\n",
       "      <td>-10496</td>\n",
       "      <td>3.0</td>\n",
       "      <td>3.0</td>\n",
       "      <td>...</td>\n",
       "      <td>0.0</td>\n",
       "      <td>0.000000</td>\n",
       "      <td>0.0</td>\n",
       "      <td>0.000000</td>\n",
       "      <td>NaN</td>\n",
       "      <td>0.000000</td>\n",
       "      <td>0.0</td>\n",
       "      <td>0.0</td>\n",
       "      <td>2022</td>\n",
       "      <td>25</td>\n",
       "    </tr>\n",
       "    <tr>\n",
       "      <th>3</th>\n",
       "      <td>57549</td>\n",
       "      <td>202201</td>\n",
       "      <td>100</td>\n",
       "      <td>NaN</td>\n",
       "      <td>NaN</td>\n",
       "      <td>NaN</td>\n",
       "      <td>1.563078e+06</td>\n",
       "      <td>-22723</td>\n",
       "      <td>6.0</td>\n",
       "      <td>9.0</td>\n",
       "      <td>...</td>\n",
       "      <td>NaN</td>\n",
       "      <td>NaN</td>\n",
       "      <td>NaN</td>\n",
       "      <td>NaN</td>\n",
       "      <td>NaN</td>\n",
       "      <td>NaN</td>\n",
       "      <td>NaN</td>\n",
       "      <td>NaN</td>\n",
       "      <td>2022</td>\n",
       "      <td>17</td>\n",
       "    </tr>\n",
       "    <tr>\n",
       "      <th>4</th>\n",
       "      <td>57552</td>\n",
       "      <td>202201</td>\n",
       "      <td>100</td>\n",
       "      <td>NaN</td>\n",
       "      <td>NaN</td>\n",
       "      <td>NaN</td>\n",
       "      <td>7.470318e+05</td>\n",
       "      <td>-23768</td>\n",
       "      <td>2.0</td>\n",
       "      <td>2.0</td>\n",
       "      <td>...</td>\n",
       "      <td>NaN</td>\n",
       "      <td>NaN</td>\n",
       "      <td>NaN</td>\n",
       "      <td>NaN</td>\n",
       "      <td>NaN</td>\n",
       "      <td>NaN</td>\n",
       "      <td>NaN</td>\n",
       "      <td>NaN</td>\n",
       "      <td>2020</td>\n",
       "      <td>27</td>\n",
       "    </tr>\n",
       "    <tr>\n",
       "      <th>5</th>\n",
       "      <td>57634</td>\n",
       "      <td>202201</td>\n",
       "      <td>100</td>\n",
       "      <td>NaN</td>\n",
       "      <td>NaN</td>\n",
       "      <td>NaN</td>\n",
       "      <td>1.526365e+04</td>\n",
       "      <td>-16281</td>\n",
       "      <td>2.0</td>\n",
       "      <td>2.0</td>\n",
       "      <td>...</td>\n",
       "      <td>NaN</td>\n",
       "      <td>NaN</td>\n",
       "      <td>NaN</td>\n",
       "      <td>NaN</td>\n",
       "      <td>NaN</td>\n",
       "      <td>NaN</td>\n",
       "      <td>NaN</td>\n",
       "      <td>NaN</td>\n",
       "      <td>2021</td>\n",
       "      <td>27</td>\n",
       "    </tr>\n",
       "    <tr>\n",
       "      <th>6</th>\n",
       "      <td>57631</td>\n",
       "      <td>202201</td>\n",
       "      <td>100</td>\n",
       "      <td>NaN</td>\n",
       "      <td>NaN</td>\n",
       "      <td>NaN</td>\n",
       "      <td>4.803345e+05</td>\n",
       "      <td>-12999</td>\n",
       "      <td>0.0</td>\n",
       "      <td>0.0</td>\n",
       "      <td>...</td>\n",
       "      <td>0.0</td>\n",
       "      <td>0.000000</td>\n",
       "      <td>0.0</td>\n",
       "      <td>0.000000</td>\n",
       "      <td>0.0</td>\n",
       "      <td>0.000000</td>\n",
       "      <td>0.0</td>\n",
       "      <td>0.0</td>\n",
       "      <td>2022</td>\n",
       "      <td>4</td>\n",
       "    </tr>\n",
       "    <tr>\n",
       "      <th>7</th>\n",
       "      <td>57551</td>\n",
       "      <td>202201</td>\n",
       "      <td>100</td>\n",
       "      <td>NaN</td>\n",
       "      <td>NaN</td>\n",
       "      <td>NaN</td>\n",
       "      <td>2.926195e+06</td>\n",
       "      <td>-14090</td>\n",
       "      <td>1.0</td>\n",
       "      <td>3.0</td>\n",
       "      <td>...</td>\n",
       "      <td>NaN</td>\n",
       "      <td>NaN</td>\n",
       "      <td>NaN</td>\n",
       "      <td>NaN</td>\n",
       "      <td>NaN</td>\n",
       "      <td>NaN</td>\n",
       "      <td>NaN</td>\n",
       "      <td>NaN</td>\n",
       "      <td>2020</td>\n",
       "      <td>27</td>\n",
       "    </tr>\n",
       "    <tr>\n",
       "      <th>8</th>\n",
       "      <td>57569</td>\n",
       "      <td>202201</td>\n",
       "      <td>100</td>\n",
       "      <td>NaN</td>\n",
       "      <td>NaN</td>\n",
       "      <td>NaN</td>\n",
       "      <td>NaN</td>\n",
       "      <td>-26408</td>\n",
       "      <td>4.0</td>\n",
       "      <td>4.0</td>\n",
       "      <td>...</td>\n",
       "      <td>NaN</td>\n",
       "      <td>2328.571533</td>\n",
       "      <td>NaN</td>\n",
       "      <td>33346.402344</td>\n",
       "      <td>NaN</td>\n",
       "      <td>3341.619141</td>\n",
       "      <td>NaN</td>\n",
       "      <td>0.0</td>\n",
       "      <td>2021</td>\n",
       "      <td>20</td>\n",
       "    </tr>\n",
       "    <tr>\n",
       "      <th>9</th>\n",
       "      <td>57543</td>\n",
       "      <td>202201</td>\n",
       "      <td>100</td>\n",
       "      <td>NaN</td>\n",
       "      <td>NaN</td>\n",
       "      <td>NaN</td>\n",
       "      <td>1.513640e+05</td>\n",
       "      <td>-14804</td>\n",
       "      <td>2.0</td>\n",
       "      <td>4.0</td>\n",
       "      <td>...</td>\n",
       "      <td>0.0</td>\n",
       "      <td>NaN</td>\n",
       "      <td>0.0</td>\n",
       "      <td>NaN</td>\n",
       "      <td>NaN</td>\n",
       "      <td>NaN</td>\n",
       "      <td>NaN</td>\n",
       "      <td>NaN</td>\n",
       "      <td>2021</td>\n",
       "      <td>14</td>\n",
       "    </tr>\n",
       "  </tbody>\n",
       "</table>\n",
       "<p>10 rows × 471 columns</p>\n",
       "</div>"
      ],
      "text/plain": [
       "   case_id   month  week_num  assignmentdate_238D  assignmentdate_4527235D  \\\n",
       "0    57630  202201       100                  NaN                      NaN   \n",
       "1    57632  202201       100                  NaN                      NaN   \n",
       "2    57633  202201       100                  NaN                      NaN   \n",
       "3    57549  202201       100                  NaN                      NaN   \n",
       "4    57552  202201       100                  NaN                      NaN   \n",
       "5    57634  202201       100                  NaN                      NaN   \n",
       "6    57631  202201       100                  NaN                      NaN   \n",
       "7    57551  202201       100                  NaN                      NaN   \n",
       "8    57569  202201       100                  NaN                      NaN   \n",
       "9    57543  202201       100                  NaN                      NaN   \n",
       "\n",
       "   birthdate_574D  contractssum_5085716L  dateofbirth_337D  days120_123L  \\\n",
       "0             NaN           4.999750e+05            -19767           1.0   \n",
       "1             NaN           1.767700e+04            -23107           1.0   \n",
       "2             NaN           6.373008e+06            -10496           3.0   \n",
       "3             NaN           1.563078e+06            -22723           6.0   \n",
       "4             NaN           7.470318e+05            -23768           2.0   \n",
       "5             NaN           1.526365e+04            -16281           2.0   \n",
       "6             NaN           4.803345e+05            -12999           0.0   \n",
       "7             NaN           2.926195e+06            -14090           1.0   \n",
       "8             NaN                    NaN            -26408           4.0   \n",
       "9             NaN           1.513640e+05            -14804           2.0   \n",
       "\n",
       "   days180_256L  ...  mean_pmts_dpd_1073P  mean_pmts_dpd_303P  \\\n",
       "0           2.0  ...                  0.0            0.000000   \n",
       "1           2.0  ...                  0.0                 NaN   \n",
       "2           3.0  ...                  0.0            0.000000   \n",
       "3           9.0  ...                  NaN                 NaN   \n",
       "4           2.0  ...                  NaN                 NaN   \n",
       "5           2.0  ...                  NaN                 NaN   \n",
       "6           0.0  ...                  0.0            0.000000   \n",
       "7           3.0  ...                  NaN                 NaN   \n",
       "8           4.0  ...                  NaN         2328.571533   \n",
       "9           4.0  ...                  0.0                 NaN   \n",
       "\n",
       "   mean_pmts_overdue_1140A mean_pmts_overdue_1152A var_pmts_dpd_1073P  \\\n",
       "0                      0.0                0.000000                NaN   \n",
       "1                      0.0                     NaN                0.0   \n",
       "2                      0.0                0.000000                NaN   \n",
       "3                      NaN                     NaN                NaN   \n",
       "4                      NaN                     NaN                NaN   \n",
       "5                      NaN                     NaN                NaN   \n",
       "6                      0.0                0.000000                0.0   \n",
       "7                      NaN                     NaN                NaN   \n",
       "8                      NaN            33346.402344                NaN   \n",
       "9                      0.0                     NaN                NaN   \n",
       "\n",
       "  var_pmts_dpd_303P  var_pmts_overdue_1140A  var_pmts_overdue_1152A  year day  \n",
       "0               NaN                     NaN                     NaN  2021  16  \n",
       "1               NaN                     0.0                     NaN  2022   5  \n",
       "2          0.000000                     0.0                     0.0  2022  25  \n",
       "3               NaN                     NaN                     NaN  2022  17  \n",
       "4               NaN                     NaN                     NaN  2020  27  \n",
       "5               NaN                     NaN                     NaN  2021  27  \n",
       "6          0.000000                     0.0                     0.0  2022   4  \n",
       "7               NaN                     NaN                     NaN  2020  27  \n",
       "8       3341.619141                     NaN                     0.0  2021  20  \n",
       "9               NaN                     NaN                     NaN  2021  14  \n",
       "\n",
       "[10 rows x 471 columns]"
      ]
     },
     "execution_count": 9,
     "metadata": {},
     "output_type": "execute_result"
    }
   ],
   "source": [
    "test_df"
   ]
  },
  {
   "cell_type": "markdown",
   "id": "0adf9607",
   "metadata": {
    "papermill": {
     "duration": 0.008599,
     "end_time": "2024-05-22T00:57:24.888217",
     "exception": false,
     "start_time": "2024-05-22T00:57:24.879618",
     "status": "completed"
    },
    "tags": []
   },
   "source": [
    "### Inference"
   ]
  },
  {
   "cell_type": "code",
   "execution_count": 10,
   "id": "623ac50b",
   "metadata": {
    "execution": {
     "iopub.execute_input": "2024-05-22T00:57:24.907031Z",
     "iopub.status.busy": "2024-05-22T00:57:24.906683Z",
     "iopub.status.idle": "2024-05-22T00:57:26.922780Z",
     "shell.execute_reply": "2024-05-22T00:57:26.921767Z"
    },
    "papermill": {
     "duration": 2.028148,
     "end_time": "2024-05-22T00:57:26.925132",
     "exception": false,
     "start_time": "2024-05-22T00:57:24.896984",
     "status": "completed"
    },
    "tags": []
   },
   "outputs": [],
   "source": [
    "with open('/kaggle/input/home-credit-crms-models/voting_model.pkl', 'rb') as f:\n",
    "    loaded_model = pickle.load(f)"
   ]
  },
  {
   "cell_type": "code",
   "execution_count": 11,
   "id": "6937869f",
   "metadata": {
    "execution": {
     "iopub.execute_input": "2024-05-22T00:57:26.944260Z",
     "iopub.status.busy": "2024-05-22T00:57:26.943896Z",
     "iopub.status.idle": "2024-05-22T00:57:27.394575Z",
     "shell.execute_reply": "2024-05-22T00:57:27.393670Z"
    },
    "papermill": {
     "duration": 0.462679,
     "end_time": "2024-05-22T00:57:27.396727",
     "exception": false,
     "start_time": "2024-05-22T00:57:26.934048",
     "status": "completed"
    },
    "tags": []
   },
   "outputs": [
    {
     "data": {
      "text/html": [
       "<div>\n",
       "<style scoped>\n",
       "    .dataframe tbody tr th:only-of-type {\n",
       "        vertical-align: middle;\n",
       "    }\n",
       "\n",
       "    .dataframe tbody tr th {\n",
       "        vertical-align: top;\n",
       "    }\n",
       "\n",
       "    .dataframe thead th {\n",
       "        text-align: right;\n",
       "    }\n",
       "</style>\n",
       "<table border=\"1\" class=\"dataframe\">\n",
       "  <thead>\n",
       "    <tr style=\"text-align: right;\">\n",
       "      <th></th>\n",
       "      <th>score</th>\n",
       "    </tr>\n",
       "    <tr>\n",
       "      <th>case_id</th>\n",
       "      <th></th>\n",
       "    </tr>\n",
       "  </thead>\n",
       "  <tbody>\n",
       "    <tr>\n",
       "      <th>57543</th>\n",
       "      <td>0.008495</td>\n",
       "    </tr>\n",
       "    <tr>\n",
       "      <th>57549</th>\n",
       "      <td>0.056090</td>\n",
       "    </tr>\n",
       "    <tr>\n",
       "      <th>57551</th>\n",
       "      <td>0.002271</td>\n",
       "    </tr>\n",
       "    <tr>\n",
       "      <th>57552</th>\n",
       "      <td>0.020815</td>\n",
       "    </tr>\n",
       "    <tr>\n",
       "      <th>57569</th>\n",
       "      <td>0.170604</td>\n",
       "    </tr>\n",
       "    <tr>\n",
       "      <th>57630</th>\n",
       "      <td>0.007312</td>\n",
       "    </tr>\n",
       "    <tr>\n",
       "      <th>57631</th>\n",
       "      <td>0.024206</td>\n",
       "    </tr>\n",
       "    <tr>\n",
       "      <th>57632</th>\n",
       "      <td>0.006176</td>\n",
       "    </tr>\n",
       "    <tr>\n",
       "      <th>57633</th>\n",
       "      <td>0.037787</td>\n",
       "    </tr>\n",
       "    <tr>\n",
       "      <th>57634</th>\n",
       "      <td>0.022884</td>\n",
       "    </tr>\n",
       "  </tbody>\n",
       "</table>\n",
       "</div>"
      ],
      "text/plain": [
       "            score\n",
       "case_id          \n",
       "57543    0.008495\n",
       "57549    0.056090\n",
       "57551    0.002271\n",
       "57552    0.020815\n",
       "57569    0.170604\n",
       "57630    0.007312\n",
       "57631    0.024206\n",
       "57632    0.006176\n",
       "57633    0.037787\n",
       "57634    0.022884"
      ]
     },
     "execution_count": 11,
     "metadata": {},
     "output_type": "execute_result"
    }
   ],
   "source": [
    "submission_df: pd.DataFrame = pd.read_csv(os.path.join(ROOT, \"sample_submission.csv\"))\n",
    "submission_df = submission_df.set_index(\"case_id\")\n",
    "\n",
    "X_test = test_df.drop(columns=[\"week_num\"]).set_index(\"case_id\")\n",
    "X_test[cat_cols] = X_test[cat_cols].astype(\"category\")\n",
    "\n",
    "y_pred = pd.Series(loaded_model.predict_proba(X_test)[:, 1], index=X_test.index)\n",
    "submission_df[\"score\"] = y_pred\n",
    "submission_df = submission_df.sort_index()\n",
    "\n",
    "\n",
    "# Metric Hack\n",
    "# https://www.kaggle.com/code/a520hh/fork-of-this-is-the-way/notebook\n",
    "# condition = preds < 0.98\n",
    "# submission_df.loc[condition, \"score\"] = (submission_df.loc[condition, \"score\"] - 0.073).clip(0)\n",
    "\n",
    "submission_df"
   ]
  },
  {
   "cell_type": "code",
   "execution_count": 12,
   "id": "1b98d717",
   "metadata": {
    "execution": {
     "iopub.execute_input": "2024-05-22T00:57:27.416438Z",
     "iopub.status.busy": "2024-05-22T00:57:27.415742Z",
     "iopub.status.idle": "2024-05-22T00:57:27.422323Z",
     "shell.execute_reply": "2024-05-22T00:57:27.421636Z"
    },
    "papermill": {
     "duration": 0.017927,
     "end_time": "2024-05-22T00:57:27.424042",
     "exception": false,
     "start_time": "2024-05-22T00:57:27.406115",
     "status": "completed"
    },
    "tags": []
   },
   "outputs": [],
   "source": [
    "submission_df.to_csv(\"submission.csv\")"
   ]
  },
  {
   "cell_type": "code",
   "execution_count": null,
   "id": "3aeff3c9",
   "metadata": {
    "papermill": {
     "duration": 0.008436,
     "end_time": "2024-05-22T00:57:27.441083",
     "exception": false,
     "start_time": "2024-05-22T00:57:27.432647",
     "status": "completed"
    },
    "tags": []
   },
   "outputs": [],
   "source": []
  }
 ],
 "metadata": {
  "kaggle": {
   "accelerator": "gpu",
   "dataSources": [
    {
     "databundleVersionId": 7921029,
     "sourceId": 50160,
     "sourceType": "competition"
    },
    {
     "datasetId": 5038079,
     "sourceId": 8453472,
     "sourceType": "datasetVersion"
    },
    {
     "datasetId": 5038176,
     "sourceId": 8454976,
     "sourceType": "datasetVersion"
    }
   ],
   "dockerImageVersionId": 30699,
   "isGpuEnabled": true,
   "isInternetEnabled": false,
   "language": "python",
   "sourceType": "notebook"
  },
  "kernelspec": {
   "display_name": "Python 3",
   "language": "python",
   "name": "python3"
  },
  "language_info": {
   "codemirror_mode": {
    "name": "ipython",
    "version": 3
   },
   "file_extension": ".py",
   "mimetype": "text/x-python",
   "name": "python",
   "nbconvert_exporter": "python",
   "pygments_lexer": "ipython3",
   "version": "3.10.13"
  },
  "papermill": {
   "default_parameters": {},
   "duration": 177.195733,
   "end_time": "2024-05-22T00:57:28.270335",
   "environment_variables": {},
   "exception": null,
   "input_path": "__notebook__.ipynb",
   "output_path": "__notebook__.ipynb",
   "parameters": {},
   "start_time": "2024-05-22T00:54:31.074602",
   "version": "2.5.0"
  }
 },
 "nbformat": 4,
 "nbformat_minor": 5
}
