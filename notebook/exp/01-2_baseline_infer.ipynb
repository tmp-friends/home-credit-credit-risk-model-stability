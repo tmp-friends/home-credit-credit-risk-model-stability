{
 "cells": [
  {
   "cell_type": "markdown",
   "id": "2e9a00f1",
   "metadata": {
    "papermill": {
     "duration": 0.005703,
     "end_time": "2024-05-19T05:14:55.809421",
     "exception": false,
     "start_time": "2024-05-19T05:14:55.803718",
     "status": "completed"
    },
    "tags": []
   },
   "source": [
    "## Baseline - Infer\n",
    "\n",
    "※ Kaggle notebookのみで動かす\n",
    "\n",
    "https://www.kaggle.com/code/pxcai666/catboost-lightgbm-ensemble/notebook"
   ]
  },
  {
   "cell_type": "markdown",
   "id": "bdd1df8a",
   "metadata": {
    "papermill": {
     "duration": 0.004756,
     "end_time": "2024-05-19T05:14:55.819537",
     "exception": false,
     "start_time": "2024-05-19T05:14:55.814781",
     "status": "completed"
    },
    "tags": []
   },
   "source": [
    "### Configuration"
   ]
  },
  {
   "cell_type": "code",
   "execution_count": 1,
   "id": "d4df5e8a",
   "metadata": {
    "execution": {
     "iopub.execute_input": "2024-05-19T05:14:55.831235Z",
     "iopub.status.busy": "2024-05-19T05:14:55.830430Z",
     "iopub.status.idle": "2024-05-19T05:15:01.664787Z",
     "shell.execute_reply": "2024-05-19T05:15:01.664024Z"
    },
    "papermill": {
     "duration": 5.842674,
     "end_time": "2024-05-19T05:15:01.667151",
     "exception": false,
     "start_time": "2024-05-19T05:14:55.824477",
     "status": "completed"
    },
    "tags": []
   },
   "outputs": [],
   "source": [
    "import sys\n",
    "from pathlib import Path\n",
    "import subprocess\n",
    "import os\n",
    "import gc\n",
    "from glob import glob\n",
    "import pickle\n",
    "\n",
    "import numpy as np\n",
    "import pandas as pd\n",
    "import polars as pl\n",
    "from datetime import datetime\n",
    "import seaborn as sns\n",
    "import matplotlib.pyplot as plt\n",
    "\n",
    "from sklearn.model_selection import TimeSeriesSplit, GroupKFold, StratifiedGroupKFold\n",
    "from sklearn.base import BaseEstimator, RegressorMixin\n",
    "from sklearn.metrics import roc_auc_score\n",
    "from catboost import CatBoostClassifier, Pool\n",
    "import lightgbm as lgb\n",
    "\n",
    "from imblearn.over_sampling import SMOTE\n",
    "from sklearn.preprocessing import OrdinalEncoder\n",
    "from sklearn.impute import KNNImputer"
   ]
  },
  {
   "cell_type": "code",
   "execution_count": 2,
   "id": "78c5f160",
   "metadata": {
    "execution": {
     "iopub.execute_input": "2024-05-19T05:15:01.679583Z",
     "iopub.status.busy": "2024-05-19T05:15:01.678728Z",
     "iopub.status.idle": "2024-05-19T05:15:01.683041Z",
     "shell.execute_reply": "2024-05-19T05:15:01.682058Z"
    },
    "papermill": {
     "duration": 0.012311,
     "end_time": "2024-05-19T05:15:01.685023",
     "exception": false,
     "start_time": "2024-05-19T05:15:01.672712",
     "status": "completed"
    },
    "tags": []
   },
   "outputs": [],
   "source": [
    "# Kaggle\n",
    "sys.path.append('/kaggle/input/home-credit-crms-repo')"
   ]
  },
  {
   "cell_type": "code",
   "execution_count": 3,
   "id": "1e1446a0",
   "metadata": {
    "execution": {
     "iopub.execute_input": "2024-05-19T05:15:01.695824Z",
     "iopub.status.busy": "2024-05-19T05:15:01.695553Z",
     "iopub.status.idle": "2024-05-19T05:15:01.699988Z",
     "shell.execute_reply": "2024-05-19T05:15:01.699164Z"
    },
    "papermill": {
     "duration": 0.012011,
     "end_time": "2024-05-19T05:15:01.701890",
     "exception": false,
     "start_time": "2024-05-19T05:15:01.689879",
     "status": "completed"
    },
    "tags": []
   },
   "outputs": [],
   "source": [
    "ROOT = \"/kaggle/input/home-credit-credit-risk-model-stability\"\n",
    "\n",
    "TRAIN_DIR = os.path.join(ROOT, \"parquet_files\", \"train\")\n",
    "TEST_DIR = os.path.join(ROOT, \"parquet_files\", \"test\")"
   ]
  },
  {
   "cell_type": "markdown",
   "id": "f02b3be6",
   "metadata": {
    "papermill": {
     "duration": 0.004654,
     "end_time": "2024-05-19T05:15:01.711503",
     "exception": false,
     "start_time": "2024-05-19T05:15:01.706849",
     "status": "completed"
    },
    "tags": []
   },
   "source": [
    "### Def utility classes"
   ]
  },
  {
   "cell_type": "code",
   "execution_count": 4,
   "id": "d6d86ba9",
   "metadata": {
    "execution": {
     "iopub.execute_input": "2024-05-19T05:15:01.722287Z",
     "iopub.status.busy": "2024-05-19T05:15:01.722021Z",
     "iopub.status.idle": "2024-05-19T05:15:01.754363Z",
     "shell.execute_reply": "2024-05-19T05:15:01.753701Z"
    },
    "papermill": {
     "duration": 0.039832,
     "end_time": "2024-05-19T05:15:01.756195",
     "exception": false,
     "start_time": "2024-05-19T05:15:01.716363",
     "status": "completed"
    },
    "tags": []
   },
   "outputs": [],
   "source": [
    "from src.utils.utility import Utility\n",
    "from src.utils.schema_gen import SchemaGen\n",
    "from src.utils.pipeline import Pipeline\n",
    "from src.utils.aggregator import Aggregator"
   ]
  },
  {
   "cell_type": "markdown",
   "id": "e0827e00",
   "metadata": {
    "papermill": {
     "duration": 0.004775,
     "end_time": "2024-05-19T05:15:01.766029",
     "exception": false,
     "start_time": "2024-05-19T05:15:01.761254",
     "status": "completed"
    },
    "tags": []
   },
   "source": [
    "### Read train data"
   ]
  },
  {
   "cell_type": "code",
   "execution_count": 5,
   "id": "2afa3f17",
   "metadata": {
    "execution": {
     "iopub.execute_input": "2024-05-19T05:15:01.776851Z",
     "iopub.status.busy": "2024-05-19T05:15:01.776612Z",
     "iopub.status.idle": "2024-05-19T05:17:17.341680Z",
     "shell.execute_reply": "2024-05-19T05:17:17.340799Z"
    },
    "papermill": {
     "duration": 135.573365,
     "end_time": "2024-05-19T05:17:17.344321",
     "exception": false,
     "start_time": "2024-05-19T05:15:01.770956",
     "status": "completed"
    },
    "tags": []
   },
   "outputs": [
    {
     "name": "stdout",
     "output_type": "stream",
     "text": [
      "File train_base loaded into memory.\n",
      "File train_static_cb_0 loaded into memory.\n",
      "File train_static_0_0 loaded into memory.\n",
      "File train_static_0_1 loaded into memory.\n",
      "File train_applprev_1_1 loaded into memory.\n",
      "File train_applprev_1_0 loaded into memory.\n",
      "File train_tax_registry_a_1 loaded into memory.\n",
      "File train_tax_registry_b_1 loaded into memory.\n",
      "File train_tax_registry_c_1 loaded into memory.\n",
      "File train_credit_bureau_a_1_3 loaded into memory.\n",
      "File train_credit_bureau_a_1_2 loaded into memory.\n",
      "File train_credit_bureau_a_1_0 loaded into memory.\n",
      "File train_credit_bureau_a_1_1 loaded into memory.\n",
      "File train_credit_bureau_b_1 loaded into memory.\n",
      "File train_other_1 loaded into memory.\n",
      "File train_person_1 loaded into memory.\n",
      "File train_deposit_1 loaded into memory.\n",
      "File train_debitcard_1 loaded into memory.\n",
      "File train_credit_bureau_a_2_6 loaded into memory.\n",
      "File train_credit_bureau_a_2_1 loaded into memory.\n",
      "File train_credit_bureau_a_2_0 loaded into memory.\n",
      "File train_credit_bureau_a_2_7 loaded into memory.\n",
      "File train_credit_bureau_a_2_5 loaded into memory.\n",
      "File train_credit_bureau_a_2_2 loaded into memory.\n",
      "File train_credit_bureau_a_2_4 loaded into memory.\n",
      "File train_credit_bureau_a_2_9 loaded into memory.\n",
      "File train_credit_bureau_a_2_3 loaded into memory.\n",
      "File train_credit_bureau_a_2_10 loaded into memory.\n",
      "File train_credit_bureau_a_2_8 loaded into memory.\n",
      "File train_credit_bureau_b_2 loaded into memory.\n",
      "Memory usage of dataframe \"train_df\" is 6783.1317 MB.\n",
      "Memory usage of dataframe \"train_df\" became 4174.0953 MB.\n",
      "Memory usage of dataframe \"train_df\" is 2870.9171 MB.\n",
      "Memory usage of dataframe \"train_df\" became 2665.6302 MB.\n",
      "Train data shape: (1526659, 472)\n"
     ]
    },
    {
     "data": {
      "text/html": [
       "<div><style>\n",
       ".dataframe > thead > tr,\n",
       ".dataframe > tbody > tr {\n",
       "  text-align: right;\n",
       "  white-space: pre-wrap;\n",
       "}\n",
       "</style>\n",
       "<small>shape: (10, 472)</small><table border=\"1\" class=\"dataframe\"><thead><tr><th>case_id</th><th>month</th><th>week_num</th><th>target</th><th>assignmentdate_238D</th><th>assignmentdate_4527235D</th><th>birthdate_574D</th><th>contractssum_5085716L</th><th>dateofbirth_337D</th><th>days120_123L</th><th>days180_256L</th><th>days30_165L</th><th>days360_512L</th><th>days90_310L</th><th>description_5085714M</th><th>education_1103M</th><th>education_88M</th><th>firstquarter_103L</th><th>fourthquarter_440L</th><th>maritalst_385M</th><th>maritalst_893M</th><th>numberofqueries_373L</th><th>pmtaverage_3A</th><th>pmtaverage_4527227A</th><th>pmtcount_4527229L</th><th>pmtcount_693L</th><th>pmtscount_423L</th><th>pmtssum_45A</th><th>requesttype_4525192L</th><th>responsedate_1012D</th><th>responsedate_4527233D</th><th>responsedate_4917613D</th><th>secondquarter_766L</th><th>thirdquarter_1082L</th><th>actualdpdtolerance_344P</th><th>amtinstpaidbefduel24m_4187115A</th><th>annuity_780A</th><th>&hellip;</th><th>mean_mainoccupationinc_384A</th><th>max_amount_416A</th><th>max_num_group1_10</th><th>max_openingdate_313D</th><th>mean_amount_416A</th><th>mean_openingdate_313D</th><th>max_num_group1_11</th><th>max_openingdate_857D</th><th>mean_openingdate_857D</th><th>max_collater_typofvalofguarant_298M</th><th>max_collater_typofvalofguarant_407M</th><th>max_collater_valueofguarantee_1124L</th><th>max_collater_valueofguarantee_876L</th><th>max_collaterals_typeofguarante_359M</th><th>max_collaterals_typeofguarante_669M</th><th>max_num_group1_12</th><th>max_num_group2</th><th>max_pmts_dpd_1073P</th><th>max_pmts_dpd_303P</th><th>max_pmts_month_158T</th><th>max_pmts_month_706T</th><th>max_pmts_overdue_1140A</th><th>max_pmts_overdue_1152A</th><th>max_pmts_year_1139T</th><th>max_pmts_year_507T</th><th>max_subjectroles_name_541M</th><th>max_subjectroles_name_838M</th><th>mean_pmts_dpd_1073P</th><th>mean_pmts_dpd_303P</th><th>mean_pmts_overdue_1140A</th><th>mean_pmts_overdue_1152A</th><th>var_pmts_dpd_1073P</th><th>var_pmts_dpd_303P</th><th>var_pmts_overdue_1140A</th><th>var_pmts_overdue_1152A</th><th>year</th><th>day</th></tr><tr><td>u32</td><td>u32</td><td>u8</td><td>u8</td><td>i16</td><td>u8</td><td>i16</td><td>f32</td><td>i32</td><td>f32</td><td>f32</td><td>f32</td><td>f32</td><td>f32</td><td>str</td><td>str</td><td>str</td><td>f32</td><td>f32</td><td>str</td><td>str</td><td>f32</td><td>f32</td><td>f32</td><td>f32</td><td>f32</td><td>f32</td><td>f32</td><td>str</td><td>i8</td><td>u8</td><td>i8</td><td>f32</td><td>f32</td><td>f32</td><td>f32</td><td>f32</td><td>&hellip;</td><td>f32</td><td>f32</td><td>u8</td><td>i16</td><td>f32</td><td>i16</td><td>u8</td><td>i16</td><td>i16</td><td>str</td><td>str</td><td>f32</td><td>f32</td><td>str</td><td>str</td><td>u16</td><td>u8</td><td>f32</td><td>f32</td><td>f32</td><td>f32</td><td>f32</td><td>f32</td><td>f32</td><td>f32</td><td>str</td><td>str</td><td>f32</td><td>f32</td><td>f32</td><td>f32</td><td>f32</td><td>f32</td><td>f32</td><td>f32</td><td>u16</td><td>u8</td></tr></thead><tbody><tr><td>1371386</td><td>201905</td><td>19</td><td>0</td><td>null</td><td>null</td><td>-13866</td><td>null</td><td>-13866</td><td>1.0</td><td>2.0</td><td>1.0</td><td>7.0</td><td>1.0</td><td>&quot;a55475b1&quot;</td><td>&quot;6b2ae0fa&quot;</td><td>&quot;a55475b1&quot;</td><td>3.0</td><td>6.0</td><td>&quot;a7fcb6e5&quot;</td><td>&quot;a55475b1&quot;</td><td>7.0</td><td>null</td><td>null</td><td>null</td><td>null</td><td>1.0</td><td>693.600037</td><td>null</td><td>14</td><td>null</td><td>null</td><td>3.0</td><td>1.0</td><td>0.0</td><td>57162.199219</td><td>6359.399902</td><td>&hellip;</td><td>60000.0</td><td>null</td><td>null</td><td>null</td><td>null</td><td>null</td><td>null</td><td>null</td><td>null</td><td>&quot;a55475b1&quot;</td><td>&quot;a55475b1&quot;</td><td>0.0</td><td>null</td><td>&quot;a55475b1&quot;</td><td>&quot;c7a5ad39&quot;</td><td>0</td><td>23</td><td>4.0</td><td>null</td><td>12.0</td><td>null</td><td>9462.799805</td><td>null</td><td>2020.0</td><td>null</td><td>&quot;a55475b1&quot;</td><td>&quot;ab3c25cf&quot;</td><td>0.416667</td><td>null</td><td>1576.467285</td><td>null</td><td>1.356061</td><td>null</td><td>1.3555908e7</td><td>null</td><td>2019</td><td>19</td></tr><tr><td>1268950</td><td>201901</td><td>4</td><td>0</td><td>null</td><td>null</td><td>-12204</td><td>null</td><td>-12204</td><td>1.0</td><td>1.0</td><td>1.0</td><td>1.0</td><td>1.0</td><td>&quot;a55475b1&quot;</td><td>&quot;a55475b1&quot;</td><td>&quot;a55475b1&quot;</td><td>2.0</td><td>0.0</td><td>&quot;a55475b1&quot;</td><td>&quot;a55475b1&quot;</td><td>1.0</td><td>null</td><td>null</td><td>null</td><td>null</td><td>1.0</td><td>440.0</td><td>null</td><td>14</td><td>null</td><td>null</td><td>0.0</td><td>0.0</td><td>0.0</td><td>null</td><td>1020.0</td><td>&hellip;</td><td>20000.0</td><td>null</td><td>null</td><td>null</td><td>null</td><td>null</td><td>null</td><td>null</td><td>null</td><td>&quot;a55475b1&quot;</td><td>&quot;a55475b1&quot;</td><td>0.0</td><td>null</td><td>&quot;a55475b1&quot;</td><td>&quot;c7a5ad39&quot;</td><td>0</td><td>35</td><td>2.0</td><td>null</td><td>12.0</td><td>null</td><td>5786.54248</td><td>null</td><td>2020.0</td><td>null</td><td>&quot;a55475b1&quot;</td><td>&quot;ab3c25cf&quot;</td><td>0.166667</td><td>null</td><td>718.948364</td><td>null</td><td>0.318841</td><td>null</td><td>3.775668e6</td><td>null</td><td>2019</td><td>30</td></tr><tr><td>1691272</td><td>201912</td><td>49</td><td>0</td><td>null</td><td>null</td><td>null</td><td>null</td><td>-13682</td><td>1.0</td><td>1.0</td><td>1.0</td><td>1.0</td><td>1.0</td><td>&quot;a55475b1&quot;</td><td>&quot;6b2ae0fa&quot;</td><td>&quot;a55475b1&quot;</td><td>0.0</td><td>1.0</td><td>&quot;3439d993&quot;</td><td>&quot;a55475b1&quot;</td><td>1.0</td><td>null</td><td>null</td><td>null</td><td>null</td><td>null</td><td>null</td><td>&quot;DEDUCTION_6&quot;</td><td>null</td><td>14</td><td>null</td><td>0.0</td><td>0.0</td><td>0.0</td><td>0.0</td><td>2988.600098</td><td>&hellip;</td><td>90000.0</td><td>null</td><td>null</td><td>null</td><td>null</td><td>null</td><td>null</td><td>null</td><td>null</td><td>&quot;a55475b1&quot;</td><td>&quot;a55475b1&quot;</td><td>null</td><td>1.7348128e7</td><td>&quot;c7a5ad39&quot;</td><td>&quot;a55475b1&quot;</td><td>9</td><td>35</td><td>null</td><td>152.0</td><td>null</td><td>12.0</td><td>null</td><td>591080.875</td><td>null</td><td>2018.0</td><td>&quot;ab3c25cf&quot;</td><td>&quot;a55475b1&quot;</td><td>null</td><td>6.802326</td><td>null</td><td>21407.792969</td><td>null</td><td>685.878113</td><td>null</td><td>1.1217e10</td><td>2019</td><td>16</td></tr><tr><td>1364098</td><td>201905</td><td>18</td><td>0</td><td>null</td><td>null</td><td>-19092</td><td>null</td><td>-19092</td><td>1.0</td><td>3.0</td><td>0.0</td><td>4.0</td><td>0.0</td><td>&quot;a55475b1&quot;</td><td>&quot;a55475b1&quot;</td><td>&quot;a55475b1&quot;</td><td>3.0</td><td>3.0</td><td>&quot;a55475b1&quot;</td><td>&quot;a55475b1&quot;</td><td>4.0</td><td>null</td><td>null</td><td>null</td><td>null</td><td>6.0</td><td>3394.0</td><td>null</td><td>14</td><td>null</td><td>null</td><td>0.0</td><td>0.0</td><td>0.0</td><td>6732.0</td><td>2753.600098</td><td>&hellip;</td><td>40000.0</td><td>null</td><td>null</td><td>null</td><td>null</td><td>null</td><td>null</td><td>null</td><td>null</td><td>&quot;a55475b1&quot;</td><td>&quot;a55475b1&quot;</td><td>0.0</td><td>null</td><td>&quot;a55475b1&quot;</td><td>&quot;c7a5ad39&quot;</td><td>1</td><td>23</td><td>0.0</td><td>null</td><td>12.0</td><td>null</td><td>0.0</td><td>null</td><td>2020.0</td><td>null</td><td>&quot;a55475b1&quot;</td><td>&quot;ab3c25cf&quot;</td><td>0.0</td><td>null</td><td>0.0</td><td>null</td><td>0.0</td><td>null</td><td>0.0</td><td>null</td><td>2019</td><td>11</td></tr><tr><td>6580</td><td>201902</td><td>8</td><td>0</td><td>-2403</td><td>null</td><td>-23618</td><td>null</td><td>null</td><td>null</td><td>null</td><td>null</td><td>null</td><td>null</td><td>&quot;a55475b1&quot;</td><td>&quot;a55475b1&quot;</td><td>&quot;a55475b1&quot;</td><td>null</td><td>null</td><td>&quot;a55475b1&quot;</td><td>&quot;a55475b1&quot;</td><td>null</td><td>6907.133789</td><td>null</td><td>null</td><td>6.0</td><td>null</td><td>null</td><td>null</td><td>14</td><td>null</td><td>null</td><td>null</td><td>null</td><td>null</td><td>null</td><td>5099.0</td><td>&hellip;</td><td>50000.0</td><td>null</td><td>null</td><td>null</td><td>null</td><td>null</td><td>null</td><td>null</td><td>null</td><td>null</td><td>null</td><td>null</td><td>null</td><td>null</td><td>null</td><td>null</td><td>null</td><td>null</td><td>null</td><td>null</td><td>null</td><td>null</td><td>null</td><td>null</td><td>null</td><td>null</td><td>null</td><td>null</td><td>null</td><td>null</td><td>null</td><td>null</td><td>null</td><td>null</td><td>null</td><td>2019</td><td>28</td></tr><tr><td>230642</td><td>202006</td><td>75</td><td>0</td><td>null</td><td>null</td><td>null</td><td>0.0</td><td>-17544</td><td>0.0</td><td>0.0</td><td>0.0</td><td>0.0</td><td>0.0</td><td>&quot;2fc785b2&quot;</td><td>&quot;a55475b1&quot;</td><td>&quot;a55475b1&quot;</td><td>2.0</td><td>1.0</td><td>&quot;a55475b1&quot;</td><td>&quot;a55475b1&quot;</td><td>0.0</td><td>null</td><td>null</td><td>null</td><td>null</td><td>null</td><td>null</td><td>null</td><td>null</td><td>null</td><td>14</td><td>0.0</td><td>0.0</td><td>0.0</td><td>7330.846191</td><td>2066.800049</td><td>&hellip;</td><td>30000.0</td><td>null</td><td>null</td><td>null</td><td>null</td><td>null</td><td>null</td><td>null</td><td>null</td><td>&quot;a55475b1&quot;</td><td>&quot;a55475b1&quot;</td><td>0.0</td><td>0.0</td><td>&quot;c7a5ad39&quot;</td><td>&quot;c7a5ad39&quot;</td><td>2</td><td>35</td><td>0.0</td><td>3.0</td><td>12.0</td><td>12.0</td><td>0.0</td><td>4083.699951</td><td>2021.0</td><td>2020.0</td><td>&quot;ab3c25cf&quot;</td><td>&quot;ab3c25cf&quot;</td><td>0.0</td><td>0.147059</td><td>0.0</td><td>617.510559</td><td>0.0</td><td>0.371658</td><td>0.0</td><td>1.223025e6</td><td>2020</td><td>13</td></tr><tr><td>40980</td><td>201912</td><td>50</td><td>0</td><td>null</td><td>null</td><td>null</td><td>null</td><td>-14017</td><td>3.0</td><td>3.0</td><td>1.0</td><td>4.0</td><td>1.0</td><td>&quot;a55475b1&quot;</td><td>&quot;6b2ae0fa&quot;</td><td>&quot;6b2ae0fa&quot;</td><td>3.0</td><td>3.0</td><td>&quot;3439d993&quot;</td><td>&quot;46b968c3&quot;</td><td>4.0</td><td>null</td><td>null</td><td>null</td><td>null</td><td>null</td><td>null</td><td>&quot;DEDUCTION_6&quot;</td><td>null</td><td>14</td><td>null</td><td>16.0</td><td>9.0</td><td>0.0</td><td>2984.0</td><td>7406.800293</td><td>&hellip;</td><td>40000.0</td><td>null</td><td>null</td><td>null</td><td>null</td><td>null</td><td>null</td><td>null</td><td>null</td><td>&quot;a55475b1&quot;</td><td>&quot;a55475b1&quot;</td><td>0.0</td><td>0.0</td><td>&quot;a55475b1&quot;</td><td>&quot;c7a5ad39&quot;</td><td>1</td><td>35</td><td>19.0</td><td>0.0</td><td>12.0</td><td>12.0</td><td>7778.720215</td><td>0.0</td><td>2020.0</td><td>2018.0</td><td>&quot;ab3c25cf&quot;</td><td>&quot;ab3c25cf&quot;</td><td>1.148148</td><td>0.0</td><td>288.248901</td><td>0.0</td><td>15.361823</td><td>0.0</td><td>2.2410e6</td><td>0.0</td><td>2019</td><td>17</td></tr><tr><td>649900</td><td>201903</td><td>10</td><td>0</td><td>null</td><td>null</td><td>-14257</td><td>null</td><td>-14257</td><td>2.0</td><td>3.0</td><td>1.0</td><td>6.0</td><td>1.0</td><td>&quot;a55475b1&quot;</td><td>&quot;6b2ae0fa&quot;</td><td>&quot;a55475b1&quot;</td><td>3.0</td><td>4.0</td><td>&quot;3439d993&quot;</td><td>&quot;a55475b1&quot;</td><td>6.0</td><td>null</td><td>null</td><td>null</td><td>null</td><td>13.0</td><td>13091.328125</td><td>null</td><td>14</td><td>null</td><td>null</td><td>3.0</td><td>3.0</td><td>null</td><td>null</td><td>1259.800049</td><td>&hellip;</td><td>40000.0</td><td>null</td><td>null</td><td>null</td><td>null</td><td>null</td><td>null</td><td>null</td><td>null</td><td>&quot;a55475b1&quot;</td><td>&quot;a55475b1&quot;</td><td>0.0</td><td>580000.0</td><td>&quot;c7a5ad39&quot;</td><td>&quot;c7a5ad39&quot;</td><td>7</td><td>35</td><td>0.0</td><td>0.0</td><td>12.0</td><td>12.0</td><td>0.0</td><td>0.0</td><td>2020.0</td><td>2019.0</td><td>&quot;be4fd70b&quot;</td><td>&quot;ab3c25cf&quot;</td><td>0.0</td><td>0.0</td><td>0.0</td><td>0.0</td><td>0.0</td><td>0.0</td><td>0.0</td><td>0.0</td><td>2019</td><td>14</td></tr><tr><td>913822</td><td>201912</td><td>51</td><td>0</td><td>null</td><td>null</td><td>null</td><td>null</td><td>-9187</td><td>11.0</td><td>12.0</td><td>0.0</td><td>12.0</td><td>1.0</td><td>&quot;a55475b1&quot;</td><td>&quot;a55475b1&quot;</td><td>&quot;a55475b1&quot;</td><td>0.0</td><td>1.0</td><td>&quot;a55475b1&quot;</td><td>&quot;a55475b1&quot;</td><td>12.0</td><td>null</td><td>null</td><td>null</td><td>null</td><td>null</td><td>null</td><td>&quot;DEDUCTION_6&quot;</td><td>null</td><td>14</td><td>null</td><td>0.0</td><td>11.0</td><td>null</td><td>null</td><td>3679.400146</td><td>&hellip;</td><td>53600.0</td><td>null</td><td>null</td><td>null</td><td>null</td><td>null</td><td>null</td><td>null</td><td>null</td><td>&quot;a55475b1&quot;</td><td>&quot;a55475b1&quot;</td><td>0.0</td><td>null</td><td>&quot;a55475b1&quot;</td><td>&quot;c7a5ad39&quot;</td><td>0</td><td>11</td><td>0.0</td><td>null</td><td>12.0</td><td>null</td><td>1627.0</td><td>null</td><td>2020.0</td><td>null</td><td>&quot;a55475b1&quot;</td><td>&quot;ab3c25cf&quot;</td><td>0.0</td><td>null</td><td>180.777771</td><td>null</td><td>0.0</td><td>null</td><td>294125.4375</td><td>null</td><td>2019</td><td>27</td></tr><tr><td>1272442</td><td>201902</td><td>4</td><td>0</td><td>null</td><td>null</td><td>-18205</td><td>null</td><td>-18205</td><td>4.0</td><td>4.0</td><td>2.0</td><td>10.0</td><td>4.0</td><td>&quot;a55475b1&quot;</td><td>&quot;717ddd49&quot;</td><td>&quot;a55475b1&quot;</td><td>10.0</td><td>7.0</td><td>&quot;3439d993&quot;</td><td>&quot;a55475b1&quot;</td><td>10.0</td><td>null</td><td>null</td><td>null</td><td>null</td><td>6.0</td><td>15464.0</td><td>null</td><td>14</td><td>null</td><td>null</td><td>7.0</td><td>3.0</td><td>0.0</td><td>null</td><td>1105.0</td><td>&hellip;</td><td>44000.0</td><td>0.0</td><td>0</td><td>-1133</td><td>0.0</td><td>-1133</td><td>0</td><td>-1133</td><td>-1133</td><td>&quot;a55475b1&quot;</td><td>&quot;a55475b1&quot;</td><td>0.0</td><td>null</td><td>&quot;a55475b1&quot;</td><td>&quot;c7a5ad39&quot;</td><td>1</td><td>35</td><td>1.0</td><td>null</td><td>12.0</td><td>null</td><td>1434.0</td><td>null</td><td>2020.0</td><td>null</td><td>&quot;a55475b1&quot;</td><td>&quot;ab3c25cf&quot;</td><td>0.029412</td><td>null</td><td>42.176472</td><td>null</td><td>0.029412</td><td>null</td><td>60481.058594</td><td>null</td><td>2019</td><td>3</td></tr></tbody></table></div>"
      ],
      "text/plain": [
       "shape: (10, 472)\n",
       "┌─────────┬────────┬──────────┬────────┬───┬─────────────────────┬────────────────────┬──────┬─────┐\n",
       "│ case_id ┆ month  ┆ week_num ┆ target ┆ … ┆ var_pmts_overdue_11 ┆ var_pmts_overdue_1 ┆ year ┆ day │\n",
       "│ ---     ┆ ---    ┆ ---      ┆ ---    ┆   ┆ 40A                 ┆ 152A               ┆ ---  ┆ --- │\n",
       "│ u32     ┆ u32    ┆ u8       ┆ u8     ┆   ┆ ---                 ┆ ---                ┆ u16  ┆ u8  │\n",
       "│         ┆        ┆          ┆        ┆   ┆ f32                 ┆ f32                ┆      ┆     │\n",
       "╞═════════╪════════╪══════════╪════════╪═══╪═════════════════════╪════════════════════╪══════╪═════╡\n",
       "│ 1371386 ┆ 201905 ┆ 19       ┆ 0      ┆ … ┆ 1.3555908e7         ┆ null               ┆ 2019 ┆ 19  │\n",
       "│ 1268950 ┆ 201901 ┆ 4        ┆ 0      ┆ … ┆ 3.775668e6          ┆ null               ┆ 2019 ┆ 30  │\n",
       "│ 1691272 ┆ 201912 ┆ 49       ┆ 0      ┆ … ┆ null                ┆ 1.1217e10          ┆ 2019 ┆ 16  │\n",
       "│ 1364098 ┆ 201905 ┆ 18       ┆ 0      ┆ … ┆ 0.0                 ┆ null               ┆ 2019 ┆ 11  │\n",
       "│ 6580    ┆ 201902 ┆ 8        ┆ 0      ┆ … ┆ null                ┆ null               ┆ 2019 ┆ 28  │\n",
       "│ 230642  ┆ 202006 ┆ 75       ┆ 0      ┆ … ┆ 0.0                 ┆ 1.223025e6         ┆ 2020 ┆ 13  │\n",
       "│ 40980   ┆ 201912 ┆ 50       ┆ 0      ┆ … ┆ 2.2410e6            ┆ 0.0                ┆ 2019 ┆ 17  │\n",
       "│ 649900  ┆ 201903 ┆ 10       ┆ 0      ┆ … ┆ 0.0                 ┆ 0.0                ┆ 2019 ┆ 14  │\n",
       "│ 913822  ┆ 201912 ┆ 51       ┆ 0      ┆ … ┆ 294125.4375         ┆ null               ┆ 2019 ┆ 27  │\n",
       "│ 1272442 ┆ 201902 ┆ 4        ┆ 0      ┆ … ┆ 60481.058594        ┆ null               ┆ 2019 ┆ 3   │\n",
       "└─────────┴────────┴──────────┴────────┴───┴─────────────────────┴────────────────────┴──────┴─────┘"
      ]
     },
     "metadata": {},
     "output_type": "display_data"
    },
    {
     "name": "stdout",
     "output_type": "stream",
     "text": [
      "CPU times: user 5min 43s, sys: 1min 44s, total: 7min 27s\n",
      "Wall time: 2min 15s\n"
     ]
    }
   ],
   "source": [
    "%%time\n",
    "\n",
    "data_store: dict = {\n",
    "    \"df_base\": SchemaGen.scan_files(os.path.join(TRAIN_DIR, \"train_base.parquet\")),\n",
    "    \"depth_0\": [\n",
    "        SchemaGen.scan_files(os.path.join(TRAIN_DIR, \"train_static_cb_0.parquet\")),\n",
    "        SchemaGen.scan_files(os.path.join(TRAIN_DIR, \"train_static_0_*.parquet\")),\n",
    "    ],\n",
    "    \"depth_1\": [\n",
    "        SchemaGen.scan_files(os.path.join(TRAIN_DIR, \"train_applprev_1_*.parquet\"), 1),\n",
    "        SchemaGen.scan_files(os.path.join(TRAIN_DIR, \"train_tax_registry_a_1.parquet\"), 1),\n",
    "        SchemaGen.scan_files(os.path.join(TRAIN_DIR, \"train_tax_registry_b_1.parquet\"), 1),\n",
    "        SchemaGen.scan_files(os.path.join(TRAIN_DIR, \"train_tax_registry_c_1.parquet\"), 1),\n",
    "        SchemaGen.scan_files(os.path.join(TRAIN_DIR, \"train_credit_bureau_a_1_*.parquet\"), 1),\n",
    "        SchemaGen.scan_files(os.path.join(TRAIN_DIR, \"train_credit_bureau_b_1.parquet\"), 1),\n",
    "        SchemaGen.scan_files(os.path.join(TRAIN_DIR, \"train_other_1.parquet\"), 1),\n",
    "        SchemaGen.scan_files(os.path.join(TRAIN_DIR, \"train_person_1.parquet\"), 1),\n",
    "        SchemaGen.scan_files(os.path.join(TRAIN_DIR, \"train_deposit_1.parquet\"), 1),\n",
    "        SchemaGen.scan_files(os.path.join(TRAIN_DIR, \"train_debitcard_1.parquet\"), 1),\n",
    "    ],\n",
    "    \"depth_2\": [\n",
    "        SchemaGen.scan_files(os.path.join(TRAIN_DIR, \"train_credit_bureau_a_2_*.parquet\"), 2),\n",
    "        SchemaGen.scan_files(os.path.join(TRAIN_DIR, \"train_credit_bureau_b_2.parquet\"), 2),\n",
    "    ],\n",
    "}\n",
    "\n",
    "train_df: pl.LazyFrame = (\n",
    "    SchemaGen.join_dataframes(**data_store)\n",
    "    .pipe(Pipeline.filter_cols)\n",
    "    .pipe(Pipeline.transform_cols)\n",
    "    .pipe(Pipeline.handle_dates)\n",
    "    .pipe(Utility.reduce_memory_usage, \"train_df\")\n",
    ")\n",
    "\n",
    "del data_store\n",
    "gc.collect()\n",
    "\n",
    "print(f\"Train data shape: {train_df.shape}\")\n",
    "display(train_df.head(10))"
   ]
  },
  {
   "cell_type": "code",
   "execution_count": 6,
   "id": "526b0561",
   "metadata": {
    "execution": {
     "iopub.execute_input": "2024-05-19T05:17:17.358963Z",
     "iopub.status.busy": "2024-05-19T05:17:17.358362Z",
     "iopub.status.idle": "2024-05-19T05:17:40.898403Z",
     "shell.execute_reply": "2024-05-19T05:17:40.897481Z"
    },
    "papermill": {
     "duration": 23.549626,
     "end_time": "2024-05-19T05:17:40.900575",
     "exception": false,
     "start_time": "2024-05-19T05:17:17.350949",
     "status": "completed"
    },
    "tags": []
   },
   "outputs": [
    {
     "data": {
      "text/plain": [
       "0"
      ]
     },
     "execution_count": 6,
     "metadata": {},
     "output_type": "execute_result"
    }
   ],
   "source": [
    "cols = train_df.columns\n",
    "train_df, cat_cols = Utility.to_pandas(train_df)\n",
    "\n",
    "del train_df\n",
    "gc.collect()"
   ]
  },
  {
   "cell_type": "markdown",
   "id": "e884e913",
   "metadata": {
    "papermill": {
     "duration": 0.006353,
     "end_time": "2024-05-19T05:17:40.913867",
     "exception": false,
     "start_time": "2024-05-19T05:17:40.907514",
     "status": "completed"
    },
    "tags": []
   },
   "source": [
    "### Read test data"
   ]
  },
  {
   "cell_type": "code",
   "execution_count": 7,
   "id": "57b85ae1",
   "metadata": {
    "execution": {
     "iopub.execute_input": "2024-05-19T05:17:40.929175Z",
     "iopub.status.busy": "2024-05-19T05:17:40.928852Z",
     "iopub.status.idle": "2024-05-19T05:17:45.012827Z",
     "shell.execute_reply": "2024-05-19T05:17:45.011754Z"
    },
    "papermill": {
     "duration": 4.094471,
     "end_time": "2024-05-19T05:17:45.014942",
     "exception": false,
     "start_time": "2024-05-19T05:17:40.920471",
     "status": "completed"
    },
    "tags": []
   },
   "outputs": [
    {
     "name": "stdout",
     "output_type": "stream",
     "text": [
      "File test_base loaded into memory.\n",
      "File test_static_cb_0 loaded into memory.\n",
      "File test_static_0_0 loaded into memory.\n",
      "File test_static_0_2 loaded into memory.\n",
      "File test_static_0_1 loaded into memory.\n",
      "File test_applprev_1_2 loaded into memory.\n",
      "File test_applprev_1_0 loaded into memory.\n",
      "File test_applprev_1_1 loaded into memory.\n",
      "File test_tax_registry_a_1 loaded into memory.\n",
      "File test_tax_registry_b_1 loaded into memory.\n",
      "File test_tax_registry_c_1 loaded into memory.\n",
      "File test_credit_bureau_a_1_3 loaded into memory.\n",
      "File test_credit_bureau_a_1_2 loaded into memory.\n",
      "File test_credit_bureau_a_1_1 loaded into memory.\n",
      "File test_credit_bureau_a_1_4 loaded into memory.\n",
      "File test_credit_bureau_a_1_0 loaded into memory.\n",
      "File test_credit_bureau_b_1 loaded into memory.\n",
      "File test_other_1 loaded into memory.\n",
      "File test_person_1 loaded into memory.\n",
      "File test_deposit_1 loaded into memory.\n",
      "File test_debitcard_1 loaded into memory.\n",
      "File test_credit_bureau_b_2 loaded into memory.\n",
      "File test_credit_bureau_a_2_3 loaded into memory.\n",
      "File test_credit_bureau_a_2_9 loaded into memory.\n",
      "File test_credit_bureau_a_2_2 loaded into memory.\n",
      "File test_credit_bureau_a_2_11 loaded into memory.\n",
      "File test_credit_bureau_a_2_1 loaded into memory.\n",
      "File test_credit_bureau_a_2_6 loaded into memory.\n",
      "File test_credit_bureau_a_2_5 loaded into memory.\n",
      "File test_credit_bureau_a_2_0 loaded into memory.\n",
      "File test_credit_bureau_a_2_7 loaded into memory.\n",
      "File test_credit_bureau_a_2_10 loaded into memory.\n",
      "File test_credit_bureau_a_2_8 loaded into memory.\n",
      "File test_credit_bureau_a_2_4 loaded into memory.\n",
      "Memory usage of dataframe \"train_df\" is 0.0432 MB.\n",
      "Memory usage of dataframe \"train_df\" became 0.0311 MB.\n",
      "Memory usage of dataframe \"test_df\" is 0.0184 MB.\n",
      "Memory usage of dataframe \"test_df\" became 0.0173 MB.\n",
      "Test data shape: (10, 471)\n"
     ]
    }
   ],
   "source": [
    "data_store = {\n",
    "    \"df_base\": SchemaGen.scan_files(os.path.join(TEST_DIR, \"test_base.parquet\")),\n",
    "    \"depth_0\": [\n",
    "        SchemaGen.scan_files(os.path.join(TEST_DIR, \"test_static_cb_0.parquet\")),\n",
    "        SchemaGen.scan_files(os.path.join(TEST_DIR, \"test_static_0_*.parquet\")),\n",
    "    ],\n",
    "    \"depth_1\": [\n",
    "        SchemaGen.scan_files(os.path.join(TEST_DIR, \"test_applprev_1_*.parquet\"), 1),\n",
    "        SchemaGen.scan_files(os.path.join(TEST_DIR, \"test_tax_registry_a_1.parquet\"), 1),\n",
    "        SchemaGen.scan_files(os.path.join(TEST_DIR, \"test_tax_registry_b_1.parquet\"), 1),\n",
    "        SchemaGen.scan_files(os.path.join(TEST_DIR, \"test_tax_registry_c_1.parquet\"), 1),\n",
    "        SchemaGen.scan_files(os.path.join(TEST_DIR, \"test_credit_bureau_a_1_*.parquet\"), 1),\n",
    "        SchemaGen.scan_files(os.path.join(TEST_DIR, \"test_credit_bureau_b_1.parquet\"), 1),\n",
    "        SchemaGen.scan_files(os.path.join(TEST_DIR, \"test_other_1.parquet\"), 1),\n",
    "        SchemaGen.scan_files(os.path.join(TEST_DIR, \"test_person_1.parquet\"), 1),\n",
    "        SchemaGen.scan_files(os.path.join(TEST_DIR, \"test_deposit_1.parquet\"), 1),\n",
    "        SchemaGen.scan_files(os.path.join(TEST_DIR, \"test_debitcard_1.parquet\"), 1),\n",
    "    ],\n",
    "    \"depth_2\": [\n",
    "        SchemaGen.scan_files(os.path.join(TEST_DIR, \"test_credit_bureau_b_2.parquet\"), 2),\n",
    "        SchemaGen.scan_files(os.path.join(TEST_DIR, \"test_credit_bureau_a_2_*.parquet\"), 2),\n",
    "        # SchemaGen.scan_files(os.path.join(TEST_DIR, \"test_applprev_2.parquet\"), 2),\n",
    "        # SchemaGen.scan_files(os.path.join(TEST_DIR, \"test_person_2.parquet\"), 2)\n",
    "    ],\n",
    "}\n",
    "\n",
    "test_df: pl.DataFrame = (\n",
    "    SchemaGen.join_dataframes(**data_store)\n",
    "    .pipe(Pipeline.transform_cols)\n",
    "    .pipe(Pipeline.handle_dates)\n",
    "    .select([col for col in cols if col != \"target\"])\n",
    "    .pipe(Utility.reduce_memory_usage, \"test_df\")\n",
    ")\n",
    "\n",
    "del data_store\n",
    "gc.collect()\n",
    "\n",
    "print(f\"Test data shape: {test_df.shape}\")"
   ]
  },
  {
   "cell_type": "code",
   "execution_count": 8,
   "id": "f8c85ce4",
   "metadata": {
    "execution": {
     "iopub.execute_input": "2024-05-19T05:17:45.031932Z",
     "iopub.status.busy": "2024-05-19T05:17:45.031584Z",
     "iopub.status.idle": "2024-05-19T05:17:45.064301Z",
     "shell.execute_reply": "2024-05-19T05:17:45.063505Z"
    },
    "papermill": {
     "duration": 0.043875,
     "end_time": "2024-05-19T05:17:45.066435",
     "exception": false,
     "start_time": "2024-05-19T05:17:45.022560",
     "status": "completed"
    },
    "tags": []
   },
   "outputs": [],
   "source": [
    "test_df, cat_cols = Utility.to_pandas(test_df, cat_cols)"
   ]
  },
  {
   "cell_type": "code",
   "execution_count": 9,
   "id": "e9444929",
   "metadata": {
    "execution": {
     "iopub.execute_input": "2024-05-19T05:17:45.084527Z",
     "iopub.status.busy": "2024-05-19T05:17:45.084255Z",
     "iopub.status.idle": "2024-05-19T05:17:45.119749Z",
     "shell.execute_reply": "2024-05-19T05:17:45.118936Z"
    },
    "papermill": {
     "duration": 0.046665,
     "end_time": "2024-05-19T05:17:45.121843",
     "exception": false,
     "start_time": "2024-05-19T05:17:45.075178",
     "status": "completed"
    },
    "tags": []
   },
   "outputs": [
    {
     "data": {
      "text/html": [
       "<div>\n",
       "<style scoped>\n",
       "    .dataframe tbody tr th:only-of-type {\n",
       "        vertical-align: middle;\n",
       "    }\n",
       "\n",
       "    .dataframe tbody tr th {\n",
       "        vertical-align: top;\n",
       "    }\n",
       "\n",
       "    .dataframe thead th {\n",
       "        text-align: right;\n",
       "    }\n",
       "</style>\n",
       "<table border=\"1\" class=\"dataframe\">\n",
       "  <thead>\n",
       "    <tr style=\"text-align: right;\">\n",
       "      <th></th>\n",
       "      <th>case_id</th>\n",
       "      <th>month</th>\n",
       "      <th>week_num</th>\n",
       "      <th>assignmentdate_238D</th>\n",
       "      <th>assignmentdate_4527235D</th>\n",
       "      <th>birthdate_574D</th>\n",
       "      <th>contractssum_5085716L</th>\n",
       "      <th>dateofbirth_337D</th>\n",
       "      <th>days120_123L</th>\n",
       "      <th>days180_256L</th>\n",
       "      <th>...</th>\n",
       "      <th>mean_pmts_dpd_1073P</th>\n",
       "      <th>mean_pmts_dpd_303P</th>\n",
       "      <th>mean_pmts_overdue_1140A</th>\n",
       "      <th>mean_pmts_overdue_1152A</th>\n",
       "      <th>var_pmts_dpd_1073P</th>\n",
       "      <th>var_pmts_dpd_303P</th>\n",
       "      <th>var_pmts_overdue_1140A</th>\n",
       "      <th>var_pmts_overdue_1152A</th>\n",
       "      <th>year</th>\n",
       "      <th>day</th>\n",
       "    </tr>\n",
       "  </thead>\n",
       "  <tbody>\n",
       "    <tr>\n",
       "      <th>0</th>\n",
       "      <td>57633</td>\n",
       "      <td>202201</td>\n",
       "      <td>100</td>\n",
       "      <td>NaN</td>\n",
       "      <td>NaN</td>\n",
       "      <td>NaN</td>\n",
       "      <td>6.373008e+06</td>\n",
       "      <td>-10496</td>\n",
       "      <td>3.0</td>\n",
       "      <td>3.0</td>\n",
       "      <td>...</td>\n",
       "      <td>0.0</td>\n",
       "      <td>0.000000</td>\n",
       "      <td>0.0</td>\n",
       "      <td>0.000000</td>\n",
       "      <td>NaN</td>\n",
       "      <td>0.000000</td>\n",
       "      <td>0.0</td>\n",
       "      <td>0.0</td>\n",
       "      <td>2022</td>\n",
       "      <td>25</td>\n",
       "    </tr>\n",
       "    <tr>\n",
       "      <th>1</th>\n",
       "      <td>57551</td>\n",
       "      <td>202201</td>\n",
       "      <td>100</td>\n",
       "      <td>NaN</td>\n",
       "      <td>NaN</td>\n",
       "      <td>NaN</td>\n",
       "      <td>2.926195e+06</td>\n",
       "      <td>-14090</td>\n",
       "      <td>1.0</td>\n",
       "      <td>3.0</td>\n",
       "      <td>...</td>\n",
       "      <td>NaN</td>\n",
       "      <td>NaN</td>\n",
       "      <td>NaN</td>\n",
       "      <td>NaN</td>\n",
       "      <td>NaN</td>\n",
       "      <td>NaN</td>\n",
       "      <td>NaN</td>\n",
       "      <td>NaN</td>\n",
       "      <td>2020</td>\n",
       "      <td>27</td>\n",
       "    </tr>\n",
       "    <tr>\n",
       "      <th>2</th>\n",
       "      <td>57569</td>\n",
       "      <td>202201</td>\n",
       "      <td>100</td>\n",
       "      <td>NaN</td>\n",
       "      <td>NaN</td>\n",
       "      <td>NaN</td>\n",
       "      <td>NaN</td>\n",
       "      <td>-26408</td>\n",
       "      <td>4.0</td>\n",
       "      <td>4.0</td>\n",
       "      <td>...</td>\n",
       "      <td>NaN</td>\n",
       "      <td>2328.571533</td>\n",
       "      <td>NaN</td>\n",
       "      <td>33346.402344</td>\n",
       "      <td>NaN</td>\n",
       "      <td>3341.619141</td>\n",
       "      <td>NaN</td>\n",
       "      <td>0.0</td>\n",
       "      <td>2021</td>\n",
       "      <td>20</td>\n",
       "    </tr>\n",
       "    <tr>\n",
       "      <th>3</th>\n",
       "      <td>57543</td>\n",
       "      <td>202201</td>\n",
       "      <td>100</td>\n",
       "      <td>NaN</td>\n",
       "      <td>NaN</td>\n",
       "      <td>NaN</td>\n",
       "      <td>1.513640e+05</td>\n",
       "      <td>-14804</td>\n",
       "      <td>2.0</td>\n",
       "      <td>4.0</td>\n",
       "      <td>...</td>\n",
       "      <td>0.0</td>\n",
       "      <td>NaN</td>\n",
       "      <td>0.0</td>\n",
       "      <td>NaN</td>\n",
       "      <td>NaN</td>\n",
       "      <td>NaN</td>\n",
       "      <td>NaN</td>\n",
       "      <td>NaN</td>\n",
       "      <td>2021</td>\n",
       "      <td>14</td>\n",
       "    </tr>\n",
       "    <tr>\n",
       "      <th>4</th>\n",
       "      <td>57631</td>\n",
       "      <td>202201</td>\n",
       "      <td>100</td>\n",
       "      <td>NaN</td>\n",
       "      <td>NaN</td>\n",
       "      <td>NaN</td>\n",
       "      <td>4.803345e+05</td>\n",
       "      <td>-12999</td>\n",
       "      <td>0.0</td>\n",
       "      <td>0.0</td>\n",
       "      <td>...</td>\n",
       "      <td>0.0</td>\n",
       "      <td>0.000000</td>\n",
       "      <td>0.0</td>\n",
       "      <td>0.000000</td>\n",
       "      <td>0.0</td>\n",
       "      <td>0.000000</td>\n",
       "      <td>0.0</td>\n",
       "      <td>0.0</td>\n",
       "      <td>2022</td>\n",
       "      <td>4</td>\n",
       "    </tr>\n",
       "    <tr>\n",
       "      <th>5</th>\n",
       "      <td>57634</td>\n",
       "      <td>202201</td>\n",
       "      <td>100</td>\n",
       "      <td>NaN</td>\n",
       "      <td>NaN</td>\n",
       "      <td>NaN</td>\n",
       "      <td>1.526365e+04</td>\n",
       "      <td>-16281</td>\n",
       "      <td>2.0</td>\n",
       "      <td>2.0</td>\n",
       "      <td>...</td>\n",
       "      <td>NaN</td>\n",
       "      <td>NaN</td>\n",
       "      <td>NaN</td>\n",
       "      <td>NaN</td>\n",
       "      <td>NaN</td>\n",
       "      <td>NaN</td>\n",
       "      <td>NaN</td>\n",
       "      <td>NaN</td>\n",
       "      <td>2021</td>\n",
       "      <td>27</td>\n",
       "    </tr>\n",
       "    <tr>\n",
       "      <th>6</th>\n",
       "      <td>57552</td>\n",
       "      <td>202201</td>\n",
       "      <td>100</td>\n",
       "      <td>NaN</td>\n",
       "      <td>NaN</td>\n",
       "      <td>NaN</td>\n",
       "      <td>7.470318e+05</td>\n",
       "      <td>-23768</td>\n",
       "      <td>2.0</td>\n",
       "      <td>2.0</td>\n",
       "      <td>...</td>\n",
       "      <td>NaN</td>\n",
       "      <td>NaN</td>\n",
       "      <td>NaN</td>\n",
       "      <td>NaN</td>\n",
       "      <td>NaN</td>\n",
       "      <td>NaN</td>\n",
       "      <td>NaN</td>\n",
       "      <td>NaN</td>\n",
       "      <td>2020</td>\n",
       "      <td>27</td>\n",
       "    </tr>\n",
       "    <tr>\n",
       "      <th>7</th>\n",
       "      <td>57630</td>\n",
       "      <td>202201</td>\n",
       "      <td>100</td>\n",
       "      <td>NaN</td>\n",
       "      <td>NaN</td>\n",
       "      <td>NaN</td>\n",
       "      <td>4.999750e+05</td>\n",
       "      <td>-19767</td>\n",
       "      <td>1.0</td>\n",
       "      <td>2.0</td>\n",
       "      <td>...</td>\n",
       "      <td>0.0</td>\n",
       "      <td>0.000000</td>\n",
       "      <td>0.0</td>\n",
       "      <td>0.000000</td>\n",
       "      <td>NaN</td>\n",
       "      <td>NaN</td>\n",
       "      <td>NaN</td>\n",
       "      <td>NaN</td>\n",
       "      <td>2021</td>\n",
       "      <td>16</td>\n",
       "    </tr>\n",
       "    <tr>\n",
       "      <th>8</th>\n",
       "      <td>57632</td>\n",
       "      <td>202201</td>\n",
       "      <td>100</td>\n",
       "      <td>NaN</td>\n",
       "      <td>NaN</td>\n",
       "      <td>NaN</td>\n",
       "      <td>1.767700e+04</td>\n",
       "      <td>-23107</td>\n",
       "      <td>1.0</td>\n",
       "      <td>2.0</td>\n",
       "      <td>...</td>\n",
       "      <td>0.0</td>\n",
       "      <td>NaN</td>\n",
       "      <td>0.0</td>\n",
       "      <td>NaN</td>\n",
       "      <td>0.0</td>\n",
       "      <td>NaN</td>\n",
       "      <td>0.0</td>\n",
       "      <td>NaN</td>\n",
       "      <td>2022</td>\n",
       "      <td>5</td>\n",
       "    </tr>\n",
       "    <tr>\n",
       "      <th>9</th>\n",
       "      <td>57549</td>\n",
       "      <td>202201</td>\n",
       "      <td>100</td>\n",
       "      <td>NaN</td>\n",
       "      <td>NaN</td>\n",
       "      <td>NaN</td>\n",
       "      <td>1.563078e+06</td>\n",
       "      <td>-22723</td>\n",
       "      <td>6.0</td>\n",
       "      <td>9.0</td>\n",
       "      <td>...</td>\n",
       "      <td>NaN</td>\n",
       "      <td>NaN</td>\n",
       "      <td>NaN</td>\n",
       "      <td>NaN</td>\n",
       "      <td>NaN</td>\n",
       "      <td>NaN</td>\n",
       "      <td>NaN</td>\n",
       "      <td>NaN</td>\n",
       "      <td>2022</td>\n",
       "      <td>17</td>\n",
       "    </tr>\n",
       "  </tbody>\n",
       "</table>\n",
       "<p>10 rows × 471 columns</p>\n",
       "</div>"
      ],
      "text/plain": [
       "   case_id   month  week_num  assignmentdate_238D  assignmentdate_4527235D  \\\n",
       "0    57633  202201       100                  NaN                      NaN   \n",
       "1    57551  202201       100                  NaN                      NaN   \n",
       "2    57569  202201       100                  NaN                      NaN   \n",
       "3    57543  202201       100                  NaN                      NaN   \n",
       "4    57631  202201       100                  NaN                      NaN   \n",
       "5    57634  202201       100                  NaN                      NaN   \n",
       "6    57552  202201       100                  NaN                      NaN   \n",
       "7    57630  202201       100                  NaN                      NaN   \n",
       "8    57632  202201       100                  NaN                      NaN   \n",
       "9    57549  202201       100                  NaN                      NaN   \n",
       "\n",
       "   birthdate_574D  contractssum_5085716L  dateofbirth_337D  days120_123L  \\\n",
       "0             NaN           6.373008e+06            -10496           3.0   \n",
       "1             NaN           2.926195e+06            -14090           1.0   \n",
       "2             NaN                    NaN            -26408           4.0   \n",
       "3             NaN           1.513640e+05            -14804           2.0   \n",
       "4             NaN           4.803345e+05            -12999           0.0   \n",
       "5             NaN           1.526365e+04            -16281           2.0   \n",
       "6             NaN           7.470318e+05            -23768           2.0   \n",
       "7             NaN           4.999750e+05            -19767           1.0   \n",
       "8             NaN           1.767700e+04            -23107           1.0   \n",
       "9             NaN           1.563078e+06            -22723           6.0   \n",
       "\n",
       "   days180_256L  ...  mean_pmts_dpd_1073P  mean_pmts_dpd_303P  \\\n",
       "0           3.0  ...                  0.0            0.000000   \n",
       "1           3.0  ...                  NaN                 NaN   \n",
       "2           4.0  ...                  NaN         2328.571533   \n",
       "3           4.0  ...                  0.0                 NaN   \n",
       "4           0.0  ...                  0.0            0.000000   \n",
       "5           2.0  ...                  NaN                 NaN   \n",
       "6           2.0  ...                  NaN                 NaN   \n",
       "7           2.0  ...                  0.0            0.000000   \n",
       "8           2.0  ...                  0.0                 NaN   \n",
       "9           9.0  ...                  NaN                 NaN   \n",
       "\n",
       "   mean_pmts_overdue_1140A mean_pmts_overdue_1152A var_pmts_dpd_1073P  \\\n",
       "0                      0.0                0.000000                NaN   \n",
       "1                      NaN                     NaN                NaN   \n",
       "2                      NaN            33346.402344                NaN   \n",
       "3                      0.0                     NaN                NaN   \n",
       "4                      0.0                0.000000                0.0   \n",
       "5                      NaN                     NaN                NaN   \n",
       "6                      NaN                     NaN                NaN   \n",
       "7                      0.0                0.000000                NaN   \n",
       "8                      0.0                     NaN                0.0   \n",
       "9                      NaN                     NaN                NaN   \n",
       "\n",
       "  var_pmts_dpd_303P  var_pmts_overdue_1140A  var_pmts_overdue_1152A  year day  \n",
       "0          0.000000                     0.0                     0.0  2022  25  \n",
       "1               NaN                     NaN                     NaN  2020  27  \n",
       "2       3341.619141                     NaN                     0.0  2021  20  \n",
       "3               NaN                     NaN                     NaN  2021  14  \n",
       "4          0.000000                     0.0                     0.0  2022   4  \n",
       "5               NaN                     NaN                     NaN  2021  27  \n",
       "6               NaN                     NaN                     NaN  2020  27  \n",
       "7               NaN                     NaN                     NaN  2021  16  \n",
       "8               NaN                     0.0                     NaN  2022   5  \n",
       "9               NaN                     NaN                     NaN  2022  17  \n",
       "\n",
       "[10 rows x 471 columns]"
      ]
     },
     "execution_count": 9,
     "metadata": {},
     "output_type": "execute_result"
    }
   ],
   "source": [
    "test_df"
   ]
  },
  {
   "cell_type": "markdown",
   "id": "07ea73ef",
   "metadata": {
    "papermill": {
     "duration": 0.008662,
     "end_time": "2024-05-19T05:17:45.138982",
     "exception": false,
     "start_time": "2024-05-19T05:17:45.130320",
     "status": "completed"
    },
    "tags": []
   },
   "source": [
    "### Inference"
   ]
  },
  {
   "cell_type": "code",
   "execution_count": 10,
   "id": "b1bcbbe0",
   "metadata": {
    "execution": {
     "iopub.execute_input": "2024-05-19T05:17:45.156737Z",
     "iopub.status.busy": "2024-05-19T05:17:45.156464Z",
     "iopub.status.idle": "2024-05-19T05:17:45.216791Z",
     "shell.execute_reply": "2024-05-19T05:17:45.215957Z"
    },
    "papermill": {
     "duration": 0.071174,
     "end_time": "2024-05-19T05:17:45.218827",
     "exception": false,
     "start_time": "2024-05-19T05:17:45.147653",
     "status": "completed"
    },
    "tags": []
   },
   "outputs": [
    {
     "data": {
      "text/html": [
       "<div>\n",
       "<style scoped>\n",
       "    .dataframe tbody tr th:only-of-type {\n",
       "        vertical-align: middle;\n",
       "    }\n",
       "\n",
       "    .dataframe tbody tr th {\n",
       "        vertical-align: top;\n",
       "    }\n",
       "\n",
       "    .dataframe thead th {\n",
       "        text-align: right;\n",
       "    }\n",
       "</style>\n",
       "<table border=\"1\" class=\"dataframe\">\n",
       "  <thead>\n",
       "    <tr style=\"text-align: right;\">\n",
       "      <th></th>\n",
       "      <th>score</th>\n",
       "    </tr>\n",
       "    <tr>\n",
       "      <th>case_id</th>\n",
       "      <th></th>\n",
       "    </tr>\n",
       "  </thead>\n",
       "  <tbody>\n",
       "    <tr>\n",
       "      <th>57633</th>\n",
       "      <td>0.1</td>\n",
       "    </tr>\n",
       "    <tr>\n",
       "      <th>57551</th>\n",
       "      <td>0.1</td>\n",
       "    </tr>\n",
       "    <tr>\n",
       "      <th>57569</th>\n",
       "      <td>0.1</td>\n",
       "    </tr>\n",
       "    <tr>\n",
       "      <th>57543</th>\n",
       "      <td>0.1</td>\n",
       "    </tr>\n",
       "    <tr>\n",
       "      <th>57631</th>\n",
       "      <td>0.1</td>\n",
       "    </tr>\n",
       "    <tr>\n",
       "      <th>57634</th>\n",
       "      <td>0.1</td>\n",
       "    </tr>\n",
       "    <tr>\n",
       "      <th>57552</th>\n",
       "      <td>0.1</td>\n",
       "    </tr>\n",
       "    <tr>\n",
       "      <th>57630</th>\n",
       "      <td>0.1</td>\n",
       "    </tr>\n",
       "    <tr>\n",
       "      <th>57632</th>\n",
       "      <td>0.1</td>\n",
       "    </tr>\n",
       "    <tr>\n",
       "      <th>57549</th>\n",
       "      <td>0.1</td>\n",
       "    </tr>\n",
       "  </tbody>\n",
       "</table>\n",
       "</div>"
      ],
      "text/plain": [
       "         score\n",
       "case_id       \n",
       "57633      0.1\n",
       "57551      0.1\n",
       "57569      0.1\n",
       "57543      0.1\n",
       "57631      0.1\n",
       "57634      0.1\n",
       "57552      0.1\n",
       "57630      0.1\n",
       "57632      0.1\n",
       "57549      0.1"
      ]
     },
     "execution_count": 10,
     "metadata": {},
     "output_type": "execute_result"
    }
   ],
   "source": [
    "X_test = test_df.drop(columns=[\"week_num\"]).set_index(\"case_id\")\n",
    "X_test[cat_cols] = X_test[cat_cols].astype(\"category\")\n",
    "# X_test[cat_cols] = X_test[cat_cols].apply(lambda x: x.cat.add_categories(['NaN']).fillna('NaN'))\n",
    "\n",
    "# preds = pd.Series(loaded_model.predict_proba(X_test)[:, 1], index=test_df.index)\n",
    "\n",
    "submission_df = pd.DataFrame(index=X_test.index)\n",
    "# submission_df[\"score\"] = preds\n",
    "submission_df[\"score\"] = 0.1\n",
    "\n",
    "# Metric Hack\n",
    "# https://www.kaggle.com/code/a520hh/fork-of-this-is-the-way/notebook\n",
    "# condition = preds < 0.98\n",
    "# submission_df.loc[condition, \"score\"] = (submission_df.loc[condition, \"score\"] - 0.073).clip(0)\n",
    "\n",
    "submission_df"
   ]
  },
  {
   "cell_type": "code",
   "execution_count": 11,
   "id": "43597fd8",
   "metadata": {
    "execution": {
     "iopub.execute_input": "2024-05-19T05:17:45.237137Z",
     "iopub.status.busy": "2024-05-19T05:17:45.236850Z",
     "iopub.status.idle": "2024-05-19T05:17:45.243031Z",
     "shell.execute_reply": "2024-05-19T05:17:45.242197Z"
    },
    "papermill": {
     "duration": 0.016934,
     "end_time": "2024-05-19T05:17:45.244848",
     "exception": false,
     "start_time": "2024-05-19T05:17:45.227914",
     "status": "completed"
    },
    "tags": []
   },
   "outputs": [],
   "source": [
    "submission_df.to_csv(\"submission.csv\")"
   ]
  },
  {
   "cell_type": "code",
   "execution_count": null,
   "id": "c692a4ea",
   "metadata": {
    "papermill": {
     "duration": 0.008068,
     "end_time": "2024-05-19T05:17:45.261163",
     "exception": false,
     "start_time": "2024-05-19T05:17:45.253095",
     "status": "completed"
    },
    "tags": []
   },
   "outputs": [],
   "source": []
  }
 ],
 "metadata": {
  "kaggle": {
   "accelerator": "gpu",
   "dataSources": [
    {
     "databundleVersionId": 7921029,
     "sourceId": 50160,
     "sourceType": "competition"
    },
    {
     "datasetId": 5038079,
     "sourceId": 8453472,
     "sourceType": "datasetVersion"
    },
    {
     "datasetId": 5038176,
     "sourceId": 8454976,
     "sourceType": "datasetVersion"
    }
   ],
   "dockerImageVersionId": 30699,
   "isGpuEnabled": true,
   "isInternetEnabled": false,
   "language": "python",
   "sourceType": "notebook"
  },
  "kernelspec": {
   "display_name": "Python 3",
   "language": "python",
   "name": "python3"
  },
  "language_info": {
   "codemirror_mode": {
    "name": "ipython",
    "version": 3
   },
   "file_extension": ".py",
   "mimetype": "text/x-python",
   "name": "python",
   "nbconvert_exporter": "python",
   "pygments_lexer": "ipython3",
   "version": "3.10.13"
  },
  "papermill": {
   "default_parameters": {},
   "duration": 173.067634,
   "end_time": "2024-05-19T05:17:46.090375",
   "environment_variables": {},
   "exception": null,
   "input_path": "__notebook__.ipynb",
   "output_path": "__notebook__.ipynb",
   "parameters": {},
   "start_time": "2024-05-19T05:14:53.022741",
   "version": "2.5.0"
  }
 },
 "nbformat": 4,
 "nbformat_minor": 5
}
