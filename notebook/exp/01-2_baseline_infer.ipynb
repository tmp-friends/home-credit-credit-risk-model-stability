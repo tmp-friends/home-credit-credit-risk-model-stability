{
 "cells": [
  {
   "cell_type": "markdown",
   "id": "c85592b4",
   "metadata": {
    "papermill": {
     "duration": 0.00571,
     "end_time": "2024-05-19T00:31:05.584846",
     "exception": false,
     "start_time": "2024-05-19T00:31:05.579136",
     "status": "completed"
    },
    "tags": []
   },
   "source": [
    "## Baseline - Infer\n",
    "\n",
    "※ Kaggle notebookのみで動かす\n",
    "\n",
    "https://www.kaggle.com/code/pxcai666/catboost-lightgbm-ensemble/notebook"
   ]
  },
  {
   "cell_type": "markdown",
   "id": "a04ff0ca",
   "metadata": {
    "papermill": {
     "duration": 0.004711,
     "end_time": "2024-05-19T00:31:05.594983",
     "exception": false,
     "start_time": "2024-05-19T00:31:05.590272",
     "status": "completed"
    },
    "tags": []
   },
   "source": [
    "### Configuration"
   ]
  },
  {
   "cell_type": "code",
   "execution_count": 1,
   "id": "6e4cc142",
   "metadata": {
    "execution": {
     "iopub.execute_input": "2024-05-19T00:31:05.606103Z",
     "iopub.status.busy": "2024-05-19T00:31:05.605777Z",
     "iopub.status.idle": "2024-05-19T00:31:11.540346Z",
     "shell.execute_reply": "2024-05-19T00:31:11.539386Z"
    },
    "papermill": {
     "duration": 5.942863,
     "end_time": "2024-05-19T00:31:11.542693",
     "exception": false,
     "start_time": "2024-05-19T00:31:05.599830",
     "status": "completed"
    },
    "tags": []
   },
   "outputs": [],
   "source": [
    "import sys\n",
    "from pathlib import Path\n",
    "import subprocess\n",
    "import os\n",
    "import gc\n",
    "from glob import glob\n",
    "import pickle\n",
    "\n",
    "import numpy as np\n",
    "import pandas as pd\n",
    "import polars as pl\n",
    "from datetime import datetime\n",
    "import seaborn as sns\n",
    "import matplotlib.pyplot as plt\n",
    "\n",
    "from sklearn.model_selection import TimeSeriesSplit, GroupKFold, StratifiedGroupKFold\n",
    "from sklearn.base import BaseEstimator, RegressorMixin\n",
    "from sklearn.metrics import roc_auc_score\n",
    "from catboost import CatBoostClassifier, Pool\n",
    "import lightgbm as lgb\n",
    "\n",
    "from imblearn.over_sampling import SMOTE\n",
    "from sklearn.preprocessing import OrdinalEncoder\n",
    "from sklearn.impute import KNNImputer"
   ]
  },
  {
   "cell_type": "code",
   "execution_count": 2,
   "id": "8723da11",
   "metadata": {
    "execution": {
     "iopub.execute_input": "2024-05-19T00:31:11.554646Z",
     "iopub.status.busy": "2024-05-19T00:31:11.553886Z",
     "iopub.status.idle": "2024-05-19T00:31:11.558083Z",
     "shell.execute_reply": "2024-05-19T00:31:11.557225Z"
    },
    "papermill": {
     "duration": 0.011952,
     "end_time": "2024-05-19T00:31:11.559990",
     "exception": false,
     "start_time": "2024-05-19T00:31:11.548038",
     "status": "completed"
    },
    "tags": []
   },
   "outputs": [],
   "source": [
    "# Kaggle\n",
    "sys.path.append('/kaggle/input/home-credit-crms-repo')"
   ]
  },
  {
   "cell_type": "code",
   "execution_count": 3,
   "id": "34f0f807",
   "metadata": {
    "execution": {
     "iopub.execute_input": "2024-05-19T00:31:11.570689Z",
     "iopub.status.busy": "2024-05-19T00:31:11.570413Z",
     "iopub.status.idle": "2024-05-19T00:31:11.575515Z",
     "shell.execute_reply": "2024-05-19T00:31:11.574858Z"
    },
    "papermill": {
     "duration": 0.012484,
     "end_time": "2024-05-19T00:31:11.577336",
     "exception": false,
     "start_time": "2024-05-19T00:31:11.564852",
     "status": "completed"
    },
    "tags": []
   },
   "outputs": [],
   "source": [
    "ROOT = \"/kaggle/input/home-credit-credit-risk-model-stability\"\n",
    "\n",
    "TRAIN_DIR = os.path.join(ROOT, \"parquet_files\", \"train\")\n",
    "TEST_DIR = os.path.join(ROOT, \"parquet_files\", \"test\")"
   ]
  },
  {
   "cell_type": "markdown",
   "id": "99271982",
   "metadata": {
    "papermill": {
     "duration": 0.004611,
     "end_time": "2024-05-19T00:31:11.586828",
     "exception": false,
     "start_time": "2024-05-19T00:31:11.582217",
     "status": "completed"
    },
    "tags": []
   },
   "source": [
    "### Def utility classes"
   ]
  },
  {
   "cell_type": "code",
   "execution_count": 4,
   "id": "d768f6b5",
   "metadata": {
    "execution": {
     "iopub.execute_input": "2024-05-19T00:31:11.597562Z",
     "iopub.status.busy": "2024-05-19T00:31:11.597292Z",
     "iopub.status.idle": "2024-05-19T00:31:11.634578Z",
     "shell.execute_reply": "2024-05-19T00:31:11.633903Z"
    },
    "papermill": {
     "duration": 0.044714,
     "end_time": "2024-05-19T00:31:11.636389",
     "exception": false,
     "start_time": "2024-05-19T00:31:11.591675",
     "status": "completed"
    },
    "tags": []
   },
   "outputs": [],
   "source": [
    "from src.utils.utility import Utility\n",
    "from src.utils.schema_gen import SchemaGen\n",
    "from src.utils.pipeline import Pipeline\n",
    "from src.utils.aggregator import Aggregator"
   ]
  },
  {
   "cell_type": "markdown",
   "id": "584982ea",
   "metadata": {
    "papermill": {
     "duration": 0.004645,
     "end_time": "2024-05-19T00:31:11.645988",
     "exception": false,
     "start_time": "2024-05-19T00:31:11.641343",
     "status": "completed"
    },
    "tags": []
   },
   "source": [
    "### Read train data"
   ]
  },
  {
   "cell_type": "code",
   "execution_count": 5,
   "id": "ae8f38e7",
   "metadata": {
    "execution": {
     "iopub.execute_input": "2024-05-19T00:31:11.657124Z",
     "iopub.status.busy": "2024-05-19T00:31:11.656425Z",
     "iopub.status.idle": "2024-05-19T00:33:28.395762Z",
     "shell.execute_reply": "2024-05-19T00:33:28.394889Z"
    },
    "papermill": {
     "duration": 136.747657,
     "end_time": "2024-05-19T00:33:28.398479",
     "exception": false,
     "start_time": "2024-05-19T00:31:11.650822",
     "status": "completed"
    },
    "tags": []
   },
   "outputs": [
    {
     "name": "stdout",
     "output_type": "stream",
     "text": [
      "File train_base loaded into memory.\n",
      "File train_static_cb_0 loaded into memory.\n",
      "File train_static_0_0 loaded into memory.\n",
      "File train_static_0_1 loaded into memory.\n",
      "File train_applprev_1_1 loaded into memory.\n",
      "File train_applprev_1_0 loaded into memory.\n",
      "File train_tax_registry_a_1 loaded into memory.\n",
      "File train_tax_registry_b_1 loaded into memory.\n",
      "File train_tax_registry_c_1 loaded into memory.\n",
      "File train_credit_bureau_a_1_3 loaded into memory.\n",
      "File train_credit_bureau_a_1_2 loaded into memory.\n",
      "File train_credit_bureau_a_1_0 loaded into memory.\n",
      "File train_credit_bureau_a_1_1 loaded into memory.\n",
      "File train_credit_bureau_b_1 loaded into memory.\n",
      "File train_other_1 loaded into memory.\n",
      "File train_person_1 loaded into memory.\n",
      "File train_deposit_1 loaded into memory.\n",
      "File train_debitcard_1 loaded into memory.\n",
      "File train_credit_bureau_a_2_6 loaded into memory.\n",
      "File train_credit_bureau_a_2_1 loaded into memory.\n",
      "File train_credit_bureau_a_2_0 loaded into memory.\n",
      "File train_credit_bureau_a_2_7 loaded into memory.\n",
      "File train_credit_bureau_a_2_5 loaded into memory.\n",
      "File train_credit_bureau_a_2_2 loaded into memory.\n",
      "File train_credit_bureau_a_2_4 loaded into memory.\n",
      "File train_credit_bureau_a_2_9 loaded into memory.\n",
      "File train_credit_bureau_a_2_3 loaded into memory.\n",
      "File train_credit_bureau_a_2_10 loaded into memory.\n",
      "File train_credit_bureau_a_2_8 loaded into memory.\n",
      "File train_credit_bureau_b_2 loaded into memory.\n",
      "Memory usage of dataframe \"train_df\" is 6783.1317 MB.\n",
      "Memory usage of dataframe \"train_df\" became 4174.0953 MB.\n",
      "Memory usage of dataframe \"train_df\" is 2870.9171 MB.\n",
      "Memory usage of dataframe \"train_df\" became 2665.6302 MB.\n",
      "Train data shape: (1526659, 472)\n"
     ]
    },
    {
     "data": {
      "text/html": [
       "<div><style>\n",
       ".dataframe > thead > tr,\n",
       ".dataframe > tbody > tr {\n",
       "  text-align: right;\n",
       "  white-space: pre-wrap;\n",
       "}\n",
       "</style>\n",
       "<small>shape: (10, 472)</small><table border=\"1\" class=\"dataframe\"><thead><tr><th>case_id</th><th>month</th><th>week_num</th><th>target</th><th>assignmentdate_238D</th><th>assignmentdate_4527235D</th><th>birthdate_574D</th><th>contractssum_5085716L</th><th>dateofbirth_337D</th><th>days120_123L</th><th>days180_256L</th><th>days30_165L</th><th>days360_512L</th><th>days90_310L</th><th>description_5085714M</th><th>education_1103M</th><th>education_88M</th><th>firstquarter_103L</th><th>fourthquarter_440L</th><th>maritalst_385M</th><th>maritalst_893M</th><th>numberofqueries_373L</th><th>pmtaverage_3A</th><th>pmtaverage_4527227A</th><th>pmtcount_4527229L</th><th>pmtcount_693L</th><th>pmtscount_423L</th><th>pmtssum_45A</th><th>requesttype_4525192L</th><th>responsedate_1012D</th><th>responsedate_4527233D</th><th>responsedate_4917613D</th><th>secondquarter_766L</th><th>thirdquarter_1082L</th><th>actualdpdtolerance_344P</th><th>amtinstpaidbefduel24m_4187115A</th><th>annuity_780A</th><th>&hellip;</th><th>mean_mainoccupationinc_384A</th><th>max_amount_416A</th><th>max_num_group1_10</th><th>max_openingdate_313D</th><th>mean_amount_416A</th><th>mean_openingdate_313D</th><th>max_num_group1_11</th><th>max_openingdate_857D</th><th>mean_openingdate_857D</th><th>max_collater_typofvalofguarant_298M</th><th>max_collater_typofvalofguarant_407M</th><th>max_collater_valueofguarantee_1124L</th><th>max_collater_valueofguarantee_876L</th><th>max_collaterals_typeofguarante_359M</th><th>max_collaterals_typeofguarante_669M</th><th>max_num_group1_12</th><th>max_num_group2</th><th>max_pmts_dpd_1073P</th><th>max_pmts_dpd_303P</th><th>max_pmts_month_158T</th><th>max_pmts_month_706T</th><th>max_pmts_overdue_1140A</th><th>max_pmts_overdue_1152A</th><th>max_pmts_year_1139T</th><th>max_pmts_year_507T</th><th>max_subjectroles_name_541M</th><th>max_subjectroles_name_838M</th><th>mean_pmts_dpd_1073P</th><th>mean_pmts_dpd_303P</th><th>mean_pmts_overdue_1140A</th><th>mean_pmts_overdue_1152A</th><th>var_pmts_dpd_1073P</th><th>var_pmts_dpd_303P</th><th>var_pmts_overdue_1140A</th><th>var_pmts_overdue_1152A</th><th>year</th><th>day</th></tr><tr><td>u32</td><td>u32</td><td>u8</td><td>u8</td><td>i16</td><td>u8</td><td>i16</td><td>f32</td><td>i32</td><td>f32</td><td>f32</td><td>f32</td><td>f32</td><td>f32</td><td>str</td><td>str</td><td>str</td><td>f32</td><td>f32</td><td>str</td><td>str</td><td>f32</td><td>f32</td><td>f32</td><td>f32</td><td>f32</td><td>f32</td><td>f32</td><td>str</td><td>i8</td><td>u8</td><td>i8</td><td>f32</td><td>f32</td><td>f32</td><td>f32</td><td>f32</td><td>&hellip;</td><td>f32</td><td>f32</td><td>u8</td><td>i16</td><td>f32</td><td>i16</td><td>u8</td><td>i16</td><td>i16</td><td>str</td><td>str</td><td>f32</td><td>f32</td><td>str</td><td>str</td><td>u16</td><td>u8</td><td>f32</td><td>f32</td><td>f32</td><td>f32</td><td>f32</td><td>f32</td><td>f32</td><td>f32</td><td>str</td><td>str</td><td>f32</td><td>f32</td><td>f32</td><td>f32</td><td>f32</td><td>f32</td><td>f32</td><td>f32</td><td>u16</td><td>u8</td></tr></thead><tbody><tr><td>1629791</td><td>201911</td><td>45</td><td>0</td><td>null</td><td>null</td><td>null</td><td>null</td><td>-12585</td><td>2.0</td><td>2.0</td><td>1.0</td><td>3.0</td><td>2.0</td><td>&quot;a55475b1&quot;</td><td>&quot;6b2ae0fa&quot;</td><td>&quot;a55475b1&quot;</td><td>1.0</td><td>2.0</td><td>&quot;3439d993&quot;</td><td>&quot;a55475b1&quot;</td><td>3.0</td><td>null</td><td>null</td><td>null</td><td>null</td><td>null</td><td>null</td><td>&quot;DEDUCTION_6&quot;</td><td>null</td><td>14</td><td>null</td><td>0.0</td><td>1.0</td><td>0.0</td><td>83261.445312</td><td>1040.800049</td><td>&hellip;</td><td>40000.0</td><td>null</td><td>null</td><td>null</td><td>null</td><td>null</td><td>null</td><td>null</td><td>null</td><td>&quot;a55475b1&quot;</td><td>&quot;a55475b1&quot;</td><td>0.0</td><td>0.0</td><td>&quot;c7a5ad39&quot;</td><td>&quot;c7a5ad39&quot;</td><td>4</td><td>23</td><td>0.0</td><td>0.0</td><td>12.0</td><td>12.0</td><td>0.0</td><td>0.4</td><td>2020.0</td><td>2020.0</td><td>&quot;ab3c25cf&quot;</td><td>&quot;ab3c25cf&quot;</td><td>0.0</td><td>0.0</td><td>0.0</td><td>0.008511</td><td>0.0</td><td>0.0</td><td>0.0</td><td>0.003404</td><td>2019</td><td>15</td></tr><tr><td>1779974</td><td>202002</td><td>57</td><td>0</td><td>null</td><td>null</td><td>null</td><td>null</td><td>-10965</td><td>0.0</td><td>2.0</td><td>0.0</td><td>4.0</td><td>0.0</td><td>&quot;a55475b1&quot;</td><td>&quot;6b2ae0fa&quot;</td><td>&quot;a55475b1&quot;</td><td>2.0</td><td>3.0</td><td>&quot;a7fcb6e5&quot;</td><td>&quot;a55475b1&quot;</td><td>4.0</td><td>null</td><td>null</td><td>null</td><td>null</td><td>null</td><td>null</td><td>&quot;DEDUCTION_6&quot;</td><td>null</td><td>14</td><td>null</td><td>4.0</td><td>9.0</td><td>0.0</td><td>66516.601562</td><td>11498.200195</td><td>&hellip;</td><td>40000.0</td><td>null</td><td>null</td><td>null</td><td>null</td><td>null</td><td>null</td><td>null</td><td>null</td><td>&quot;a55475b1&quot;</td><td>&quot;a55475b1&quot;</td><td>0.0</td><td>0.0</td><td>&quot;c7a5ad39&quot;</td><td>&quot;c7a5ad39&quot;</td><td>7</td><td>35</td><td>0.0</td><td>7.0</td><td>12.0</td><td>12.0</td><td>0.0</td><td>3470.800049</td><td>2021.0</td><td>2020.0</td><td>&quot;ab3c25cf&quot;</td><td>&quot;ab3c25cf&quot;</td><td>0.0</td><td>0.262712</td><td>0.0</td><td>134.957672</td><td>0.0</td><td>1.460307</td><td>0.0</td><td>413279.34375</td><td>2020</td><td>9</td></tr><tr><td>773401</td><td>201908</td><td>32</td><td>0</td><td>null</td><td>null</td><td>-12038</td><td>null</td><td>-12038</td><td>1.0</td><td>2.0</td><td>0.0</td><td>2.0</td><td>0.0</td><td>&quot;a55475b1&quot;</td><td>&quot;6b2ae0fa&quot;</td><td>&quot;a55475b1&quot;</td><td>4.0</td><td>0.0</td><td>&quot;a7fcb6e5&quot;</td><td>&quot;a55475b1&quot;</td><td>2.0</td><td>null</td><td>null</td><td>null</td><td>null</td><td>6.0</td><td>34567.902344</td><td>null</td><td>14</td><td>null</td><td>null</td><td>4.0</td><td>0.0</td><td>null</td><td>null</td><td>1744.0</td><td>&hellip;</td><td>40000.0</td><td>null</td><td>null</td><td>null</td><td>null</td><td>null</td><td>null</td><td>null</td><td>null</td><td>&quot;a55475b1&quot;</td><td>&quot;a55475b1&quot;</td><td>0.0</td><td>0.0</td><td>&quot;c7a5ad39&quot;</td><td>&quot;c7a5ad39&quot;</td><td>1</td><td>35</td><td>0.0</td><td>0.0</td><td>12.0</td><td>12.0</td><td>0.0</td><td>0.0</td><td>2020.0</td><td>2020.0</td><td>&quot;ab3c25cf&quot;</td><td>&quot;ab3c25cf&quot;</td><td>0.0</td><td>0.0</td><td>0.0</td><td>0.0</td><td>0.0</td><td>0.0</td><td>0.0</td><td>0.0</td><td>2019</td><td>17</td></tr><tr><td>872890</td><td>201911</td><td>46</td><td>0</td><td>null</td><td>null</td><td>null</td><td>null</td><td>-8331</td><td>0.0</td><td>0.0</td><td>0.0</td><td>0.0</td><td>0.0</td><td>&quot;a55475b1&quot;</td><td>&quot;a55475b1&quot;</td><td>&quot;a55475b1&quot;</td><td>0.0</td><td>0.0</td><td>&quot;a55475b1&quot;</td><td>&quot;a55475b1&quot;</td><td>0.0</td><td>null</td><td>null</td><td>null</td><td>null</td><td>null</td><td>null</td><td>&quot;DEDUCTION_6&quot;</td><td>null</td><td>14</td><td>null</td><td>0.0</td><td>0.0</td><td>null</td><td>null</td><td>1714.599976</td><td>&hellip;</td><td>30000.0</td><td>null</td><td>null</td><td>null</td><td>null</td><td>null</td><td>null</td><td>null</td><td>null</td><td>&quot;a55475b1&quot;</td><td>&quot;a55475b1&quot;</td><td>0.0</td><td>null</td><td>&quot;a55475b1&quot;</td><td>&quot;c7a5ad39&quot;</td><td>0</td><td>11</td><td>0.0</td><td>null</td><td>12.0</td><td>null</td><td>0.0</td><td>null</td><td>2020.0</td><td>null</td><td>&quot;a55475b1&quot;</td><td>&quot;ab3c25cf&quot;</td><td>0.0</td><td>null</td><td>0.0</td><td>null</td><td>0.0</td><td>null</td><td>0.0</td><td>null</td><td>2019</td><td>24</td></tr><tr><td>757264</td><td>201907</td><td>30</td><td>1</td><td>null</td><td>null</td><td>-12539</td><td>null</td><td>-12539</td><td>3.0</td><td>3.0</td><td>1.0</td><td>3.0</td><td>3.0</td><td>&quot;a55475b1&quot;</td><td>&quot;a55475b1&quot;</td><td>&quot;a55475b1&quot;</td><td>0.0</td><td>0.0</td><td>&quot;a55475b1&quot;</td><td>&quot;a55475b1&quot;</td><td>3.0</td><td>null</td><td>null</td><td>null</td><td>null</td><td>null</td><td>null</td><td>null</td><td>14</td><td>null</td><td>null</td><td>2.0</td><td>1.0</td><td>null</td><td>null</td><td>4136.200195</td><td>&hellip;</td><td>60000.0</td><td>null</td><td>null</td><td>null</td><td>null</td><td>null</td><td>null</td><td>null</td><td>null</td><td>&quot;a55475b1&quot;</td><td>&quot;a55475b1&quot;</td><td>0.0</td><td>null</td><td>&quot;a55475b1&quot;</td><td>&quot;c7a5ad39&quot;</td><td>1</td><td>11</td><td>0.0</td><td>null</td><td>12.0</td><td>null</td><td>0.0</td><td>null</td><td>2020.0</td><td>null</td><td>&quot;a55475b1&quot;</td><td>&quot;ab3c25cf&quot;</td><td>0.0</td><td>null</td><td>0.0</td><td>null</td><td>0.0</td><td>null</td><td>0.0</td><td>null</td><td>2019</td><td>31</td></tr><tr><td>2575627</td><td>201905</td><td>20</td><td>0</td><td>null</td><td>null</td><td>-16395</td><td>null</td><td>-16395</td><td>1.0</td><td>3.0</td><td>0.0</td><td>13.0</td><td>1.0</td><td>&quot;a55475b1&quot;</td><td>&quot;6b2ae0fa&quot;</td><td>&quot;a55475b1&quot;</td><td>8.0</td><td>7.0</td><td>&quot;3439d993&quot;</td><td>&quot;a55475b1&quot;</td><td>13.0</td><td>null</td><td>null</td><td>null</td><td>null</td><td>6.0</td><td>25549.398438</td><td>null</td><td>14</td><td>null</td><td>null</td><td>11.0</td><td>8.0</td><td>0.0</td><td>89074.234375</td><td>12761.600586</td><td>&hellip;</td><td>106000.0</td><td>null</td><td>null</td><td>null</td><td>null</td><td>null</td><td>null</td><td>null</td><td>null</td><td>&quot;a55475b1&quot;</td><td>&quot;a55475b1&quot;</td><td>0.0</td><td>null</td><td>&quot;a55475b1&quot;</td><td>&quot;c7a5ad39&quot;</td><td>3</td><td>35</td><td>0.0</td><td>null</td><td>12.0</td><td>null</td><td>0.0</td><td>null</td><td>2020.0</td><td>null</td><td>&quot;a55475b1&quot;</td><td>&quot;ab3c25cf&quot;</td><td>0.0</td><td>null</td><td>0.0</td><td>null</td><td>0.0</td><td>null</td><td>0.0</td><td>null</td><td>2019</td><td>21</td></tr><tr><td>242596</td><td>202008</td><td>83</td><td>0</td><td>null</td><td>null</td><td>null</td><td>1.5190e6</td><td>-21736</td><td>9.0</td><td>12.0</td><td>1.0</td><td>21.0</td><td>5.0</td><td>&quot;2fc785b2&quot;</td><td>&quot;717ddd49&quot;</td><td>&quot;a55475b1&quot;</td><td>8.0</td><td>7.0</td><td>&quot;3439d993&quot;</td><td>&quot;a55475b1&quot;</td><td>21.0</td><td>null</td><td>null</td><td>null</td><td>null</td><td>null</td><td>null</td><td>null</td><td>null</td><td>null</td><td>-1</td><td>13.0</td><td>4.0</td><td>0.0</td><td>335842.65625</td><td>2747.800049</td><td>&hellip;</td><td>55200.0</td><td>null</td><td>null</td><td>null</td><td>null</td><td>null</td><td>null</td><td>null</td><td>null</td><td>&quot;a55475b1&quot;</td><td>&quot;a55475b1&quot;</td><td>0.0</td><td>0.0</td><td>&quot;c7a5ad39&quot;</td><td>&quot;c7a5ad39&quot;</td><td>3</td><td>35</td><td>37.0</td><td>66.0</td><td>12.0</td><td>12.0</td><td>6745.575684</td><td>3816.199951</td><td>2021.0</td><td>2020.0</td><td>&quot;ab3c25cf&quot;</td><td>&quot;ab3c25cf&quot;</td><td>0.594203</td><td>4.840909</td><td>175.695648</td><td>622.354553</td><td>20.009378</td><td>204.788055</td><td>1.0631e6</td><td>1.4153e6</td><td>2020</td><td>6</td></tr><tr><td>847342</td><td>201911</td><td>43</td><td>0</td><td>null</td><td>null</td><td>null</td><td>null</td><td>-13334</td><td>6.0</td><td>7.0</td><td>2.0</td><td>15.0</td><td>6.0</td><td>&quot;a55475b1&quot;</td><td>&quot;6b2ae0fa&quot;</td><td>&quot;a55475b1&quot;</td><td>6.0</td><td>3.0</td><td>&quot;3439d993&quot;</td><td>&quot;a55475b1&quot;</td><td>15.0</td><td>null</td><td>null</td><td>null</td><td>null</td><td>null</td><td>null</td><td>&quot;DEDUCTION_6&quot;</td><td>null</td><td>14</td><td>null</td><td>2.0</td><td>4.0</td><td>null</td><td>null</td><td>2936.0</td><td>&hellip;</td><td>30000.0</td><td>null</td><td>null</td><td>null</td><td>null</td><td>null</td><td>null</td><td>null</td><td>null</td><td>&quot;a55475b1&quot;</td><td>&quot;a55475b1&quot;</td><td>0.0</td><td>0.0</td><td>&quot;c7a5ad39&quot;</td><td>&quot;c7a5ad39&quot;</td><td>2</td><td>23</td><td>0.0</td><td>28.0</td><td>12.0</td><td>12.0</td><td>0.0</td><td>1437.514038</td><td>2020.0</td><td>2020.0</td><td>&quot;ab3c25cf&quot;</td><td>&quot;ab3c25cf&quot;</td><td>0.0</td><td>3.1</td><td>0.0</td><td>212.547729</td><td>0.0</td><td>56.024139</td><td>0.0</td><td>155114.734375</td><td>2019</td><td>2</td></tr><tr><td>1008568</td><td>202008</td><td>85</td><td>0</td><td>null</td><td>null</td><td>null</td><td>465561.75</td><td>-12169</td><td>0.0</td><td>0.0</td><td>0.0</td><td>3.0</td><td>0.0</td><td>&quot;2fc785b2&quot;</td><td>&quot;6b2ae0fa&quot;</td><td>&quot;a55475b1&quot;</td><td>0.0</td><td>3.0</td><td>&quot;3439d993&quot;</td><td>&quot;a55475b1&quot;</td><td>3.0</td><td>null</td><td>null</td><td>null</td><td>null</td><td>null</td><td>null</td><td>null</td><td>null</td><td>null</td><td>14</td><td>0.0</td><td>1.0</td><td>null</td><td>null</td><td>4846.399902</td><td>&hellip;</td><td>38000.0</td><td>null</td><td>null</td><td>null</td><td>null</td><td>null</td><td>null</td><td>null</td><td>null</td><td>&quot;a55475b1&quot;</td><td>&quot;a55475b1&quot;</td><td>0.0</td><td>0.0</td><td>&quot;c7a5ad39&quot;</td><td>&quot;c7a5ad39&quot;</td><td>1</td><td>23</td><td>34.0</td><td>0.0</td><td>12.0</td><td>12.0</td><td>8750.236328</td><td>0.0</td><td>2021.0</td><td>2020.0</td><td>&quot;ab3c25cf&quot;</td><td>&quot;ab3c25cf&quot;</td><td>2.416667</td><td>0.0</td><td>538.049011</td><td>0.0</td><td>57.471016</td><td>0.0</td><td>3.7527e6</td><td>0.0</td><td>2020</td><td>24</td></tr><tr><td>114048</td><td>201903</td><td>8</td><td>0</td><td>null</td><td>null</td><td>-11108</td><td>null</td><td>-11108</td><td>2.0</td><td>5.0</td><td>0.0</td><td>9.0</td><td>2.0</td><td>&quot;a55475b1&quot;</td><td>&quot;a55475b1&quot;</td><td>&quot;a55475b1&quot;</td><td>2.0</td><td>5.0</td><td>&quot;3439d993&quot;</td><td>&quot;a55475b1&quot;</td><td>9.0</td><td>null</td><td>null</td><td>null</td><td>null</td><td>0.0</td><td>0.0</td><td>null</td><td>14</td><td>null</td><td>null</td><td>6.0</td><td>5.0</td><td>0.0</td><td>null</td><td>1968.599976</td><td>&hellip;</td><td>48000.0</td><td>null</td><td>null</td><td>null</td><td>null</td><td>null</td><td>null</td><td>null</td><td>null</td><td>&quot;a55475b1&quot;</td><td>&quot;a55475b1&quot;</td><td>0.0</td><td>null</td><td>&quot;a55475b1&quot;</td><td>&quot;c7a5ad39&quot;</td><td>2</td><td>35</td><td>22.0</td><td>null</td><td>12.0</td><td>null</td><td>5555.489746</td><td>null</td><td>2020.0</td><td>null</td><td>&quot;a55475b1&quot;</td><td>&quot;ab3c25cf&quot;</td><td>0.848485</td><td>null</td><td>433.52066</td><td>null</td><td>14.945076</td><td>null</td><td>1.9014e6</td><td>null</td><td>2019</td><td>1</td></tr></tbody></table></div>"
      ],
      "text/plain": [
       "shape: (10, 472)\n",
       "┌─────────┬────────┬──────────┬────────┬───┬─────────────────────┬────────────────────┬──────┬─────┐\n",
       "│ case_id ┆ month  ┆ week_num ┆ target ┆ … ┆ var_pmts_overdue_11 ┆ var_pmts_overdue_1 ┆ year ┆ day │\n",
       "│ ---     ┆ ---    ┆ ---      ┆ ---    ┆   ┆ 40A                 ┆ 152A               ┆ ---  ┆ --- │\n",
       "│ u32     ┆ u32    ┆ u8       ┆ u8     ┆   ┆ ---                 ┆ ---                ┆ u16  ┆ u8  │\n",
       "│         ┆        ┆          ┆        ┆   ┆ f32                 ┆ f32                ┆      ┆     │\n",
       "╞═════════╪════════╪══════════╪════════╪═══╪═════════════════════╪════════════════════╪══════╪═════╡\n",
       "│ 1629791 ┆ 201911 ┆ 45       ┆ 0      ┆ … ┆ 0.0                 ┆ 0.003404           ┆ 2019 ┆ 15  │\n",
       "│ 1779974 ┆ 202002 ┆ 57       ┆ 0      ┆ … ┆ 0.0                 ┆ 413279.34375       ┆ 2020 ┆ 9   │\n",
       "│ 773401  ┆ 201908 ┆ 32       ┆ 0      ┆ … ┆ 0.0                 ┆ 0.0                ┆ 2019 ┆ 17  │\n",
       "│ 872890  ┆ 201911 ┆ 46       ┆ 0      ┆ … ┆ 0.0                 ┆ null               ┆ 2019 ┆ 24  │\n",
       "│ 757264  ┆ 201907 ┆ 30       ┆ 1      ┆ … ┆ 0.0                 ┆ null               ┆ 2019 ┆ 31  │\n",
       "│ 2575627 ┆ 201905 ┆ 20       ┆ 0      ┆ … ┆ 0.0                 ┆ null               ┆ 2019 ┆ 21  │\n",
       "│ 242596  ┆ 202008 ┆ 83       ┆ 0      ┆ … ┆ 1.0631e6            ┆ 1.4153e6           ┆ 2020 ┆ 6   │\n",
       "│ 847342  ┆ 201911 ┆ 43       ┆ 0      ┆ … ┆ 0.0                 ┆ 155114.734375      ┆ 2019 ┆ 2   │\n",
       "│ 1008568 ┆ 202008 ┆ 85       ┆ 0      ┆ … ┆ 3.7527e6            ┆ 0.0                ┆ 2020 ┆ 24  │\n",
       "│ 114048  ┆ 201903 ┆ 8        ┆ 0      ┆ … ┆ 1.9014e6            ┆ null               ┆ 2019 ┆ 1   │\n",
       "└─────────┴────────┴──────────┴────────┴───┴─────────────────────┴────────────────────┴──────┴─────┘"
      ]
     },
     "metadata": {},
     "output_type": "display_data"
    },
    {
     "name": "stdout",
     "output_type": "stream",
     "text": [
      "CPU times: user 5min 46s, sys: 1min 43s, total: 7min 30s\n",
      "Wall time: 2min 16s\n"
     ]
    }
   ],
   "source": [
    "%%time\n",
    "\n",
    "data_store: dict = {\n",
    "    \"df_base\": SchemaGen.scan_files(os.path.join(TRAIN_DIR, \"train_base.parquet\")),\n",
    "    \"depth_0\": [\n",
    "        SchemaGen.scan_files(os.path.join(TRAIN_DIR, \"train_static_cb_0.parquet\")),\n",
    "        SchemaGen.scan_files(os.path.join(TRAIN_DIR, \"train_static_0_*.parquet\")),\n",
    "    ],\n",
    "    \"depth_1\": [\n",
    "        SchemaGen.scan_files(os.path.join(TRAIN_DIR, \"train_applprev_1_*.parquet\"), 1),\n",
    "        SchemaGen.scan_files(os.path.join(TRAIN_DIR, \"train_tax_registry_a_1.parquet\"), 1),\n",
    "        SchemaGen.scan_files(os.path.join(TRAIN_DIR, \"train_tax_registry_b_1.parquet\"), 1),\n",
    "        SchemaGen.scan_files(os.path.join(TRAIN_DIR, \"train_tax_registry_c_1.parquet\"), 1),\n",
    "        SchemaGen.scan_files(os.path.join(TRAIN_DIR, \"train_credit_bureau_a_1_*.parquet\"), 1),\n",
    "        SchemaGen.scan_files(os.path.join(TRAIN_DIR, \"train_credit_bureau_b_1.parquet\"), 1),\n",
    "        SchemaGen.scan_files(os.path.join(TRAIN_DIR, \"train_other_1.parquet\"), 1),\n",
    "        SchemaGen.scan_files(os.path.join(TRAIN_DIR, \"train_person_1.parquet\"), 1),\n",
    "        SchemaGen.scan_files(os.path.join(TRAIN_DIR, \"train_deposit_1.parquet\"), 1),\n",
    "        SchemaGen.scan_files(os.path.join(TRAIN_DIR, \"train_debitcard_1.parquet\"), 1),\n",
    "    ],\n",
    "    \"depth_2\": [\n",
    "        SchemaGen.scan_files(os.path.join(TRAIN_DIR, \"train_credit_bureau_a_2_*.parquet\"), 2),\n",
    "        SchemaGen.scan_files(os.path.join(TRAIN_DIR, \"train_credit_bureau_b_2.parquet\"), 2),\n",
    "    ],\n",
    "}\n",
    "\n",
    "train_df: pl.LazyFrame = (\n",
    "    SchemaGen.join_dataframes(**data_store)\n",
    "    .pipe(Pipeline.filter_cols)\n",
    "    .pipe(Pipeline.transform_cols)\n",
    "    .pipe(Pipeline.handle_dates)\n",
    "    .pipe(Utility.reduce_memory_usage, \"train_df\")\n",
    ")\n",
    "\n",
    "del data_store\n",
    "gc.collect()\n",
    "\n",
    "print(f\"Train data shape: {train_df.shape}\")\n",
    "display(train_df.head(10))"
   ]
  },
  {
   "cell_type": "code",
   "execution_count": 6,
   "id": "ee8000cf",
   "metadata": {
    "execution": {
     "iopub.execute_input": "2024-05-19T00:33:28.413624Z",
     "iopub.status.busy": "2024-05-19T00:33:28.412790Z",
     "iopub.status.idle": "2024-05-19T00:33:49.592619Z",
     "shell.execute_reply": "2024-05-19T00:33:49.591766Z"
    },
    "papermill": {
     "duration": 21.189682,
     "end_time": "2024-05-19T00:33:49.594880",
     "exception": false,
     "start_time": "2024-05-19T00:33:28.405198",
     "status": "completed"
    },
    "tags": []
   },
   "outputs": [
    {
     "data": {
      "text/plain": [
       "0"
      ]
     },
     "execution_count": 6,
     "metadata": {},
     "output_type": "execute_result"
    }
   ],
   "source": [
    "cols = train_df.columns\n",
    "train_df, cat_cols = Utility.to_pandas(train_df)\n",
    "\n",
    "del train_df\n",
    "gc.collect()"
   ]
  },
  {
   "cell_type": "markdown",
   "id": "5c39d38e",
   "metadata": {
    "papermill": {
     "duration": 0.006867,
     "end_time": "2024-05-19T00:33:49.608700",
     "exception": false,
     "start_time": "2024-05-19T00:33:49.601833",
     "status": "completed"
    },
    "tags": []
   },
   "source": [
    "### Read test data"
   ]
  },
  {
   "cell_type": "code",
   "execution_count": 7,
   "id": "d8a3e1c8",
   "metadata": {
    "execution": {
     "iopub.execute_input": "2024-05-19T00:33:49.624003Z",
     "iopub.status.busy": "2024-05-19T00:33:49.623703Z",
     "iopub.status.idle": "2024-05-19T00:33:54.515051Z",
     "shell.execute_reply": "2024-05-19T00:33:54.514044Z"
    },
    "papermill": {
     "duration": 4.901954,
     "end_time": "2024-05-19T00:33:54.517196",
     "exception": false,
     "start_time": "2024-05-19T00:33:49.615242",
     "status": "completed"
    },
    "tags": []
   },
   "outputs": [
    {
     "name": "stdout",
     "output_type": "stream",
     "text": [
      "File test_base loaded into memory.\n",
      "File test_static_cb_0 loaded into memory.\n",
      "File test_static_0_0 loaded into memory.\n",
      "File test_static_0_2 loaded into memory.\n",
      "File test_static_0_1 loaded into memory.\n",
      "File test_applprev_1_2 loaded into memory.\n",
      "File test_applprev_1_0 loaded into memory.\n",
      "File test_applprev_1_1 loaded into memory.\n",
      "File test_tax_registry_a_1 loaded into memory.\n",
      "File test_tax_registry_b_1 loaded into memory.\n",
      "File test_tax_registry_c_1 loaded into memory.\n",
      "File test_credit_bureau_a_1_3 loaded into memory.\n",
      "File test_credit_bureau_a_1_2 loaded into memory.\n",
      "File test_credit_bureau_a_1_1 loaded into memory.\n",
      "File test_credit_bureau_a_1_4 loaded into memory.\n",
      "File test_credit_bureau_a_1_0 loaded into memory.\n",
      "File test_credit_bureau_b_1 loaded into memory.\n",
      "File test_other_1 loaded into memory.\n",
      "File test_person_1 loaded into memory.\n",
      "File test_deposit_1 loaded into memory.\n",
      "File test_debitcard_1 loaded into memory.\n",
      "File test_credit_bureau_b_2 loaded into memory.\n",
      "File test_credit_bureau_a_2_3 loaded into memory.\n",
      "File test_credit_bureau_a_2_9 loaded into memory.\n",
      "File test_credit_bureau_a_2_2 loaded into memory.\n",
      "File test_credit_bureau_a_2_11 loaded into memory.\n",
      "File test_credit_bureau_a_2_1 loaded into memory.\n",
      "File test_credit_bureau_a_2_6 loaded into memory.\n",
      "File test_credit_bureau_a_2_5 loaded into memory.\n",
      "File test_credit_bureau_a_2_0 loaded into memory.\n",
      "File test_credit_bureau_a_2_7 loaded into memory.\n",
      "File test_credit_bureau_a_2_10 loaded into memory.\n",
      "File test_credit_bureau_a_2_8 loaded into memory.\n",
      "File test_credit_bureau_a_2_4 loaded into memory.\n",
      "Memory usage of dataframe \"train_df\" is 0.0432 MB.\n",
      "Memory usage of dataframe \"train_df\" became 0.0311 MB.\n",
      "Memory usage of dataframe \"test_df\" is 0.0184 MB.\n",
      "Memory usage of dataframe \"test_df\" became 0.0173 MB.\n",
      "Test data shape: (10, 471)\n"
     ]
    }
   ],
   "source": [
    "data_store = {\n",
    "    \"df_base\": SchemaGen.scan_files(os.path.join(TEST_DIR, \"test_base.parquet\")),\n",
    "    \"depth_0\": [\n",
    "        SchemaGen.scan_files(os.path.join(TEST_DIR, \"test_static_cb_0.parquet\")),\n",
    "        SchemaGen.scan_files(os.path.join(TEST_DIR, \"test_static_0_*.parquet\")),\n",
    "    ],\n",
    "    \"depth_1\": [\n",
    "        SchemaGen.scan_files(os.path.join(TEST_DIR, \"test_applprev_1_*.parquet\"), 1),\n",
    "        SchemaGen.scan_files(os.path.join(TEST_DIR, \"test_tax_registry_a_1.parquet\"), 1),\n",
    "        SchemaGen.scan_files(os.path.join(TEST_DIR, \"test_tax_registry_b_1.parquet\"), 1),\n",
    "        SchemaGen.scan_files(os.path.join(TEST_DIR, \"test_tax_registry_c_1.parquet\"), 1),\n",
    "        SchemaGen.scan_files(os.path.join(TEST_DIR, \"test_credit_bureau_a_1_*.parquet\"), 1),\n",
    "        SchemaGen.scan_files(os.path.join(TEST_DIR, \"test_credit_bureau_b_1.parquet\"), 1),\n",
    "        SchemaGen.scan_files(os.path.join(TEST_DIR, \"test_other_1.parquet\"), 1),\n",
    "        SchemaGen.scan_files(os.path.join(TEST_DIR, \"test_person_1.parquet\"), 1),\n",
    "        SchemaGen.scan_files(os.path.join(TEST_DIR, \"test_deposit_1.parquet\"), 1),\n",
    "        SchemaGen.scan_files(os.path.join(TEST_DIR, \"test_debitcard_1.parquet\"), 1),\n",
    "    ],\n",
    "    \"depth_2\": [\n",
    "        SchemaGen.scan_files(os.path.join(TEST_DIR, \"test_credit_bureau_b_2.parquet\"), 2),\n",
    "        SchemaGen.scan_files(os.path.join(TEST_DIR, \"test_credit_bureau_a_2_*.parquet\"), 2),\n",
    "        # SchemaGen.scan_files(os.path.join(TEST_DIR, \"test_applprev_2.parquet\"), 2),\n",
    "        # SchemaGen.scan_files(os.path.join(TEST_DIR, \"test_person_2.parquet\"), 2)\n",
    "    ],\n",
    "}\n",
    "\n",
    "test_df: pl.DataFrame = (\n",
    "    SchemaGen.join_dataframes(**data_store)\n",
    "    .pipe(Pipeline.transform_cols)\n",
    "    .pipe(Pipeline.handle_dates)\n",
    "    .select([col for col in cols if col != \"target\"])\n",
    "    .pipe(Utility.reduce_memory_usage, \"test_df\")\n",
    ")\n",
    "\n",
    "del data_store\n",
    "gc.collect()\n",
    "\n",
    "print(f\"Test data shape: {test_df.shape}\")"
   ]
  },
  {
   "cell_type": "code",
   "execution_count": 8,
   "id": "0fabe94f",
   "metadata": {
    "execution": {
     "iopub.execute_input": "2024-05-19T00:33:54.534691Z",
     "iopub.status.busy": "2024-05-19T00:33:54.533958Z",
     "iopub.status.idle": "2024-05-19T00:33:54.588816Z",
     "shell.execute_reply": "2024-05-19T00:33:54.588114Z"
    },
    "papermill": {
     "duration": 0.065687,
     "end_time": "2024-05-19T00:33:54.590865",
     "exception": false,
     "start_time": "2024-05-19T00:33:54.525178",
     "status": "completed"
    },
    "tags": []
   },
   "outputs": [],
   "source": [
    "test_df, cat_cols = Utility.to_pandas(test_df, cat_cols)"
   ]
  },
  {
   "cell_type": "markdown",
   "id": "065304dc",
   "metadata": {
    "papermill": {
     "duration": 0.008262,
     "end_time": "2024-05-19T00:33:54.607888",
     "exception": false,
     "start_time": "2024-05-19T00:33:54.599626",
     "status": "completed"
    },
    "tags": []
   },
   "source": [
    "### Inference"
   ]
  },
  {
   "cell_type": "code",
   "execution_count": 9,
   "id": "60566bf6",
   "metadata": {
    "execution": {
     "iopub.execute_input": "2024-05-19T00:33:54.624775Z",
     "iopub.status.busy": "2024-05-19T00:33:54.624475Z",
     "iopub.status.idle": "2024-05-19T00:33:54.628319Z",
     "shell.execute_reply": "2024-05-19T00:33:54.627446Z"
    },
    "papermill": {
     "duration": 0.014266,
     "end_time": "2024-05-19T00:33:54.630206",
     "exception": false,
     "start_time": "2024-05-19T00:33:54.615940",
     "status": "completed"
    },
    "tags": []
   },
   "outputs": [],
   "source": [
    "# with open('/kaggle/input/home-credit-crms-models/voting_model.pkl', 'rb') as f:\n",
    "#     loaded_model = pickle.load(f)"
   ]
  },
  {
   "cell_type": "code",
   "execution_count": 10,
   "id": "9b20b681",
   "metadata": {
    "execution": {
     "iopub.execute_input": "2024-05-19T00:33:54.647000Z",
     "iopub.status.busy": "2024-05-19T00:33:54.646433Z",
     "iopub.status.idle": "2024-05-19T00:33:54.685121Z",
     "shell.execute_reply": "2024-05-19T00:33:54.684236Z"
    },
    "papermill": {
     "duration": 0.049068,
     "end_time": "2024-05-19T00:33:54.687036",
     "exception": false,
     "start_time": "2024-05-19T00:33:54.637968",
     "status": "completed"
    },
    "tags": []
   },
   "outputs": [
    {
     "data": {
      "text/html": [
       "<div>\n",
       "<style scoped>\n",
       "    .dataframe tbody tr th:only-of-type {\n",
       "        vertical-align: middle;\n",
       "    }\n",
       "\n",
       "    .dataframe tbody tr th {\n",
       "        vertical-align: top;\n",
       "    }\n",
       "\n",
       "    .dataframe thead th {\n",
       "        text-align: right;\n",
       "    }\n",
       "</style>\n",
       "<table border=\"1\" class=\"dataframe\">\n",
       "  <thead>\n",
       "    <tr style=\"text-align: right;\">\n",
       "      <th></th>\n",
       "      <th>score</th>\n",
       "    </tr>\n",
       "    <tr>\n",
       "      <th>case_id</th>\n",
       "      <th></th>\n",
       "    </tr>\n",
       "  </thead>\n",
       "  <tbody>\n",
       "    <tr>\n",
       "      <th>57569</th>\n",
       "      <td>0.1</td>\n",
       "    </tr>\n",
       "    <tr>\n",
       "      <th>57549</th>\n",
       "      <td>0.1</td>\n",
       "    </tr>\n",
       "    <tr>\n",
       "      <th>57552</th>\n",
       "      <td>0.1</td>\n",
       "    </tr>\n",
       "    <tr>\n",
       "      <th>57551</th>\n",
       "      <td>0.1</td>\n",
       "    </tr>\n",
       "    <tr>\n",
       "      <th>57630</th>\n",
       "      <td>0.1</td>\n",
       "    </tr>\n",
       "    <tr>\n",
       "      <th>57633</th>\n",
       "      <td>0.1</td>\n",
       "    </tr>\n",
       "    <tr>\n",
       "      <th>57632</th>\n",
       "      <td>0.1</td>\n",
       "    </tr>\n",
       "    <tr>\n",
       "      <th>57543</th>\n",
       "      <td>0.1</td>\n",
       "    </tr>\n",
       "    <tr>\n",
       "      <th>57631</th>\n",
       "      <td>0.1</td>\n",
       "    </tr>\n",
       "    <tr>\n",
       "      <th>57634</th>\n",
       "      <td>0.1</td>\n",
       "    </tr>\n",
       "  </tbody>\n",
       "</table>\n",
       "</div>"
      ],
      "text/plain": [
       "         score\n",
       "case_id       \n",
       "57569      0.1\n",
       "57549      0.1\n",
       "57552      0.1\n",
       "57551      0.1\n",
       "57630      0.1\n",
       "57633      0.1\n",
       "57632      0.1\n",
       "57543      0.1\n",
       "57631      0.1\n",
       "57634      0.1"
      ]
     },
     "execution_count": 10,
     "metadata": {},
     "output_type": "execute_result"
    }
   ],
   "source": [
    "test_df = test_df.drop(columns=[\"week_num\"]).set_index(\"case_id\")\n",
    "test_df[cat_cols] = test_df[cat_cols].astype(\"category\")\n",
    "\n",
    "# preds = pd.Series(loaded_model.predict_proba(test_df)[:, 1], index=test_df.index)\n",
    "\n",
    "submission_df = pd.DataFrame(index=test_df.index)\n",
    "# submission_df[\"score\"] = preds\n",
    "submission_df[\"score\"] = 0.1\n",
    "\n",
    "# Metric Hack\n",
    "# https://www.kaggle.com/code/a520hh/fork-of-this-is-the-way/notebook\n",
    "# condition = preds < 0.98\n",
    "# submission_df.loc[condition, \"score\"] = (submission_df.loc[condition, \"score\"] - 0.073).clip(0)\n",
    "\n",
    "submission_df"
   ]
  },
  {
   "cell_type": "code",
   "execution_count": 11,
   "id": "5f9cbd76",
   "metadata": {
    "execution": {
     "iopub.execute_input": "2024-05-19T00:33:54.704353Z",
     "iopub.status.busy": "2024-05-19T00:33:54.704090Z",
     "iopub.status.idle": "2024-05-19T00:33:54.711311Z",
     "shell.execute_reply": "2024-05-19T00:33:54.710649Z"
    },
    "papermill": {
     "duration": 0.017805,
     "end_time": "2024-05-19T00:33:54.713125",
     "exception": false,
     "start_time": "2024-05-19T00:33:54.695320",
     "status": "completed"
    },
    "tags": []
   },
   "outputs": [],
   "source": [
    "submission_df.to_csv(\"submission.csv\")"
   ]
  },
  {
   "cell_type": "code",
   "execution_count": null,
   "id": "f4123aaa",
   "metadata": {
    "papermill": {
     "duration": 0.007602,
     "end_time": "2024-05-19T00:33:54.728517",
     "exception": false,
     "start_time": "2024-05-19T00:33:54.720915",
     "status": "completed"
    },
    "tags": []
   },
   "outputs": [],
   "source": []
  }
 ],
 "metadata": {
  "kaggle": {
   "accelerator": "gpu",
   "dataSources": [
    {
     "databundleVersionId": 7921029,
     "sourceId": 50160,
     "sourceType": "competition"
    },
    {
     "datasetId": 5038079,
     "sourceId": 8453472,
     "sourceType": "datasetVersion"
    },
    {
     "datasetId": 5038176,
     "sourceId": 8453625,
     "sourceType": "datasetVersion"
    }
   ],
   "dockerImageVersionId": 30699,
   "isGpuEnabled": true,
   "isInternetEnabled": false,
   "language": "python",
   "sourceType": "notebook"
  },
  "kernelspec": {
   "display_name": "Python 3",
   "language": "python",
   "name": "python3"
  },
  "language_info": {
   "codemirror_mode": {
    "name": "ipython",
    "version": 3
   },
   "file_extension": ".py",
   "mimetype": "text/x-python",
   "name": "python",
   "nbconvert_exporter": "python",
   "pygments_lexer": "ipython3",
   "version": "3.10.13"
  },
  "papermill": {
   "default_parameters": {},
   "duration": 172.684358,
   "end_time": "2024-05-19T00:33:55.556183",
   "environment_variables": {},
   "exception": null,
   "input_path": "__notebook__.ipynb",
   "output_path": "__notebook__.ipynb",
   "parameters": {},
   "start_time": "2024-05-19T00:31:02.871825",
   "version": "2.5.0"
  }
 },
 "nbformat": 4,
 "nbformat_minor": 5
}
