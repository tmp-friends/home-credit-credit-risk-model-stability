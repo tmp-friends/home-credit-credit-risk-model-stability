{
 "cells": [
  {
   "cell_type": "markdown",
   "id": "6b9e912e",
   "metadata": {
    "papermill": {
     "duration": 0.005304,
     "end_time": "2024-05-19T05:05:53.347547",
     "exception": false,
     "start_time": "2024-05-19T05:05:53.342243",
     "status": "completed"
    },
    "tags": []
   },
   "source": [
    "## Baseline - Infer\n",
    "\n",
    "※ Kaggle notebookのみで動かす\n",
    "\n",
    "https://www.kaggle.com/code/pxcai666/catboost-lightgbm-ensemble/notebook"
   ]
  },
  {
   "cell_type": "markdown",
   "id": "1c78a6db",
   "metadata": {
    "papermill": {
     "duration": 0.004522,
     "end_time": "2024-05-19T05:05:53.357099",
     "exception": false,
     "start_time": "2024-05-19T05:05:53.352577",
     "status": "completed"
    },
    "tags": []
   },
   "source": [
    "### Configuration"
   ]
  },
  {
   "cell_type": "code",
   "execution_count": 1,
   "id": "02a01c41",
   "metadata": {
    "execution": {
     "iopub.execute_input": "2024-05-19T05:05:53.368038Z",
     "iopub.status.busy": "2024-05-19T05:05:53.367654Z",
     "iopub.status.idle": "2024-05-19T05:05:59.419942Z",
     "shell.execute_reply": "2024-05-19T05:05:59.419143Z"
    },
    "papermill": {
     "duration": 6.060579,
     "end_time": "2024-05-19T05:05:59.422355",
     "exception": false,
     "start_time": "2024-05-19T05:05:53.361776",
     "status": "completed"
    },
    "tags": []
   },
   "outputs": [],
   "source": [
    "import sys\n",
    "from pathlib import Path\n",
    "import subprocess\n",
    "import os\n",
    "import gc\n",
    "from glob import glob\n",
    "import pickle\n",
    "\n",
    "import numpy as np\n",
    "import pandas as pd\n",
    "import polars as pl\n",
    "from datetime import datetime\n",
    "import seaborn as sns\n",
    "import matplotlib.pyplot as plt\n",
    "\n",
    "from sklearn.model_selection import TimeSeriesSplit, GroupKFold, StratifiedGroupKFold\n",
    "from sklearn.base import BaseEstimator, RegressorMixin\n",
    "from sklearn.metrics import roc_auc_score\n",
    "from catboost import CatBoostClassifier, Pool\n",
    "import lightgbm as lgb\n",
    "\n",
    "from imblearn.over_sampling import SMOTE\n",
    "from sklearn.preprocessing import OrdinalEncoder\n",
    "from sklearn.impute import KNNImputer"
   ]
  },
  {
   "cell_type": "code",
   "execution_count": 2,
   "id": "4a3217e0",
   "metadata": {
    "execution": {
     "iopub.execute_input": "2024-05-19T05:05:59.433900Z",
     "iopub.status.busy": "2024-05-19T05:05:59.433317Z",
     "iopub.status.idle": "2024-05-19T05:05:59.437878Z",
     "shell.execute_reply": "2024-05-19T05:05:59.437001Z"
    },
    "papermill": {
     "duration": 0.012797,
     "end_time": "2024-05-19T05:05:59.440272",
     "exception": false,
     "start_time": "2024-05-19T05:05:59.427475",
     "status": "completed"
    },
    "tags": []
   },
   "outputs": [],
   "source": [
    "# Kaggle\n",
    "sys.path.append('/kaggle/input/home-credit-crms-repo')"
   ]
  },
  {
   "cell_type": "code",
   "execution_count": 3,
   "id": "427aeab8",
   "metadata": {
    "execution": {
     "iopub.execute_input": "2024-05-19T05:05:59.451146Z",
     "iopub.status.busy": "2024-05-19T05:05:59.450827Z",
     "iopub.status.idle": "2024-05-19T05:05:59.455410Z",
     "shell.execute_reply": "2024-05-19T05:05:59.454648Z"
    },
    "papermill": {
     "duration": 0.012117,
     "end_time": "2024-05-19T05:05:59.457380",
     "exception": false,
     "start_time": "2024-05-19T05:05:59.445263",
     "status": "completed"
    },
    "tags": []
   },
   "outputs": [],
   "source": [
    "ROOT = \"/kaggle/input/home-credit-credit-risk-model-stability\"\n",
    "\n",
    "TRAIN_DIR = os.path.join(ROOT, \"parquet_files\", \"train\")\n",
    "TEST_DIR = os.path.join(ROOT, \"parquet_files\", \"test\")"
   ]
  },
  {
   "cell_type": "markdown",
   "id": "412f3a4b",
   "metadata": {
    "papermill": {
     "duration": 0.004518,
     "end_time": "2024-05-19T05:05:59.466907",
     "exception": false,
     "start_time": "2024-05-19T05:05:59.462389",
     "status": "completed"
    },
    "tags": []
   },
   "source": [
    "### Def utility classes"
   ]
  },
  {
   "cell_type": "code",
   "execution_count": 4,
   "id": "bf99137c",
   "metadata": {
    "execution": {
     "iopub.execute_input": "2024-05-19T05:05:59.477632Z",
     "iopub.status.busy": "2024-05-19T05:05:59.477324Z",
     "iopub.status.idle": "2024-05-19T05:05:59.530035Z",
     "shell.execute_reply": "2024-05-19T05:05:59.529197Z"
    },
    "papermill": {
     "duration": 0.060815,
     "end_time": "2024-05-19T05:05:59.532396",
     "exception": false,
     "start_time": "2024-05-19T05:05:59.471581",
     "status": "completed"
    },
    "tags": []
   },
   "outputs": [],
   "source": [
    "from src.utils.utility import Utility\n",
    "from src.utils.schema_gen import SchemaGen\n",
    "from src.utils.pipeline import Pipeline\n",
    "from src.utils.aggregator import Aggregator"
   ]
  },
  {
   "cell_type": "markdown",
   "id": "85c076e4",
   "metadata": {
    "papermill": {
     "duration": 0.004868,
     "end_time": "2024-05-19T05:05:59.542343",
     "exception": false,
     "start_time": "2024-05-19T05:05:59.537475",
     "status": "completed"
    },
    "tags": []
   },
   "source": [
    "### Read train data"
   ]
  },
  {
   "cell_type": "code",
   "execution_count": 5,
   "id": "b4baf930",
   "metadata": {
    "execution": {
     "iopub.execute_input": "2024-05-19T05:05:59.552890Z",
     "iopub.status.busy": "2024-05-19T05:05:59.552592Z",
     "iopub.status.idle": "2024-05-19T05:06:00.718814Z",
     "shell.execute_reply": "2024-05-19T05:06:00.717897Z"
    },
    "papermill": {
     "duration": 1.174267,
     "end_time": "2024-05-19T05:06:00.721235",
     "exception": false,
     "start_time": "2024-05-19T05:05:59.546968",
     "status": "completed"
    },
    "tags": []
   },
   "outputs": [
    {
     "name": "stdout",
     "output_type": "stream",
     "text": [
      "File train_base loaded into memory.\n",
      "Memory usage of dataframe \"train_df\" is 37.8543 MB.\n",
      "Memory usage of dataframe \"train_df\" became 20.3831 MB.\n",
      "Memory usage of dataframe \"train_df\" is 18.9272 MB.\n",
      "Memory usage of dataframe \"train_df\" became 18.9272 MB.\n",
      "Train data shape: (1526659, 6)\n"
     ]
    },
    {
     "data": {
      "text/html": [
       "<div><style>\n",
       ".dataframe > thead > tr,\n",
       ".dataframe > tbody > tr {\n",
       "  text-align: right;\n",
       "  white-space: pre-wrap;\n",
       "}\n",
       "</style>\n",
       "<small>shape: (10, 6)</small><table border=\"1\" class=\"dataframe\"><thead><tr><th>case_id</th><th>month</th><th>week_num</th><th>target</th><th>year</th><th>day</th></tr><tr><td>u32</td><td>u32</td><td>u8</td><td>u8</td><td>u16</td><td>u8</td></tr></thead><tbody><tr><td>20374</td><td>201906</td><td>25</td><td>0</td><td>2019</td><td>26</td></tr><tr><td>1499960</td><td>201908</td><td>33</td><td>0</td><td>2019</td><td>22</td></tr><tr><td>1885745</td><td>202008</td><td>82</td><td>0</td><td>2020</td><td>1</td></tr><tr><td>1367254</td><td>201905</td><td>19</td><td>0</td><td>2019</td><td>15</td></tr><tr><td>1816937</td><td>202003</td><td>62</td><td>0</td><td>2020</td><td>15</td></tr><tr><td>1339940</td><td>201904</td><td>14</td><td>0</td><td>2019</td><td>14</td></tr><tr><td>1388431</td><td>201906</td><td>22</td><td>0</td><td>2019</td><td>5</td></tr><tr><td>1878915</td><td>202007</td><td>79</td><td>0</td><td>2020</td><td>13</td></tr><tr><td>1312921</td><td>201903</td><td>10</td><td>0</td><td>2019</td><td>18</td></tr><tr><td>1337701</td><td>201904</td><td>14</td><td>0</td><td>2019</td><td>12</td></tr></tbody></table></div>"
      ],
      "text/plain": [
       "shape: (10, 6)\n",
       "┌─────────┬────────┬──────────┬────────┬──────┬─────┐\n",
       "│ case_id ┆ month  ┆ week_num ┆ target ┆ year ┆ day │\n",
       "│ ---     ┆ ---    ┆ ---      ┆ ---    ┆ ---  ┆ --- │\n",
       "│ u32     ┆ u32    ┆ u8       ┆ u8     ┆ u16  ┆ u8  │\n",
       "╞═════════╪════════╪══════════╪════════╪══════╪═════╡\n",
       "│ 20374   ┆ 201906 ┆ 25       ┆ 0      ┆ 2019 ┆ 26  │\n",
       "│ 1499960 ┆ 201908 ┆ 33       ┆ 0      ┆ 2019 ┆ 22  │\n",
       "│ 1885745 ┆ 202008 ┆ 82       ┆ 0      ┆ 2020 ┆ 1   │\n",
       "│ 1367254 ┆ 201905 ┆ 19       ┆ 0      ┆ 2019 ┆ 15  │\n",
       "│ 1816937 ┆ 202003 ┆ 62       ┆ 0      ┆ 2020 ┆ 15  │\n",
       "│ 1339940 ┆ 201904 ┆ 14       ┆ 0      ┆ 2019 ┆ 14  │\n",
       "│ 1388431 ┆ 201906 ┆ 22       ┆ 0      ┆ 2019 ┆ 5   │\n",
       "│ 1878915 ┆ 202007 ┆ 79       ┆ 0      ┆ 2020 ┆ 13  │\n",
       "│ 1312921 ┆ 201903 ┆ 10       ┆ 0      ┆ 2019 ┆ 18  │\n",
       "│ 1337701 ┆ 201904 ┆ 14       ┆ 0      ┆ 2019 ┆ 12  │\n",
       "└─────────┴────────┴──────────┴────────┴──────┴─────┘"
      ]
     },
     "metadata": {},
     "output_type": "display_data"
    },
    {
     "name": "stdout",
     "output_type": "stream",
     "text": [
      "CPU times: user 1.22 s, sys: 330 ms, total: 1.55 s\n",
      "Wall time: 1.16 s\n"
     ]
    }
   ],
   "source": [
    "%%time\n",
    "\n",
    "data_store: dict = {\n",
    "    \"df_base\": SchemaGen.scan_files(os.path.join(TRAIN_DIR, \"train_base.parquet\")),\n",
    "    \"depth_0\": [\n",
    "#         SchemaGen.scan_files(os.path.join(TRAIN_DIR, \"train_static_cb_0.parquet\")),\n",
    "#         SchemaGen.scan_files(os.path.join(TRAIN_DIR, \"train_static_0_*.parquet\")),\n",
    "    ],\n",
    "    \"depth_1\": [\n",
    "#         SchemaGen.scan_files(os.path.join(TRAIN_DIR, \"train_applprev_1_*.parquet\"), 1),\n",
    "#         SchemaGen.scan_files(os.path.join(TRAIN_DIR, \"train_tax_registry_a_1.parquet\"), 1),\n",
    "#         SchemaGen.scan_files(os.path.join(TRAIN_DIR, \"train_tax_registry_b_1.parquet\"), 1),\n",
    "#         SchemaGen.scan_files(os.path.join(TRAIN_DIR, \"train_tax_registry_c_1.parquet\"), 1),\n",
    "#         SchemaGen.scan_files(os.path.join(TRAIN_DIR, \"train_credit_bureau_a_1_*.parquet\"), 1),\n",
    "#         SchemaGen.scan_files(os.path.join(TRAIN_DIR, \"train_credit_bureau_b_1.parquet\"), 1),\n",
    "#         SchemaGen.scan_files(os.path.join(TRAIN_DIR, \"train_other_1.parquet\"), 1),\n",
    "#         SchemaGen.scan_files(os.path.join(TRAIN_DIR, \"train_person_1.parquet\"), 1),\n",
    "#         SchemaGen.scan_files(os.path.join(TRAIN_DIR, \"train_deposit_1.parquet\"), 1),\n",
    "#         SchemaGen.scan_files(os.path.join(TRAIN_DIR, \"train_debitcard_1.parquet\"), 1),\n",
    "    ],\n",
    "    \"depth_2\": [\n",
    "#         SchemaGen.scan_files(os.path.join(TRAIN_DIR, \"train_credit_bureau_a_2_*.parquet\"), 2),\n",
    "#         SchemaGen.scan_files(os.path.join(TRAIN_DIR, \"train_credit_bureau_b_2.parquet\"), 2),\n",
    "    ],\n",
    "}\n",
    "\n",
    "train_df: pl.LazyFrame = (\n",
    "    SchemaGen.join_dataframes(**data_store)\n",
    "    .pipe(Pipeline.filter_cols)\n",
    "    .pipe(Pipeline.transform_cols)\n",
    "    .pipe(Pipeline.handle_dates)\n",
    "    .pipe(Utility.reduce_memory_usage, \"train_df\")\n",
    ")\n",
    "\n",
    "del data_store\n",
    "gc.collect()\n",
    "\n",
    "print(f\"Train data shape: {train_df.shape}\")\n",
    "display(train_df.head(10))"
   ]
  },
  {
   "cell_type": "code",
   "execution_count": 6,
   "id": "5486ed8f",
   "metadata": {
    "execution": {
     "iopub.execute_input": "2024-05-19T05:06:00.734236Z",
     "iopub.status.busy": "2024-05-19T05:06:00.733599Z",
     "iopub.status.idle": "2024-05-19T05:06:00.886136Z",
     "shell.execute_reply": "2024-05-19T05:06:00.885044Z"
    },
    "papermill": {
     "duration": 0.161519,
     "end_time": "2024-05-19T05:06:00.888496",
     "exception": false,
     "start_time": "2024-05-19T05:06:00.726977",
     "status": "completed"
    },
    "tags": []
   },
   "outputs": [
    {
     "data": {
      "text/plain": [
       "0"
      ]
     },
     "execution_count": 6,
     "metadata": {},
     "output_type": "execute_result"
    }
   ],
   "source": [
    "cols = train_df.columns\n",
    "train_df, cat_cols = Utility.to_pandas(train_df)\n",
    "\n",
    "del train_df\n",
    "gc.collect()"
   ]
  },
  {
   "cell_type": "markdown",
   "id": "76c18272",
   "metadata": {
    "papermill": {
     "duration": 0.005203,
     "end_time": "2024-05-19T05:06:00.899292",
     "exception": false,
     "start_time": "2024-05-19T05:06:00.894089",
     "status": "completed"
    },
    "tags": []
   },
   "source": [
    "### Read test data"
   ]
  },
  {
   "cell_type": "code",
   "execution_count": 7,
   "id": "727d5d5f",
   "metadata": {
    "execution": {
     "iopub.execute_input": "2024-05-19T05:06:00.911882Z",
     "iopub.status.busy": "2024-05-19T05:06:00.911599Z",
     "iopub.status.idle": "2024-05-19T05:06:01.152212Z",
     "shell.execute_reply": "2024-05-19T05:06:01.151217Z"
    },
    "papermill": {
     "duration": 0.249452,
     "end_time": "2024-05-19T05:06:01.154368",
     "exception": false,
     "start_time": "2024-05-19T05:06:00.904916",
     "status": "completed"
    },
    "tags": []
   },
   "outputs": [
    {
     "name": "stdout",
     "output_type": "stream",
     "text": [
      "File test_base loaded into memory.\n",
      "Memory usage of dataframe \"train_df\" is 0.0002 MB.\n",
      "Memory usage of dataframe \"train_df\" became 0.0001 MB.\n",
      "Memory usage of dataframe \"test_df\" is 0.0001 MB.\n",
      "Memory usage of dataframe \"test_df\" became 0.0001 MB.\n",
      "Test data shape: (10, 5)\n"
     ]
    }
   ],
   "source": [
    "data_store = {\n",
    "    \"df_base\": SchemaGen.scan_files(os.path.join(TEST_DIR, \"test_base.parquet\")),\n",
    "    \"depth_0\": [\n",
    "#         SchemaGen.scan_files(os.path.join(TEST_DIR, \"test_static_cb_0.parquet\")),\n",
    "#         SchemaGen.scan_files(os.path.join(TEST_DIR, \"test_static_0_*.parquet\")),\n",
    "    ],\n",
    "    \"depth_1\": [\n",
    "#         SchemaGen.scan_files(os.path.join(TEST_DIR, \"test_applprev_1_*.parquet\"), 1),\n",
    "#         SchemaGen.scan_files(os.path.join(TEST_DIR, \"test_tax_registry_a_1.parquet\"), 1),\n",
    "#         SchemaGen.scan_files(os.path.join(TEST_DIR, \"test_tax_registry_b_1.parquet\"), 1),\n",
    "#         SchemaGen.scan_files(os.path.join(TEST_DIR, \"test_tax_registry_c_1.parquet\"), 1),\n",
    "#         SchemaGen.scan_files(os.path.join(TEST_DIR, \"test_credit_bureau_a_1_*.parquet\"), 1),\n",
    "#         SchemaGen.scan_files(os.path.join(TEST_DIR, \"test_credit_bureau_b_1.parquet\"), 1),\n",
    "#         SchemaGen.scan_files(os.path.join(TEST_DIR, \"test_other_1.parquet\"), 1),\n",
    "#         SchemaGen.scan_files(os.path.join(TEST_DIR, \"test_person_1.parquet\"), 1),\n",
    "#         SchemaGen.scan_files(os.path.join(TEST_DIR, \"test_deposit_1.parquet\"), 1),\n",
    "#         SchemaGen.scan_files(os.path.join(TEST_DIR, \"test_debitcard_1.parquet\"), 1),\n",
    "    ],\n",
    "    \"depth_2\": [\n",
    "#         SchemaGen.scan_files(os.path.join(TEST_DIR, \"test_credit_bureau_b_2.parquet\"), 2),\n",
    "#         SchemaGen.scan_files(os.path.join(TEST_DIR, \"test_credit_bureau_a_2_*.parquet\"), 2),\n",
    "#         # SchemaGen.scan_files(os.path.join(TEST_DIR, \"test_applprev_2.parquet\"), 2),\n",
    "#         # SchemaGen.scan_files(os.path.join(TEST_DIR, \"test_person_2.parquet\"), 2)\n",
    "    ],\n",
    "}\n",
    "\n",
    "test_df: pl.DataFrame = (\n",
    "    SchemaGen.join_dataframes(**data_store)\n",
    "    .pipe(Pipeline.transform_cols)\n",
    "    .pipe(Pipeline.handle_dates)\n",
    "    .select([col for col in cols if col != \"target\"])\n",
    "    .pipe(Utility.reduce_memory_usage, \"test_df\")\n",
    ")\n",
    "\n",
    "del data_store\n",
    "gc.collect()\n",
    "\n",
    "print(f\"Test data shape: {test_df.shape}\")"
   ]
  },
  {
   "cell_type": "code",
   "execution_count": 8,
   "id": "f68d1871",
   "metadata": {
    "execution": {
     "iopub.execute_input": "2024-05-19T05:06:01.168218Z",
     "iopub.status.busy": "2024-05-19T05:06:01.167492Z",
     "iopub.status.idle": "2024-05-19T05:06:01.174982Z",
     "shell.execute_reply": "2024-05-19T05:06:01.173955Z"
    },
    "papermill": {
     "duration": 0.016946,
     "end_time": "2024-05-19T05:06:01.177229",
     "exception": false,
     "start_time": "2024-05-19T05:06:01.160283",
     "status": "completed"
    },
    "tags": []
   },
   "outputs": [],
   "source": [
    "test_df, cat_cols = Utility.to_pandas(test_df, cat_cols)"
   ]
  },
  {
   "cell_type": "markdown",
   "id": "323614e0",
   "metadata": {
    "papermill": {
     "duration": 0.005984,
     "end_time": "2024-05-19T05:06:01.189765",
     "exception": false,
     "start_time": "2024-05-19T05:06:01.183781",
     "status": "completed"
    },
    "tags": []
   },
   "source": [
    "### Inference"
   ]
  },
  {
   "cell_type": "code",
   "execution_count": 9,
   "id": "c9831d1e",
   "metadata": {
    "execution": {
     "iopub.execute_input": "2024-05-19T05:06:01.203341Z",
     "iopub.status.busy": "2024-05-19T05:06:01.202999Z",
     "iopub.status.idle": "2024-05-19T05:06:01.222529Z",
     "shell.execute_reply": "2024-05-19T05:06:01.221591Z"
    },
    "papermill": {
     "duration": 0.028776,
     "end_time": "2024-05-19T05:06:01.224617",
     "exception": false,
     "start_time": "2024-05-19T05:06:01.195841",
     "status": "completed"
    },
    "tags": []
   },
   "outputs": [
    {
     "data": {
      "text/html": [
       "<div>\n",
       "<style scoped>\n",
       "    .dataframe tbody tr th:only-of-type {\n",
       "        vertical-align: middle;\n",
       "    }\n",
       "\n",
       "    .dataframe tbody tr th {\n",
       "        vertical-align: top;\n",
       "    }\n",
       "\n",
       "    .dataframe thead th {\n",
       "        text-align: right;\n",
       "    }\n",
       "</style>\n",
       "<table border=\"1\" class=\"dataframe\">\n",
       "  <thead>\n",
       "    <tr style=\"text-align: right;\">\n",
       "      <th></th>\n",
       "      <th>score</th>\n",
       "    </tr>\n",
       "  </thead>\n",
       "  <tbody>\n",
       "    <tr>\n",
       "      <th>0</th>\n",
       "      <td>0.1</td>\n",
       "    </tr>\n",
       "    <tr>\n",
       "      <th>1</th>\n",
       "      <td>0.1</td>\n",
       "    </tr>\n",
       "    <tr>\n",
       "      <th>2</th>\n",
       "      <td>0.1</td>\n",
       "    </tr>\n",
       "    <tr>\n",
       "      <th>3</th>\n",
       "      <td>0.1</td>\n",
       "    </tr>\n",
       "    <tr>\n",
       "      <th>4</th>\n",
       "      <td>0.1</td>\n",
       "    </tr>\n",
       "    <tr>\n",
       "      <th>5</th>\n",
       "      <td>0.1</td>\n",
       "    </tr>\n",
       "    <tr>\n",
       "      <th>6</th>\n",
       "      <td>0.1</td>\n",
       "    </tr>\n",
       "    <tr>\n",
       "      <th>7</th>\n",
       "      <td>0.1</td>\n",
       "    </tr>\n",
       "    <tr>\n",
       "      <th>8</th>\n",
       "      <td>0.1</td>\n",
       "    </tr>\n",
       "    <tr>\n",
       "      <th>9</th>\n",
       "      <td>0.1</td>\n",
       "    </tr>\n",
       "  </tbody>\n",
       "</table>\n",
       "</div>"
      ],
      "text/plain": [
       "   score\n",
       "0    0.1\n",
       "1    0.1\n",
       "2    0.1\n",
       "3    0.1\n",
       "4    0.1\n",
       "5    0.1\n",
       "6    0.1\n",
       "7    0.1\n",
       "8    0.1\n",
       "9    0.1"
      ]
     },
     "execution_count": 9,
     "metadata": {},
     "output_type": "execute_result"
    }
   ],
   "source": [
    "X_test = test_df.drop(columns=[\"week_num\"]).set_index(\"case_id\")\n",
    "X_test[cat_cols] = X_test[cat_cols].astype(\"category\")\n",
    "# X_test[cat_cols] = X_test[cat_cols].apply(lambda x: x.cat.add_categories(['NaN']).fillna('NaN'))\n",
    "\n",
    "# preds = pd.Series(loaded_model.predict_proba(test_df)[:, 1], index=test_df.index)\n",
    "\n",
    "submission_df = pd.DataFrame(index=test_df.index)\n",
    "# submission_df[\"score\"] = preds\n",
    "submission_df[\"score\"] = 0.1\n",
    "\n",
    "# Metric Hack\n",
    "# https://www.kaggle.com/code/a520hh/fork-of-this-is-the-way/notebook\n",
    "# condition = preds < 0.98\n",
    "# submission_df.loc[condition, \"score\"] = (submission_df.loc[condition, \"score\"] - 0.073).clip(0)\n",
    "\n",
    "submission_df"
   ]
  },
  {
   "cell_type": "code",
   "execution_count": 10,
   "id": "a82a86ed",
   "metadata": {
    "execution": {
     "iopub.execute_input": "2024-05-19T05:06:01.239151Z",
     "iopub.status.busy": "2024-05-19T05:06:01.238367Z",
     "iopub.status.idle": "2024-05-19T05:06:01.248690Z",
     "shell.execute_reply": "2024-05-19T05:06:01.247837Z"
    },
    "papermill": {
     "duration": 0.019458,
     "end_time": "2024-05-19T05:06:01.250656",
     "exception": false,
     "start_time": "2024-05-19T05:06:01.231198",
     "status": "completed"
    },
    "tags": []
   },
   "outputs": [],
   "source": [
    "submission_df.to_csv(\"submission.csv\")"
   ]
  },
  {
   "cell_type": "code",
   "execution_count": null,
   "id": "a25b3065",
   "metadata": {
    "papermill": {
     "duration": 0.005937,
     "end_time": "2024-05-19T05:06:01.263109",
     "exception": false,
     "start_time": "2024-05-19T05:06:01.257172",
     "status": "completed"
    },
    "tags": []
   },
   "outputs": [],
   "source": []
  }
 ],
 "metadata": {
  "kaggle": {
   "accelerator": "gpu",
   "dataSources": [
    {
     "databundleVersionId": 7921029,
     "sourceId": 50160,
     "sourceType": "competition"
    },
    {
     "datasetId": 5038079,
     "sourceId": 8453472,
     "sourceType": "datasetVersion"
    },
    {
     "datasetId": 5038176,
     "sourceId": 8454976,
     "sourceType": "datasetVersion"
    }
   ],
   "dockerImageVersionId": 30699,
   "isGpuEnabled": true,
   "isInternetEnabled": false,
   "language": "python",
   "sourceType": "notebook"
  },
  "kernelspec": {
   "display_name": "Python 3",
   "language": "python",
   "name": "python3"
  },
  "language_info": {
   "codemirror_mode": {
    "name": "ipython",
    "version": 3
   },
   "file_extension": ".py",
   "mimetype": "text/x-python",
   "name": "python",
   "nbconvert_exporter": "python",
   "pygments_lexer": "ipython3",
   "version": "3.10.13"
  },
  "papermill": {
   "default_parameters": {},
   "duration": 11.414755,
   "end_time": "2024-05-19T05:06:01.988893",
   "environment_variables": {},
   "exception": null,
   "input_path": "__notebook__.ipynb",
   "output_path": "__notebook__.ipynb",
   "parameters": {},
   "start_time": "2024-05-19T05:05:50.574138",
   "version": "2.5.0"
  }
 },
 "nbformat": 4,
 "nbformat_minor": 5
}
