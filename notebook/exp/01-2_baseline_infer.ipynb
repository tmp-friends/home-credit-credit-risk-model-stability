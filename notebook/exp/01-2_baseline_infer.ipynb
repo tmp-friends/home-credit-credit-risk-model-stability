{
 "cells": [
  {
   "cell_type": "markdown",
   "id": "fc1dca71",
   "metadata": {
    "papermill": {
     "duration": 0.005595,
     "end_time": "2024-05-18T23:21:26.474612",
     "exception": false,
     "start_time": "2024-05-18T23:21:26.469017",
     "status": "completed"
    },
    "tags": []
   },
   "source": [
    "## Baseline - Infer\n",
    "\n",
    "※ Kaggle notebookのみで動かす\n",
    "\n",
    "https://www.kaggle.com/code/pxcai666/catboost-lightgbm-ensemble/notebook"
   ]
  },
  {
   "cell_type": "markdown",
   "id": "fcc0d095",
   "metadata": {
    "papermill": {
     "duration": 0.004824,
     "end_time": "2024-05-18T23:21:26.484627",
     "exception": false,
     "start_time": "2024-05-18T23:21:26.479803",
     "status": "completed"
    },
    "tags": []
   },
   "source": [
    "### Configuration"
   ]
  },
  {
   "cell_type": "code",
   "execution_count": 1,
   "id": "6e79465e",
   "metadata": {
    "execution": {
     "iopub.execute_input": "2024-05-18T23:21:26.496330Z",
     "iopub.status.busy": "2024-05-18T23:21:26.495957Z",
     "iopub.status.idle": "2024-05-18T23:21:32.651897Z",
     "shell.execute_reply": "2024-05-18T23:21:32.650589Z"
    },
    "papermill": {
     "duration": 6.164699,
     "end_time": "2024-05-18T23:21:32.654233",
     "exception": false,
     "start_time": "2024-05-18T23:21:26.489534",
     "status": "completed"
    },
    "tags": []
   },
   "outputs": [],
   "source": [
    "import sys\n",
    "from pathlib import Path\n",
    "import subprocess\n",
    "import os\n",
    "import gc\n",
    "from glob import glob\n",
    "import pickle\n",
    "\n",
    "import numpy as np\n",
    "import pandas as pd\n",
    "import polars as pl\n",
    "from datetime import datetime\n",
    "import seaborn as sns\n",
    "import matplotlib.pyplot as plt\n",
    "\n",
    "from sklearn.model_selection import TimeSeriesSplit, GroupKFold, StratifiedGroupKFold\n",
    "from sklearn.base import BaseEstimator, RegressorMixin\n",
    "from sklearn.metrics import roc_auc_score\n",
    "from catboost import CatBoostClassifier, Pool\n",
    "import lightgbm as lgb\n",
    "\n",
    "from imblearn.over_sampling import SMOTE\n",
    "from sklearn.preprocessing import OrdinalEncoder\n",
    "from sklearn.impute import KNNImputer"
   ]
  },
  {
   "cell_type": "code",
   "execution_count": 2,
   "id": "c0dfb7c7",
   "metadata": {
    "execution": {
     "iopub.execute_input": "2024-05-18T23:21:32.666836Z",
     "iopub.status.busy": "2024-05-18T23:21:32.665736Z",
     "iopub.status.idle": "2024-05-18T23:21:32.670268Z",
     "shell.execute_reply": "2024-05-18T23:21:32.669398Z"
    },
    "papermill": {
     "duration": 0.012607,
     "end_time": "2024-05-18T23:21:32.672230",
     "exception": false,
     "start_time": "2024-05-18T23:21:32.659623",
     "status": "completed"
    },
    "tags": []
   },
   "outputs": [],
   "source": [
    "# Kaggle\n",
    "sys.path.append('/kaggle/input/home-credit-crms-repo')"
   ]
  },
  {
   "cell_type": "code",
   "execution_count": 3,
   "id": "f9204ae2",
   "metadata": {
    "execution": {
     "iopub.execute_input": "2024-05-18T23:21:32.683589Z",
     "iopub.status.busy": "2024-05-18T23:21:32.683020Z",
     "iopub.status.idle": "2024-05-18T23:21:32.687705Z",
     "shell.execute_reply": "2024-05-18T23:21:32.686849Z"
    },
    "papermill": {
     "duration": 0.01243,
     "end_time": "2024-05-18T23:21:32.689646",
     "exception": false,
     "start_time": "2024-05-18T23:21:32.677216",
     "status": "completed"
    },
    "tags": []
   },
   "outputs": [],
   "source": [
    "ROOT = \"/kaggle/input/home-credit-credit-risk-model-stability\"\n",
    "\n",
    "TRAIN_DIR = os.path.join(ROOT, \"parquet_files\", \"train\")\n",
    "TEST_DIR = os.path.join(ROOT, \"parquet_files\", \"test\")"
   ]
  },
  {
   "cell_type": "code",
   "execution_count": 4,
   "id": "0b1da04d",
   "metadata": {
    "execution": {
     "iopub.execute_input": "2024-05-18T23:21:32.701270Z",
     "iopub.status.busy": "2024-05-18T23:21:32.700618Z",
     "iopub.status.idle": "2024-05-18T23:21:32.704524Z",
     "shell.execute_reply": "2024-05-18T23:21:32.703643Z"
    },
    "papermill": {
     "duration": 0.011784,
     "end_time": "2024-05-18T23:21:32.706533",
     "exception": false,
     "start_time": "2024-05-18T23:21:32.694749",
     "status": "completed"
    },
    "tags": []
   },
   "outputs": [],
   "source": [
    "device = \"gpu\""
   ]
  },
  {
   "cell_type": "markdown",
   "id": "406586ea",
   "metadata": {
    "papermill": {
     "duration": 0.004815,
     "end_time": "2024-05-18T23:21:32.716409",
     "exception": false,
     "start_time": "2024-05-18T23:21:32.711594",
     "status": "completed"
    },
    "tags": []
   },
   "source": [
    "### Def utility classes"
   ]
  },
  {
   "cell_type": "code",
   "execution_count": 5,
   "id": "e61fcfd9",
   "metadata": {
    "execution": {
     "iopub.execute_input": "2024-05-18T23:21:32.728112Z",
     "iopub.status.busy": "2024-05-18T23:21:32.727452Z",
     "iopub.status.idle": "2024-05-18T23:21:32.765495Z",
     "shell.execute_reply": "2024-05-18T23:21:32.764704Z"
    },
    "papermill": {
     "duration": 0.046054,
     "end_time": "2024-05-18T23:21:32.767500",
     "exception": false,
     "start_time": "2024-05-18T23:21:32.721446",
     "status": "completed"
    },
    "tags": []
   },
   "outputs": [],
   "source": [
    "from src.utils.utility import Utility\n",
    "from src.utils.schema_gen import SchemaGen\n",
    "from src.utils.pipeline import Pipeline\n",
    "from src.utils.aggregator import Aggregator"
   ]
  },
  {
   "cell_type": "markdown",
   "id": "d13c516a",
   "metadata": {
    "papermill": {
     "duration": 0.00474,
     "end_time": "2024-05-18T23:21:32.777307",
     "exception": false,
     "start_time": "2024-05-18T23:21:32.772567",
     "status": "completed"
    },
    "tags": []
   },
   "source": [
    "### Read train data"
   ]
  },
  {
   "cell_type": "code",
   "execution_count": 6,
   "id": "88ddc974",
   "metadata": {
    "execution": {
     "iopub.execute_input": "2024-05-18T23:21:32.788403Z",
     "iopub.status.busy": "2024-05-18T23:21:32.788059Z",
     "iopub.status.idle": "2024-05-18T23:23:53.630113Z",
     "shell.execute_reply": "2024-05-18T23:23:53.629147Z"
    },
    "papermill": {
     "duration": 140.850105,
     "end_time": "2024-05-18T23:23:53.632360",
     "exception": false,
     "start_time": "2024-05-18T23:21:32.782255",
     "status": "completed"
    },
    "tags": []
   },
   "outputs": [
    {
     "name": "stdout",
     "output_type": "stream",
     "text": [
      "File train_base loaded into memory.\n",
      "File train_static_cb_0 loaded into memory.\n",
      "File train_static_0_0 loaded into memory.\n",
      "File train_static_0_1 loaded into memory.\n",
      "File train_applprev_1_1 loaded into memory.\n",
      "File train_applprev_1_0 loaded into memory.\n",
      "File train_tax_registry_a_1 loaded into memory.\n",
      "File train_tax_registry_b_1 loaded into memory.\n",
      "File train_tax_registry_c_1 loaded into memory.\n",
      "File train_credit_bureau_a_1_3 loaded into memory.\n",
      "File train_credit_bureau_a_1_2 loaded into memory.\n",
      "File train_credit_bureau_a_1_0 loaded into memory.\n",
      "File train_credit_bureau_a_1_1 loaded into memory.\n",
      "File train_credit_bureau_b_1 loaded into memory.\n",
      "File train_other_1 loaded into memory.\n",
      "File train_person_1 loaded into memory.\n",
      "File train_deposit_1 loaded into memory.\n",
      "File train_debitcard_1 loaded into memory.\n",
      "File train_credit_bureau_a_2_6 loaded into memory.\n",
      "File train_credit_bureau_a_2_1 loaded into memory.\n",
      "File train_credit_bureau_a_2_0 loaded into memory.\n",
      "File train_credit_bureau_a_2_7 loaded into memory.\n",
      "File train_credit_bureau_a_2_5 loaded into memory.\n",
      "File train_credit_bureau_a_2_2 loaded into memory.\n",
      "File train_credit_bureau_a_2_4 loaded into memory.\n",
      "File train_credit_bureau_a_2_9 loaded into memory.\n",
      "File train_credit_bureau_a_2_3 loaded into memory.\n",
      "File train_credit_bureau_a_2_10 loaded into memory.\n",
      "File train_credit_bureau_a_2_8 loaded into memory.\n",
      "File train_credit_bureau_b_2 loaded into memory.\n",
      "Memory usage of dataframe \"df_train\" is 6783.1317 MB.\n",
      "Memory usage of dataframe \"df_train\" became 4174.0953 MB.\n",
      "Memory usage of dataframe \"train_df\" is 2870.9171 MB.\n",
      "Memory usage of dataframe \"train_df\" became 2665.6302 MB.\n",
      "Train data shape: (1526659, 472)\n"
     ]
    },
    {
     "data": {
      "text/html": [
       "<div><style>\n",
       ".dataframe > thead > tr,\n",
       ".dataframe > tbody > tr {\n",
       "  text-align: right;\n",
       "  white-space: pre-wrap;\n",
       "}\n",
       "</style>\n",
       "<small>shape: (10, 472)</small><table border=\"1\" class=\"dataframe\"><thead><tr><th>case_id</th><th>month</th><th>week_num</th><th>target</th><th>assignmentdate_238D</th><th>assignmentdate_4527235D</th><th>birthdate_574D</th><th>contractssum_5085716L</th><th>dateofbirth_337D</th><th>days120_123L</th><th>days180_256L</th><th>days30_165L</th><th>days360_512L</th><th>days90_310L</th><th>description_5085714M</th><th>education_1103M</th><th>education_88M</th><th>firstquarter_103L</th><th>fourthquarter_440L</th><th>maritalst_385M</th><th>maritalst_893M</th><th>numberofqueries_373L</th><th>pmtaverage_3A</th><th>pmtaverage_4527227A</th><th>pmtcount_4527229L</th><th>pmtcount_693L</th><th>pmtscount_423L</th><th>pmtssum_45A</th><th>requesttype_4525192L</th><th>responsedate_1012D</th><th>responsedate_4527233D</th><th>responsedate_4917613D</th><th>secondquarter_766L</th><th>thirdquarter_1082L</th><th>actualdpdtolerance_344P</th><th>amtinstpaidbefduel24m_4187115A</th><th>annuity_780A</th><th>&hellip;</th><th>mean_mainoccupationinc_384A</th><th>max_amount_416A</th><th>max_num_group1_10</th><th>max_openingdate_313D</th><th>mean_amount_416A</th><th>mean_openingdate_313D</th><th>max_num_group1_11</th><th>max_openingdate_857D</th><th>mean_openingdate_857D</th><th>max_collater_typofvalofguarant_298M</th><th>max_collater_typofvalofguarant_407M</th><th>max_collater_valueofguarantee_1124L</th><th>max_collater_valueofguarantee_876L</th><th>max_collaterals_typeofguarante_359M</th><th>max_collaterals_typeofguarante_669M</th><th>max_num_group1_12</th><th>max_num_group2</th><th>max_pmts_dpd_1073P</th><th>max_pmts_dpd_303P</th><th>max_pmts_month_158T</th><th>max_pmts_month_706T</th><th>max_pmts_overdue_1140A</th><th>max_pmts_overdue_1152A</th><th>max_pmts_year_1139T</th><th>max_pmts_year_507T</th><th>max_subjectroles_name_541M</th><th>max_subjectroles_name_838M</th><th>mean_pmts_dpd_1073P</th><th>mean_pmts_dpd_303P</th><th>mean_pmts_overdue_1140A</th><th>mean_pmts_overdue_1152A</th><th>var_pmts_dpd_1073P</th><th>var_pmts_dpd_303P</th><th>var_pmts_overdue_1140A</th><th>var_pmts_overdue_1152A</th><th>year</th><th>day</th></tr><tr><td>u32</td><td>u32</td><td>u8</td><td>u8</td><td>i16</td><td>u8</td><td>i16</td><td>f32</td><td>i32</td><td>f32</td><td>f32</td><td>f32</td><td>f32</td><td>f32</td><td>str</td><td>str</td><td>str</td><td>f32</td><td>f32</td><td>str</td><td>str</td><td>f32</td><td>f32</td><td>f32</td><td>f32</td><td>f32</td><td>f32</td><td>f32</td><td>str</td><td>i8</td><td>u8</td><td>i8</td><td>f32</td><td>f32</td><td>f32</td><td>f32</td><td>f32</td><td>&hellip;</td><td>f32</td><td>f32</td><td>u8</td><td>i16</td><td>f32</td><td>i16</td><td>u8</td><td>i16</td><td>i16</td><td>str</td><td>str</td><td>f32</td><td>f32</td><td>str</td><td>str</td><td>u16</td><td>u8</td><td>f32</td><td>f32</td><td>f32</td><td>f32</td><td>f32</td><td>f32</td><td>f32</td><td>f32</td><td>str</td><td>str</td><td>f32</td><td>f32</td><td>f32</td><td>f32</td><td>f32</td><td>f32</td><td>f32</td><td>f32</td><td>u16</td><td>u8</td></tr></thead><tbody><tr><td>141490</td><td>201907</td><td>27</td><td>1</td><td>null</td><td>null</td><td>-10661</td><td>null</td><td>-10661</td><td>5.0</td><td>6.0</td><td>3.0</td><td>11.0</td><td>5.0</td><td>&quot;a55475b1&quot;</td><td>&quot;39a0853f&quot;</td><td>&quot;a55475b1&quot;</td><td>6.0</td><td>5.0</td><td>&quot;a7fcb6e5&quot;</td><td>&quot;a55475b1&quot;</td><td>11.0</td><td>null</td><td>null</td><td>null</td><td>null</td><td>7.0</td><td>19889.845703</td><td>null</td><td>1</td><td>null</td><td>null</td><td>3.0</td><td>3.0</td><td>0.0</td><td>110954.0</td><td>8025.800293</td><td>&hellip;</td><td>100000.0</td><td>null</td><td>null</td><td>null</td><td>null</td><td>null</td><td>null</td><td>null</td><td>null</td><td>&quot;a55475b1&quot;</td><td>&quot;a55475b1&quot;</td><td>0.0</td><td>0.0</td><td>&quot;c7a5ad39&quot;</td><td>&quot;c7a5ad39&quot;</td><td>6</td><td>35</td><td>2.0</td><td>1183.0</td><td>12.0</td><td>12.0</td><td>8816.0</td><td>267605.3125</td><td>2020.0</td><td>2020.0</td><td>&quot;ab3c25cf&quot;</td><td>&quot;ab3c25cf&quot;</td><td>0.044444</td><td>276.771088</td><td>195.911118</td><td>60054.796875</td><td>0.088889</td><td>166644.8125</td><td>1.7272e6</td><td>8.6691e9</td><td>2019</td><td>9</td></tr><tr><td>252727</td><td>202009</td><td>88</td><td>0</td><td>null</td><td>null</td><td>null</td><td>215165.5</td><td>-26403</td><td>0.0</td><td>0.0</td><td>0.0</td><td>2.0</td><td>0.0</td><td>&quot;2fc785b2&quot;</td><td>&quot;a55475b1&quot;</td><td>&quot;a55475b1&quot;</td><td>0.0</td><td>2.0</td><td>&quot;a55475b1&quot;</td><td>&quot;a55475b1&quot;</td><td>2.0</td><td>null</td><td>null</td><td>null</td><td>null</td><td>null</td><td>null</td><td>null</td><td>null</td><td>null</td><td>14</td><td>4.0</td><td>0.0</td><td>0.0</td><td>45083.800781</td><td>9375.400391</td><td>&hellip;</td><td>36400.0</td><td>null</td><td>null</td><td>null</td><td>null</td><td>null</td><td>null</td><td>null</td><td>null</td><td>&quot;a55475b1&quot;</td><td>&quot;a55475b1&quot;</td><td>0.0</td><td>0.0</td><td>&quot;c7a5ad39&quot;</td><td>&quot;c7a5ad39&quot;</td><td>6</td><td>35</td><td>60.0</td><td>47.0</td><td>12.0</td><td>12.0</td><td>9479.600586</td><td>4324.200195</td><td>2021.0</td><td>2021.0</td><td>&quot;ab3c25cf&quot;</td><td>&quot;ab3c25cf&quot;</td><td>9.909091</td><td>2.618056</td><td>2330.268555</td><td>329.445831</td><td>354.690918</td><td>56.923027</td><td>9.925174e6</td><td>852634.375</td><td>2020</td><td>14</td></tr><tr><td>1323779</td><td>201903</td><td>12</td><td>0</td><td>null</td><td>null</td><td>-9736</td><td>null</td><td>-9736</td><td>0.0</td><td>1.0</td><td>0.0</td><td>3.0</td><td>0.0</td><td>&quot;a55475b1&quot;</td><td>&quot;a55475b1&quot;</td><td>&quot;a55475b1&quot;</td><td>3.0</td><td>1.0</td><td>&quot;a55475b1&quot;</td><td>&quot;a55475b1&quot;</td><td>3.0</td><td>null</td><td>null</td><td>null</td><td>null</td><td>10.0</td><td>10945.400391</td><td>null</td><td>14</td><td>null</td><td>null</td><td>2.0</td><td>0.0</td><td>0.0</td><td>20597.0</td><td>10234.799805</td><td>&hellip;</td><td>70000.0</td><td>null</td><td>null</td><td>null</td><td>null</td><td>null</td><td>null</td><td>null</td><td>null</td><td>&quot;a55475b1&quot;</td><td>&quot;a55475b1&quot;</td><td>0.0</td><td>null</td><td>&quot;a55475b1&quot;</td><td>&quot;c7a5ad39&quot;</td><td>1</td><td>35</td><td>0.0</td><td>null</td><td>12.0</td><td>null</td><td>0.0</td><td>null</td><td>2020.0</td><td>null</td><td>&quot;a55475b1&quot;</td><td>&quot;ab3c25cf&quot;</td><td>0.0</td><td>null</td><td>0.0</td><td>null</td><td>0.0</td><td>null</td><td>0.0</td><td>null</td><td>2019</td><td>29</td></tr><tr><td>1315181</td><td>201903</td><td>11</td><td>0</td><td>null</td><td>null</td><td>-12985</td><td>null</td><td>-12985</td><td>2.0</td><td>2.0</td><td>0.0</td><td>8.0</td><td>2.0</td><td>&quot;a55475b1&quot;</td><td>&quot;a55475b1&quot;</td><td>&quot;a55475b1&quot;</td><td>12.0</td><td>9.0</td><td>&quot;a55475b1&quot;</td><td>&quot;a55475b1&quot;</td><td>8.0</td><td>null</td><td>null</td><td>null</td><td>null</td><td>0.0</td><td>0.0</td><td>null</td><td>14</td><td>null</td><td>null</td><td>4.0</td><td>7.0</td><td>0.0</td><td>44907.90625</td><td>1859.400024</td><td>&hellip;</td><td>50000.0</td><td>null</td><td>null</td><td>null</td><td>null</td><td>null</td><td>null</td><td>null</td><td>null</td><td>&quot;a55475b1&quot;</td><td>&quot;a55475b1&quot;</td><td>0.0</td><td>null</td><td>&quot;a55475b1&quot;</td><td>&quot;c7a5ad39&quot;</td><td>2</td><td>35</td><td>1.0</td><td>null</td><td>12.0</td><td>null</td><td>250.400009</td><td>null</td><td>2020.0</td><td>null</td><td>&quot;a55475b1&quot;</td><td>&quot;ab3c25cf&quot;</td><td>0.020833</td><td>null</td><td>5.216667</td><td>null</td><td>0.020833</td><td>null</td><td>1306.253418</td><td>null</td><td>2019</td><td>21</td></tr><tr><td>1731864</td><td>202001</td><td>52</td><td>0</td><td>null</td><td>null</td><td>null</td><td>null</td><td>-11965</td><td>2.0</td><td>2.0</td><td>1.0</td><td>3.0</td><td>2.0</td><td>&quot;a55475b1&quot;</td><td>&quot;6b2ae0fa&quot;</td><td>&quot;a55475b1&quot;</td><td>1.0</td><td>2.0</td><td>&quot;a7fcb6e5&quot;</td><td>&quot;a55475b1&quot;</td><td>3.0</td><td>null</td><td>null</td><td>null</td><td>null</td><td>null</td><td>null</td><td>&quot;DEDUCTION_6&quot;</td><td>null</td><td>14</td><td>null</td><td>1.0</td><td>2.0</td><td>0.0</td><td>24725.800781</td><td>5900.399902</td><td>&hellip;</td><td>50000.0</td><td>null</td><td>null</td><td>null</td><td>null</td><td>null</td><td>null</td><td>null</td><td>null</td><td>&quot;a55475b1&quot;</td><td>&quot;a55475b1&quot;</td><td>0.0</td><td>0.0</td><td>&quot;c7a5ad39&quot;</td><td>&quot;c7a5ad39&quot;</td><td>4</td><td>23</td><td>0.0</td><td>22.0</td><td>12.0</td><td>12.0</td><td>0.0</td><td>2854.199951</td><td>2020.0</td><td>2020.0</td><td>&quot;ab3c25cf&quot;</td><td>&quot;ab3c25cf&quot;</td><td>0.0</td><td>0.808511</td><td>0.0</td><td>64.693619</td><td>0.0</td><td>12.679926</td><td>0.0</td><td>173457.4375</td><td>2020</td><td>3</td></tr><tr><td>878163</td><td>201911</td><td>47</td><td>0</td><td>null</td><td>null</td><td>null</td><td>null</td><td>-10042</td><td>1.0</td><td>2.0</td><td>0.0</td><td>6.0</td><td>0.0</td><td>&quot;a55475b1&quot;</td><td>&quot;a55475b1&quot;</td><td>&quot;a55475b1&quot;</td><td>2.0</td><td>2.0</td><td>&quot;a55475b1&quot;</td><td>&quot;a55475b1&quot;</td><td>6.0</td><td>null</td><td>null</td><td>null</td><td>null</td><td>null</td><td>null</td><td>&quot;DEDUCTION_6&quot;</td><td>null</td><td>14</td><td>null</td><td>4.0</td><td>2.0</td><td>null</td><td>null</td><td>2333.199951</td><td>&hellip;</td><td>60000.0</td><td>null</td><td>null</td><td>null</td><td>null</td><td>null</td><td>null</td><td>null</td><td>null</td><td>&quot;a55475b1&quot;</td><td>&quot;a55475b1&quot;</td><td>0.0</td><td>0.0</td><td>&quot;c7a5ad39&quot;</td><td>&quot;c7a5ad39&quot;</td><td>4</td><td>35</td><td>3.0</td><td>0.0</td><td>12.0</td><td>12.0</td><td>8258.589844</td><td>0.0</td><td>2020.0</td><td>2020.0</td><td>&quot;ab3c25cf&quot;</td><td>&quot;ab3c25cf&quot;</td><td>0.105882</td><td>0.0</td><td>282.910004</td><td>0.0</td><td>0.262465</td><td>0.0</td><td>1.8837e6</td><td>0.0</td><td>2019</td><td>29</td></tr><tr><td>1285664</td><td>201902</td><td>6</td><td>0</td><td>null</td><td>null</td><td>-11949</td><td>null</td><td>-11949</td><td>6.0</td><td>12.0</td><td>3.0</td><td>14.0</td><td>3.0</td><td>&quot;a55475b1&quot;</td><td>&quot;6b2ae0fa&quot;</td><td>&quot;a55475b1&quot;</td><td>3.0</td><td>3.0</td><td>&quot;3439d993&quot;</td><td>&quot;a55475b1&quot;</td><td>14.0</td><td>null</td><td>null</td><td>null</td><td>null</td><td>6.0</td><td>48959.800781</td><td>null</td><td>14</td><td>null</td><td>null</td><td>2.0</td><td>6.0</td><td>0.0</td><td>null</td><td>5807.600098</td><td>&hellip;</td><td>90000.0</td><td>null</td><td>null</td><td>null</td><td>null</td><td>null</td><td>null</td><td>null</td><td>null</td><td>&quot;a55475b1&quot;</td><td>&quot;a55475b1&quot;</td><td>0.0</td><td>null</td><td>&quot;a55475b1&quot;</td><td>&quot;c7a5ad39&quot;</td><td>6</td><td>35</td><td>11.0</td><td>null</td><td>12.0</td><td>null</td><td>17155.101562</td><td>null</td><td>2020.0</td><td>null</td><td>&quot;a55475b1&quot;</td><td>&quot;ab3c25cf&quot;</td><td>0.43038</td><td>null</td><td>780.185059</td><td>null</td><td>3.273937</td><td>null</td><td>1.0290617e7</td><td>null</td><td>2019</td><td>17</td></tr><tr><td>1756433</td><td>202001</td><td>54</td><td>0</td><td>null</td><td>14</td><td>null</td><td>null</td><td>-24247</td><td>2.0</td><td>4.0</td><td>0.0</td><td>9.0</td><td>0.0</td><td>&quot;a55475b1&quot;</td><td>&quot;6b2ae0fa&quot;</td><td>&quot;a55475b1&quot;</td><td>0.0</td><td>0.0</td><td>&quot;3439d993&quot;</td><td>&quot;a55475b1&quot;</td><td>9.0</td><td>null</td><td>5628.200195</td><td>6.0</td><td>null</td><td>null</td><td>null</td><td>&quot;PENSION_6&quot;</td><td>null</td><td>14</td><td>null</td><td>5.0</td><td>5.0</td><td>0.0</td><td>12017.400391</td><td>4314.399902</td><td>&hellip;</td><td>100200.0</td><td>null</td><td>null</td><td>null</td><td>null</td><td>null</td><td>null</td><td>null</td><td>null</td><td>&quot;a55475b1&quot;</td><td>&quot;a55475b1&quot;</td><td>0.0</td><td>0.0</td><td>&quot;c7a5ad39&quot;</td><td>&quot;c7a5ad39&quot;</td><td>4</td><td>23</td><td>19.0</td><td>652.0</td><td>12.0</td><td>12.0</td><td>4974.960449</td><td>43044.253906</td><td>2021.0</td><td>2020.0</td><td>&quot;ab3c25cf&quot;</td><td>&quot;ab3c25cf&quot;</td><td>0.967742</td><td>144.879303</td><td>322.994141</td><td>10937.339844</td><td>12.898925</td><td>41758.597656</td><td>1.0472e6</td><td>1.93560256e8</td><td>2020</td><td>20</td></tr><tr><td>1901486</td><td>202008</td><td>85</td><td>0</td><td>null</td><td>null</td><td>null</td><td>344121.21875</td><td>-12289</td><td>3.0</td><td>3.0</td><td>1.0</td><td>7.0</td><td>3.0</td><td>&quot;2fc785b2&quot;</td><td>&quot;6b2ae0fa&quot;</td><td>&quot;a55475b1&quot;</td><td>5.0</td><td>4.0</td><td>&quot;3439d993&quot;</td><td>&quot;a55475b1&quot;</td><td>7.0</td><td>null</td><td>null</td><td>null</td><td>null</td><td>null</td><td>null</td><td>null</td><td>null</td><td>null</td><td>14</td><td>5.0</td><td>5.0</td><td>0.0</td><td>28046.800781</td><td>4314.800293</td><td>&hellip;</td><td>60000.0</td><td>null</td><td>null</td><td>null</td><td>null</td><td>null</td><td>null</td><td>null</td><td>null</td><td>&quot;a55475b1&quot;</td><td>&quot;a55475b1&quot;</td><td>0.0</td><td>0.0</td><td>&quot;c7a5ad39&quot;</td><td>&quot;c7a5ad39&quot;</td><td>2</td><td>35</td><td>2.0</td><td>0.0</td><td>12.0</td><td>12.0</td><td>3153.0</td><td>0.0</td><td>2021.0</td><td>2021.0</td><td>&quot;ab3c25cf&quot;</td><td>&quot;ab3c25cf&quot;</td><td>0.060606</td><td>0.0</td><td>95.545456</td><td>0.0</td><td>0.121212</td><td>0.0</td><td>301254.8125</td><td>0.0</td><td>2020</td><td>24</td></tr><tr><td>765925</td><td>201908</td><td>31</td><td>0</td><td>null</td><td>null</td><td>-8439</td><td>null</td><td>-8439</td><td>3.0</td><td>3.0</td><td>2.0</td><td>7.0</td><td>3.0</td><td>&quot;a55475b1&quot;</td><td>&quot;a55475b1&quot;</td><td>&quot;a55475b1&quot;</td><td>0.0</td><td>4.0</td><td>&quot;a55475b1&quot;</td><td>&quot;a55475b1&quot;</td><td>7.0</td><td>null</td><td>null</td><td>null</td><td>null</td><td>1.0</td><td>2413.199951</td><td>null</td><td>14</td><td>null</td><td>null</td><td>3.0</td><td>3.0</td><td>null</td><td>null</td><td>2440.400146</td><td>&hellip;</td><td>50000.0</td><td>null</td><td>null</td><td>null</td><td>null</td><td>null</td><td>null</td><td>null</td><td>null</td><td>&quot;a55475b1&quot;</td><td>&quot;a55475b1&quot;</td><td>0.0</td><td>null</td><td>&quot;a55475b1&quot;</td><td>&quot;c7a5ad39&quot;</td><td>1</td><td>23</td><td>1.0</td><td>null</td><td>12.0</td><td>null</td><td>4575.173828</td><td>null</td><td>2020.0</td><td>null</td><td>&quot;a55475b1&quot;</td><td>&quot;ab3c25cf&quot;</td><td>0.030303</td><td>null</td><td>138.641632</td><td>null</td><td>0.030303</td><td>null</td><td>634309.625</td><td>null</td><td>2019</td><td>9</td></tr></tbody></table></div>"
      ],
      "text/plain": [
       "shape: (10, 472)\n",
       "┌─────────┬────────┬──────────┬────────┬───┬─────────────────────┬────────────────────┬──────┬─────┐\n",
       "│ case_id ┆ month  ┆ week_num ┆ target ┆ … ┆ var_pmts_overdue_11 ┆ var_pmts_overdue_1 ┆ year ┆ day │\n",
       "│ ---     ┆ ---    ┆ ---      ┆ ---    ┆   ┆ 40A                 ┆ 152A               ┆ ---  ┆ --- │\n",
       "│ u32     ┆ u32    ┆ u8       ┆ u8     ┆   ┆ ---                 ┆ ---                ┆ u16  ┆ u8  │\n",
       "│         ┆        ┆          ┆        ┆   ┆ f32                 ┆ f32                ┆      ┆     │\n",
       "╞═════════╪════════╪══════════╪════════╪═══╪═════════════════════╪════════════════════╪══════╪═════╡\n",
       "│ 141490  ┆ 201907 ┆ 27       ┆ 1      ┆ … ┆ 1.7272e6            ┆ 8.6691e9           ┆ 2019 ┆ 9   │\n",
       "│ 252727  ┆ 202009 ┆ 88       ┆ 0      ┆ … ┆ 9.925174e6          ┆ 852634.375         ┆ 2020 ┆ 14  │\n",
       "│ 1323779 ┆ 201903 ┆ 12       ┆ 0      ┆ … ┆ 0.0                 ┆ null               ┆ 2019 ┆ 29  │\n",
       "│ 1315181 ┆ 201903 ┆ 11       ┆ 0      ┆ … ┆ 1306.253418         ┆ null               ┆ 2019 ┆ 21  │\n",
       "│ 1731864 ┆ 202001 ┆ 52       ┆ 0      ┆ … ┆ 0.0                 ┆ 173457.4375        ┆ 2020 ┆ 3   │\n",
       "│ 878163  ┆ 201911 ┆ 47       ┆ 0      ┆ … ┆ 1.8837e6            ┆ 0.0                ┆ 2019 ┆ 29  │\n",
       "│ 1285664 ┆ 201902 ┆ 6        ┆ 0      ┆ … ┆ 1.0290617e7         ┆ null               ┆ 2019 ┆ 17  │\n",
       "│ 1756433 ┆ 202001 ┆ 54       ┆ 0      ┆ … ┆ 1.0472e6            ┆ 1.93560256e8       ┆ 2020 ┆ 20  │\n",
       "│ 1901486 ┆ 202008 ┆ 85       ┆ 0      ┆ … ┆ 301254.8125         ┆ 0.0                ┆ 2020 ┆ 24  │\n",
       "│ 765925  ┆ 201908 ┆ 31       ┆ 0      ┆ … ┆ 634309.625          ┆ null               ┆ 2019 ┆ 9   │\n",
       "└─────────┴────────┴──────────┴────────┴───┴─────────────────────┴────────────────────┴──────┴─────┘"
      ]
     },
     "metadata": {},
     "output_type": "display_data"
    },
    {
     "name": "stdout",
     "output_type": "stream",
     "text": [
      "CPU times: user 5min 56s, sys: 1min 44s, total: 7min 40s\n",
      "Wall time: 2min 20s\n"
     ]
    }
   ],
   "source": [
    "%%time\n",
    "\n",
    "data_store: dict = {\n",
    "    \"df_base\": SchemaGen.scan_files(os.path.join(TRAIN_DIR, \"train_base.parquet\")),\n",
    "    \"depth_0\": [\n",
    "        SchemaGen.scan_files(os.path.join(TRAIN_DIR, \"train_static_cb_0.parquet\")),\n",
    "        SchemaGen.scan_files(os.path.join(TRAIN_DIR, \"train_static_0_*.parquet\")),\n",
    "    ],\n",
    "    \"depth_1\": [\n",
    "        SchemaGen.scan_files(os.path.join(TRAIN_DIR, \"train_applprev_1_*.parquet\"), 1),\n",
    "        SchemaGen.scan_files(os.path.join(TRAIN_DIR, \"train_tax_registry_a_1.parquet\"), 1),\n",
    "        SchemaGen.scan_files(os.path.join(TRAIN_DIR, \"train_tax_registry_b_1.parquet\"), 1),\n",
    "        SchemaGen.scan_files(os.path.join(TRAIN_DIR, \"train_tax_registry_c_1.parquet\"), 1),\n",
    "        SchemaGen.scan_files(os.path.join(TRAIN_DIR, \"train_credit_bureau_a_1_*.parquet\"), 1),\n",
    "        SchemaGen.scan_files(os.path.join(TRAIN_DIR, \"train_credit_bureau_b_1.parquet\"), 1),\n",
    "        SchemaGen.scan_files(os.path.join(TRAIN_DIR, \"train_other_1.parquet\"), 1),\n",
    "        SchemaGen.scan_files(os.path.join(TRAIN_DIR, \"train_person_1.parquet\"), 1),\n",
    "        SchemaGen.scan_files(os.path.join(TRAIN_DIR, \"train_deposit_1.parquet\"), 1),\n",
    "        SchemaGen.scan_files(os.path.join(TRAIN_DIR, \"train_debitcard_1.parquet\"), 1),\n",
    "    ],\n",
    "    \"depth_2\": [\n",
    "        SchemaGen.scan_files(os.path.join(TRAIN_DIR, \"train_credit_bureau_a_2_*.parquet\"), 2),\n",
    "        SchemaGen.scan_files(os.path.join(TRAIN_DIR, \"train_credit_bureau_b_2.parquet\"), 2),\n",
    "    ],\n",
    "}\n",
    "\n",
    "train_df: pl.LazyFrame = (\n",
    "    SchemaGen.join_dataframes(**data_store)\n",
    "    .pipe(Pipeline.filter_cols)\n",
    "    .pipe(Pipeline.transform_cols)\n",
    "    .pipe(Pipeline.handle_dates)\n",
    "    .pipe(Utility.reduce_memory_usage, \"train_df\")\n",
    ")\n",
    "\n",
    "del data_store\n",
    "gc.collect()\n",
    "\n",
    "print(f\"Train data shape: {train_df.shape}\")\n",
    "display(train_df.head(10))"
   ]
  },
  {
   "cell_type": "markdown",
   "id": "281f22fd",
   "metadata": {
    "papermill": {
     "duration": 0.006469,
     "end_time": "2024-05-18T23:23:53.645701",
     "exception": false,
     "start_time": "2024-05-18T23:23:53.639232",
     "status": "completed"
    },
    "tags": []
   },
   "source": [
    "### Read test data"
   ]
  },
  {
   "cell_type": "code",
   "execution_count": 7,
   "id": "82b5ca35",
   "metadata": {
    "execution": {
     "iopub.execute_input": "2024-05-18T23:23:53.661810Z",
     "iopub.status.busy": "2024-05-18T23:23:53.661123Z",
     "iopub.status.idle": "2024-05-18T23:23:59.350666Z",
     "shell.execute_reply": "2024-05-18T23:23:59.349504Z"
    },
    "papermill": {
     "duration": 5.700604,
     "end_time": "2024-05-18T23:23:59.352942",
     "exception": false,
     "start_time": "2024-05-18T23:23:53.652338",
     "status": "completed"
    },
    "tags": []
   },
   "outputs": [
    {
     "name": "stdout",
     "output_type": "stream",
     "text": [
      "File test_base loaded into memory.\n",
      "File test_static_cb_0 loaded into memory.\n",
      "File test_static_0_0 loaded into memory.\n",
      "File test_static_0_2 loaded into memory.\n",
      "File test_static_0_1 loaded into memory.\n",
      "File test_applprev_1_2 loaded into memory.\n",
      "File test_applprev_1_0 loaded into memory.\n",
      "File test_applprev_1_1 loaded into memory.\n",
      "File test_tax_registry_a_1 loaded into memory.\n",
      "File test_tax_registry_b_1 loaded into memory.\n",
      "File test_tax_registry_c_1 loaded into memory.\n",
      "File test_credit_bureau_a_1_3 loaded into memory.\n",
      "File test_credit_bureau_a_1_2 loaded into memory.\n",
      "File test_credit_bureau_a_1_1 loaded into memory.\n",
      "File test_credit_bureau_a_1_4 loaded into memory.\n",
      "File test_credit_bureau_a_1_0 loaded into memory.\n",
      "File test_credit_bureau_b_1 loaded into memory.\n",
      "File test_other_1 loaded into memory.\n",
      "File test_person_1 loaded into memory.\n",
      "File test_deposit_1 loaded into memory.\n",
      "File test_debitcard_1 loaded into memory.\n",
      "File test_credit_bureau_b_2 loaded into memory.\n",
      "File test_credit_bureau_a_2_3 loaded into memory.\n",
      "File test_credit_bureau_a_2_9 loaded into memory.\n",
      "File test_credit_bureau_a_2_2 loaded into memory.\n",
      "File test_credit_bureau_a_2_11 loaded into memory.\n",
      "File test_credit_bureau_a_2_1 loaded into memory.\n",
      "File test_credit_bureau_a_2_6 loaded into memory.\n",
      "File test_credit_bureau_a_2_5 loaded into memory.\n",
      "File test_credit_bureau_a_2_0 loaded into memory.\n",
      "File test_credit_bureau_a_2_7 loaded into memory.\n",
      "File test_credit_bureau_a_2_10 loaded into memory.\n",
      "File test_credit_bureau_a_2_8 loaded into memory.\n",
      "File test_credit_bureau_a_2_4 loaded into memory.\n",
      "Memory usage of dataframe \"df_train\" is 0.0432 MB.\n",
      "Memory usage of dataframe \"df_train\" became 0.0311 MB.\n",
      "Memory usage of dataframe \"test_df\" is 0.0184 MB.\n",
      "Memory usage of dataframe \"test_df\" became 0.0173 MB.\n",
      "Test data shape: (10, 471)\n"
     ]
    }
   ],
   "source": [
    "data_store = {\n",
    "    \"df_base\": SchemaGen.scan_files(os.path.join(TEST_DIR, \"test_base.parquet\")),\n",
    "    \"depth_0\": [\n",
    "        SchemaGen.scan_files(os.path.join(TEST_DIR, \"test_static_cb_0.parquet\")),\n",
    "        SchemaGen.scan_files(os.path.join(TEST_DIR, \"test_static_0_*.parquet\")),\n",
    "    ],\n",
    "    \"depth_1\": [\n",
    "        SchemaGen.scan_files(os.path.join(TEST_DIR, \"test_applprev_1_*.parquet\"), 1),\n",
    "        SchemaGen.scan_files(os.path.join(TEST_DIR, \"test_tax_registry_a_1.parquet\"), 1),\n",
    "        SchemaGen.scan_files(os.path.join(TEST_DIR, \"test_tax_registry_b_1.parquet\"), 1),\n",
    "        SchemaGen.scan_files(os.path.join(TEST_DIR, \"test_tax_registry_c_1.parquet\"), 1),\n",
    "        SchemaGen.scan_files(os.path.join(TEST_DIR, \"test_credit_bureau_a_1_*.parquet\"), 1),\n",
    "        SchemaGen.scan_files(os.path.join(TEST_DIR, \"test_credit_bureau_b_1.parquet\"), 1),\n",
    "        SchemaGen.scan_files(os.path.join(TEST_DIR, \"test_other_1.parquet\"), 1),\n",
    "        SchemaGen.scan_files(os.path.join(TEST_DIR, \"test_person_1.parquet\"), 1),\n",
    "        SchemaGen.scan_files(os.path.join(TEST_DIR, \"test_deposit_1.parquet\"), 1),\n",
    "        SchemaGen.scan_files(os.path.join(TEST_DIR, \"test_debitcard_1.parquet\"), 1),\n",
    "    ],\n",
    "    \"depth_2\": [\n",
    "        SchemaGen.scan_files(os.path.join(TEST_DIR, \"test_credit_bureau_b_2.parquet\"), 2),\n",
    "        SchemaGen.scan_files(os.path.join(TEST_DIR, \"test_credit_bureau_a_2_*.parquet\"), 2),\n",
    "        # SchemaGen.scan_files(os.path.join(TEST_DIR, \"test_applprev_2.parquet\"), 2),\n",
    "        # SchemaGen.scan_files(os.path.join(TEST_DIR, \"test_person_2.parquet\"), 2)\n",
    "    ],\n",
    "}\n",
    "\n",
    "test_df: pl.DataFrame = (\n",
    "    SchemaGen.join_dataframes(**data_store)\n",
    "    .pipe(Pipeline.transform_cols)\n",
    "    .pipe(Pipeline.handle_dates)\n",
    "    .select([col for col in train_df.columns if col != \"target\"])\n",
    "    .pipe(Utility.reduce_memory_usage, \"test_df\")\n",
    ")\n",
    "\n",
    "del data_store\n",
    "gc.collect()\n",
    "\n",
    "print(f\"Test data shape: {test_df.shape}\")"
   ]
  },
  {
   "cell_type": "code",
   "execution_count": 8,
   "id": "173e58dc",
   "metadata": {
    "execution": {
     "iopub.execute_input": "2024-05-18T23:23:59.371448Z",
     "iopub.status.busy": "2024-05-18T23:23:59.371048Z",
     "iopub.status.idle": "2024-05-18T23:24:23.008030Z",
     "shell.execute_reply": "2024-05-18T23:24:23.006963Z"
    },
    "papermill": {
     "duration": 23.648763,
     "end_time": "2024-05-18T23:24:23.010079",
     "exception": false,
     "start_time": "2024-05-18T23:23:59.361316",
     "status": "completed"
    },
    "tags": []
   },
   "outputs": [
    {
     "data": {
      "text/plain": [
       "0"
      ]
     },
     "execution_count": 8,
     "metadata": {},
     "output_type": "execute_result"
    }
   ],
   "source": [
    "train_df, cat_cols = Utility.to_pandas(train_df)\n",
    "test_df, cat_cols = Utility.to_pandas(test_df, cat_cols)\n",
    "\n",
    "del train_df\n",
    "gc.collect()"
   ]
  },
  {
   "cell_type": "markdown",
   "id": "1cd67091",
   "metadata": {
    "papermill": {
     "duration": 0.007976,
     "end_time": "2024-05-18T23:24:23.026399",
     "exception": false,
     "start_time": "2024-05-18T23:24:23.018423",
     "status": "completed"
    },
    "tags": []
   },
   "source": [
    "### Inference"
   ]
  },
  {
   "cell_type": "code",
   "execution_count": 9,
   "id": "9ce15478",
   "metadata": {
    "execution": {
     "iopub.execute_input": "2024-05-18T23:24:23.044495Z",
     "iopub.status.busy": "2024-05-18T23:24:23.043611Z",
     "iopub.status.idle": "2024-05-18T23:24:23.047439Z",
     "shell.execute_reply": "2024-05-18T23:24:23.046756Z"
    },
    "papermill": {
     "duration": 0.014853,
     "end_time": "2024-05-18T23:24:23.049309",
     "exception": false,
     "start_time": "2024-05-18T23:24:23.034456",
     "status": "completed"
    },
    "tags": []
   },
   "outputs": [],
   "source": [
    "# with open('/kaggle/input/home-credit-crms-models/voting_model.pkl', 'rb') as f:\n",
    "#     loaded_model = pickle.load(f)"
   ]
  },
  {
   "cell_type": "code",
   "execution_count": 10,
   "id": "643e7b8e",
   "metadata": {
    "execution": {
     "iopub.execute_input": "2024-05-18T23:24:23.067052Z",
     "iopub.status.busy": "2024-05-18T23:24:23.066488Z",
     "iopub.status.idle": "2024-05-18T23:24:23.131346Z",
     "shell.execute_reply": "2024-05-18T23:24:23.130369Z"
    },
    "papermill": {
     "duration": 0.076181,
     "end_time": "2024-05-18T23:24:23.133635",
     "exception": false,
     "start_time": "2024-05-18T23:24:23.057454",
     "status": "completed"
    },
    "tags": []
   },
   "outputs": [
    {
     "data": {
      "text/html": [
       "<div>\n",
       "<style scoped>\n",
       "    .dataframe tbody tr th:only-of-type {\n",
       "        vertical-align: middle;\n",
       "    }\n",
       "\n",
       "    .dataframe tbody tr th {\n",
       "        vertical-align: top;\n",
       "    }\n",
       "\n",
       "    .dataframe thead th {\n",
       "        text-align: right;\n",
       "    }\n",
       "</style>\n",
       "<table border=\"1\" class=\"dataframe\">\n",
       "  <thead>\n",
       "    <tr style=\"text-align: right;\">\n",
       "      <th></th>\n",
       "      <th>score</th>\n",
       "    </tr>\n",
       "    <tr>\n",
       "      <th>case_id</th>\n",
       "      <th></th>\n",
       "    </tr>\n",
       "  </thead>\n",
       "  <tbody>\n",
       "    <tr>\n",
       "      <th>57549</th>\n",
       "      <td>0</td>\n",
       "    </tr>\n",
       "    <tr>\n",
       "      <th>57632</th>\n",
       "      <td>0</td>\n",
       "    </tr>\n",
       "    <tr>\n",
       "      <th>57630</th>\n",
       "      <td>0</td>\n",
       "    </tr>\n",
       "    <tr>\n",
       "      <th>57633</th>\n",
       "      <td>0</td>\n",
       "    </tr>\n",
       "    <tr>\n",
       "      <th>57634</th>\n",
       "      <td>0</td>\n",
       "    </tr>\n",
       "    <tr>\n",
       "      <th>57569</th>\n",
       "      <td>0</td>\n",
       "    </tr>\n",
       "    <tr>\n",
       "      <th>57552</th>\n",
       "      <td>0</td>\n",
       "    </tr>\n",
       "    <tr>\n",
       "      <th>57631</th>\n",
       "      <td>0</td>\n",
       "    </tr>\n",
       "    <tr>\n",
       "      <th>57551</th>\n",
       "      <td>0</td>\n",
       "    </tr>\n",
       "    <tr>\n",
       "      <th>57543</th>\n",
       "      <td>0</td>\n",
       "    </tr>\n",
       "  </tbody>\n",
       "</table>\n",
       "</div>"
      ],
      "text/plain": [
       "         score\n",
       "case_id       \n",
       "57549        0\n",
       "57632        0\n",
       "57630        0\n",
       "57633        0\n",
       "57634        0\n",
       "57569        0\n",
       "57552        0\n",
       "57631        0\n",
       "57551        0\n",
       "57543        0"
      ]
     },
     "execution_count": 10,
     "metadata": {},
     "output_type": "execute_result"
    }
   ],
   "source": [
    "test_df = test_df.drop(columns=[\"week_num\"]).set_index(\"case_id\")\n",
    "test_df[cat_cols] = test_df[cat_cols].astype(\"category\")\n",
    "\n",
    "# preds = pd.Series(loaded_model.predict_proba(test_df)[:, 1], index=test_df.index)\n",
    "\n",
    "submission_df = pd.DataFrame(index=test_df.index)\n",
    "# submission_df[\"score\"] = preds\n",
    "submission_df[\"score\"] = 0\n",
    "\n",
    "# Metric Hack\n",
    "# https://www.kaggle.com/code/a520hh/fork-of-this-is-the-way/notebook\n",
    "# condition = preds < 0.98\n",
    "# submission_df.loc[condition, \"score\"] = (submission_df.loc[condition, \"score\"] - 0.073).clip(0)\n",
    "\n",
    "submission_df"
   ]
  },
  {
   "cell_type": "code",
   "execution_count": 11,
   "id": "9a07b974",
   "metadata": {
    "execution": {
     "iopub.execute_input": "2024-05-18T23:24:23.152282Z",
     "iopub.status.busy": "2024-05-18T23:24:23.151764Z",
     "iopub.status.idle": "2024-05-18T23:24:23.159656Z",
     "shell.execute_reply": "2024-05-18T23:24:23.158943Z"
    },
    "papermill": {
     "duration": 0.019355,
     "end_time": "2024-05-18T23:24:23.161694",
     "exception": false,
     "start_time": "2024-05-18T23:24:23.142339",
     "status": "completed"
    },
    "tags": []
   },
   "outputs": [],
   "source": [
    "submission_df.to_csv(\"submission.csv\")"
   ]
  },
  {
   "cell_type": "code",
   "execution_count": null,
   "id": "c2e8a662",
   "metadata": {
    "papermill": {
     "duration": 0.008135,
     "end_time": "2024-05-18T23:24:23.178261",
     "exception": false,
     "start_time": "2024-05-18T23:24:23.170126",
     "status": "completed"
    },
    "tags": []
   },
   "outputs": [],
   "source": []
  }
 ],
 "metadata": {
  "kaggle": {
   "accelerator": "gpu",
   "dataSources": [
    {
     "databundleVersionId": 7921029,
     "sourceId": 50160,
     "sourceType": "competition"
    },
    {
     "datasetId": 5038079,
     "sourceId": 8453472,
     "sourceType": "datasetVersion"
    },
    {
     "datasetId": 5038176,
     "sourceId": 8453625,
     "sourceType": "datasetVersion"
    }
   ],
   "dockerImageVersionId": 30699,
   "isGpuEnabled": true,
   "isInternetEnabled": false,
   "language": "python",
   "sourceType": "notebook"
  },
  "kernelspec": {
   "display_name": "Python 3",
   "language": "python",
   "name": "python3"
  },
  "language_info": {
   "codemirror_mode": {
    "name": "ipython",
    "version": 3
   },
   "file_extension": ".py",
   "mimetype": "text/x-python",
   "name": "python",
   "nbconvert_exporter": "python",
   "pygments_lexer": "ipython3",
   "version": "3.10.13"
  },
  "papermill": {
   "default_parameters": {},
   "duration": 180.772125,
   "end_time": "2024-05-18T23:24:24.407975",
   "environment_variables": {},
   "exception": null,
   "input_path": "__notebook__.ipynb",
   "output_path": "__notebook__.ipynb",
   "parameters": {},
   "start_time": "2024-05-18T23:21:23.635850",
   "version": "2.5.0"
  }
 },
 "nbformat": 4,
 "nbformat_minor": 5
}
