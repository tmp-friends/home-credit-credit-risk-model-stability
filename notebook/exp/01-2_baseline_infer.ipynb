{
 "cells": [
  {
   "cell_type": "markdown",
   "id": "1a129163",
   "metadata": {
    "papermill": {
     "duration": 0.006556,
     "end_time": "2024-05-21T01:25:04.622776",
     "exception": false,
     "start_time": "2024-05-21T01:25:04.616220",
     "status": "completed"
    },
    "tags": []
   },
   "source": [
    "## Baseline - Infer\n",
    "\n",
    "※ Kaggle notebookのみで動かす\n",
    "\n",
    "https://www.kaggle.com/code/pxcai666/catboost-lightgbm-ensemble/notebook"
   ]
  },
  {
   "cell_type": "markdown",
   "id": "619a9091",
   "metadata": {
    "papermill": {
     "duration": 0.005167,
     "end_time": "2024-05-21T01:25:04.633637",
     "exception": false,
     "start_time": "2024-05-21T01:25:04.628470",
     "status": "completed"
    },
    "tags": []
   },
   "source": [
    "### Configuration"
   ]
  },
  {
   "cell_type": "code",
   "execution_count": 1,
   "id": "8219a416",
   "metadata": {
    "execution": {
     "iopub.execute_input": "2024-05-21T01:25:04.646031Z",
     "iopub.status.busy": "2024-05-21T01:25:04.645645Z",
     "iopub.status.idle": "2024-05-21T01:25:10.628333Z",
     "shell.execute_reply": "2024-05-21T01:25:10.627568Z"
    },
    "papermill": {
     "duration": 5.991797,
     "end_time": "2024-05-21T01:25:10.630705",
     "exception": false,
     "start_time": "2024-05-21T01:25:04.638908",
     "status": "completed"
    },
    "tags": []
   },
   "outputs": [],
   "source": [
    "import sys\n",
    "from pathlib import Path\n",
    "import subprocess\n",
    "import os\n",
    "import gc\n",
    "from glob import glob\n",
    "import pickle\n",
    "\n",
    "import numpy as np\n",
    "import pandas as pd\n",
    "import polars as pl\n",
    "from datetime import datetime\n",
    "import seaborn as sns\n",
    "import matplotlib.pyplot as plt\n",
    "\n",
    "from sklearn.model_selection import TimeSeriesSplit, GroupKFold, StratifiedGroupKFold\n",
    "from sklearn.base import BaseEstimator, RegressorMixin\n",
    "from sklearn.metrics import roc_auc_score\n",
    "from catboost import CatBoostClassifier, Pool\n",
    "import lightgbm as lgb\n",
    "\n",
    "from imblearn.over_sampling import SMOTE\n",
    "from sklearn.preprocessing import OrdinalEncoder\n",
    "from sklearn.impute import KNNImputer"
   ]
  },
  {
   "cell_type": "code",
   "execution_count": 2,
   "id": "b4d29402",
   "metadata": {
    "execution": {
     "iopub.execute_input": "2024-05-21T01:25:10.643841Z",
     "iopub.status.busy": "2024-05-21T01:25:10.643187Z",
     "iopub.status.idle": "2024-05-21T01:25:10.647467Z",
     "shell.execute_reply": "2024-05-21T01:25:10.646630Z"
    },
    "papermill": {
     "duration": 0.012751,
     "end_time": "2024-05-21T01:25:10.649376",
     "exception": false,
     "start_time": "2024-05-21T01:25:10.636625",
     "status": "completed"
    },
    "tags": []
   },
   "outputs": [],
   "source": [
    "# Kaggle\n",
    "sys.path.append('/kaggle/input/home-credit-crms-repo')"
   ]
  },
  {
   "cell_type": "code",
   "execution_count": 3,
   "id": "da673c73",
   "metadata": {
    "execution": {
     "iopub.execute_input": "2024-05-21T01:25:10.661422Z",
     "iopub.status.busy": "2024-05-21T01:25:10.660830Z",
     "iopub.status.idle": "2024-05-21T01:25:10.665258Z",
     "shell.execute_reply": "2024-05-21T01:25:10.664503Z"
    },
    "papermill": {
     "duration": 0.012422,
     "end_time": "2024-05-21T01:25:10.667260",
     "exception": false,
     "start_time": "2024-05-21T01:25:10.654838",
     "status": "completed"
    },
    "tags": []
   },
   "outputs": [],
   "source": [
    "ROOT = \"/kaggle/input/home-credit-credit-risk-model-stability\"\n",
    "\n",
    "TRAIN_DIR = os.path.join(ROOT, \"parquet_files\", \"train\")\n",
    "TEST_DIR = os.path.join(ROOT, \"parquet_files\", \"test\")"
   ]
  },
  {
   "cell_type": "markdown",
   "id": "fa937168",
   "metadata": {
    "papermill": {
     "duration": 0.005191,
     "end_time": "2024-05-21T01:25:10.677846",
     "exception": false,
     "start_time": "2024-05-21T01:25:10.672655",
     "status": "completed"
    },
    "tags": []
   },
   "source": [
    "### Def utility classes"
   ]
  },
  {
   "cell_type": "code",
   "execution_count": 4,
   "id": "f2c705a1",
   "metadata": {
    "execution": {
     "iopub.execute_input": "2024-05-21T01:25:10.690045Z",
     "iopub.status.busy": "2024-05-21T01:25:10.689686Z",
     "iopub.status.idle": "2024-05-21T01:25:11.312575Z",
     "shell.execute_reply": "2024-05-21T01:25:11.311772Z"
    },
    "papermill": {
     "duration": 0.631667,
     "end_time": "2024-05-21T01:25:11.314899",
     "exception": false,
     "start_time": "2024-05-21T01:25:10.683232",
     "status": "completed"
    },
    "tags": []
   },
   "outputs": [],
   "source": [
    "from src.utils.utility import Utility\n",
    "from src.utils.schema_gen import SchemaGen\n",
    "from src.utils.pipeline import Pipeline\n",
    "from src.utils.aggregator import Aggregator"
   ]
  },
  {
   "cell_type": "markdown",
   "id": "98a4c366",
   "metadata": {
    "papermill": {
     "duration": 0.005189,
     "end_time": "2024-05-21T01:25:11.325775",
     "exception": false,
     "start_time": "2024-05-21T01:25:11.320586",
     "status": "completed"
    },
    "tags": []
   },
   "source": [
    "### Read train data"
   ]
  },
  {
   "cell_type": "code",
   "execution_count": 5,
   "id": "2b37fb85",
   "metadata": {
    "execution": {
     "iopub.execute_input": "2024-05-21T01:25:11.337400Z",
     "iopub.status.busy": "2024-05-21T01:25:11.337090Z",
     "iopub.status.idle": "2024-05-21T01:27:34.682045Z",
     "shell.execute_reply": "2024-05-21T01:27:34.681111Z"
    },
    "papermill": {
     "duration": 143.353472,
     "end_time": "2024-05-21T01:27:34.684319",
     "exception": false,
     "start_time": "2024-05-21T01:25:11.330847",
     "status": "completed"
    },
    "tags": []
   },
   "outputs": [
    {
     "name": "stdout",
     "output_type": "stream",
     "text": [
      "File train_base loaded into memory.\n",
      "File train_static_cb_0 loaded into memory.\n",
      "File train_static_0_0 loaded into memory.\n",
      "File train_static_0_1 loaded into memory.\n",
      "File train_applprev_1_1 loaded into memory.\n",
      "File train_applprev_1_0 loaded into memory.\n",
      "File train_tax_registry_a_1 loaded into memory.\n",
      "File train_tax_registry_b_1 loaded into memory.\n",
      "File train_tax_registry_c_1 loaded into memory.\n",
      "File train_credit_bureau_a_1_3 loaded into memory.\n",
      "File train_credit_bureau_a_1_2 loaded into memory.\n",
      "File train_credit_bureau_a_1_0 loaded into memory.\n",
      "File train_credit_bureau_a_1_1 loaded into memory.\n",
      "File train_credit_bureau_b_1 loaded into memory.\n",
      "File train_other_1 loaded into memory.\n",
      "File train_person_1 loaded into memory.\n",
      "File train_deposit_1 loaded into memory.\n",
      "File train_debitcard_1 loaded into memory.\n",
      "File train_credit_bureau_a_2_6 loaded into memory.\n",
      "File train_credit_bureau_a_2_1 loaded into memory.\n",
      "File train_credit_bureau_a_2_0 loaded into memory.\n",
      "File train_credit_bureau_a_2_7 loaded into memory.\n",
      "File train_credit_bureau_a_2_5 loaded into memory.\n",
      "File train_credit_bureau_a_2_2 loaded into memory.\n",
      "File train_credit_bureau_a_2_4 loaded into memory.\n",
      "File train_credit_bureau_a_2_9 loaded into memory.\n",
      "File train_credit_bureau_a_2_3 loaded into memory.\n",
      "File train_credit_bureau_a_2_10 loaded into memory.\n",
      "File train_credit_bureau_a_2_8 loaded into memory.\n",
      "File train_credit_bureau_b_2 loaded into memory.\n",
      "Memory usage of dataframe \"train_df\" is 6783.1317 MB.\n",
      "Memory usage of dataframe \"train_df\" became 4174.0953 MB.\n",
      "Memory usage of dataframe \"train_df\" is 2870.9171 MB.\n",
      "Memory usage of dataframe \"train_df\" became 2665.6302 MB.\n",
      "Train data shape: (1526659, 472)\n"
     ]
    },
    {
     "data": {
      "text/html": [
       "<div><style>\n",
       ".dataframe > thead > tr,\n",
       ".dataframe > tbody > tr {\n",
       "  text-align: right;\n",
       "  white-space: pre-wrap;\n",
       "}\n",
       "</style>\n",
       "<small>shape: (10, 472)</small><table border=\"1\" class=\"dataframe\"><thead><tr><th>case_id</th><th>month</th><th>week_num</th><th>target</th><th>assignmentdate_238D</th><th>assignmentdate_4527235D</th><th>birthdate_574D</th><th>contractssum_5085716L</th><th>dateofbirth_337D</th><th>days120_123L</th><th>days180_256L</th><th>days30_165L</th><th>days360_512L</th><th>days90_310L</th><th>description_5085714M</th><th>education_1103M</th><th>education_88M</th><th>firstquarter_103L</th><th>fourthquarter_440L</th><th>maritalst_385M</th><th>maritalst_893M</th><th>numberofqueries_373L</th><th>pmtaverage_3A</th><th>pmtaverage_4527227A</th><th>pmtcount_4527229L</th><th>pmtcount_693L</th><th>pmtscount_423L</th><th>pmtssum_45A</th><th>requesttype_4525192L</th><th>responsedate_1012D</th><th>responsedate_4527233D</th><th>responsedate_4917613D</th><th>secondquarter_766L</th><th>thirdquarter_1082L</th><th>actualdpdtolerance_344P</th><th>amtinstpaidbefduel24m_4187115A</th><th>annuity_780A</th><th>&hellip;</th><th>mean_mainoccupationinc_384A</th><th>max_amount_416A</th><th>max_num_group1_10</th><th>max_openingdate_313D</th><th>mean_amount_416A</th><th>mean_openingdate_313D</th><th>max_num_group1_11</th><th>max_openingdate_857D</th><th>mean_openingdate_857D</th><th>max_collater_typofvalofguarant_298M</th><th>max_collater_typofvalofguarant_407M</th><th>max_collater_valueofguarantee_1124L</th><th>max_collater_valueofguarantee_876L</th><th>max_collaterals_typeofguarante_359M</th><th>max_collaterals_typeofguarante_669M</th><th>max_num_group1_12</th><th>max_num_group2</th><th>max_pmts_dpd_1073P</th><th>max_pmts_dpd_303P</th><th>max_pmts_month_158T</th><th>max_pmts_month_706T</th><th>max_pmts_overdue_1140A</th><th>max_pmts_overdue_1152A</th><th>max_pmts_year_1139T</th><th>max_pmts_year_507T</th><th>max_subjectroles_name_541M</th><th>max_subjectroles_name_838M</th><th>mean_pmts_dpd_1073P</th><th>mean_pmts_dpd_303P</th><th>mean_pmts_overdue_1140A</th><th>mean_pmts_overdue_1152A</th><th>var_pmts_dpd_1073P</th><th>var_pmts_dpd_303P</th><th>var_pmts_overdue_1140A</th><th>var_pmts_overdue_1152A</th><th>year</th><th>day</th></tr><tr><td>u32</td><td>u32</td><td>u8</td><td>u8</td><td>i16</td><td>u8</td><td>i16</td><td>f32</td><td>i32</td><td>f32</td><td>f32</td><td>f32</td><td>f32</td><td>f32</td><td>str</td><td>str</td><td>str</td><td>f32</td><td>f32</td><td>str</td><td>str</td><td>f32</td><td>f32</td><td>f32</td><td>f32</td><td>f32</td><td>f32</td><td>f32</td><td>str</td><td>i8</td><td>u8</td><td>i8</td><td>f32</td><td>f32</td><td>f32</td><td>f32</td><td>f32</td><td>&hellip;</td><td>f32</td><td>f32</td><td>u8</td><td>i16</td><td>f32</td><td>i16</td><td>u8</td><td>i16</td><td>i16</td><td>str</td><td>str</td><td>f32</td><td>f32</td><td>str</td><td>str</td><td>u16</td><td>u8</td><td>f32</td><td>f32</td><td>f32</td><td>f32</td><td>f32</td><td>f32</td><td>f32</td><td>f32</td><td>str</td><td>str</td><td>f32</td><td>f32</td><td>f32</td><td>f32</td><td>f32</td><td>f32</td><td>f32</td><td>f32</td><td>u16</td><td>u8</td></tr></thead><tbody><tr><td>1290368</td><td>201902</td><td>7</td><td>0</td><td>null</td><td>null</td><td>-17280</td><td>null</td><td>-17280</td><td>0.0</td><td>0.0</td><td>0.0</td><td>2.0</td><td>0.0</td><td>&quot;a55475b1&quot;</td><td>&quot;a55475b1&quot;</td><td>&quot;a55475b1&quot;</td><td>0.0</td><td>0.0</td><td>&quot;a55475b1&quot;</td><td>&quot;a55475b1&quot;</td><td>2.0</td><td>null</td><td>null</td><td>null</td><td>null</td><td>0.0</td><td>0.0</td><td>null</td><td>14</td><td>null</td><td>null</td><td>2.0</td><td>0.0</td><td>0.0</td><td>null</td><td>2216.600098</td><td>&hellip;</td><td>62000.0</td><td>null</td><td>null</td><td>null</td><td>null</td><td>null</td><td>null</td><td>null</td><td>null</td><td>&quot;a55475b1&quot;</td><td>&quot;a55475b1&quot;</td><td>0.0</td><td>null</td><td>&quot;a55475b1&quot;</td><td>&quot;c7a5ad39&quot;</td><td>0</td><td>23</td><td>0.0</td><td>null</td><td>12.0</td><td>null</td><td>0.0</td><td>null</td><td>2020.0</td><td>null</td><td>&quot;a55475b1&quot;</td><td>&quot;ab3c25cf&quot;</td><td>0.0</td><td>null</td><td>0.0</td><td>null</td><td>0.0</td><td>null</td><td>0.0</td><td>null</td><td>2019</td><td>22</td></tr><tr><td>1546695</td><td>201909</td><td>37</td><td>0</td><td>null</td><td>null</td><td>null</td><td>null</td><td>-16518</td><td>3.0</td><td>4.0</td><td>2.0</td><td>4.0</td><td>3.0</td><td>&quot;a55475b1&quot;</td><td>&quot;6b2ae0fa&quot;</td><td>&quot;a55475b1&quot;</td><td>0.0</td><td>0.0</td><td>&quot;3439d993&quot;</td><td>&quot;a55475b1&quot;</td><td>4.0</td><td>null</td><td>null</td><td>null</td><td>null</td><td>6.0</td><td>10056.200195</td><td>&quot;DEDUCTION_6&quot;</td><td>14</td><td>14</td><td>null</td><td>1.0</td><td>3.0</td><td>0.0</td><td>18610.201172</td><td>1444.599976</td><td>&hellip;</td><td>54000.0</td><td>216.089996</td><td>0</td><td>-1202</td><td>216.089996</td><td>-1202</td><td>0</td><td>-1202</td><td>-1202</td><td>&quot;a55475b1&quot;</td><td>&quot;a55475b1&quot;</td><td>0.0</td><td>117900.0</td><td>&quot;c7a5ad39&quot;</td><td>&quot;c7a5ad39&quot;</td><td>4</td><td>35</td><td>0.0</td><td>707.0</td><td>12.0</td><td>12.0</td><td>0.0</td><td>168159.765625</td><td>2020.0</td><td>2019.0</td><td>&quot;ab3c25cf&quot;</td><td>&quot;ab3c25cf&quot;</td><td>0.0</td><td>117.814812</td><td>0.0</td><td>22445.701172</td><td>0.0</td><td>43360.152344</td><td>0.0</td><td>2.0393e9</td><td>2019</td><td>21</td></tr><tr><td>223065</td><td>202005</td><td>71</td><td>0</td><td>null</td><td>null</td><td>null</td><td>null</td><td>-23450</td><td>9.0</td><td>10.0</td><td>0.0</td><td>18.0</td><td>7.0</td><td>&quot;a55475b1&quot;</td><td>&quot;a55475b1&quot;</td><td>&quot;a55475b1&quot;</td><td>10.0</td><td>3.0</td><td>&quot;b6cabe76&quot;</td><td>&quot;a55475b1&quot;</td><td>18.0</td><td>null</td><td>null</td><td>null</td><td>null</td><td>null</td><td>null</td><td>null</td><td>null</td><td>null</td><td>14</td><td>0.0</td><td>5.0</td><td>0.0</td><td>35612.898438</td><td>4750.600098</td><td>&hellip;</td><td>70000.0</td><td>261.086029</td><td>0</td><td>-2120</td><td>261.086029</td><td>-2120</td><td>0</td><td>-2120</td><td>-2120</td><td>&quot;a55475b1&quot;</td><td>&quot;a55475b1&quot;</td><td>0.0</td><td>0.0</td><td>&quot;c7a5ad39&quot;</td><td>&quot;c7a5ad39&quot;</td><td>3</td><td>35</td><td>0.0</td><td>935.0</td><td>12.0</td><td>12.0</td><td>0.0</td><td>44784.160156</td><td>2021.0</td><td>2021.0</td><td>&quot;ab3c25cf&quot;</td><td>&quot;ab3c25cf&quot;</td><td>0.0</td><td>431.399994</td><td>0.0</td><td>15129.491211</td><td>0.0</td><td>112256.367188</td><td>0.0</td><td>3.70324576e8</td><td>2020</td><td>14</td></tr><tr><td>907165</td><td>201912</td><td>50</td><td>0</td><td>null</td><td>null</td><td>null</td><td>null</td><td>-13564</td><td>1.0</td><td>1.0</td><td>1.0</td><td>4.0</td><td>1.0</td><td>&quot;a55475b1&quot;</td><td>&quot;6b2ae0fa&quot;</td><td>&quot;6b2ae0fa&quot;</td><td>1.0</td><td>2.0</td><td>&quot;3439d993&quot;</td><td>&quot;46b968c3&quot;</td><td>4.0</td><td>null</td><td>null</td><td>null</td><td>null</td><td>null</td><td>null</td><td>&quot;DEDUCTION_6&quot;</td><td>null</td><td>14</td><td>null</td><td>5.0</td><td>0.0</td><td>null</td><td>null</td><td>1698.200073</td><td>&hellip;</td><td>40000.0</td><td>null</td><td>null</td><td>null</td><td>null</td><td>null</td><td>null</td><td>null</td><td>null</td><td>&quot;a55475b1&quot;</td><td>&quot;a55475b1&quot;</td><td>8.957e6</td><td>317232.0</td><td>&quot;c7a5ad39&quot;</td><td>&quot;c7a5ad39&quot;</td><td>5</td><td>35</td><td>0.0</td><td>2349.0</td><td>12.0</td><td>12.0</td><td>0.0</td><td>22704.599609</td><td>2020.0</td><td>2019.0</td><td>&quot;ab3c25cf&quot;</td><td>&quot;ab3c25cf&quot;</td><td>0.0</td><td>125.725273</td><td>0.0</td><td>1195.175781</td><td>0.0</td><td>274683.1875</td><td>0.0</td><td>2.3889586e7</td><td>2019</td><td>21</td></tr><tr><td>654104</td><td>201903</td><td>11</td><td>0</td><td>null</td><td>null</td><td>-17367</td><td>null</td><td>-17367</td><td>2.0</td><td>2.0</td><td>1.0</td><td>8.0</td><td>2.0</td><td>&quot;a55475b1&quot;</td><td>&quot;6b2ae0fa&quot;</td><td>&quot;a55475b1&quot;</td><td>4.0</td><td>0.0</td><td>&quot;3439d993&quot;</td><td>&quot;a55475b1&quot;</td><td>8.0</td><td>null</td><td>null</td><td>null</td><td>null</td><td>13.0</td><td>20084.0</td><td>null</td><td>14</td><td>null</td><td>null</td><td>9.0</td><td>5.0</td><td>null</td><td>null</td><td>1129.400024</td><td>&hellip;</td><td>30000.0</td><td>null</td><td>null</td><td>null</td><td>null</td><td>null</td><td>null</td><td>null</td><td>null</td><td>&quot;a55475b1&quot;</td><td>&quot;a55475b1&quot;</td><td>0.0</td><td>null</td><td>&quot;a55475b1&quot;</td><td>&quot;c7a5ad39&quot;</td><td>1</td><td>35</td><td>9.0</td><td>null</td><td>12.0</td><td>null</td><td>6.218</td><td>null</td><td>2020.0</td><td>null</td><td>&quot;a55475b1&quot;</td><td>&quot;ab3c25cf&quot;</td><td>0.5625</td><td>null</td><td>0.388625</td><td>null</td><td>5.0625</td><td>null</td><td>2.41647</td><td>null</td><td>2019</td><td>20</td></tr><tr><td>1730742</td><td>202001</td><td>52</td><td>0</td><td>null</td><td>null</td><td>null</td><td>null</td><td>-14796</td><td>3.0</td><td>5.0</td><td>0.0</td><td>10.0</td><td>1.0</td><td>&quot;a55475b1&quot;</td><td>&quot;6b2ae0fa&quot;</td><td>&quot;a55475b1&quot;</td><td>9.0</td><td>12.0</td><td>&quot;b6cabe76&quot;</td><td>&quot;a55475b1&quot;</td><td>10.0</td><td>null</td><td>null</td><td>null</td><td>null</td><td>null</td><td>null</td><td>&quot;DEDUCTION_6&quot;</td><td>null</td><td>14</td><td>null</td><td>12.0</td><td>6.0</td><td>0.0</td><td>94533.382812</td><td>3490.600098</td><td>&hellip;</td><td>64000.0</td><td>238.718002</td><td>0</td><td>-1527</td><td>238.718002</td><td>-1527</td><td>1</td><td>-1527</td><td>-1527</td><td>&quot;a55475b1&quot;</td><td>&quot;a55475b1&quot;</td><td>0.0</td><td>0.0</td><td>&quot;c7a5ad39&quot;</td><td>&quot;c7a5ad39&quot;</td><td>4</td><td>35</td><td>5.0</td><td>20.0</td><td>12.0</td><td>12.0</td><td>2219.592041</td><td>1.34</td><td>2020.0</td><td>2020.0</td><td>&quot;ab3c25cf&quot;</td><td>&quot;ab3c25cf&quot;</td><td>0.21875</td><td>0.779661</td><td>117.380005</td><td>0.06339</td><td>0.821573</td><td>12.967855</td><td>202568.1875</td><td>0.076526</td><td>2020</td><td>3</td></tr><tr><td>1005007</td><td>202008</td><td>84</td><td>0</td><td>null</td><td>null</td><td>null</td><td>481897.15625</td><td>-19312</td><td>0.0</td><td>0.0</td><td>0.0</td><td>1.0</td><td>0.0</td><td>&quot;2fc785b2&quot;</td><td>&quot;6b2ae0fa&quot;</td><td>&quot;a55475b1&quot;</td><td>0.0</td><td>2.0</td><td>&quot;3439d993&quot;</td><td>&quot;a55475b1&quot;</td><td>1.0</td><td>null</td><td>null</td><td>null</td><td>null</td><td>null</td><td>null</td><td>null</td><td>null</td><td>null</td><td>14</td><td>2.0</td><td>1.0</td><td>null</td><td>null</td><td>7195.600098</td><td>&hellip;</td><td>60000.0</td><td>null</td><td>null</td><td>null</td><td>null</td><td>null</td><td>null</td><td>null</td><td>null</td><td>&quot;a55475b1&quot;</td><td>&quot;a55475b1&quot;</td><td>0.0</td><td>0.0</td><td>&quot;c7a5ad39&quot;</td><td>&quot;c7a5ad39&quot;</td><td>2</td><td>35</td><td>0.0</td><td>0.0</td><td>12.0</td><td>12.0</td><td>0.0</td><td>0.0</td><td>2021.0</td><td>2018.0</td><td>&quot;ab3c25cf&quot;</td><td>&quot;ab3c25cf&quot;</td><td>0.0</td><td>0.0</td><td>0.0</td><td>0.0</td><td>0.0</td><td>0.0</td><td>0.0</td><td>0.0</td><td>2020</td><td>15</td></tr><tr><td>1928014</td><td>202009</td><td>88</td><td>0</td><td>null</td><td>null</td><td>null</td><td>397209.0</td><td>-12675</td><td>3.0</td><td>3.0</td><td>1.0</td><td>7.0</td><td>1.0</td><td>&quot;2fc785b2&quot;</td><td>&quot;a55475b1&quot;</td><td>&quot;a55475b1&quot;</td><td>4.0</td><td>0.0</td><td>&quot;a55475b1&quot;</td><td>&quot;a55475b1&quot;</td><td>7.0</td><td>null</td><td>null</td><td>null</td><td>null</td><td>null</td><td>null</td><td>null</td><td>null</td><td>null</td><td>14</td><td>4.0</td><td>3.0</td><td>0.0</td><td>75893.757812</td><td>1269.800049</td><td>&hellip;</td><td>60000.0</td><td>null</td><td>null</td><td>null</td><td>null</td><td>null</td><td>null</td><td>null</td><td>null</td><td>&quot;a55475b1&quot;</td><td>&quot;a55475b1&quot;</td><td>0.0</td><td>0.0</td><td>&quot;c7a5ad39&quot;</td><td>&quot;c7a5ad39&quot;</td><td>6</td><td>23</td><td>5.0</td><td>1.0</td><td>12.0</td><td>12.0</td><td>1427.794067</td><td>2841.77002</td><td>2021.0</td><td>2021.0</td><td>&quot;ab3c25cf&quot;</td><td>&quot;ab3c25cf&quot;</td><td>0.333333</td><td>0.081633</td><td>95.186272</td><td>171.980865</td><td>1.666667</td><td>0.076531</td><td>135906.40625</td><td>359055.75</td><td>2020</td><td>14</td></tr><tr><td>2536446</td><td>201901</td><td>3</td><td>0</td><td>null</td><td>null</td><td>null</td><td>null</td><td>null</td><td>null</td><td>null</td><td>null</td><td>null</td><td>null</td><td>null</td><td>null</td><td>null</td><td>null</td><td>null</td><td>null</td><td>null</td><td>null</td><td>null</td><td>null</td><td>null</td><td>null</td><td>null</td><td>null</td><td>null</td><td>null</td><td>null</td><td>null</td><td>null</td><td>null</td><td>0.0</td><td>null</td><td>3787.800049</td><td>&hellip;</td><td>70000.0</td><td>null</td><td>null</td><td>null</td><td>null</td><td>null</td><td>null</td><td>null</td><td>null</td><td>null</td><td>null</td><td>null</td><td>null</td><td>null</td><td>null</td><td>null</td><td>null</td><td>null</td><td>null</td><td>null</td><td>null</td><td>null</td><td>null</td><td>null</td><td>null</td><td>null</td><td>null</td><td>null</td><td>null</td><td>null</td><td>null</td><td>null</td><td>null</td><td>null</td><td>null</td><td>2019</td><td>24</td></tr><tr><td>2616094</td><td>201908</td><td>34</td><td>0</td><td>null</td><td>null</td><td>-14730</td><td>null</td><td>-14730</td><td>1.0</td><td>1.0</td><td>1.0</td><td>1.0</td><td>1.0</td><td>&quot;a55475b1&quot;</td><td>&quot;a55475b1&quot;</td><td>&quot;a55475b1&quot;</td><td>0.0</td><td>0.0</td><td>&quot;a55475b1&quot;</td><td>&quot;a55475b1&quot;</td><td>1.0</td><td>null</td><td>null</td><td>null</td><td>null</td><td>0.0</td><td>0.0</td><td>null</td><td>14</td><td>null</td><td>null</td><td>0.0</td><td>2.0</td><td>0.0</td><td>10253.200195</td><td>3111.600098</td><td>&hellip;</td><td>39000.0</td><td>null</td><td>null</td><td>null</td><td>null</td><td>null</td><td>null</td><td>null</td><td>null</td><td>&quot;a55475b1&quot;</td><td>&quot;a55475b1&quot;</td><td>null</td><td>0.0</td><td>&quot;c7a5ad39&quot;</td><td>&quot;a55475b1&quot;</td><td>1</td><td>11</td><td>null</td><td>0.0</td><td>null</td><td>12.0</td><td>null</td><td>0.0</td><td>null</td><td>2019.0</td><td>&quot;ab3c25cf&quot;</td><td>&quot;a55475b1&quot;</td><td>null</td><td>0.0</td><td>null</td><td>0.0</td><td>null</td><td>0.0</td><td>null</td><td>0.0</td><td>2019</td><td>29</td></tr></tbody></table></div>"
      ],
      "text/plain": [
       "shape: (10, 472)\n",
       "┌─────────┬────────┬──────────┬────────┬───┬─────────────────────┬────────────────────┬──────┬─────┐\n",
       "│ case_id ┆ month  ┆ week_num ┆ target ┆ … ┆ var_pmts_overdue_11 ┆ var_pmts_overdue_1 ┆ year ┆ day │\n",
       "│ ---     ┆ ---    ┆ ---      ┆ ---    ┆   ┆ 40A                 ┆ 152A               ┆ ---  ┆ --- │\n",
       "│ u32     ┆ u32    ┆ u8       ┆ u8     ┆   ┆ ---                 ┆ ---                ┆ u16  ┆ u8  │\n",
       "│         ┆        ┆          ┆        ┆   ┆ f32                 ┆ f32                ┆      ┆     │\n",
       "╞═════════╪════════╪══════════╪════════╪═══╪═════════════════════╪════════════════════╪══════╪═════╡\n",
       "│ 1290368 ┆ 201902 ┆ 7        ┆ 0      ┆ … ┆ 0.0                 ┆ null               ┆ 2019 ┆ 22  │\n",
       "│ 1546695 ┆ 201909 ┆ 37       ┆ 0      ┆ … ┆ 0.0                 ┆ 2.0393e9           ┆ 2019 ┆ 21  │\n",
       "│ 223065  ┆ 202005 ┆ 71       ┆ 0      ┆ … ┆ 0.0                 ┆ 3.70324576e8       ┆ 2020 ┆ 14  │\n",
       "│ 907165  ┆ 201912 ┆ 50       ┆ 0      ┆ … ┆ 0.0                 ┆ 2.3889586e7        ┆ 2019 ┆ 21  │\n",
       "│ 654104  ┆ 201903 ┆ 11       ┆ 0      ┆ … ┆ 2.41647             ┆ null               ┆ 2019 ┆ 20  │\n",
       "│ 1730742 ┆ 202001 ┆ 52       ┆ 0      ┆ … ┆ 202568.1875         ┆ 0.076526           ┆ 2020 ┆ 3   │\n",
       "│ 1005007 ┆ 202008 ┆ 84       ┆ 0      ┆ … ┆ 0.0                 ┆ 0.0                ┆ 2020 ┆ 15  │\n",
       "│ 1928014 ┆ 202009 ┆ 88       ┆ 0      ┆ … ┆ 135906.40625        ┆ 359055.75          ┆ 2020 ┆ 14  │\n",
       "│ 2536446 ┆ 201901 ┆ 3        ┆ 0      ┆ … ┆ null                ┆ null               ┆ 2019 ┆ 24  │\n",
       "│ 2616094 ┆ 201908 ┆ 34       ┆ 0      ┆ … ┆ null                ┆ 0.0                ┆ 2019 ┆ 29  │\n",
       "└─────────┴────────┴──────────┴────────┴───┴─────────────────────┴────────────────────┴──────┴─────┘"
      ]
     },
     "metadata": {},
     "output_type": "display_data"
    },
    {
     "name": "stdout",
     "output_type": "stream",
     "text": [
      "CPU times: user 6min, sys: 1min 46s, total: 7min 47s\n",
      "Wall time: 2min 23s\n"
     ]
    }
   ],
   "source": [
    "%%time\n",
    "\n",
    "data_store: dict = {\n",
    "    \"df_base\": SchemaGen.scan_files(os.path.join(TRAIN_DIR, \"train_base.parquet\")),\n",
    "    \"depth_0\": [\n",
    "        SchemaGen.scan_files(os.path.join(TRAIN_DIR, \"train_static_cb_0.parquet\")),\n",
    "        SchemaGen.scan_files(os.path.join(TRAIN_DIR, \"train_static_0_*.parquet\")),\n",
    "    ],\n",
    "    \"depth_1\": [\n",
    "        SchemaGen.scan_files(os.path.join(TRAIN_DIR, \"train_applprev_1_*.parquet\"), 1),\n",
    "        SchemaGen.scan_files(os.path.join(TRAIN_DIR, \"train_tax_registry_a_1.parquet\"), 1),\n",
    "        SchemaGen.scan_files(os.path.join(TRAIN_DIR, \"train_tax_registry_b_1.parquet\"), 1),\n",
    "        SchemaGen.scan_files(os.path.join(TRAIN_DIR, \"train_tax_registry_c_1.parquet\"), 1),\n",
    "        SchemaGen.scan_files(os.path.join(TRAIN_DIR, \"train_credit_bureau_a_1_*.parquet\"), 1),\n",
    "        SchemaGen.scan_files(os.path.join(TRAIN_DIR, \"train_credit_bureau_b_1.parquet\"), 1),\n",
    "        SchemaGen.scan_files(os.path.join(TRAIN_DIR, \"train_other_1.parquet\"), 1),\n",
    "        SchemaGen.scan_files(os.path.join(TRAIN_DIR, \"train_person_1.parquet\"), 1),\n",
    "        SchemaGen.scan_files(os.path.join(TRAIN_DIR, \"train_deposit_1.parquet\"), 1),\n",
    "        SchemaGen.scan_files(os.path.join(TRAIN_DIR, \"train_debitcard_1.parquet\"), 1),\n",
    "    ],\n",
    "    \"depth_2\": [\n",
    "        SchemaGen.scan_files(os.path.join(TRAIN_DIR, \"train_credit_bureau_a_2_*.parquet\"), 2),\n",
    "        SchemaGen.scan_files(os.path.join(TRAIN_DIR, \"train_credit_bureau_b_2.parquet\"), 2),\n",
    "    ],\n",
    "}\n",
    "\n",
    "train_df: pl.LazyFrame = (\n",
    "    SchemaGen.join_dataframes(**data_store)\n",
    "    .pipe(Pipeline.filter_cols)\n",
    "    .pipe(Pipeline.transform_cols)\n",
    "    .pipe(Pipeline.handle_dates)\n",
    "    .pipe(Utility.reduce_memory_usage, \"train_df\")\n",
    ")\n",
    "\n",
    "del data_store\n",
    "gc.collect()\n",
    "\n",
    "print(f\"Train data shape: {train_df.shape}\")\n",
    "display(train_df.head(10))"
   ]
  },
  {
   "cell_type": "code",
   "execution_count": 6,
   "id": "4f22cce7",
   "metadata": {
    "execution": {
     "iopub.execute_input": "2024-05-21T01:27:34.700260Z",
     "iopub.status.busy": "2024-05-21T01:27:34.699922Z",
     "iopub.status.idle": "2024-05-21T01:27:58.963541Z",
     "shell.execute_reply": "2024-05-21T01:27:58.962684Z"
    },
    "papermill": {
     "duration": 24.274047,
     "end_time": "2024-05-21T01:27:58.965763",
     "exception": false,
     "start_time": "2024-05-21T01:27:34.691716",
     "status": "completed"
    },
    "tags": []
   },
   "outputs": [
    {
     "data": {
      "text/plain": [
       "0"
      ]
     },
     "execution_count": 6,
     "metadata": {},
     "output_type": "execute_result"
    }
   ],
   "source": [
    "train_df, cat_cols = Utility.to_pandas(train_df)\n",
    "cols = train_df.columns\n",
    "\n",
    "del train_df\n",
    "gc.collect()"
   ]
  },
  {
   "cell_type": "markdown",
   "id": "25e2c0db",
   "metadata": {
    "papermill": {
     "duration": 0.006915,
     "end_time": "2024-05-21T01:27:58.980127",
     "exception": false,
     "start_time": "2024-05-21T01:27:58.973212",
     "status": "completed"
    },
    "tags": []
   },
   "source": [
    "### Read test data"
   ]
  },
  {
   "cell_type": "code",
   "execution_count": 7,
   "id": "fb6d1b97",
   "metadata": {
    "execution": {
     "iopub.execute_input": "2024-05-21T01:27:58.997022Z",
     "iopub.status.busy": "2024-05-21T01:27:58.996246Z",
     "iopub.status.idle": "2024-05-21T01:28:04.746288Z",
     "shell.execute_reply": "2024-05-21T01:28:04.745276Z"
    },
    "papermill": {
     "duration": 5.761936,
     "end_time": "2024-05-21T01:28:04.749151",
     "exception": false,
     "start_time": "2024-05-21T01:27:58.987215",
     "status": "completed"
    },
    "tags": []
   },
   "outputs": [
    {
     "name": "stdout",
     "output_type": "stream",
     "text": [
      "File test_base loaded into memory.\n",
      "File test_static_cb_0 loaded into memory.\n",
      "File test_static_0_0 loaded into memory.\n",
      "File test_static_0_2 loaded into memory.\n",
      "File test_static_0_1 loaded into memory.\n",
      "File test_applprev_1_2 loaded into memory.\n",
      "File test_applprev_1_0 loaded into memory.\n",
      "File test_applprev_1_1 loaded into memory.\n",
      "File test_tax_registry_a_1 loaded into memory.\n",
      "File test_tax_registry_b_1 loaded into memory.\n",
      "File test_tax_registry_c_1 loaded into memory.\n",
      "File test_credit_bureau_a_1_3 loaded into memory.\n",
      "File test_credit_bureau_a_1_2 loaded into memory.\n",
      "File test_credit_bureau_a_1_1 loaded into memory.\n",
      "File test_credit_bureau_a_1_4 loaded into memory.\n",
      "File test_credit_bureau_a_1_0 loaded into memory.\n",
      "File test_credit_bureau_b_1 loaded into memory.\n",
      "File test_other_1 loaded into memory.\n",
      "File test_person_1 loaded into memory.\n",
      "File test_deposit_1 loaded into memory.\n",
      "File test_debitcard_1 loaded into memory.\n",
      "File test_credit_bureau_a_2_3 loaded into memory.\n",
      "File test_credit_bureau_a_2_9 loaded into memory.\n",
      "File test_credit_bureau_a_2_2 loaded into memory.\n",
      "File test_credit_bureau_a_2_11 loaded into memory.\n",
      "File test_credit_bureau_a_2_1 loaded into memory.\n",
      "File test_credit_bureau_a_2_6 loaded into memory.\n",
      "File test_credit_bureau_a_2_5 loaded into memory.\n",
      "File test_credit_bureau_a_2_0 loaded into memory.\n",
      "File test_credit_bureau_a_2_7 loaded into memory.\n",
      "File test_credit_bureau_a_2_10 loaded into memory.\n",
      "File test_credit_bureau_a_2_8 loaded into memory.\n",
      "File test_credit_bureau_a_2_4 loaded into memory.\n",
      "File test_credit_bureau_b_2 loaded into memory.\n",
      "Memory usage of dataframe \"train_df\" is 0.0432 MB.\n",
      "Memory usage of dataframe \"train_df\" became 0.0311 MB.\n",
      "Memory usage of dataframe \"test_df\" is 0.0184 MB.\n",
      "Memory usage of dataframe \"test_df\" became 0.0172 MB.\n",
      "Test data shape: (10, 471)\n"
     ]
    }
   ],
   "source": [
    "data_store = {\n",
    "    \"df_base\": SchemaGen.scan_files(os.path.join(TEST_DIR, \"test_base.parquet\")),\n",
    "    \"depth_0\": [\n",
    "        SchemaGen.scan_files(os.path.join(TEST_DIR, \"test_static_cb_0.parquet\")),\n",
    "        SchemaGen.scan_files(os.path.join(TEST_DIR, \"test_static_0_*.parquet\")),\n",
    "    ],\n",
    "    \"depth_1\": [\n",
    "        SchemaGen.scan_files(os.path.join(TEST_DIR, \"test_applprev_1_*.parquet\"), 1),\n",
    "        SchemaGen.scan_files(os.path.join(TEST_DIR, \"test_tax_registry_a_1.parquet\"), 1),\n",
    "        SchemaGen.scan_files(os.path.join(TEST_DIR, \"test_tax_registry_b_1.parquet\"), 1),\n",
    "        SchemaGen.scan_files(os.path.join(TEST_DIR, \"test_tax_registry_c_1.parquet\"), 1),\n",
    "        SchemaGen.scan_files(os.path.join(TEST_DIR, \"test_credit_bureau_a_1_*.parquet\"), 1),\n",
    "        SchemaGen.scan_files(os.path.join(TEST_DIR, \"test_credit_bureau_b_1.parquet\"), 1),\n",
    "        SchemaGen.scan_files(os.path.join(TEST_DIR, \"test_other_1.parquet\"), 1),\n",
    "        SchemaGen.scan_files(os.path.join(TEST_DIR, \"test_person_1.parquet\"), 1),\n",
    "        SchemaGen.scan_files(os.path.join(TEST_DIR, \"test_deposit_1.parquet\"), 1),\n",
    "        SchemaGen.scan_files(os.path.join(TEST_DIR, \"test_debitcard_1.parquet\"), 1),\n",
    "    ],\n",
    "    \"depth_2\": [\n",
    "        SchemaGen.scan_files(os.path.join(TEST_DIR, \"test_credit_bureau_a_2_*.parquet\"), 2),\n",
    "        SchemaGen.scan_files(os.path.join(TEST_DIR, \"test_credit_bureau_b_2.parquet\"), 2),\n",
    "        # SchemaGen.scan_files(os.path.join(TEST_DIR, \"test_applprev_2.parquet\"), 2),\n",
    "        # SchemaGen.scan_files(os.path.join(TEST_DIR, \"test_person_2.parquet\"), 2)\n",
    "    ],\n",
    "}\n",
    "\n",
    "test_df: pl.DataFrame = (\n",
    "    SchemaGen.join_dataframes(**data_store)\n",
    "    .pipe(Pipeline.transform_cols)\n",
    "    .pipe(Pipeline.handle_dates)\n",
    "    .select([v for v in cols if v != \"target\"])\n",
    "    .pipe(Utility.reduce_memory_usage, \"test_df\")\n",
    ")\n",
    "\n",
    "del data_store\n",
    "gc.collect()\n",
    "\n",
    "print(f\"Test data shape: {test_df.shape}\")"
   ]
  },
  {
   "cell_type": "code",
   "execution_count": 8,
   "id": "b024dd0c",
   "metadata": {
    "execution": {
     "iopub.execute_input": "2024-05-21T01:28:04.767331Z",
     "iopub.status.busy": "2024-05-21T01:28:04.767004Z",
     "iopub.status.idle": "2024-05-21T01:28:04.797118Z",
     "shell.execute_reply": "2024-05-21T01:28:04.796078Z"
    },
    "papermill": {
     "duration": 0.04151,
     "end_time": "2024-05-21T01:28:04.799212",
     "exception": false,
     "start_time": "2024-05-21T01:28:04.757702",
     "status": "completed"
    },
    "tags": []
   },
   "outputs": [],
   "source": [
    "test_df, cat_cols = Utility.to_pandas(test_df, cat_cols)"
   ]
  },
  {
   "cell_type": "code",
   "execution_count": 9,
   "id": "31a2239c",
   "metadata": {
    "execution": {
     "iopub.execute_input": "2024-05-21T01:28:04.816858Z",
     "iopub.status.busy": "2024-05-21T01:28:04.816517Z",
     "iopub.status.idle": "2024-05-21T01:28:04.852509Z",
     "shell.execute_reply": "2024-05-21T01:28:04.851583Z"
    },
    "papermill": {
     "duration": 0.04705,
     "end_time": "2024-05-21T01:28:04.854546",
     "exception": false,
     "start_time": "2024-05-21T01:28:04.807496",
     "status": "completed"
    },
    "tags": []
   },
   "outputs": [
    {
     "data": {
      "text/html": [
       "<div>\n",
       "<style scoped>\n",
       "    .dataframe tbody tr th:only-of-type {\n",
       "        vertical-align: middle;\n",
       "    }\n",
       "\n",
       "    .dataframe tbody tr th {\n",
       "        vertical-align: top;\n",
       "    }\n",
       "\n",
       "    .dataframe thead th {\n",
       "        text-align: right;\n",
       "    }\n",
       "</style>\n",
       "<table border=\"1\" class=\"dataframe\">\n",
       "  <thead>\n",
       "    <tr style=\"text-align: right;\">\n",
       "      <th></th>\n",
       "      <th>case_id</th>\n",
       "      <th>month</th>\n",
       "      <th>week_num</th>\n",
       "      <th>assignmentdate_238D</th>\n",
       "      <th>assignmentdate_4527235D</th>\n",
       "      <th>birthdate_574D</th>\n",
       "      <th>contractssum_5085716L</th>\n",
       "      <th>dateofbirth_337D</th>\n",
       "      <th>days120_123L</th>\n",
       "      <th>days180_256L</th>\n",
       "      <th>...</th>\n",
       "      <th>mean_pmts_dpd_1073P</th>\n",
       "      <th>mean_pmts_dpd_303P</th>\n",
       "      <th>mean_pmts_overdue_1140A</th>\n",
       "      <th>mean_pmts_overdue_1152A</th>\n",
       "      <th>var_pmts_dpd_1073P</th>\n",
       "      <th>var_pmts_dpd_303P</th>\n",
       "      <th>var_pmts_overdue_1140A</th>\n",
       "      <th>var_pmts_overdue_1152A</th>\n",
       "      <th>year</th>\n",
       "      <th>day</th>\n",
       "    </tr>\n",
       "  </thead>\n",
       "  <tbody>\n",
       "    <tr>\n",
       "      <th>0</th>\n",
       "      <td>57632</td>\n",
       "      <td>202201</td>\n",
       "      <td>100</td>\n",
       "      <td>NaN</td>\n",
       "      <td>NaN</td>\n",
       "      <td>NaN</td>\n",
       "      <td>1.767700e+04</td>\n",
       "      <td>-23107</td>\n",
       "      <td>1.0</td>\n",
       "      <td>2.0</td>\n",
       "      <td>...</td>\n",
       "      <td>0.0</td>\n",
       "      <td>NaN</td>\n",
       "      <td>0.0</td>\n",
       "      <td>NaN</td>\n",
       "      <td>0.0</td>\n",
       "      <td>NaN</td>\n",
       "      <td>0.0</td>\n",
       "      <td>NaN</td>\n",
       "      <td>2022</td>\n",
       "      <td>5</td>\n",
       "    </tr>\n",
       "    <tr>\n",
       "      <th>1</th>\n",
       "      <td>57633</td>\n",
       "      <td>202201</td>\n",
       "      <td>100</td>\n",
       "      <td>NaN</td>\n",
       "      <td>NaN</td>\n",
       "      <td>NaN</td>\n",
       "      <td>6.373008e+06</td>\n",
       "      <td>-10496</td>\n",
       "      <td>3.0</td>\n",
       "      <td>3.0</td>\n",
       "      <td>...</td>\n",
       "      <td>0.0</td>\n",
       "      <td>0.000000</td>\n",
       "      <td>0.0</td>\n",
       "      <td>0.000000</td>\n",
       "      <td>NaN</td>\n",
       "      <td>0.000000</td>\n",
       "      <td>0.0</td>\n",
       "      <td>0.0</td>\n",
       "      <td>2022</td>\n",
       "      <td>25</td>\n",
       "    </tr>\n",
       "    <tr>\n",
       "      <th>2</th>\n",
       "      <td>57634</td>\n",
       "      <td>202201</td>\n",
       "      <td>100</td>\n",
       "      <td>NaN</td>\n",
       "      <td>NaN</td>\n",
       "      <td>NaN</td>\n",
       "      <td>1.526365e+04</td>\n",
       "      <td>-16281</td>\n",
       "      <td>2.0</td>\n",
       "      <td>2.0</td>\n",
       "      <td>...</td>\n",
       "      <td>NaN</td>\n",
       "      <td>NaN</td>\n",
       "      <td>NaN</td>\n",
       "      <td>NaN</td>\n",
       "      <td>NaN</td>\n",
       "      <td>NaN</td>\n",
       "      <td>NaN</td>\n",
       "      <td>NaN</td>\n",
       "      <td>2021</td>\n",
       "      <td>27</td>\n",
       "    </tr>\n",
       "    <tr>\n",
       "      <th>3</th>\n",
       "      <td>57549</td>\n",
       "      <td>202201</td>\n",
       "      <td>100</td>\n",
       "      <td>NaN</td>\n",
       "      <td>NaN</td>\n",
       "      <td>NaN</td>\n",
       "      <td>1.563078e+06</td>\n",
       "      <td>-22723</td>\n",
       "      <td>6.0</td>\n",
       "      <td>9.0</td>\n",
       "      <td>...</td>\n",
       "      <td>NaN</td>\n",
       "      <td>NaN</td>\n",
       "      <td>NaN</td>\n",
       "      <td>NaN</td>\n",
       "      <td>NaN</td>\n",
       "      <td>NaN</td>\n",
       "      <td>NaN</td>\n",
       "      <td>NaN</td>\n",
       "      <td>2022</td>\n",
       "      <td>17</td>\n",
       "    </tr>\n",
       "    <tr>\n",
       "      <th>4</th>\n",
       "      <td>57551</td>\n",
       "      <td>202201</td>\n",
       "      <td>100</td>\n",
       "      <td>NaN</td>\n",
       "      <td>NaN</td>\n",
       "      <td>NaN</td>\n",
       "      <td>2.926195e+06</td>\n",
       "      <td>-14090</td>\n",
       "      <td>1.0</td>\n",
       "      <td>3.0</td>\n",
       "      <td>...</td>\n",
       "      <td>NaN</td>\n",
       "      <td>NaN</td>\n",
       "      <td>NaN</td>\n",
       "      <td>NaN</td>\n",
       "      <td>NaN</td>\n",
       "      <td>NaN</td>\n",
       "      <td>NaN</td>\n",
       "      <td>NaN</td>\n",
       "      <td>2020</td>\n",
       "      <td>27</td>\n",
       "    </tr>\n",
       "    <tr>\n",
       "      <th>5</th>\n",
       "      <td>57569</td>\n",
       "      <td>202201</td>\n",
       "      <td>100</td>\n",
       "      <td>NaN</td>\n",
       "      <td>NaN</td>\n",
       "      <td>NaN</td>\n",
       "      <td>NaN</td>\n",
       "      <td>-26408</td>\n",
       "      <td>4.0</td>\n",
       "      <td>4.0</td>\n",
       "      <td>...</td>\n",
       "      <td>NaN</td>\n",
       "      <td>2328.571533</td>\n",
       "      <td>NaN</td>\n",
       "      <td>33346.402344</td>\n",
       "      <td>NaN</td>\n",
       "      <td>3341.619141</td>\n",
       "      <td>NaN</td>\n",
       "      <td>0.0</td>\n",
       "      <td>2021</td>\n",
       "      <td>20</td>\n",
       "    </tr>\n",
       "    <tr>\n",
       "      <th>6</th>\n",
       "      <td>57552</td>\n",
       "      <td>202201</td>\n",
       "      <td>100</td>\n",
       "      <td>NaN</td>\n",
       "      <td>NaN</td>\n",
       "      <td>NaN</td>\n",
       "      <td>7.470318e+05</td>\n",
       "      <td>-23768</td>\n",
       "      <td>2.0</td>\n",
       "      <td>2.0</td>\n",
       "      <td>...</td>\n",
       "      <td>NaN</td>\n",
       "      <td>NaN</td>\n",
       "      <td>NaN</td>\n",
       "      <td>NaN</td>\n",
       "      <td>NaN</td>\n",
       "      <td>NaN</td>\n",
       "      <td>NaN</td>\n",
       "      <td>NaN</td>\n",
       "      <td>2020</td>\n",
       "      <td>27</td>\n",
       "    </tr>\n",
       "    <tr>\n",
       "      <th>7</th>\n",
       "      <td>57631</td>\n",
       "      <td>202201</td>\n",
       "      <td>100</td>\n",
       "      <td>NaN</td>\n",
       "      <td>NaN</td>\n",
       "      <td>NaN</td>\n",
       "      <td>4.803345e+05</td>\n",
       "      <td>-12999</td>\n",
       "      <td>0.0</td>\n",
       "      <td>0.0</td>\n",
       "      <td>...</td>\n",
       "      <td>0.0</td>\n",
       "      <td>0.000000</td>\n",
       "      <td>0.0</td>\n",
       "      <td>0.000000</td>\n",
       "      <td>0.0</td>\n",
       "      <td>0.000000</td>\n",
       "      <td>0.0</td>\n",
       "      <td>0.0</td>\n",
       "      <td>2022</td>\n",
       "      <td>4</td>\n",
       "    </tr>\n",
       "    <tr>\n",
       "      <th>8</th>\n",
       "      <td>57543</td>\n",
       "      <td>202201</td>\n",
       "      <td>100</td>\n",
       "      <td>NaN</td>\n",
       "      <td>NaN</td>\n",
       "      <td>NaN</td>\n",
       "      <td>1.513640e+05</td>\n",
       "      <td>-14804</td>\n",
       "      <td>2.0</td>\n",
       "      <td>4.0</td>\n",
       "      <td>...</td>\n",
       "      <td>0.0</td>\n",
       "      <td>NaN</td>\n",
       "      <td>0.0</td>\n",
       "      <td>NaN</td>\n",
       "      <td>NaN</td>\n",
       "      <td>NaN</td>\n",
       "      <td>NaN</td>\n",
       "      <td>NaN</td>\n",
       "      <td>2021</td>\n",
       "      <td>14</td>\n",
       "    </tr>\n",
       "    <tr>\n",
       "      <th>9</th>\n",
       "      <td>57630</td>\n",
       "      <td>202201</td>\n",
       "      <td>100</td>\n",
       "      <td>NaN</td>\n",
       "      <td>NaN</td>\n",
       "      <td>NaN</td>\n",
       "      <td>4.999750e+05</td>\n",
       "      <td>-19767</td>\n",
       "      <td>1.0</td>\n",
       "      <td>2.0</td>\n",
       "      <td>...</td>\n",
       "      <td>0.0</td>\n",
       "      <td>0.000000</td>\n",
       "      <td>0.0</td>\n",
       "      <td>0.000000</td>\n",
       "      <td>NaN</td>\n",
       "      <td>NaN</td>\n",
       "      <td>NaN</td>\n",
       "      <td>NaN</td>\n",
       "      <td>2021</td>\n",
       "      <td>16</td>\n",
       "    </tr>\n",
       "  </tbody>\n",
       "</table>\n",
       "<p>10 rows × 471 columns</p>\n",
       "</div>"
      ],
      "text/plain": [
       "   case_id   month  week_num  assignmentdate_238D  assignmentdate_4527235D  \\\n",
       "0    57632  202201       100                  NaN                      NaN   \n",
       "1    57633  202201       100                  NaN                      NaN   \n",
       "2    57634  202201       100                  NaN                      NaN   \n",
       "3    57549  202201       100                  NaN                      NaN   \n",
       "4    57551  202201       100                  NaN                      NaN   \n",
       "5    57569  202201       100                  NaN                      NaN   \n",
       "6    57552  202201       100                  NaN                      NaN   \n",
       "7    57631  202201       100                  NaN                      NaN   \n",
       "8    57543  202201       100                  NaN                      NaN   \n",
       "9    57630  202201       100                  NaN                      NaN   \n",
       "\n",
       "   birthdate_574D  contractssum_5085716L  dateofbirth_337D  days120_123L  \\\n",
       "0             NaN           1.767700e+04            -23107           1.0   \n",
       "1             NaN           6.373008e+06            -10496           3.0   \n",
       "2             NaN           1.526365e+04            -16281           2.0   \n",
       "3             NaN           1.563078e+06            -22723           6.0   \n",
       "4             NaN           2.926195e+06            -14090           1.0   \n",
       "5             NaN                    NaN            -26408           4.0   \n",
       "6             NaN           7.470318e+05            -23768           2.0   \n",
       "7             NaN           4.803345e+05            -12999           0.0   \n",
       "8             NaN           1.513640e+05            -14804           2.0   \n",
       "9             NaN           4.999750e+05            -19767           1.0   \n",
       "\n",
       "   days180_256L  ...  mean_pmts_dpd_1073P  mean_pmts_dpd_303P  \\\n",
       "0           2.0  ...                  0.0                 NaN   \n",
       "1           3.0  ...                  0.0            0.000000   \n",
       "2           2.0  ...                  NaN                 NaN   \n",
       "3           9.0  ...                  NaN                 NaN   \n",
       "4           3.0  ...                  NaN                 NaN   \n",
       "5           4.0  ...                  NaN         2328.571533   \n",
       "6           2.0  ...                  NaN                 NaN   \n",
       "7           0.0  ...                  0.0            0.000000   \n",
       "8           4.0  ...                  0.0                 NaN   \n",
       "9           2.0  ...                  0.0            0.000000   \n",
       "\n",
       "   mean_pmts_overdue_1140A mean_pmts_overdue_1152A var_pmts_dpd_1073P  \\\n",
       "0                      0.0                     NaN                0.0   \n",
       "1                      0.0                0.000000                NaN   \n",
       "2                      NaN                     NaN                NaN   \n",
       "3                      NaN                     NaN                NaN   \n",
       "4                      NaN                     NaN                NaN   \n",
       "5                      NaN            33346.402344                NaN   \n",
       "6                      NaN                     NaN                NaN   \n",
       "7                      0.0                0.000000                0.0   \n",
       "8                      0.0                     NaN                NaN   \n",
       "9                      0.0                0.000000                NaN   \n",
       "\n",
       "  var_pmts_dpd_303P  var_pmts_overdue_1140A  var_pmts_overdue_1152A  year day  \n",
       "0               NaN                     0.0                     NaN  2022   5  \n",
       "1          0.000000                     0.0                     0.0  2022  25  \n",
       "2               NaN                     NaN                     NaN  2021  27  \n",
       "3               NaN                     NaN                     NaN  2022  17  \n",
       "4               NaN                     NaN                     NaN  2020  27  \n",
       "5       3341.619141                     NaN                     0.0  2021  20  \n",
       "6               NaN                     NaN                     NaN  2020  27  \n",
       "7          0.000000                     0.0                     0.0  2022   4  \n",
       "8               NaN                     NaN                     NaN  2021  14  \n",
       "9               NaN                     NaN                     NaN  2021  16  \n",
       "\n",
       "[10 rows x 471 columns]"
      ]
     },
     "execution_count": 9,
     "metadata": {},
     "output_type": "execute_result"
    }
   ],
   "source": [
    "test_df"
   ]
  },
  {
   "cell_type": "markdown",
   "id": "c6b47b4f",
   "metadata": {
    "papermill": {
     "duration": 0.009594,
     "end_time": "2024-05-21T01:28:04.873936",
     "exception": false,
     "start_time": "2024-05-21T01:28:04.864342",
     "status": "completed"
    },
    "tags": []
   },
   "source": [
    "### Inference"
   ]
  },
  {
   "cell_type": "code",
   "execution_count": 10,
   "id": "b5082357",
   "metadata": {
    "execution": {
     "iopub.execute_input": "2024-05-21T01:28:04.894018Z",
     "iopub.status.busy": "2024-05-21T01:28:04.893699Z",
     "iopub.status.idle": "2024-05-21T01:28:07.821580Z",
     "shell.execute_reply": "2024-05-21T01:28:07.820785Z"
    },
    "papermill": {
     "duration": 2.940411,
     "end_time": "2024-05-21T01:28:07.823940",
     "exception": false,
     "start_time": "2024-05-21T01:28:04.883529",
     "status": "completed"
    },
    "tags": []
   },
   "outputs": [],
   "source": [
    "with open('/kaggle/input/home-credit-crms-models/voting_model.pkl', 'rb') as f:\n",
    "    loaded_model = pickle.load(f)"
   ]
  },
  {
   "cell_type": "code",
   "execution_count": 11,
   "id": "d7d838ad",
   "metadata": {
    "execution": {
     "iopub.execute_input": "2024-05-21T01:28:07.843464Z",
     "iopub.status.busy": "2024-05-21T01:28:07.843120Z",
     "iopub.status.idle": "2024-05-21T01:28:08.344570Z",
     "shell.execute_reply": "2024-05-21T01:28:08.343796Z"
    },
    "papermill": {
     "duration": 0.513697,
     "end_time": "2024-05-21T01:28:08.346778",
     "exception": false,
     "start_time": "2024-05-21T01:28:07.833081",
     "status": "completed"
    },
    "tags": []
   },
   "outputs": [
    {
     "data": {
      "text/html": [
       "<div>\n",
       "<style scoped>\n",
       "    .dataframe tbody tr th:only-of-type {\n",
       "        vertical-align: middle;\n",
       "    }\n",
       "\n",
       "    .dataframe tbody tr th {\n",
       "        vertical-align: top;\n",
       "    }\n",
       "\n",
       "    .dataframe thead th {\n",
       "        text-align: right;\n",
       "    }\n",
       "</style>\n",
       "<table border=\"1\" class=\"dataframe\">\n",
       "  <thead>\n",
       "    <tr style=\"text-align: right;\">\n",
       "      <th></th>\n",
       "      <th>score</th>\n",
       "    </tr>\n",
       "    <tr>\n",
       "      <th>case_id</th>\n",
       "      <th></th>\n",
       "    </tr>\n",
       "  </thead>\n",
       "  <tbody>\n",
       "    <tr>\n",
       "      <th>57543</th>\n",
       "      <td>0.008495</td>\n",
       "    </tr>\n",
       "    <tr>\n",
       "      <th>57549</th>\n",
       "      <td>0.056090</td>\n",
       "    </tr>\n",
       "    <tr>\n",
       "      <th>57551</th>\n",
       "      <td>0.002271</td>\n",
       "    </tr>\n",
       "    <tr>\n",
       "      <th>57552</th>\n",
       "      <td>0.020815</td>\n",
       "    </tr>\n",
       "    <tr>\n",
       "      <th>57569</th>\n",
       "      <td>0.170604</td>\n",
       "    </tr>\n",
       "    <tr>\n",
       "      <th>57630</th>\n",
       "      <td>0.007312</td>\n",
       "    </tr>\n",
       "    <tr>\n",
       "      <th>57631</th>\n",
       "      <td>0.024206</td>\n",
       "    </tr>\n",
       "    <tr>\n",
       "      <th>57632</th>\n",
       "      <td>0.006176</td>\n",
       "    </tr>\n",
       "    <tr>\n",
       "      <th>57633</th>\n",
       "      <td>0.037787</td>\n",
       "    </tr>\n",
       "    <tr>\n",
       "      <th>57634</th>\n",
       "      <td>0.022884</td>\n",
       "    </tr>\n",
       "  </tbody>\n",
       "</table>\n",
       "</div>"
      ],
      "text/plain": [
       "            score\n",
       "case_id          \n",
       "57543    0.008495\n",
       "57549    0.056090\n",
       "57551    0.002271\n",
       "57552    0.020815\n",
       "57569    0.170604\n",
       "57630    0.007312\n",
       "57631    0.024206\n",
       "57632    0.006176\n",
       "57633    0.037787\n",
       "57634    0.022884"
      ]
     },
     "execution_count": 11,
     "metadata": {},
     "output_type": "execute_result"
    }
   ],
   "source": [
    "X_test = test_df.drop(columns=[\"week_num\"]).set_index(\"case_id\")\n",
    "X_test[cat_cols] = X_test[cat_cols].astype(\"category\")\n",
    "\n",
    "y_pred = pd.Series(loaded_model.predict_proba(X_test)[:, 1], index=X_test.index)\n",
    "\n",
    "submission_df = pd.DataFrame(index=X_test.index)\n",
    "submission_df[\"score\"] = y_pred\n",
    "submission_df = submission_df.sort_index()\n",
    "\n",
    "\n",
    "# Metric Hack\n",
    "# https://www.kaggle.com/code/a520hh/fork-of-this-is-the-way/notebook\n",
    "# condition = preds < 0.98\n",
    "# submission_df.loc[condition, \"score\"] = (submission_df.loc[condition, \"score\"] - 0.073).clip(0)\n",
    "\n",
    "submission_df"
   ]
  },
  {
   "cell_type": "code",
   "execution_count": 12,
   "id": "c72dea34",
   "metadata": {
    "execution": {
     "iopub.execute_input": "2024-05-21T01:28:08.368038Z",
     "iopub.status.busy": "2024-05-21T01:28:08.367668Z",
     "iopub.status.idle": "2024-05-21T01:28:08.375563Z",
     "shell.execute_reply": "2024-05-21T01:28:08.374855Z"
    },
    "papermill": {
     "duration": 0.020592,
     "end_time": "2024-05-21T01:28:08.377579",
     "exception": false,
     "start_time": "2024-05-21T01:28:08.356987",
     "status": "completed"
    },
    "tags": []
   },
   "outputs": [],
   "source": [
    "submission_df.to_csv(\"submission.csv\")"
   ]
  },
  {
   "cell_type": "code",
   "execution_count": null,
   "id": "4230c8a2",
   "metadata": {
    "papermill": {
     "duration": 0.008796,
     "end_time": "2024-05-21T01:28:08.395720",
     "exception": false,
     "start_time": "2024-05-21T01:28:08.386924",
     "status": "completed"
    },
    "tags": []
   },
   "outputs": [],
   "source": []
  }
 ],
 "metadata": {
  "kaggle": {
   "accelerator": "gpu",
   "dataSources": [
    {
     "databundleVersionId": 7921029,
     "sourceId": 50160,
     "sourceType": "competition"
    },
    {
     "datasetId": 5038079,
     "sourceId": 8453472,
     "sourceType": "datasetVersion"
    },
    {
     "datasetId": 5038176,
     "sourceId": 8454976,
     "sourceType": "datasetVersion"
    }
   ],
   "dockerImageVersionId": 30699,
   "isGpuEnabled": true,
   "isInternetEnabled": false,
   "language": "python",
   "sourceType": "notebook"
  },
  "kernelspec": {
   "display_name": "Python 3",
   "language": "python",
   "name": "python3"
  },
  "language_info": {
   "codemirror_mode": {
    "name": "ipython",
    "version": 3
   },
   "file_extension": ".py",
   "mimetype": "text/x-python",
   "name": "python",
   "nbconvert_exporter": "python",
   "pygments_lexer": "ipython3",
   "version": "3.10.13"
  },
  "papermill": {
   "default_parameters": {},
   "duration": 187.605399,
   "end_time": "2024-05-21T01:28:09.427605",
   "environment_variables": {},
   "exception": null,
   "input_path": "__notebook__.ipynb",
   "output_path": "__notebook__.ipynb",
   "parameters": {},
   "start_time": "2024-05-21T01:25:01.822206",
   "version": "2.5.0"
  }
 },
 "nbformat": 4,
 "nbformat_minor": 5
}
